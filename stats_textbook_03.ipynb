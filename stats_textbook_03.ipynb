{
  "nbformat": 4,
  "nbformat_minor": 0,
  "metadata": {
    "colab": {
      "provenance": [],
      "authorship_tag": "ABX9TyN2TQRQDHptC7xz/kwb3oYk",
      "include_colab_link": true
    },
    "kernelspec": {
      "name": "python3",
      "display_name": "Python 3"
    },
    "language_info": {
      "name": "python"
    }
  },
  "cells": [
    {
      "cell_type": "markdown",
      "metadata": {
        "id": "view-in-github",
        "colab_type": "text"
      },
      "source": [
        "<a href=\"https://colab.research.google.com/github/johyunkang/adp_certificate/blob/main/stats_textbook_03.ipynb\" target=\"_parent\"><img src=\"https://colab.research.google.com/assets/colab-badge.svg\" alt=\"Open In Colab\"/></a>"
      ]
    },
    {
      "cell_type": "markdown",
      "source": [
        "# chapter 3 파이썬을 이용한 데이터 분석"
      ],
      "metadata": {
        "id": "PLhXluAeT0zH"
      }
    },
    {
      "cell_type": "markdown",
      "source": [
        "## 3.6 정규분포와 응용"
      ],
      "metadata": {
        "id": "QuISChmCT_fM"
      }
    },
    {
      "cell_type": "code",
      "execution_count": 1,
      "metadata": {
        "id": "mJEQNG7FTpVh"
      },
      "outputs": [],
      "source": [
        "import numpy as np\n",
        "import pandas as pd\n",
        "import scipy as sp\n",
        "from scipy import stats\n",
        "from matplotlib import pyplot as plt\n",
        "import seaborn as sns\n",
        "\n",
        "sns.set()\n",
        "# 소수점 자리수 설정 (3자리)\n",
        "%precision 3\n",
        "# 그래프를 주피터 노트북에 그리기 위한 설정\n",
        "%matplotlib inline"
      ]
    },
    {
      "cell_type": "markdown",
      "source": [
        "### 3.6.2 확률밀도\n",
        "\n",
        "정규분포의 확률밀도함수\n",
        "\n",
        "$N(x|\\mu, \\sigma^2) = \\dfrac {1} {\\sqrt{2 \\pi \\sigma^2}}e\\Big\\{ - \\dfrac {(x-\\mu)^2} {2 \\sigma^2}  \\Big\\}$\n",
        "\n",
        "- 위 식에는 원주율 $\\pi$ 와 자연로그 밑 $e$ 의 지수가 들어있음"
      ],
      "metadata": {
        "id": "Gl2pc84zVzM4"
      }
    },
    {
      "cell_type": "code",
      "source": [
        "# 원주율 파이\n",
        "print('원주율 파이:', sp.pi)\n",
        "\n",
        "print('자연로그 밑 e (scipy):', sp.exp(1)) # 자연로그 밑 e\n",
        "print('자연로그 밑 e (numpy):', np.exp(1))"
      ],
      "metadata": {
        "colab": {
          "base_uri": "https://localhost:8080/"
        },
        "id": "b5dpvV4TYUAt",
        "outputId": "d7509aed-e0dc-4c6a-d8e3-90e28ab08192"
      },
      "execution_count": 2,
      "outputs": [
        {
          "output_type": "stream",
          "name": "stdout",
          "text": [
            "원주율 파이: 3.141592653589793\n",
            "자연로그 밑 e (scipy): 2.718281828459045\n",
            "자연로그 밑 e (numpy): 2.718281828459045\n"
          ]
        },
        {
          "output_type": "stream",
          "name": "stderr",
          "text": [
            "<ipython-input-2-2158aebab8c2>:4: DeprecationWarning: scipy.exp is deprecated and will be removed in SciPy 2.0.0, use numpy.exp instead\n",
            "  print('자연로그 밑 e (scipy):', sp.exp(1)) # 자연로그 밑 e\n"
          ]
        }
      ]
    },
    {
      "cell_type": "code",
      "source": [
        "print('평균 4, 분산 0.64 (표준편차 0.8) 인 정규분포에 대해 확률변수가 3일 때의 확률밀도')\n",
        "print('즉, N(3 | 4, 0.8^2)은 아래와 같이 계산 가능')\n",
        "x = 3\n",
        "mu = 4\n",
        "sigma = 0.8\n",
        "\n",
        "print('확률밀도:', 1 / (sp.sqrt(2 * sp.pi * sigma**2)) * \\\n",
        "                       sp.exp(-((x - mu)**2) / (2 * sigma**2)) \n",
        "     )\n",
        "\n",
        "# scipy.stats 함수를 이용하면 위 계산을 간단하게 할 수 있음\n",
        "# loc : 평균, scale:표준편차, x: 확률변수\n",
        "print('확률밀도(scipy):', stats.norm.pdf(loc=4, scale=0.8, x=3)) "
      ],
      "metadata": {
        "colab": {
          "base_uri": "https://localhost:8080/"
        },
        "id": "fvqG-qMGZNLg",
        "outputId": "8c833ad0-d10f-4ba7-815d-d843c100e49b"
      },
      "execution_count": 3,
      "outputs": [
        {
          "output_type": "stream",
          "name": "stdout",
          "text": [
            "평균 4, 분산 0.64 (표준편차 0.8) 인 정규분포에 대해 확률변수가 3일 때의 확률밀도\n",
            "즉, N(3 | 4, 0.8^2)은 아래와 같이 계산 가능\n",
            "확률밀도: 0.22831135673627742\n",
            "확률밀도(scipy): 0.2283113567362774\n"
          ]
        },
        {
          "output_type": "stream",
          "name": "stderr",
          "text": [
            "<ipython-input-3-11922cc74f85>:7: DeprecationWarning: scipy.sqrt is deprecated and will be removed in SciPy 2.0.0, use numpy.lib.scimath.sqrt instead\n",
            "  print('확률밀도:', 1 / (sp.sqrt(2 * sp.pi * sigma**2)) * \\\n",
            "<ipython-input-3-11922cc74f85>:8: DeprecationWarning: scipy.exp is deprecated and will be removed in SciPy 2.0.0, use numpy.exp instead\n",
            "  sp.exp(-((x - mu)**2) / (2 * sigma**2))\n"
          ]
        }
      ]
    },
    {
      "cell_type": "code",
      "source": [
        "# 평균 4, 편차:0.8, 확률변수 1부터 7까지 0.1 step\n",
        "x_plot = np.arange(start=1, stop=7.1, step=0.1)\n",
        "plt.plot(x_plot, stats.norm.pdf(x=x_plot, loc=mu, scale=sigma))"
      ],
      "metadata": {
        "colab": {
          "base_uri": "https://localhost:8080/",
          "height": 286
        },
        "id": "8rGcrIx6azqT",
        "outputId": "4ec76976-c8f4-48bd-a988-4ef0aef7a63d"
      },
      "execution_count": 4,
      "outputs": [
        {
          "output_type": "execute_result",
          "data": {
            "text/plain": [
              "[<matplotlib.lines.Line2D at 0x7f2757802c10>]"
            ]
          },
          "metadata": {},
          "execution_count": 4
        },
        {
          "output_type": "display_data",
          "data": {
            "text/plain": [
              "<Figure size 432x288 with 1 Axes>"
            ],
            "image/png": "[encoded data removed]"
          },
          "metadata": {
            "needs_background": "light"
          }
        }
      ]
    },
    {
      "cell_type": "markdown",
      "source": [
        "### 3.6.4 누적분포함수\n",
        "확률변수 X에 대해 x가 실수라고 했을 때 [식3-13]과 같이 되는 F(X)를 **누적분포함수** 또는 **분포함수**라고 한다.\n",
        "\n",
        "$F(X) = P(X \\le x)$      $\\qquad\\qquad \\qquad \\qquad$ (식3-13)\n",
        "\n",
        "누적분포함수는 `stats.norm`의 `cdf` 함수를 사용함.\n",
        "`cdf`는 **Cumulative Distribution Function** 의 약자\n",
        "\n",
        "\n",
        "모집단분포가 $N(x | 4, 0.8^2)$ 일때 확률분포에서 얻은 확률변수가 3 이하가 될 확률을 계산"
      ],
      "metadata": {
        "id": "7ijvBBcJz3kA"
      }
    },
    {
      "cell_type": "code",
      "source": [
        "# 약 10%\n",
        "stats.norm.cdf(loc=4, scale=0.8, x=3)"
      ],
      "metadata": {
        "colab": {
          "base_uri": "https://localhost:8080/"
        },
        "id": "9CXk5J5X06W0",
        "outputId": "b8b8ad1b-04ed-416a-f4db-de23ab050b5f"
      },
      "execution_count": 6,
      "outputs": [
        {
          "output_type": "execute_result",
          "data": {
            "text/plain": [
              "0.10564977366685535"
            ]
          },
          "metadata": {},
          "execution_count": 6
        }
      ]
    },
    {
      "cell_type": "markdown",
      "source": [
        "## 3.9 평균값과 차이 검정"
      ],
      "metadata": {
        "id": "ieNitBmo9X3j"
      }
    },
    {
      "cell_type": "code",
      "source": [
        "import numpy as np\n",
        "import pandas as pd\n",
        "import scipy as sp\n",
        "from scipy import stats\n",
        "\n",
        "from matplotlib import pyplot as plt\n",
        "import seaborn as sns\n",
        "sns.set()\n",
        "\n",
        "%precision 3\n",
        "%matplotlib inline"
      ],
      "metadata": {
        "id": "KK28jEGE9byF"
      },
      "execution_count": 7,
      "outputs": []
    },
    {
      "cell_type": "code",
      "source": [
        "# 약 먹기 전과 먹은 후의 체온차이\n",
        "person = ['A', 'B', 'C',   'D',   'E', 'A', 'B', 'C', 'D', 'E']\n",
        "medicine = ['BF', 'BF', 'BF', 'BF', 'BF', 'AF', 'AF', 'AF', 'AF', 'AF']\n",
        "body_temp = [36.2, 36.2, 35.3, 36.1, 36.1, 36.8, 36.1, 36.8, 37.1, 36.9]\n",
        "df = pd.DataFrame({'person':person, 'medicine': medicine, 'body_temp':body_temp})\n",
        "display(df.head())\n",
        "\n",
        "# 귀무가설 : 약을 먹기전과 후의 체온이 변하지 않는다.\n",
        "# 대립가설 : 약을 먼기 전과 후의 체온이 다르다.\n",
        "# 유의수준 5%\n",
        "\n",
        "before = df[df['medicine']=='BF']['body_temp']\n",
        "after = df[df['medicine']=='AF']['body_temp']\n",
        "\n",
        "print('기존 type:', type(before))\n",
        "\n",
        "# 시리즈는 단순 빼기로 인덱스별 빼기가 안됨\n",
        "diff = np.array(after) - np.array(before)\n",
        "print(diff)\n",
        "\n",
        "# diff의 평균값이 0과 다른지 1집단 t검정으로 알아보는 것\n",
        "ttest_1samp_result = stats.ttest_1samp(diff, 0)\n",
        "print(ttest_1samp_result)\n",
        "\n",
        "# ttest_real을 이용하여 간단하게 검정가능\n",
        "ttest_rel_result = stats.ttest_rel(np.array(after), np.array(before))\n",
        "print(ttest_rel_result)\n",
        "print('p 값이 0.05보다 작으므로 약을 먹기전과 후의 체온은 유의미한 차이가 있다고 주장할 수 있다.')"
      ],
      "metadata": {
        "colab": {
          "base_uri": "https://localhost:8080/",
          "height": 297
        },
        "id": "HasnC0oB9saG",
        "outputId": "8e15c01e-8f6d-40c0-9845-ffe81afdbc72"
      },
      "execution_count": 32,
      "outputs": [
        {
          "output_type": "display_data",
          "data": {
            "text/plain": [
              "  person medicine  body_temp\n",
              "0      A       BF       36.2\n",
              "1      B       BF       36.2\n",
              "2      C       BF       35.3\n",
              "3      D       BF       36.1\n",
              "4      E       BF       36.1"
            ],
            "text/html": [
              "\n",
              "  <div id=\"df-f966016d-4850-4023-9f1d-0e821024757a\">\n",
              "    <div class=\"colab-df-container\">\n",
              "      <div>\n",
              "<style scoped>\n",
              "    .dataframe tbody tr th:only-of-type {\n",
              "        vertical-align: middle;\n",
              "    }\n",
              "\n",
              "    .dataframe tbody tr th {\n",
              "        vertical-align: top;\n",
              "    }\n",
              "\n",
              "    .dataframe thead th {\n",
              "        text-align: right;\n",
              "    }\n",
              "</style>\n",
              "<table border=\"1\" class=\"dataframe\">\n",
              "  <thead>\n",
              "    <tr style=\"text-align: right;\">\n",
              "      <th></th>\n",
              "      <th>person</th>\n",
              "      <th>medicine</th>\n",
              "      <th>body_temp</th>\n",
              "    </tr>\n",
              "  </thead>\n",
              "  <tbody>\n",
              "    <tr>\n",
              "      <th>0</th>\n",
              "      <td>A</td>\n",
              "      <td>BF</td>\n",
              "      <td>36.2</td>\n",
              "    </tr>\n",
              "    <tr>\n",
              "      <th>1</th>\n",
              "      <td>B</td>\n",
              "      <td>BF</td>\n",
              "      <td>36.2</td>\n",
              "    </tr>\n",
              "    <tr>\n",
              "      <th>2</th>\n",
              "      <td>C</td>\n",
              "      <td>BF</td>\n",
              "      <td>35.3</td>\n",
              "    </tr>\n",
              "    <tr>\n",
              "      <th>3</th>\n",
              "      <td>D</td>\n",
              "      <td>BF</td>\n",
              "      <td>36.1</td>\n",
              "    </tr>\n",
              "    <tr>\n",
              "      <th>4</th>\n",
              "      <td>E</td>\n",
              "      <td>BF</td>\n",
              "      <td>36.1</td>\n",
              "    </tr>\n",
              "  </tbody>\n",
              "</table>\n",
              "</div>\n",
              "      <button class=\"colab-df-convert\" onclick=\"convertToInteractive('df-f966016d-4850-4023-9f1d-0e821024757a')\"\n",
              "              title=\"Convert this dataframe to an interactive table.\"\n",
              "              style=\"display:none;\">\n",
              "        \n",
              "  <svg xmlns=\"http://www.w3.org/2000/svg\" height=\"24px\"viewBox=\"0 0 24 24\"\n",
              "       width=\"24px\">\n",
              "    <path d=\"M0 0h24v24H0V0z\" fill=\"none\"/>\n",
              "    <path d=\"M18.56 5.44l.94 2.06.94-2.06 2.06-.94-2.06-.94-.94-2.06-.94 2.06-2.06.94zm-11 1L8.5 8.5l.94-2.06 2.06-.94-2.06-.94L8.5 2.5l-.94 2.06-2.06.94zm10 10l.94 2.06.94-2.06 2.06-.94-2.06-.94-.94-2.06-.94 2.06-2.06.94z\"/><path d=\"M17.41 7.96l-1.37-1.37c-.4-.4-.92-.59-1.43-.59-.52 0-1.04.2-1.43.59L10.3 9.45l-7.72 7.72c-.78.78-.78 2.05 0 2.83L4 21.41c.39.39.9.59 1.41.59.51 0 1.02-.2 1.41-.59l7.78-7.78 2.81-2.81c.8-.78.8-2.07 0-2.86zM5.41 20L4 18.59l7.72-7.72 1.47 1.35L5.41 20z\"/>\n",
              "  </svg>\n",
              "      </button>\n",
              "      \n",
              "  <style>\n",
              "    .colab-df-container {\n",
              "      display:flex;\n",
              "      flex-wrap:wrap;\n",
              "      gap: 12px;\n",
              "    }\n",
              "\n",
              "    .colab-df-convert {\n",
              "      background-color: #E8F0FE;\n",
              "      border: none;\n",
              "      border-radius: 50%;\n",
              "      cursor: pointer;\n",
              "      display: none;\n",
              "      fill: #1967D2;\n",
              "      height: 32px;\n",
              "      padding: 0 0 0 0;\n",
              "      width: 32px;\n",
              "    }\n",
              "\n",
              "    .colab-df-convert:hover {\n",
              "      background-color: #E2EBFA;\n",
              "      box-shadow: 0px 1px 2px rgba(60, 64, 67, 0.3), 0px 1px 3px 1px rgba(60, 64, 67, 0.15);\n",
              "      fill: #174EA6;\n",
              "    }\n",
              "\n",
              "    [theme=dark] .colab-df-convert {\n",
              "      background-color: #3B4455;\n",
              "      fill: #D2E3FC;\n",
              "    }\n",
              "\n",
              "    [theme=dark] .colab-df-convert:hover {\n",
              "      background-color: #434B5C;\n",
              "      box-shadow: 0px 1px 3px 1px rgba(0, 0, 0, 0.15);\n",
              "      filter: drop-shadow(0px 1px 2px rgba(0, 0, 0, 0.3));\n",
              "      fill: #FFFFFF;\n",
              "    }\n",
              "  </style>\n",
              "\n",
              "      <script>\n",
              "        const buttonEl =\n",
              "          document.querySelector('#df-f966016d-4850-4023-9f1d-0e821024757a button.colab-df-convert');\n",
              "        buttonEl.style.display =\n",
              "          google.colab.kernel.accessAllowed ? 'block' : 'none';\n",
              "\n",
              "        async function convertToInteractive(key) {\n",
              "          const element = document.querySelector('#df-f966016d-4850-4023-9f1d-0e821024757a');\n",
              "          const dataTable =\n",
              "            await google.colab.kernel.invokeFunction('convertToInteractive',\n",
              "                                                     [key], {});\n",
              "          if (!dataTable) return;\n",
              "\n",
              "          const docLinkHtml = 'Like what you see? Visit the ' +\n",
              "            '<a target=\"_blank\" href=https://colab.research.google.com/notebooks/data_table.ipynb>data table notebook</a>'\n",
              "            + ' to learn more about interactive tables.';\n",
              "          element.innerHTML = '';\n",
              "          dataTable['output_type'] = 'display_data';\n",
              "          await google.colab.output.renderOutput(dataTable, element);\n",
              "          const docLink = document.createElement('div');\n",
              "          docLink.innerHTML = docLinkHtml;\n",
              "          element.appendChild(docLink);\n",
              "        }\n",
              "      </script>\n",
              "    </div>\n",
              "  </div>\n",
              "  "
            ]
          },
          "metadata": {}
        },
        {
          "output_type": "stream",
          "name": "stdout",
          "text": [
            "기존 type: <class 'pandas.core.series.Series'>\n",
            "[ 0.6 -0.1  1.5  1.   0.8]\n",
            "Ttest_1sampResult(statistic=2.901693483620596, pvalue=0.044043109730074276)\n",
            "Ttest_relResult(statistic=2.901693483620596, pvalue=0.044043109730074276)\n",
            "p 값이 0.05보다 작으므로 약을 먹기전과 후의 체온은 유의미한 차이가 있다고 주장할 수 있다.\n"
          ]
        }
      ]
    }
  ]
}