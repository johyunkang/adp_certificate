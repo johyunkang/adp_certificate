{
  "nbformat": 4,
  "nbformat_minor": 0,
  "metadata": {
    "colab": {
      "provenance": [],
      "authorship_tag": "ABX9TyNxazNzvzEdTlPFZF01tdRy",
      "include_colab_link": true
    },
    "kernelspec": {
      "name": "python3",
      "display_name": "Python 3"
    },
    "language_info": {
      "name": "python"
    }
  },
  "cells": [
    {
      "cell_type": "markdown",
      "metadata": {
        "id": "view-in-github",
        "colab_type": "text"
      },
      "source": [
        "<a href=\"https://colab.research.google.com/github/johyunkang/adp_certificate/blob/main/stats_textbook_03.ipynb\" target=\"_parent\"><img src=\"https://colab.research.google.com/assets/colab-badge.svg\" alt=\"Open In Colab\"/></a>"
      ]
    },
    {
      "cell_type": "markdown",
      "source": [
        "# chapter 3 파이썬을 이용한 데이터 분석"
      ],
      "metadata": {
        "id": "PLhXluAeT0zH"
      }
    },
    {
      "cell_type": "markdown",
      "source": [
        "## 3.6 정규분포와 응용"
      ],
      "metadata": {
        "id": "QuISChmCT_fM"
      }
    },
    {
      "cell_type": "code",
      "execution_count": 4,
      "metadata": {
        "id": "mJEQNG7FTpVh"
      },
      "outputs": [],
      "source": [
        "import numpy as np\n",
        "import pandas as pd\n",
        "import scipy as sp\n",
        "from scipy import stats\n",
        "from matplotlib import pyplot as plt\n",
        "import seaborn as sns\n",
        "\n",
        "sns.set()\n",
        "# 소수점 자리수 설정 (3자리)\n",
        "%precision 3\n",
        "# 그래프를 주피터 노트북에 그리기 위한 설정\n",
        "%matplotlib inline"
      ]
    },
    {
      "cell_type": "markdown",
      "source": [
        "### 3.6.2 확률밀도\n",
        "\n",
        "정규분포의 확률밀도함수\n",
        "\n",
        "$N(x|\\mu, \\sigma^2) = \\dfrac {1} {\\sqrt{2 \\pi \\sigma^2}}e\\Big\\{ - \\dfrac {(x-\\mu)^2} {2 \\sigma^2}  \\Big\\}$\n",
        "\n",
        "- 위 식에는 원주율 $\\pi$ 와 자연로그 밑 $e$ 의 지수가 들어있음"
      ],
      "metadata": {
        "id": "Gl2pc84zVzM4"
      }
    },
    {
      "cell_type": "code",
      "source": [
        "# 원주율 파이\n",
        "sp.pi"
      ],
      "metadata": {
        "colab": {
          "base_uri": "https://localhost:8080/"
        },
        "id": "b5dpvV4TYUAt",
        "outputId": "163ce40e-0e58-43d3-daf6-80725c93b58c"
      },
      "execution_count": 5,
      "outputs": [
        {
          "output_type": "execute_result",
          "data": {
            "text/plain": [
              "3.142"
            ]
          },
          "metadata": {},
          "execution_count": 5
        }
      ]
    }
  ]
}