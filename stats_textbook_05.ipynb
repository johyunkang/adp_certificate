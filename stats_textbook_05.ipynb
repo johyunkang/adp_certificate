{
  "nbformat": 4,
  "nbformat_minor": 0,
  "metadata": {
    "colab": {
      "provenance": [],
      "authorship_tag": "ABX9TyMPAyba5jLe9f6ek2k8dfTs",
      "include_colab_link": true
    },
    "kernelspec": {
      "name": "python3",
      "display_name": "Python 3"
    },
    "language_info": {
      "name": "python"
    }
  },
  "cells": [
    {
      "cell_type": "markdown",
      "metadata": {
        "id": "view-in-github",
        "colab_type": "text"
      },
      "source": [
        "<a href=\"https://colab.research.google.com/github/johyunkang/adp_certificate/blob/main/stats_textbook_05.ipynb\" target=\"_parent\"><img src=\"https://colab.research.google.com/assets/colab-badge.svg\" alt=\"Open In Colab\"/></a>"
      ]
    },
    {
      "cell_type": "markdown",
      "source": [
        "# chapter5. 정규선형모델\n"
      ],
      "metadata": {
        "id": "kiSU70Y5ZDmW"
      }
    },
    {
      "cell_type": "markdown",
      "source": [
        "## 5.1 연속형 독립변수가 하나인 모델(단순회귀)"
      ],
      "metadata": {
        "id": "eAC4dmZQZQqg"
      }
    },
    {
      "cell_type": "markdown",
      "source": [
        "### 5.1.1 분석준비"
      ],
      "metadata": {
        "id": "fhQiTPuGZS-I"
      }
    },
    {
      "cell_type": "code",
      "source": [
        "import numpy as np\n",
        "import pandas as pd\n",
        "import scipy as sp\n",
        "from scipy import stats\n",
        "\n",
        "from matplotlib import pyplot as plt\n",
        "import seaborn as sns\n",
        "sns.set()\n",
        "\n",
        "# 선형모델을 추정하는 라이브러리(경고가 나올 수 있음)\n",
        "import statsmodels.formula.api as smf\n",
        "import statsmodels.api as sm\n",
        "\n",
        "%precision 3\n",
        "%matplotlib inline"
      ],
      "metadata": {
        "id": "uqOoR-wGZUsc"
      },
      "execution_count": 3,
      "outputs": []
    },
    {
      "cell_type": "code",
      "source": [
        "from google.colab import drive\n",
        "drive.mount('/content/drive')"
      ],
      "metadata": {
        "id": "kM_hUkgQfAP6"
      },
      "execution_count": null,
      "outputs": []
    },
    {
      "cell_type": "code",
      "execution_count": 5,
      "metadata": {
        "colab": {
          "base_uri": "https://localhost:8080/",
          "height": 206
        },
        "id": "TON6ex5IZAv3",
        "outputId": "d7045284-8bfa-432e-d215-d60b94c9baac"
      },
      "outputs": [
        {
          "output_type": "execute_result",
          "data": {
            "text/plain": [
              "   beer  temperature\n",
              "0  45.3         20.5\n",
              "1  59.3         25.0\n",
              "2  40.4         10.0\n",
              "3  38.0         26.9\n",
              "4  37.0         15.8"
            ],
            "text/html": [
              "\n",
              "  <div id=\"df-3049a11f-fbaa-4433-9ca7-fbba616af501\">\n",
              "    <div class=\"colab-df-container\">\n",
              "      <div>\n",
              "<style scoped>\n",
              "    .dataframe tbody tr th:only-of-type {\n",
              "        vertical-align: middle;\n",
              "    }\n",
              "\n",
              "    .dataframe tbody tr th {\n",
              "        vertical-align: top;\n",
              "    }\n",
              "\n",
              "    .dataframe thead th {\n",
              "        text-align: right;\n",
              "    }\n",
              "</style>\n",
              "<table border=\"1\" class=\"dataframe\">\n",
              "  <thead>\n",
              "    <tr style=\"text-align: right;\">\n",
              "      <th></th>\n",
              "      <th>beer</th>\n",
              "      <th>temperature</th>\n",
              "    </tr>\n",
              "  </thead>\n",
              "  <tbody>\n",
              "    <tr>\n",
              "      <th>0</th>\n",
              "      <td>45.3</td>\n",
              "      <td>20.5</td>\n",
              "    </tr>\n",
              "    <tr>\n",
              "      <th>1</th>\n",
              "      <td>59.3</td>\n",
              "      <td>25.0</td>\n",
              "    </tr>\n",
              "    <tr>\n",
              "      <th>2</th>\n",
              "      <td>40.4</td>\n",
              "      <td>10.0</td>\n",
              "    </tr>\n",
              "    <tr>\n",
              "      <th>3</th>\n",
              "      <td>38.0</td>\n",
              "      <td>26.9</td>\n",
              "    </tr>\n",
              "    <tr>\n",
              "      <th>4</th>\n",
              "      <td>37.0</td>\n",
              "      <td>15.8</td>\n",
              "    </tr>\n",
              "  </tbody>\n",
              "</table>\n",
              "</div>\n",
              "      <button class=\"colab-df-convert\" onclick=\"convertToInteractive('df-3049a11f-fbaa-4433-9ca7-fbba616af501')\"\n",
              "              title=\"Convert this dataframe to an interactive table.\"\n",
              "              style=\"display:none;\">\n",
              "        \n",
              "  <svg xmlns=\"http://www.w3.org/2000/svg\" height=\"24px\"viewBox=\"0 0 24 24\"\n",
              "       width=\"24px\">\n",
              "    <path d=\"M0 0h24v24H0V0z\" fill=\"none\"/>\n",
              "    <path d=\"M18.56 5.44l.94 2.06.94-2.06 2.06-.94-2.06-.94-.94-2.06-.94 2.06-2.06.94zm-11 1L8.5 8.5l.94-2.06 2.06-.94-2.06-.94L8.5 2.5l-.94 2.06-2.06.94zm10 10l.94 2.06.94-2.06 2.06-.94-2.06-.94-.94-2.06-.94 2.06-2.06.94z\"/><path d=\"M17.41 7.96l-1.37-1.37c-.4-.4-.92-.59-1.43-.59-.52 0-1.04.2-1.43.59L10.3 9.45l-7.72 7.72c-.78.78-.78 2.05 0 2.83L4 21.41c.39.39.9.59 1.41.59.51 0 1.02-.2 1.41-.59l7.78-7.78 2.81-2.81c.8-.78.8-2.07 0-2.86zM5.41 20L4 18.59l7.72-7.72 1.47 1.35L5.41 20z\"/>\n",
              "  </svg>\n",
              "      </button>\n",
              "      \n",
              "  <style>\n",
              "    .colab-df-container {\n",
              "      display:flex;\n",
              "      flex-wrap:wrap;\n",
              "      gap: 12px;\n",
              "    }\n",
              "\n",
              "    .colab-df-convert {\n",
              "      background-color: #E8F0FE;\n",
              "      border: none;\n",
              "      border-radius: 50%;\n",
              "      cursor: pointer;\n",
              "      display: none;\n",
              "      fill: #1967D2;\n",
              "      height: 32px;\n",
              "      padding: 0 0 0 0;\n",
              "      width: 32px;\n",
              "    }\n",
              "\n",
              "    .colab-df-convert:hover {\n",
              "      background-color: #E2EBFA;\n",
              "      box-shadow: 0px 1px 2px rgba(60, 64, 67, 0.3), 0px 1px 3px 1px rgba(60, 64, 67, 0.15);\n",
              "      fill: #174EA6;\n",
              "    }\n",
              "\n",
              "    [theme=dark] .colab-df-convert {\n",
              "      background-color: #3B4455;\n",
              "      fill: #D2E3FC;\n",
              "    }\n",
              "\n",
              "    [theme=dark] .colab-df-convert:hover {\n",
              "      background-color: #434B5C;\n",
              "      box-shadow: 0px 1px 3px 1px rgba(0, 0, 0, 0.15);\n",
              "      filter: drop-shadow(0px 1px 2px rgba(0, 0, 0, 0.3));\n",
              "      fill: #FFFFFF;\n",
              "    }\n",
              "  </style>\n",
              "\n",
              "      <script>\n",
              "        const buttonEl =\n",
              "          document.querySelector('#df-3049a11f-fbaa-4433-9ca7-fbba616af501 button.colab-df-convert');\n",
              "        buttonEl.style.display =\n",
              "          google.colab.kernel.accessAllowed ? 'block' : 'none';\n",
              "\n",
              "        async function convertToInteractive(key) {\n",
              "          const element = document.querySelector('#df-3049a11f-fbaa-4433-9ca7-fbba616af501');\n",
              "          const dataTable =\n",
              "            await google.colab.kernel.invokeFunction('convertToInteractive',\n",
              "                                                     [key], {});\n",
              "          if (!dataTable) return;\n",
              "\n",
              "          const docLinkHtml = 'Like what you see? Visit the ' +\n",
              "            '<a target=\"_blank\" href=https://colab.research.google.com/notebooks/data_table.ipynb>data table notebook</a>'\n",
              "            + ' to learn more about interactive tables.';\n",
              "          element.innerHTML = '';\n",
              "          dataTable['output_type'] = 'display_data';\n",
              "          await google.colab.output.renderOutput(dataTable, element);\n",
              "          const docLink = document.createElement('div');\n",
              "          docLink.innerHTML = docLinkHtml;\n",
              "          element.appendChild(docLink);\n",
              "        }\n",
              "      </script>\n",
              "    </div>\n",
              "  </div>\n",
              "  "
            ]
          },
          "metadata": {},
          "execution_count": 5
        }
      ],
      "source": [
        "# bear data 생성\n",
        "# beer = [45.3, 59.3, 40.4, 38.0, 37.0]\n",
        "# temp = [20.5, 25.0, 10.0, 26.9, 15.8]\n",
        "\n",
        "# beer = pd.DataFrame({'beer':beer, 'temp':temp})\n",
        "beer = pd.read_csv('/content/drive/MyDrive/Colab Notebooks/adp/파이썬으로배우는통계학교과서/data/5-1-1-beer.csv')\n",
        "beer.head()"
      ]
    },
    {
      "cell_type": "code",
      "source": [
        "sns.jointplot(x='temperature', y='beer', data=beer)"
      ],
      "metadata": {
        "colab": {
          "base_uri": "https://localhost:8080/",
          "height": 459
        },
        "id": "qDuLf38_a6SO",
        "outputId": "3ac34970-8ed0-451b-fa4d-85348a499aee"
      },
      "execution_count": 7,
      "outputs": [
        {
          "output_type": "execute_result",
          "data": {
            "text/plain": [
              "<seaborn.axisgrid.JointGrid at 0x7fcb7fc92220>"
            ]
          },
          "metadata": {},
          "execution_count": 7
        },
        {
          "output_type": "display_data",
          "data": {
            "text/plain": [
              "<Figure size 432x432 with 3 Axes>"
            ],
            "image/png": "[encoded data removed]"
          },
          "metadata": {
            "needs_background": "light"
          }
        }
      ]
    },
    {
      "cell_type": "markdown",
      "source": [
        "아래와 같은 맥주 매상 모델을 구축할 것임\n",
        "\n",
        "$맥주매상 \\sim N(\\beta_0 + \\beta_1 \\times 기온, \\sigma^2)$\n",
        "\n",
        "**종속변수**에 맥주매상을, **독립변수**에 기온을 사용한 **정규선형모델**"
      ],
      "metadata": {
        "id": "-fOsW0_mfhR4"
      }
    },
    {
      "cell_type": "markdown",
      "source": [
        "### 5.1.4 statsmodels를 이용한 모델링"
      ],
      "metadata": {
        "id": "zRUUXSEegZ7d"
      }
    },
    {
      "cell_type": "code",
      "source": [
        "lm_model = smf.ols(formula = 'beer ~ temperature', data=beer).fit()"
      ],
      "metadata": {
        "id": "KccVP2uRdxqw"
      },
      "execution_count": 10,
      "outputs": []
    },
    {
      "cell_type": "markdown",
      "source": [
        "`sms.ols` 함수를 사용했음. ols 는 Ordinary Least Squares (범용최소제곱법)의 약자\n",
        "\n",
        "모집단 분포가 정규분포임을 가정했을 때 `최대우도법`의 결과는 `최소제곱법`의 결과와 일치함\n",
        "\n",
        "모델의 구조를 지정하는 것이 `formual`. \"beer ~ temperature\"로 지정함으로써 종속변수는 beer, 독립변수가 temperature인 모델을 지정"
      ],
      "metadata": {
        "id": "1xIH8e9ygkuc"
      }
    },
    {
      "cell_type": "markdown",
      "source": [
        "### 5.1.5 추정 결과 표시와 계수 검정"
      ],
      "metadata": {
        "id": "eJLL4SZWhCzy"
      }
    },
    {
      "cell_type": "code",
      "source": [
        "lm_model.summary()"
      ],
      "metadata": {
        "colab": {
          "base_uri": "https://localhost:8080/",
          "height": 452
        },
        "id": "Bqr6pGVvhIhP",
        "outputId": "eb929b08-5f0e-4899-8be4-42ac07f7afd0"
      },
      "execution_count": 11,
      "outputs": [
        {
          "output_type": "execute_result",
          "data": {
            "text/plain": [
              "<class 'statsmodels.iolib.summary.Summary'>\n",
              "\"\"\"\n",
              "                            OLS Regression Results                            \n",
              "==============================================================================\n",
              "Dep. Variable:                   beer   R-squared:                       0.504\n",
              "Model:                            OLS   Adj. R-squared:                  0.486\n",
              "Method:                 Least Squares   F-statistic:                     28.45\n",
              "Date:                Wed, 04 Jan 2023   Prob (F-statistic):           1.11e-05\n",
              "Time:                        02:03:44   Log-Likelihood:                -102.45\n",
              "No. Observations:                  30   AIC:                             208.9\n",
              "Df Residuals:                      28   BIC:                             211.7\n",
              "Df Model:                           1                                         \n",
              "Covariance Type:            nonrobust                                         \n",
              "===============================================================================\n",
              "                  coef    std err          t      P>|t|      [0.025      0.975]\n",
              "-------------------------------------------------------------------------------\n",
              "Intercept      34.6102      3.235     10.699      0.000      27.984      41.237\n",
              "temperature     0.7654      0.144      5.334      0.000       0.471       1.059\n",
              "==============================================================================\n",
              "Omnibus:                        0.587   Durbin-Watson:                   1.960\n",
              "Prob(Omnibus):                  0.746   Jarque-Bera (JB):                0.290\n",
              "Skew:                          -0.240   Prob(JB):                        0.865\n",
              "Kurtosis:                       2.951   Cond. No.                         52.5\n",
              "==============================================================================\n",
              "\n",
              "Notes:\n",
              "[1] Standard Errors assume that the covariance matrix of the errors is correctly specified.\n",
              "\"\"\""
            ],
            "text/html": [
              "<table class=\"simpletable\">\n",
              "<caption>OLS Regression Results</caption>\n",
              "<tr>\n",
              "  <th>Dep. Variable:</th>          <td>beer</td>       <th>  R-squared:         </th> <td>   0.504</td>\n",
              "</tr>\n",
              "<tr>\n",
              "  <th>Model:</th>                   <td>OLS</td>       <th>  Adj. R-squared:    </th> <td>   0.486</td>\n",
              "</tr>\n",
              "<tr>\n",
              "  <th>Method:</th>             <td>Least Squares</td>  <th>  F-statistic:       </th> <td>   28.45</td>\n",
              "</tr>\n",
              "<tr>\n",
              "  <th>Date:</th>             <td>Wed, 04 Jan 2023</td> <th>  Prob (F-statistic):</th> <td>1.11e-05</td>\n",
              "</tr>\n",
              "<tr>\n",
              "  <th>Time:</th>                 <td>02:03:44</td>     <th>  Log-Likelihood:    </th> <td> -102.45</td>\n",
              "</tr>\n",
              "<tr>\n",
              "  <th>No. Observations:</th>      <td>    30</td>      <th>  AIC:               </th> <td>   208.9</td>\n",
              "</tr>\n",
              "<tr>\n",
              "  <th>Df Residuals:</th>          <td>    28</td>      <th>  BIC:               </th> <td>   211.7</td>\n",
              "</tr>\n",
              "<tr>\n",
              "  <th>Df Model:</th>              <td>     1</td>      <th>                     </th>     <td> </td>   \n",
              "</tr>\n",
              "<tr>\n",
              "  <th>Covariance Type:</th>      <td>nonrobust</td>    <th>                     </th>     <td> </td>   \n",
              "</tr>\n",
              "</table>\n",
              "<table class=\"simpletable\">\n",
              "<tr>\n",
              "       <td></td>          <th>coef</th>     <th>std err</th>      <th>t</th>      <th>P>|t|</th>  <th>[0.025</th>    <th>0.975]</th>  \n",
              "</tr>\n",
              "<tr>\n",
              "  <th>Intercept</th>   <td>   34.6102</td> <td>    3.235</td> <td>   10.699</td> <td> 0.000</td> <td>   27.984</td> <td>   41.237</td>\n",
              "</tr>\n",
              "<tr>\n",
              "  <th>temperature</th> <td>    0.7654</td> <td>    0.144</td> <td>    5.334</td> <td> 0.000</td> <td>    0.471</td> <td>    1.059</td>\n",
              "</tr>\n",
              "</table>\n",
              "<table class=\"simpletable\">\n",
              "<tr>\n",
              "  <th>Omnibus:</th>       <td> 0.587</td> <th>  Durbin-Watson:     </th> <td>   1.960</td>\n",
              "</tr>\n",
              "<tr>\n",
              "  <th>Prob(Omnibus):</th> <td> 0.746</td> <th>  Jarque-Bera (JB):  </th> <td>   0.290</td>\n",
              "</tr>\n",
              "<tr>\n",
              "  <th>Skew:</th>          <td>-0.240</td> <th>  Prob(JB):          </th> <td>   0.865</td>\n",
              "</tr>\n",
              "<tr>\n",
              "  <th>Kurtosis:</th>      <td> 2.951</td> <th>  Cond. No.          </th> <td>    52.5</td>\n",
              "</tr>\n",
              "</table><br/><br/>Notes:<br/>[1] Standard Errors assume that the covariance matrix of the errors is correctly specified."
            ]
          },
          "metadata": {},
          "execution_count": 11
        }
      ]
    },
    {
      "cell_type": "markdown",
      "source": [
        "위 결과에서 두번째 표에 들어있는 **Intercept와 temperature**만 살펴 보겠습니다.\n",
        "\n",
        "- coef : 계숫값\n",
        "- std err : 표준오차\n",
        "- t : t값\n",
        "- P>|t| : 귀무가설을 `계수의 값이 0` 이라고 했을 때의 p값, 95% 신뢰구간에서 하측신뢰한계와 상측신뢰한계. p값은 매우 작은 탓에 반올림하여 0이 되었음\n",
        "\n",
        "기온(temperature)에 대한 계수(0.7654)는 유의미하게 0과 다르다고 판단할 수 있음. 양수이므로 기온이 오르면 맥주 매상도 오른다고 판단할 수 있음"
      ],
      "metadata": {
        "id": "N_-5oVwciR0r"
      }
    },
    {
      "cell_type": "markdown",
      "source": [
        "### 5.1.6 summary 함수의 출력 내용 설명"
      ],
      "metadata": {
        "id": "ibAtWg_cjVWv"
      }
    },
    {
      "cell_type": "markdown",
      "source": [
        "- Deep.Variable : 종속변수의 이름. Deep은 Depended의 약자로, 종속변수라는 의미\n",
        "- Model, Method : 범용최소제곱법을 사용했다는 설명\n",
        "- Date, Time : 모델을 추정한 일시\n",
        "- No.Observations : 샘플사이즈\n",
        "- Df Residuals : 샘플사이즈에서 추정된 파라미터 수를 뺀 것\n",
        "- Df model : 사용된 독립변수의 수\n",
        "- Covariance Type : 공분산 타입. 특별히 지정하지 않으면 nonrobust가 됨\n",
        "- R-squared, Adj. R-squared : 결정계수와 자유도 조정이 끝난 결정계수 (결정계수는 5.1.12절에서 설명)\n",
        "- F-statistic, Prob (F-statistic) : 분산분석결과. 분산분석은 5.2절에서 설명\n",
        "- Log-Likelihood : 최대로그우도\n",
        "- AIC : 아케이케 정보 기준\n",
        "- BIC : 베이즈 정보기준, 정보기준의 일종이지만 이 책에서는 사용하지 않음"
      ],
      "metadata": {
        "id": "D8ILTIInjcm0"
      }
    },
    {
      "cell_type": "markdown",
      "source": [
        "### 5.1.7 AIC를 이용한 모델 선택\n",
        "\n",
        "독립변수가 1개 뿐이기에 Null 모델의 AIC와 기온이라는 독립변수가 들어간 모델의 AIC를 비교"
      ],
      "metadata": {
        "id": "3r5gHShgklqG"
      }
    },
    {
      "cell_type": "markdown",
      "source": [
        "Null 모델 구축"
      ],
      "metadata": {
        "id": "_xF4Q3Bskw0l"
      }
    },
    {
      "cell_type": "code",
      "source": [
        "null_model = smf.ols('beer ~ 1', data=beer).fit()\n",
        "null_model.aic"
      ],
      "metadata": {
        "colab": {
          "base_uri": "https://localhost:8080/"
        },
        "id": "tAoBXn5AkzC4",
        "outputId": "b599f291-c44e-4fcc-9235-224bd39efb16"
      },
      "execution_count": 12,
      "outputs": [
        {
          "output_type": "execute_result",
          "data": {
            "text/plain": [
              "227.94194972563105"
            ]
          },
          "metadata": {},
          "execution_count": 12
        }
      ]
    },
    {
      "cell_type": "markdown",
      "source": [
        "독립변수가 있는 모델의 AIC"
      ],
      "metadata": {
        "id": "VhPLyDbAk7RW"
      }
    },
    {
      "cell_type": "code",
      "source": [
        "lm_model.aic"
      ],
      "metadata": {
        "colab": {
          "base_uri": "https://localhost:8080/"
        },
        "id": "JrmI1O0sk9PG",
        "outputId": "e2fda894-0240-4a0c-aac9-e0db89ff58d5"
      },
      "execution_count": 13,
      "outputs": [
        {
          "output_type": "execute_result",
          "data": {
            "text/plain": [
              "208.90902935575437"
            ]
          },
          "metadata": {},
          "execution_count": 13
        }
      ]
    },
    {
      "cell_type": "markdown",
      "source": [
        "AIC 계산 방법 복습\n",
        "\n",
        "AIC = -2 X (최대로그우도 - 추정된 파라미터 수)"
      ],
      "metadata": {
        "id": "jAYWi51_lDKB"
      }
    },
    {
      "cell_type": "code",
      "source": [
        "# 추정된 모델의 로그우도\n",
        "print('추정된 모델의 로그우도:', lm_model.llf)\n",
        "\n",
        "# 사용된 독립변수의 수\n",
        "print('사용된 독립변수의 수 :', lm_model.df_model)\n",
        "\n",
        "# 실제로는 절편(B0)도 추정되었기 때문에 1을 더하면 추정된 파라미터 수를 구할 수 있음\n",
        "aic = -2 * (lm_model.llf - (lm_model.df_model + 1))\n",
        "print('aic:', aic)"
      ],
      "metadata": {
        "colab": {
          "base_uri": "https://localhost:8080/"
        },
        "id": "pEqIRMrolLof",
        "outputId": "3758ec52-a2cd-40af-dacf-58f2e803199f"
      },
      "execution_count": 16,
      "outputs": [
        {
          "output_type": "stream",
          "name": "stdout",
          "text": [
            "추정된 모델의 로그우도: -102.45451467787719\n",
            "사용된 독립변수의 수 : 1.0\n",
            "aic: 208.90902935575437\n"
          ]
        }
      ]
    },
    {
      "cell_type": "markdown",
      "source": [
        "**중요**\n",
        "\n",
        "추정된 파라미터 수에는 몇가지 유형이 있음. 이번에는 **장애모수**를 파라미터 수에 포함시키지 않았지만 이를 포함한 AIC를 구하는 경우도 있음\n",
        "\n",
        "R언어 등 다른 소프트웨어는 장애모수가 포함되어 있기도 함.\n",
        "\n",
        "AIC는 그 값이 크고 작음에 의미가 있는 지표.\n",
        "\n",
        "다시 말해 AIC의 절댓값은 의미가 없음. 같은 유형으로 계산된 AIC는 대소관계가 변하지 않기 때문에 모델 선택에 있어 악영향은 없음\n",
        "\n",
        "다만 **다른 소프트웨어나 라이브러리에서 계산된 AIC와의 비교는 피해야 함**\n",
        "\n",
        "예를 들면 파이썬으로 구한 AIC와 R로 구한 AIC의 비교는 의미 없음."
      ],
      "metadata": {
        "id": "YoqmXAntl4YT"
      }
    },
    {
      "cell_type": "markdown",
      "source": [
        "### 5.1.9 seaborn을 이용한 회귀직선 그래프 그리기"
      ],
      "metadata": {
        "id": "5E-9PrATmksu"
      }
    },
    {
      "cell_type": "code",
      "source": [
        "sns.lmplot(x='temperature', y='beer', data=beer , scatter_kws={'color':'green'}, line_kws={'color':'black'})\n",
        "# 음영 부분은 회귀직선의 95% 신뢰구간을 나타냄"
      ],
      "metadata": {
        "colab": {
          "base_uri": "https://localhost:8080/",
          "height": 387
        },
        "id": "8fGqpknDmoGI",
        "outputId": "f4387b3a-ffe7-40f0-97b5-c6c9766b5584"
      },
      "execution_count": 20,
      "outputs": [
        {
          "output_type": "execute_result",
          "data": {
            "text/plain": [
              "<seaborn.axisgrid.FacetGrid at 0x7fcb7cad3b50>"
            ]
          },
          "metadata": {},
          "execution_count": 20
        },
        {
          "output_type": "display_data",
          "data": {
            "text/plain": [
              "<Figure size 360x360 with 1 Axes>"
            ],
            "image/png": "[encoded data removed]"
          },
          "metadata": {
            "needs_background": "light"
          }
        }
      ]
    },
    {
      "cell_type": "markdown",
      "source": [
        "### 5.1.10 모델을 이용한 예측"
      ],
      "metadata": {
        "id": "a65vY2VenkrX"
      }
    },
    {
      "cell_type": "code",
      "source": [
        "# predict() 함수에 파라미터를 아무것도 넘기지 않으면 훈련 데이터를 사용한 값이 그대로 출력됨\n",
        "print(lm_model.predict())\n",
        "\n",
        "# 기온을 0도 일때의 맥주 매상의 기댓값 계산\n",
        "print('\\n\\n기온 0도 일때 맥주매상 기댓값:', lm_model.predict(pd.DataFrame({'temperature':[0]})))\n",
        "\n",
        "# 0도 일땐 절편(B0)만 있는 것과 같기에 B0 값만 나옴\n",
        "print('\\n\\nB0 값(절편):', lm_model.params)\n",
        "\n",
        "# 기온이 20도일 때의 맥주 매상 기댓값\n",
        "print('\\n\\n기온 20도일 때의 맥주매상 기댓값 :', lm_model.predict(pd.DataFrame({'temperature':[20]})))\n",
        "\n",
        "# 위의 20도 일 때 기대값은 B0 + B1*20 의 계산결과와 같다.\n",
        "beta0 = lm_model.params[0]\n",
        "beta1 = lm_model.params[1]\n",
        "temperature = 20\n",
        "\n",
        "print('\\n\\n계산결과:', beta0 + beta1 * temperature)"
      ],
      "metadata": {
        "colab": {
          "base_uri": "https://localhost:8080/"
        },
        "id": "Ttp-rIaJnnLQ",
        "outputId": "4641620f-03c6-48c6-96e3-3306c5c0ea60"
      },
      "execution_count": 28,
      "outputs": [
        {
          "output_type": "stream",
          "name": "stdout",
          "text": [
            "[50.301 53.746 42.264 55.2   46.704 37.825 44.943 54.511 52.445 41.116\n",
            " 54.664 49.23  53.21  52.445 41.04  52.598 45.25  61.783 55.43  50.301\n",
            " 42.418 50.301 51.143 40.657 66.911 52.904 62.854 41.423 62.472 39.509]\n",
            "\n",
            "\n",
            "기온 0도 일때 맥주매상 기댓값: 0    34.610215\n",
            "dtype: float64\n",
            "\n",
            "\n",
            "B0 값(절편): Intercept      34.610215\n",
            "temperature     0.765428\n",
            "dtype: float64\n",
            "\n",
            "\n",
            "기온 20도일 때의 맥주매상 기댓값 : 0    49.918767\n",
            "dtype: float64\n",
            "\n",
            "\n",
            "계산결과: 49.91876701095054\n"
          ]
        }
      ]
    }
  ]
}