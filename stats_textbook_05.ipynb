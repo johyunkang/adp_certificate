{
  "nbformat": 4,
  "nbformat_minor": 0,
  "metadata": {
    "colab": {
      "provenance": [],
      "authorship_tag": "ABX9TyP7GF8sTuRQN76QXspStGpD",
      "include_colab_link": true
    },
    "kernelspec": {
      "name": "python3",
      "display_name": "Python 3"
    },
    "language_info": {
      "name": "python"
    }
  },
  "cells": [
    {
      "cell_type": "markdown",
      "metadata": {
        "id": "view-in-github",
        "colab_type": "text"
      },
      "source": [
        "<a href=\"https://colab.research.google.com/github/johyunkang/adp_certificate/blob/main/stats_textbook_05.ipynb\" target=\"_parent\"><img src=\"https://colab.research.google.com/assets/colab-badge.svg\" alt=\"Open In Colab\"/></a>"
      ]
    },
    {
      "cell_type": "markdown",
      "source": [
        "# chapter5. 정규선형모델\n"
      ],
      "metadata": {
        "id": "kiSU70Y5ZDmW"
      }
    },
    {
      "cell_type": "markdown",
      "source": [
        "## 5.1 연속형 독립변수가 하나인 모델(단순회귀)"
      ],
      "metadata": {
        "id": "eAC4dmZQZQqg"
      }
    },
    {
      "cell_type": "markdown",
      "source": [
        "### 5.1.1 분석준비"
      ],
      "metadata": {
        "id": "fhQiTPuGZS-I"
      }
    },
    {
      "cell_type": "code",
      "source": [
        "import numpy as np\n",
        "import pandas as pd\n",
        "import scipy as sp\n",
        "from scipy import stats\n",
        "\n",
        "from matplotlib import pyplot as plt\n",
        "import seaborn as sns\n",
        "sns.set()\n",
        "\n",
        "# 선형모델을 추정하는 라이브러리(경고가 나올 수 있음)\n",
        "import statsmodels.formula.api as smf\n",
        "import statsmodels.api as sm\n",
        "\n",
        "%precision 3\n",
        "%matplotlib inline"
      ],
      "metadata": {
        "id": "uqOoR-wGZUsc"
      },
      "execution_count": 1,
      "outputs": []
    },
    {
      "cell_type": "code",
      "source": [
        "from google.colab import drive\n",
        "drive.mount('/content/drive')"
      ],
      "metadata": {
        "colab": {
          "base_uri": "https://localhost:8080/"
        },
        "id": "kM_hUkgQfAP6",
        "outputId": "2cf66f6b-22d3-4547-ddba-3fb8b4e44c5c"
      },
      "execution_count": 2,
      "outputs": [
        {
          "output_type": "stream",
          "name": "stdout",
          "text": [
            "Mounted at /content/drive\n"
          ]
        }
      ]
    },
    {
      "cell_type": "code",
      "execution_count": 3,
      "metadata": {
        "colab": {
          "base_uri": "https://localhost:8080/",
          "height": 206
        },
        "id": "TON6ex5IZAv3",
        "outputId": "59315a93-86c7-475c-a778-441f15c88578"
      },
      "outputs": [
        {
          "output_type": "execute_result",
          "data": {
            "text/plain": [
              "   beer  temperature\n",
              "0  45.3         20.5\n",
              "1  59.3         25.0\n",
              "2  40.4         10.0\n",
              "3  38.0         26.9\n",
              "4  37.0         15.8"
            ],
            "text/html": [
              "\n",
              "  <div id=\"df-46ff51ed-03ec-4923-ba66-da2a49a79721\">\n",
              "    <div class=\"colab-df-container\">\n",
              "      <div>\n",
              "<style scoped>\n",
              "    .dataframe tbody tr th:only-of-type {\n",
              "        vertical-align: middle;\n",
              "    }\n",
              "\n",
              "    .dataframe tbody tr th {\n",
              "        vertical-align: top;\n",
              "    }\n",
              "\n",
              "    .dataframe thead th {\n",
              "        text-align: right;\n",
              "    }\n",
              "</style>\n",
              "<table border=\"1\" class=\"dataframe\">\n",
              "  <thead>\n",
              "    <tr style=\"text-align: right;\">\n",
              "      <th></th>\n",
              "      <th>beer</th>\n",
              "      <th>temperature</th>\n",
              "    </tr>\n",
              "  </thead>\n",
              "  <tbody>\n",
              "    <tr>\n",
              "      <th>0</th>\n",
              "      <td>45.3</td>\n",
              "      <td>20.5</td>\n",
              "    </tr>\n",
              "    <tr>\n",
              "      <th>1</th>\n",
              "      <td>59.3</td>\n",
              "      <td>25.0</td>\n",
              "    </tr>\n",
              "    <tr>\n",
              "      <th>2</th>\n",
              "      <td>40.4</td>\n",
              "      <td>10.0</td>\n",
              "    </tr>\n",
              "    <tr>\n",
              "      <th>3</th>\n",
              "      <td>38.0</td>\n",
              "      <td>26.9</td>\n",
              "    </tr>\n",
              "    <tr>\n",
              "      <th>4</th>\n",
              "      <td>37.0</td>\n",
              "      <td>15.8</td>\n",
              "    </tr>\n",
              "  </tbody>\n",
              "</table>\n",
              "</div>\n",
              "      <button class=\"colab-df-convert\" onclick=\"convertToInteractive('df-46ff51ed-03ec-4923-ba66-da2a49a79721')\"\n",
              "              title=\"Convert this dataframe to an interactive table.\"\n",
              "              style=\"display:none;\">\n",
              "        \n",
              "  <svg xmlns=\"http://www.w3.org/2000/svg\" height=\"24px\"viewBox=\"0 0 24 24\"\n",
              "       width=\"24px\">\n",
              "    <path d=\"M0 0h24v24H0V0z\" fill=\"none\"/>\n",
              "    <path d=\"M18.56 5.44l.94 2.06.94-2.06 2.06-.94-2.06-.94-.94-2.06-.94 2.06-2.06.94zm-11 1L8.5 8.5l.94-2.06 2.06-.94-2.06-.94L8.5 2.5l-.94 2.06-2.06.94zm10 10l.94 2.06.94-2.06 2.06-.94-2.06-.94-.94-2.06-.94 2.06-2.06.94z\"/><path d=\"M17.41 7.96l-1.37-1.37c-.4-.4-.92-.59-1.43-.59-.52 0-1.04.2-1.43.59L10.3 9.45l-7.72 7.72c-.78.78-.78 2.05 0 2.83L4 21.41c.39.39.9.59 1.41.59.51 0 1.02-.2 1.41-.59l7.78-7.78 2.81-2.81c.8-.78.8-2.07 0-2.86zM5.41 20L4 18.59l7.72-7.72 1.47 1.35L5.41 20z\"/>\n",
              "  </svg>\n",
              "      </button>\n",
              "      \n",
              "  <style>\n",
              "    .colab-df-container {\n",
              "      display:flex;\n",
              "      flex-wrap:wrap;\n",
              "      gap: 12px;\n",
              "    }\n",
              "\n",
              "    .colab-df-convert {\n",
              "      background-color: #E8F0FE;\n",
              "      border: none;\n",
              "      border-radius: 50%;\n",
              "      cursor: pointer;\n",
              "      display: none;\n",
              "      fill: #1967D2;\n",
              "      height: 32px;\n",
              "      padding: 0 0 0 0;\n",
              "      width: 32px;\n",
              "    }\n",
              "\n",
              "    .colab-df-convert:hover {\n",
              "      background-color: #E2EBFA;\n",
              "      box-shadow: 0px 1px 2px rgba(60, 64, 67, 0.3), 0px 1px 3px 1px rgba(60, 64, 67, 0.15);\n",
              "      fill: #174EA6;\n",
              "    }\n",
              "\n",
              "    [theme=dark] .colab-df-convert {\n",
              "      background-color: #3B4455;\n",
              "      fill: #D2E3FC;\n",
              "    }\n",
              "\n",
              "    [theme=dark] .colab-df-convert:hover {\n",
              "      background-color: #434B5C;\n",
              "      box-shadow: 0px 1px 3px 1px rgba(0, 0, 0, 0.15);\n",
              "      filter: drop-shadow(0px 1px 2px rgba(0, 0, 0, 0.3));\n",
              "      fill: #FFFFFF;\n",
              "    }\n",
              "  </style>\n",
              "\n",
              "      <script>\n",
              "        const buttonEl =\n",
              "          document.querySelector('#df-46ff51ed-03ec-4923-ba66-da2a49a79721 button.colab-df-convert');\n",
              "        buttonEl.style.display =\n",
              "          google.colab.kernel.accessAllowed ? 'block' : 'none';\n",
              "\n",
              "        async function convertToInteractive(key) {\n",
              "          const element = document.querySelector('#df-46ff51ed-03ec-4923-ba66-da2a49a79721');\n",
              "          const dataTable =\n",
              "            await google.colab.kernel.invokeFunction('convertToInteractive',\n",
              "                                                     [key], {});\n",
              "          if (!dataTable) return;\n",
              "\n",
              "          const docLinkHtml = 'Like what you see? Visit the ' +\n",
              "            '<a target=\"_blank\" href=https://colab.research.google.com/notebooks/data_table.ipynb>data table notebook</a>'\n",
              "            + ' to learn more about interactive tables.';\n",
              "          element.innerHTML = '';\n",
              "          dataTable['output_type'] = 'display_data';\n",
              "          await google.colab.output.renderOutput(dataTable, element);\n",
              "          const docLink = document.createElement('div');\n",
              "          docLink.innerHTML = docLinkHtml;\n",
              "          element.appendChild(docLink);\n",
              "        }\n",
              "      </script>\n",
              "    </div>\n",
              "  </div>\n",
              "  "
            ]
          },
          "metadata": {},
          "execution_count": 3
        }
      ],
      "source": [
        "# bear data 생성\n",
        "# beer = [45.3, 59.3, 40.4, 38.0, 37.0]\n",
        "# temp = [20.5, 25.0, 10.0, 26.9, 15.8]\n",
        "\n",
        "# beer = pd.DataFrame({'beer':beer, 'temp':temp})\n",
        "FOLDER_PATH = '/content/drive/MyDrive/Colab Notebooks/adp/파이썬으로배우는통계학교과서/data/'\n",
        "beer = pd.read_csv(FOLDER_PATH + '5-1-1-beer.csv')\n",
        "beer.head()"
      ]
    },
    {
      "cell_type": "code",
      "source": [
        "sns.jointplot(x='temperature', y='beer', data=beer)"
      ],
      "metadata": {
        "colab": {
          "base_uri": "https://localhost:8080/",
          "height": 459
        },
        "id": "qDuLf38_a6SO",
        "outputId": "3dedcf5b-7252-4951-c8d7-cd37a1af8a81"
      },
      "execution_count": 4,
      "outputs": [
        {
          "output_type": "execute_result",
          "data": {
            "text/plain": [
              "<seaborn.axisgrid.JointGrid at 0x7f9186dc15e0>"
            ]
          },
          "metadata": {},
          "execution_count": 4
        },
        {
          "output_type": "display_data",
          "data": {
            "text/plain": [
              "<Figure size 432x432 with 3 Axes>"
            ],
            "image/png": "[encoded data removed]"
          },
          "metadata": {
            "needs_background": "light"
          }
        }
      ]
    },
    {
      "cell_type": "markdown",
      "source": [
        "아래와 같은 맥주 매상 모델을 구축할 것임\n",
        "\n",
        "$맥주매상 \\sim N(\\beta_0 + \\beta_1 \\times 기온, \\sigma^2)$\n",
        "\n",
        "**종속변수**에 맥주매상을, **독립변수**에 기온을 사용한 **정규선형모델**"
      ],
      "metadata": {
        "id": "-fOsW0_mfhR4"
      }
    },
    {
      "cell_type": "markdown",
      "source": [
        "### 5.1.4 statsmodels를 이용한 모델링"
      ],
      "metadata": {
        "id": "zRUUXSEegZ7d"
      }
    },
    {
      "cell_type": "code",
      "source": [
        "lm_model = smf.ols(formula = 'beer ~ temperature', data=beer).fit()"
      ],
      "metadata": {
        "id": "KccVP2uRdxqw"
      },
      "execution_count": 5,
      "outputs": []
    },
    {
      "cell_type": "markdown",
      "source": [
        "`sms.ols` 함수를 사용했음. ols 는 Ordinary Least Squares (범용최소제곱법)의 약자\n",
        "\n",
        "모집단 분포가 정규분포임을 가정했을 때 `최대우도법`의 결과는 `최소제곱법`의 결과와 일치함\n",
        "\n",
        "모델의 구조를 지정하는 것이 `formual`. \"beer ~ temperature\"로 지정함으로써 종속변수는 beer, 독립변수가 temperature인 모델을 지정"
      ],
      "metadata": {
        "id": "1xIH8e9ygkuc"
      }
    },
    {
      "cell_type": "markdown",
      "source": [
        "### 5.1.5 추정 결과 표시와 계수 검정"
      ],
      "metadata": {
        "id": "eJLL4SZWhCzy"
      }
    },
    {
      "cell_type": "code",
      "source": [
        "lm_model.summary()"
      ],
      "metadata": {
        "colab": {
          "base_uri": "https://localhost:8080/",
          "height": 441
        },
        "id": "Bqr6pGVvhIhP",
        "outputId": "36893ee8-36c6-4c49-ff9c-09408fa16d70"
      },
      "execution_count": 6,
      "outputs": [
        {
          "output_type": "execute_result",
          "data": {
            "text/plain": [
              "<class 'statsmodels.iolib.summary.Summary'>\n",
              "\"\"\"\n",
              "                            OLS Regression Results                            \n",
              "==============================================================================\n",
              "Dep. Variable:                   beer   R-squared:                       0.504\n",
              "Model:                            OLS   Adj. R-squared:                  0.486\n",
              "Method:                 Least Squares   F-statistic:                     28.45\n",
              "Date:                Sun, 08 Jan 2023   Prob (F-statistic):           1.11e-05\n",
              "Time:                        14:13:11   Log-Likelihood:                -102.45\n",
              "No. Observations:                  30   AIC:                             208.9\n",
              "Df Residuals:                      28   BIC:                             211.7\n",
              "Df Model:                           1                                         \n",
              "Covariance Type:            nonrobust                                         \n",
              "===============================================================================\n",
              "                  coef    std err          t      P>|t|      [0.025      0.975]\n",
              "-------------------------------------------------------------------------------\n",
              "Intercept      34.6102      3.235     10.699      0.000      27.984      41.237\n",
              "temperature     0.7654      0.144      5.334      0.000       0.471       1.059\n",
              "==============================================================================\n",
              "Omnibus:                        0.587   Durbin-Watson:                   1.960\n",
              "Prob(Omnibus):                  0.746   Jarque-Bera (JB):                0.290\n",
              "Skew:                          -0.240   Prob(JB):                        0.865\n",
              "Kurtosis:                       2.951   Cond. No.                         52.5\n",
              "==============================================================================\n",
              "\n",
              "Notes:\n",
              "[1] Standard Errors assume that the covariance matrix of the errors is correctly specified.\n",
              "\"\"\""
            ],
            "text/html": [
              "<table class=\"simpletable\">\n",
              "<caption>OLS Regression Results</caption>\n",
              "<tr>\n",
              "  <th>Dep. Variable:</th>          <td>beer</td>       <th>  R-squared:         </th> <td>   0.504</td>\n",
              "</tr>\n",
              "<tr>\n",
              "  <th>Model:</th>                   <td>OLS</td>       <th>  Adj. R-squared:    </th> <td>   0.486</td>\n",
              "</tr>\n",
              "<tr>\n",
              "  <th>Method:</th>             <td>Least Squares</td>  <th>  F-statistic:       </th> <td>   28.45</td>\n",
              "</tr>\n",
              "<tr>\n",
              "  <th>Date:</th>             <td>Sun, 08 Jan 2023</td> <th>  Prob (F-statistic):</th> <td>1.11e-05</td>\n",
              "</tr>\n",
              "<tr>\n",
              "  <th>Time:</th>                 <td>14:13:11</td>     <th>  Log-Likelihood:    </th> <td> -102.45</td>\n",
              "</tr>\n",
              "<tr>\n",
              "  <th>No. Observations:</th>      <td>    30</td>      <th>  AIC:               </th> <td>   208.9</td>\n",
              "</tr>\n",
              "<tr>\n",
              "  <th>Df Residuals:</th>          <td>    28</td>      <th>  BIC:               </th> <td>   211.7</td>\n",
              "</tr>\n",
              "<tr>\n",
              "  <th>Df Model:</th>              <td>     1</td>      <th>                     </th>     <td> </td>   \n",
              "</tr>\n",
              "<tr>\n",
              "  <th>Covariance Type:</th>      <td>nonrobust</td>    <th>                     </th>     <td> </td>   \n",
              "</tr>\n",
              "</table>\n",
              "<table class=\"simpletable\">\n",
              "<tr>\n",
              "       <td></td>          <th>coef</th>     <th>std err</th>      <th>t</th>      <th>P>|t|</th>  <th>[0.025</th>    <th>0.975]</th>  \n",
              "</tr>\n",
              "<tr>\n",
              "  <th>Intercept</th>   <td>   34.6102</td> <td>    3.235</td> <td>   10.699</td> <td> 0.000</td> <td>   27.984</td> <td>   41.237</td>\n",
              "</tr>\n",
              "<tr>\n",
              "  <th>temperature</th> <td>    0.7654</td> <td>    0.144</td> <td>    5.334</td> <td> 0.000</td> <td>    0.471</td> <td>    1.059</td>\n",
              "</tr>\n",
              "</table>\n",
              "<table class=\"simpletable\">\n",
              "<tr>\n",
              "  <th>Omnibus:</th>       <td> 0.587</td> <th>  Durbin-Watson:     </th> <td>   1.960</td>\n",
              "</tr>\n",
              "<tr>\n",
              "  <th>Prob(Omnibus):</th> <td> 0.746</td> <th>  Jarque-Bera (JB):  </th> <td>   0.290</td>\n",
              "</tr>\n",
              "<tr>\n",
              "  <th>Skew:</th>          <td>-0.240</td> <th>  Prob(JB):          </th> <td>   0.865</td>\n",
              "</tr>\n",
              "<tr>\n",
              "  <th>Kurtosis:</th>      <td> 2.951</td> <th>  Cond. No.          </th> <td>    52.5</td>\n",
              "</tr>\n",
              "</table><br/><br/>Notes:<br/>[1] Standard Errors assume that the covariance matrix of the errors is correctly specified."
            ]
          },
          "metadata": {},
          "execution_count": 6
        }
      ]
    },
    {
      "cell_type": "markdown",
      "source": [
        "위 결과에서 두번째 표에 들어있는 **Intercept와 temperature**만 살펴 보겠습니다.\n",
        "\n",
        "- coef : 계숫값\n",
        "- std err : 표준오차\n",
        "- t : t값\n",
        "- P>|t| : 귀무가설을 `계수의 값이 0` 이라고 했을 때의 p값, 95% 신뢰구간에서 하측신뢰한계와 상측신뢰한계. p값은 매우 작은 탓에 반올림하여 0이 되었음\n",
        "\n",
        "기온(temperature)에 대한 계수(0.7654)는 유의미하게 0과 다르다고 판단할 수 있음. 양수이므로 기온이 오르면 맥주 매상도 오른다고 판단할 수 있음"
      ],
      "metadata": {
        "id": "N_-5oVwciR0r"
      }
    },
    {
      "cell_type": "markdown",
      "source": [
        "### 5.1.6 summary 함수의 출력 내용 설명"
      ],
      "metadata": {
        "id": "ibAtWg_cjVWv"
      }
    },
    {
      "cell_type": "markdown",
      "source": [
        "- Deep.Variable : 종속변수의 이름. Deep은 Depended의 약자로, 종속변수라는 의미\n",
        "- Model, Method : 범용최소제곱법을 사용했다는 설명\n",
        "- Date, Time : 모델을 추정한 일시\n",
        "- No.Observations : 샘플사이즈\n",
        "- Df Residuals : 샘플사이즈에서 추정된 파라미터 수를 뺀 것\n",
        "- Df model : 사용된 독립변수의 수\n",
        "- Covariance Type : 공분산 타입. 특별히 지정하지 않으면 nonrobust가 됨\n",
        "- R-squared, Adj. R-squared : 결정계수와 자유도 조정이 끝난 결정계수 (결정계수는 5.1.12절에서 설명)\n",
        "- F-statistic, Prob (F-statistic) : 분산분석결과. 분산분석은 5.2절에서 설명\n",
        "- Log-Likelihood : 최대로그우도\n",
        "- AIC : 아케이케 정보 기준\n",
        "- BIC : 베이즈 정보기준, 정보기준의 일종이지만 이 책에서는 사용하지 않음"
      ],
      "metadata": {
        "id": "D8ILTIInjcm0"
      }
    },
    {
      "cell_type": "markdown",
      "source": [
        "### 5.1.7 AIC를 이용한 모델 선택\n",
        "\n",
        "독립변수가 1개 뿐이기에 Null 모델의 AIC와 기온이라는 독립변수가 들어간 모델의 AIC를 비교"
      ],
      "metadata": {
        "id": "3r5gHShgklqG"
      }
    },
    {
      "cell_type": "markdown",
      "source": [
        "Null 모델 구축"
      ],
      "metadata": {
        "id": "_xF4Q3Bskw0l"
      }
    },
    {
      "cell_type": "code",
      "source": [
        "null_model = smf.ols('beer ~ 1', data=beer).fit()\n",
        "null_model.aic"
      ],
      "metadata": {
        "colab": {
          "base_uri": "https://localhost:8080/"
        },
        "id": "tAoBXn5AkzC4",
        "outputId": "94ab8f52-5568-4e0d-b821-7298c5215c90"
      },
      "execution_count": 7,
      "outputs": [
        {
          "output_type": "execute_result",
          "data": {
            "text/plain": [
              "227.94194972563105"
            ]
          },
          "metadata": {},
          "execution_count": 7
        }
      ]
    },
    {
      "cell_type": "markdown",
      "source": [
        "독립변수가 있는 모델의 AIC"
      ],
      "metadata": {
        "id": "VhPLyDbAk7RW"
      }
    },
    {
      "cell_type": "code",
      "source": [
        "lm_model.aic"
      ],
      "metadata": {
        "colab": {
          "base_uri": "https://localhost:8080/"
        },
        "id": "JrmI1O0sk9PG",
        "outputId": "5d6608f8-04e0-436e-bdc3-4f79246edcaf"
      },
      "execution_count": 8,
      "outputs": [
        {
          "output_type": "execute_result",
          "data": {
            "text/plain": [
              "208.90902935575437"
            ]
          },
          "metadata": {},
          "execution_count": 8
        }
      ]
    },
    {
      "cell_type": "markdown",
      "source": [
        "AIC 계산 방법 복습\n",
        "\n",
        "AIC = -2 X (최대로그우도 - 추정된 파라미터 수)"
      ],
      "metadata": {
        "id": "jAYWi51_lDKB"
      }
    },
    {
      "cell_type": "code",
      "source": [
        "# 추정된 모델의 로그우도\n",
        "print('추정된 모델의 로그우도:', lm_model.llf)\n",
        "\n",
        "# 사용된 독립변수의 수\n",
        "print('사용된 독립변수의 수 :', lm_model.df_model)\n",
        "\n",
        "# 실제로는 절편(B0)도 추정되었기 때문에 1을 더하면 추정된 파라미터 수를 구할 수 있음\n",
        "aic = -2 * (lm_model.llf - (lm_model.df_model + 1))\n",
        "print('aic:', aic)"
      ],
      "metadata": {
        "colab": {
          "base_uri": "https://localhost:8080/"
        },
        "id": "pEqIRMrolLof",
        "outputId": "9e643f7a-5592-4e3a-98ac-ecb7fe9f93db"
      },
      "execution_count": 9,
      "outputs": [
        {
          "output_type": "stream",
          "name": "stdout",
          "text": [
            "추정된 모델의 로그우도: -102.45451467787719\n",
            "사용된 독립변수의 수 : 1.0\n",
            "aic: 208.90902935575437\n"
          ]
        }
      ]
    },
    {
      "cell_type": "markdown",
      "source": [
        "**중요**\n",
        "\n",
        "추정된 파라미터 수에는 몇가지 유형이 있음. 이번에는 **장애모수**를 파라미터 수에 포함시키지 않았지만 이를 포함한 AIC를 구하는 경우도 있음\n",
        "\n",
        "R언어 등 다른 소프트웨어는 장애모수가 포함되어 있기도 함.\n",
        "\n",
        "AIC는 그 값이 크고 작음에 의미가 있는 지표.\n",
        "\n",
        "다시 말해 AIC의 절댓값은 의미가 없음. 같은 유형으로 계산된 AIC는 대소관계가 변하지 않기 때문에 모델 선택에 있어 악영향은 없음\n",
        "\n",
        "다만 **다른 소프트웨어나 라이브러리에서 계산된 AIC와의 비교는 피해야 함**\n",
        "\n",
        "예를 들면 파이썬으로 구한 AIC와 R로 구한 AIC의 비교는 의미 없음."
      ],
      "metadata": {
        "id": "YoqmXAntl4YT"
      }
    },
    {
      "cell_type": "markdown",
      "source": [
        "### 5.1.9 seaborn을 이용한 회귀직선 그래프 그리기"
      ],
      "metadata": {
        "id": "5E-9PrATmksu"
      }
    },
    {
      "cell_type": "code",
      "source": [
        "sns.lmplot(x='temperature', y='beer', data=beer , scatter_kws={'color':'green'}, line_kws={'color':'black'})\n",
        "# 음영 부분은 회귀직선의 95% 신뢰구간을 나타냄"
      ],
      "metadata": {
        "colab": {
          "base_uri": "https://localhost:8080/",
          "height": 387
        },
        "id": "8fGqpknDmoGI",
        "outputId": "786d4096-aa6a-4b54-e075-713c497d5926"
      },
      "execution_count": 10,
      "outputs": [
        {
          "output_type": "execute_result",
          "data": {
            "text/plain": [
              "<seaborn.axisgrid.FacetGrid at 0x7f9184c26430>"
            ]
          },
          "metadata": {},
          "execution_count": 10
        },
        {
          "output_type": "display_data",
          "data": {
            "text/plain": [
              "<Figure size 360x360 with 1 Axes>"
            ],
            "image/png": "[encoded data removed]"
          },
          "metadata": {
            "needs_background": "light"
          }
        }
      ]
    },
    {
      "cell_type": "markdown",
      "source": [
        "### 5.1.10 모델을 이용한 예측"
      ],
      "metadata": {
        "id": "a65vY2VenkrX"
      }
    },
    {
      "cell_type": "code",
      "source": [
        "# predict() 함수에 파라미터를 아무것도 넘기지 않으면 훈련 데이터를 사용한 값이 그대로 출력됨\n",
        "print(lm_model.predict())\n",
        "\n",
        "# 기온을 0도 일때의 맥주 매상의 기댓값 계산\n",
        "print('\\n\\n기온 0도 일때 맥주매상 기댓값:', lm_model.predict(pd.DataFrame({'temperature':[0]})))\n",
        "\n",
        "# 0도 일땐 절편(B0)만 있는 것과 같기에 B0 값만 나옴\n",
        "print('\\n\\nB0 값(절편):', lm_model.params)\n",
        "\n",
        "# 기온이 20도일 때의 맥주 매상 기댓값\n",
        "print('\\n\\n기온 20도일 때의 맥주매상 기댓값 :', lm_model.predict(pd.DataFrame({'temperature':[20]})))\n",
        "\n",
        "# 위의 20도 일 때 기대값은 B0 + B1*20 의 계산결과와 같다.\n",
        "beta0 = lm_model.params[0]\n",
        "beta1 = lm_model.params[1]\n",
        "temperature = 20\n",
        "\n",
        "print('\\n\\n계산결과:', beta0 + beta1 * temperature)"
      ],
      "metadata": {
        "colab": {
          "base_uri": "https://localhost:8080/"
        },
        "id": "Ttp-rIaJnnLQ",
        "outputId": "9390f494-7634-422c-8423-0ca0e98c8654"
      },
      "execution_count": 11,
      "outputs": [
        {
          "output_type": "stream",
          "name": "stdout",
          "text": [
            "[50.301 53.746 42.264 55.2   46.704 37.825 44.943 54.511 52.445 41.116\n",
            " 54.664 49.23  53.21  52.445 41.04  52.598 45.25  61.783 55.43  50.301\n",
            " 42.418 50.301 51.143 40.657 66.911 52.904 62.854 41.423 62.472 39.509]\n",
            "\n",
            "\n",
            "기온 0도 일때 맥주매상 기댓값: 0    34.610215\n",
            "dtype: float64\n",
            "\n",
            "\n",
            "B0 값(절편): Intercept      34.610215\n",
            "temperature     0.765428\n",
            "dtype: float64\n",
            "\n",
            "\n",
            "기온 20도일 때의 맥주매상 기댓값 : 0    49.918767\n",
            "dtype: float64\n",
            "\n",
            "\n",
            "계산결과: 49.91876701095054\n"
          ]
        }
      ]
    },
    {
      "cell_type": "markdown",
      "source": [
        "### 5.1.1 잔차 계산\n",
        "모델의 평가는 주로 잔차를 체크해서 합니다.\n",
        "\n",
        "정규선형모델의 경우에는 잔차가 '평균이 0인 정규분포'를 따르는 것이므로 모델이 그 분포를 따르고 있는지 체크하게 됩니다.\n",
        "\n",
        "잔차는 다음과 같이 계산해서 얻을 수 있습니다."
      ],
      "metadata": {
        "id": "uE5cLp69W5wP"
      }
    },
    {
      "cell_type": "code",
      "source": [
        "resid = lm_model.resid\n",
        "print('잔차:', resid.head())"
      ],
      "metadata": {
        "colab": {
          "base_uri": "https://localhost:8080/"
        },
        "id": "IySs54HTXIWl",
        "outputId": "1ec39745-84e6-4c89-9fd1-04d21c8be3b6"
      },
      "execution_count": 12,
      "outputs": [
        {
          "output_type": "stream",
          "name": "stdout",
          "text": [
            "잔차: 0    -5.001481\n",
            "1     5.554095\n",
            "2    -1.864491\n",
            "3   -17.200217\n",
            "4    -9.703971\n",
            "dtype: float64\n"
          ]
        }
      ]
    },
    {
      "cell_type": "markdown",
      "source": [
        "잔차 계산식은 아래와 같음\n",
        "\n",
        "$residuals = y - \\hat{y} \\qquad 여기서 \\hat{y} = \\beta_0 + \\beta_1 \\times 기온$\n",
        "\n",
        "잔차는 실제값 - 예측값"
      ],
      "metadata": {
        "id": "gFBMV4FMXTMi"
      }
    },
    {
      "cell_type": "code",
      "source": [
        "y_hat = beta0 + beta1 * beer.temperature\n",
        "print('\\n\\n예측값:', y_hat.head())\n",
        "\n",
        "# 잔차\n",
        "print('\\n\\n잔차:', (beer.beer - y_hat).head())"
      ],
      "metadata": {
        "colab": {
          "base_uri": "https://localhost:8080/"
        },
        "id": "c9aTyTkcXtBZ",
        "outputId": "ba4ae3c2-f534-484e-aea8-96aa56705881"
      },
      "execution_count": 13,
      "outputs": [
        {
          "output_type": "stream",
          "name": "stdout",
          "text": [
            "\n",
            "\n",
            "예측값: 0    50.301481\n",
            "1    53.745905\n",
            "2    42.264491\n",
            "3    55.200217\n",
            "4    46.703971\n",
            "Name: temperature, dtype: float64\n",
            "\n",
            "\n",
            "잔차: 0    -5.001481\n",
            "1     5.554095\n",
            "2    -1.864491\n",
            "3   -17.200217\n",
            "4    -9.703971\n",
            "dtype: float64\n"
          ]
        }
      ]
    },
    {
      "cell_type": "markdown",
      "source": [
        "### 5.1.12 결정계수(R2)\n",
        "\n",
        "결정계수는 가지고 있는 데이터에 대해 모델을 적용했을 때의 적합도를 평가한 지표\n",
        "\n",
        "$R^2 = \\dfrac {\\sum_{i=1}^N (\\hat{y} - \\mu)^2} {\\sum_{i=1}^N (y - \\mu)^2}$"
      ],
      "metadata": {
        "id": "-pzhV1lsYwST"
      }
    },
    {
      "cell_type": "code",
      "source": [
        "mu = np.mean(beer.beer)\n",
        "y = beer.beer\n",
        "yhat = lm_model.predict()\n",
        "\n",
        "r2 = np.sum((yhat - mu)**2) / np.sum((y-mu)**2)\n",
        "print('R2:', r2)\n",
        "\n",
        "print('모델 R2:', lm_model.rsquared)"
      ],
      "metadata": {
        "colab": {
          "base_uri": "https://localhost:8080/"
        },
        "id": "BubFRvY8ZNcB",
        "outputId": "3bd4b743-949d-4956-aa11-061558027e6e"
      },
      "execution_count": 14,
      "outputs": [
        {
          "output_type": "stream",
          "name": "stdout",
          "text": [
            "R2: 0.503959323061187\n",
            "모델 R2: 0.5039593230611858\n"
          ]
        }
      ]
    },
    {
      "cell_type": "markdown",
      "source": [
        "잔차는 residual = y - y_hat 으로 계산할 수 있음.\n",
        "\n",
        "그러면 식을 변형해서 y = y_hat + residual 라고 할 수 있음.\n",
        "\n",
        "그리고 결정계수(R2)의 분모는 아래와 같이 분해 가능\n",
        "\n",
        "\n",
        "$\\sum_{i=1}^N (y-\\mu)^2 = \\sum_{i=1}^N (\\hat{y}-\\mu)^2 + \\sum_{i=1}^N residuals^2$\n",
        "\n",
        "종속변수값의 변동크기 sum(y - mu)**2 을 모델로 설명 가능한 변동과 모델로 설명하지 못하는 잔차제곱합으로 분해할 수 있다는 겁니다.\n",
        "\n",
        "이 때문에 결정계수는 전체 변동폭의 크기에 대한 모델로 설명 가능한 변동폭의 비율이라고 해석할 수 있습니다."
      ],
      "metadata": {
        "id": "rxtB0noMaM_C"
      }
    },
    {
      "cell_type": "code",
      "source": [
        "# 모델로 설명 가능한 변동과 모델로 설명하지 못하는 잔차제곱합의 합계를 구하겠음\n",
        "print('모델로 설명 가능한 변동과 설명하지 못하는 잔차제곱합의 합계:', np.sum((yhat - mu)**2) + np.sum(resid**2))\n",
        "\n",
        "# 위 계산 결과는 데이터 전체 변동의 합과 같음\n",
        "print('데이터 전체 변동의 합:', np.sum((y - mu)**2))"
      ],
      "metadata": {
        "colab": {
          "base_uri": "https://localhost:8080/"
        },
        "id": "twu7igJtbEZ4",
        "outputId": "4a74d952-c9f6-4a1a-8bb5-6b92be21f7f5"
      },
      "execution_count": 15,
      "outputs": [
        {
          "output_type": "stream",
          "name": "stdout",
          "text": [
            "모델로 설명 가능한 변동과 설명하지 못하는 잔차제곱합의 합계: 3277.114666666669\n",
            "데이터 전체 변동의 합: 3277.1146666666655\n"
          ]
        }
      ]
    },
    {
      "cell_type": "markdown",
      "source": [
        "위 코드와 같은 계산 결과가 있어서 결정계수는 아래와 같이도 계산할 수 있음\n",
        "\n",
        "$R^2 = 1 - \\dfrac {\\sum_{i=1}^N residuals^2} {\\sum_{i=1}^N (y-\\mu)^2}$"
      ],
      "metadata": {
        "id": "KRup8xaZbj3V"
      }
    },
    {
      "cell_type": "markdown",
      "source": [
        "### 5.1.13 수정 결정계수\n",
        "\n",
        "독립변수의 수가 늘어나는 것에 대해 패널티를 적용한 결정계수를 **수정된 결정계수**라고 부릅니다.\n",
        "\n",
        "독립변수가 늘어나면 결정계수는 큰 값이 됨. 결정계수가 높아지는 **과학습**을 일으키기 때문에 조정이 필요함\n",
        "\n",
        "$R^2 = 1 - \\dfrac {\\sum_{i=1}^N residuals^2 / (N -s -1)} {\\sum_{i=1}^N (y-\\mu)^2 \\ / (N-1)} \\quad s: 독립변수의 수$   "
      ],
      "metadata": {
        "id": "xKg0_0I6b9n2"
      }
    },
    {
      "cell_type": "code",
      "source": [
        "# 파이썬으로 수정결정계수 구하기\n",
        "n = len(beer.beer)\n",
        "s = 1\n",
        "adj_r2 = 1 - ( (np.sum(resid**2)    / (n-s-1) ) / \n",
        "               (np.sum((y - mu)**2) / (n-1)   ) )\n",
        "print('adj_R2:', adj_r2)\n",
        "print('\\n\\nmodel adj_r2:', lm_model.rsquared_adj)"
      ],
      "metadata": {
        "colab": {
          "base_uri": "https://localhost:8080/"
        },
        "id": "t9nSzPnXckVp",
        "outputId": "e45081c4-d3bc-4c1d-ec7e-a9becc4884a7"
      },
      "execution_count": 16,
      "outputs": [
        {
          "output_type": "stream",
          "name": "stdout",
          "text": [
            "adj_R2: 0.48624358459908534\n",
            "\n",
            "\n",
            "model adj_r2: 0.48624358459908534\n"
          ]
        }
      ]
    },
    {
      "cell_type": "markdown",
      "source": [
        "### 5.1.14 잔차 그래프"
      ],
      "metadata": {
        "id": "q7Qmpl-kdNsc"
      }
    },
    {
      "cell_type": "markdown",
      "source": [
        "잔차의 특징을 보는 가장 간단한 방법은 잔차의 히스토그램을 그리는 것"
      ],
      "metadata": {
        "id": "-goydgZQdaCF"
      }
    },
    {
      "cell_type": "code",
      "source": [
        "sns.distplot(resid)"
      ],
      "metadata": {
        "colab": {
          "base_uri": "https://localhost:8080/",
          "height": 344
        },
        "id": "a9XYaafxdQVt",
        "outputId": "348dcf1d-ce6a-404e-ef0b-d91d5a2bae0a"
      },
      "execution_count": 17,
      "outputs": [
        {
          "output_type": "stream",
          "name": "stderr",
          "text": [
            "/usr/local/lib/python3.8/dist-packages/seaborn/distributions.py:2619: FutureWarning: `distplot` is a deprecated function and will be removed in a future version. Please adapt your code to use either `displot` (a figure-level function with similar flexibility) or `histplot` (an axes-level function for histograms).\n",
            "  warnings.warn(msg, FutureWarning)\n"
          ]
        },
        {
          "output_type": "execute_result",
          "data": {
            "text/plain": [
              "<matplotlib.axes._subplots.AxesSubplot at 0x7f9186c7bc40>"
            ]
          },
          "metadata": {},
          "execution_count": 17
        },
        {
          "output_type": "display_data",
          "data": {
            "text/plain": [
              "<Figure size 432x288 with 1 Axes>"
            ],
            "image/png": "[encoded data removed]"
          },
          "metadata": {
            "needs_background": "light"
          }
        }
      ]
    },
    {
      "cell_type": "code",
      "source": [
        "# x축이 적합도, y축이 잔차인 산포도\n",
        "sns.jointplot(x=lm_model.fittedvalues, y=resid, \n",
        "              joint_kws={'color':'green'}, \n",
        "              marginal_kws={'color':'blue'})"
      ],
      "metadata": {
        "colab": {
          "base_uri": "https://localhost:8080/",
          "height": 459
        },
        "id": "FOBpmu-8dhi-",
        "outputId": "d7c28d26-5a7c-4484-bd16-d0dd2c2d9ff5"
      },
      "execution_count": 18,
      "outputs": [
        {
          "output_type": "execute_result",
          "data": {
            "text/plain": [
              "<seaborn.axisgrid.JointGrid at 0x7f91846502b0>"
            ]
          },
          "metadata": {},
          "execution_count": 18
        },
        {
          "output_type": "display_data",
          "data": {
            "text/plain": [
              "<Figure size 432x432 with 3 Axes>"
            ],
            "image/png": "[encoded data removed]"
          },
          "metadata": {
            "needs_background": "light"
          }
        }
      ]
    },
    {
      "cell_type": "markdown",
      "source": [
        "### 5.1.15 Q-Q 플롯 (QQ플롯)\n",
        "\n",
        "이론상의 분위점과 실제 데이터의 분위점을 산포도 그래프로 그린 것을 **Q-Q플롯** 이라고 함\n",
        "\n",
        "Q는 Quantile의 약자.\n",
        "\n",
        "Q-Q플롯은 `sm.qqplot` 함수를 사용해 그릴 수 있음.\n",
        "\n",
        "`line=\"s\"` 라고 파라미터를 넘기면 잔차가 정규분포를 따르는 이 선상에 위치한다는 기준을 표시하게 됨"
      ],
      "metadata": {
        "id": "i6AuXIXueJY-"
      }
    },
    {
      "cell_type": "code",
      "source": [
        "fig = sm.qqplot(resid, line=\"s\")"
      ],
      "metadata": {
        "colab": {
          "base_uri": "https://localhost:8080/",
          "height": 285
        },
        "id": "kNJmUSW7eqPS",
        "outputId": "19cacb3a-2adf-4174-e6e1-0d5584547dfc"
      },
      "execution_count": 19,
      "outputs": [
        {
          "output_type": "display_data",
          "data": {
            "text/plain": [
              "<Figure size 432x288 with 1 Axes>"
            ],
            "image/png": "[encoded data removed]"
          },
          "metadata": {
            "needs_background": "light"
          }
        }
      ]
    },
    {
      "cell_type": "code",
      "source": [
        "resid_sort = resid.sort_values()\n",
        "print('오름차순 정렬된 잔차:', resid_sort.head())"
      ],
      "metadata": {
        "colab": {
          "base_uri": "https://localhost:8080/"
        },
        "id": "N93hbYcIe0Qz",
        "outputId": "c6d4b5cc-9c5b-4e8d-b424-5b5d66498b17"
      },
      "execution_count": 20,
      "outputs": [
        {
          "output_type": "stream",
          "name": "stdout",
          "text": [
            "오름차순 정렬된 잔차: 3    -17.200217\n",
            "21   -14.501481\n",
            "12    -9.710106\n",
            "4     -9.703971\n",
            "10    -7.664418\n",
            "dtype: float64\n"
          ]
        }
      ]
    },
    {
      "cell_type": "markdown",
      "source": [
        "샘플 사이즈가 30이다. 가장 작은 데이터는 하위 몇%에 속할까? 1 / 31 로 계산하면 됨.\n",
        "\n",
        "1부터 시작한다는 점에 주의"
      ],
      "metadata": {
        "id": "tiYwmGpqfJCn"
      }
    },
    {
      "cell_type": "code",
      "source": [
        "1/31"
      ],
      "metadata": {
        "colab": {
          "base_uri": "https://localhost:8080/"
        },
        "id": "-foM-4kIfiQV",
        "outputId": "87f78bcc-e219-477e-e8a4-923e18dd119f"
      },
      "execution_count": 21,
      "outputs": [
        {
          "output_type": "execute_result",
          "data": {
            "text/plain": [
              "0.032"
            ]
          },
          "metadata": {},
          "execution_count": 21
        }
      ]
    },
    {
      "cell_type": "code",
      "source": [
        "# 30개의 샘플에 위 계산을 함. 이론상의 누적확률이 됨.\n",
        "nobs = len(resid_sort)\n",
        "cdf = np.arange(1, nobs+1) / (nobs + 1)\n",
        "print('cdf:', cdf)\n",
        "\n",
        "\n",
        "# 이론상의 분위점은 정규분포의 퍼센트포인트를 사용하면 계산할 수 있음\n",
        "ppf = stats.norm.ppf(cdf)\n",
        "print('\\n\\nppf:', ppf)\n",
        "\n",
        "# 가로축에 이론상의 분위점(ppf), 세로축에 정렬된 데이터(resid_sort)를 지정해서 산포도를 그릴 수 있음\n",
        "sns.jointplot(x=ppf, y=resid_sort, \n",
        "              joint_kws={'color':'green'}, \n",
        "              marginal_kws={'color':'blue'})"
      ],
      "metadata": {
        "colab": {
          "base_uri": "https://localhost:8080/",
          "height": 604
        },
        "id": "hBdAsrTBfTZ8",
        "outputId": "36cdfcd3-5734-46f6-f6da-7c254e7be09b"
      },
      "execution_count": 22,
      "outputs": [
        {
          "output_type": "stream",
          "name": "stdout",
          "text": [
            "cdf: [0.032 0.065 0.097 0.129 0.161 0.194 0.226 0.258 0.29  0.323 0.355 0.387\n",
            " 0.419 0.452 0.484 0.516 0.548 0.581 0.613 0.645 0.677 0.71  0.742 0.774\n",
            " 0.806 0.839 0.871 0.903 0.935 0.968]\n",
            "\n",
            "\n",
            "ppf: [-1.849 -1.518 -1.3   -1.131 -0.989 -0.865 -0.753 -0.649 -0.552 -0.46\n",
            " -0.372 -0.287 -0.204 -0.122 -0.04   0.04   0.122  0.204  0.287  0.372\n",
            "  0.46   0.552  0.649  0.753  0.865  0.989  1.131  1.3    1.518  1.849]\n"
          ]
        },
        {
          "output_type": "execute_result",
          "data": {
            "text/plain": [
              "<seaborn.axisgrid.JointGrid at 0x7f9184510850>"
            ]
          },
          "metadata": {},
          "execution_count": 22
        },
        {
          "output_type": "display_data",
          "data": {
            "text/plain": [
              "<Figure size 432x432 with 3 Axes>"
            ],
            "image/png": "[encoded data removed]"
          },
          "metadata": {
            "needs_background": "light"
          }
        }
      ]
    },
    {
      "cell_type": "markdown",
      "source": [
        "### 5.1.16 summary 함수의 출력으로 보는 잔차 체크\n",
        "\n",
        "잔차 체크 결과는 summary 함수의 추정 결과에 출력 됨.\n",
        "\n",
        "summary 결과의 세번째 표에 주목"
      ],
      "metadata": {
        "id": "lwgDz4VXhCN3"
      }
    },
    {
      "cell_type": "code",
      "source": [
        "lm_model.summary()"
      ],
      "metadata": {
        "colab": {
          "base_uri": "https://localhost:8080/",
          "height": 441
        },
        "id": "O-etWDcAhMlE",
        "outputId": "e070ef90-f42a-4be5-ad70-8ccd1563ed5f"
      },
      "execution_count": 23,
      "outputs": [
        {
          "output_type": "execute_result",
          "data": {
            "text/plain": [
              "<class 'statsmodels.iolib.summary.Summary'>\n",
              "\"\"\"\n",
              "                            OLS Regression Results                            \n",
              "==============================================================================\n",
              "Dep. Variable:                   beer   R-squared:                       0.504\n",
              "Model:                            OLS   Adj. R-squared:                  0.486\n",
              "Method:                 Least Squares   F-statistic:                     28.45\n",
              "Date:                Sun, 08 Jan 2023   Prob (F-statistic):           1.11e-05\n",
              "Time:                        14:13:15   Log-Likelihood:                -102.45\n",
              "No. Observations:                  30   AIC:                             208.9\n",
              "Df Residuals:                      28   BIC:                             211.7\n",
              "Df Model:                           1                                         \n",
              "Covariance Type:            nonrobust                                         \n",
              "===============================================================================\n",
              "                  coef    std err          t      P>|t|      [0.025      0.975]\n",
              "-------------------------------------------------------------------------------\n",
              "Intercept      34.6102      3.235     10.699      0.000      27.984      41.237\n",
              "temperature     0.7654      0.144      5.334      0.000       0.471       1.059\n",
              "==============================================================================\n",
              "Omnibus:                        0.587   Durbin-Watson:                   1.960\n",
              "Prob(Omnibus):                  0.746   Jarque-Bera (JB):                0.290\n",
              "Skew:                          -0.240   Prob(JB):                        0.865\n",
              "Kurtosis:                       2.951   Cond. No.                         52.5\n",
              "==============================================================================\n",
              "\n",
              "Notes:\n",
              "[1] Standard Errors assume that the covariance matrix of the errors is correctly specified.\n",
              "\"\"\""
            ],
            "text/html": [
              "<table class=\"simpletable\">\n",
              "<caption>OLS Regression Results</caption>\n",
              "<tr>\n",
              "  <th>Dep. Variable:</th>          <td>beer</td>       <th>  R-squared:         </th> <td>   0.504</td>\n",
              "</tr>\n",
              "<tr>\n",
              "  <th>Model:</th>                   <td>OLS</td>       <th>  Adj. R-squared:    </th> <td>   0.486</td>\n",
              "</tr>\n",
              "<tr>\n",
              "  <th>Method:</th>             <td>Least Squares</td>  <th>  F-statistic:       </th> <td>   28.45</td>\n",
              "</tr>\n",
              "<tr>\n",
              "  <th>Date:</th>             <td>Sun, 08 Jan 2023</td> <th>  Prob (F-statistic):</th> <td>1.11e-05</td>\n",
              "</tr>\n",
              "<tr>\n",
              "  <th>Time:</th>                 <td>14:13:15</td>     <th>  Log-Likelihood:    </th> <td> -102.45</td>\n",
              "</tr>\n",
              "<tr>\n",
              "  <th>No. Observations:</th>      <td>    30</td>      <th>  AIC:               </th> <td>   208.9</td>\n",
              "</tr>\n",
              "<tr>\n",
              "  <th>Df Residuals:</th>          <td>    28</td>      <th>  BIC:               </th> <td>   211.7</td>\n",
              "</tr>\n",
              "<tr>\n",
              "  <th>Df Model:</th>              <td>     1</td>      <th>                     </th>     <td> </td>   \n",
              "</tr>\n",
              "<tr>\n",
              "  <th>Covariance Type:</th>      <td>nonrobust</td>    <th>                     </th>     <td> </td>   \n",
              "</tr>\n",
              "</table>\n",
              "<table class=\"simpletable\">\n",
              "<tr>\n",
              "       <td></td>          <th>coef</th>     <th>std err</th>      <th>t</th>      <th>P>|t|</th>  <th>[0.025</th>    <th>0.975]</th>  \n",
              "</tr>\n",
              "<tr>\n",
              "  <th>Intercept</th>   <td>   34.6102</td> <td>    3.235</td> <td>   10.699</td> <td> 0.000</td> <td>   27.984</td> <td>   41.237</td>\n",
              "</tr>\n",
              "<tr>\n",
              "  <th>temperature</th> <td>    0.7654</td> <td>    0.144</td> <td>    5.334</td> <td> 0.000</td> <td>    0.471</td> <td>    1.059</td>\n",
              "</tr>\n",
              "</table>\n",
              "<table class=\"simpletable\">\n",
              "<tr>\n",
              "  <th>Omnibus:</th>       <td> 0.587</td> <th>  Durbin-Watson:     </th> <td>   1.960</td>\n",
              "</tr>\n",
              "<tr>\n",
              "  <th>Prob(Omnibus):</th> <td> 0.746</td> <th>  Jarque-Bera (JB):  </th> <td>   0.290</td>\n",
              "</tr>\n",
              "<tr>\n",
              "  <th>Skew:</th>          <td>-0.240</td> <th>  Prob(JB):          </th> <td>   0.865</td>\n",
              "</tr>\n",
              "<tr>\n",
              "  <th>Kurtosis:</th>      <td> 2.951</td> <th>  Cond. No.          </th> <td>    52.5</td>\n",
              "</tr>\n",
              "</table><br/><br/>Notes:<br/>[1] Standard Errors assume that the covariance matrix of the errors is correctly specified."
            ]
          },
          "metadata": {},
          "execution_count": 23
        }
      ]
    },
    {
      "cell_type": "markdown",
      "source": [
        "- Prob(Omnibus), Prob(JB) : 잔차의 정규성 검정에 대한 결과\n",
        "    - 귀무가설 : 잔차가 정규분포를 따른다.\n",
        "    - 대립가설 : 잔차가 정규분포와 다르다.\n",
        "\n",
        "정규분포와 다른지 여부를 판단할 때 Skew(왜도)나 Kurtosis (첨도)라는 지표를 사용\n",
        "- 왜도 : 히스토그램의 좌우 비대칭 방향과 정도를 측정\n",
        "    - 왜도가 0보다 크면 : 오른쪽 자락이 길어짐\n",
        "\n",
        "$Skew = E(\\dfrac {(x - \\mu)^3} {\\sigma^3})$\n",
        " - E() : 기댓값을 받는 함수\n",
        " - x:확률변수 (이 경우는 잔차)\n",
        "\n",
        " 첨도는 히스토그램 중심부의 뾰족함을 측정하는 지표. 값이 클수록 가운데 부분이 뾰족해짐. 정규분포의 첨도는 3\n",
        "\n",
        " $Kurtosis = E( \\dfrac {(x - \\mu)^4} {\\sigma^4})$\n",
        "\n",
        " - Durbin-Watson : 잔차의 자기상관을 체크하는 지표. 2 전후라면 문제 없다고 판단할 수 있다."
      ],
      "metadata": {
        "id": "oWz-LYN5hQRw"
      }
    },
    {
      "cell_type": "markdown",
      "source": [
        "### 5.2.4 분산분석의 직감적 사고방식 : F비"
      ],
      "metadata": {
        "id": "O5QdVg-gwj7l"
      }
    },
    {
      "cell_type": "markdown",
      "source": [
        "분산분석의 귀무가설과 대립가설은 아래와 같습니다.\n",
        "- 귀무가설 : 수준간의 평균값에 차이가 없다.\n",
        "- 대립가설 : 수준간의 평균값에 차이가 있다.\n",
        "\n",
        "수진이란 날씨, 물고기의 종류 등과 같은 카테고리형 변수를 가르킴\n",
        "\n",
        "$F비 = \\dfrac {효과의 분산 크기} {오차의 분산 크기}$\n",
        "\n",
        "효과는 날씨에 따른 매상의 변동, 오차는 날씨라는 변수를 이용해서 설명할 수 없는 맥주 매상의 변동.\n",
        "\n",
        "\n",
        "**분산분석** : 분산의 비율을 취한 통계량으로 검정을 시행하기 때문에 분산분석이라고 불림. 분사분석은 ANalysis Of VAriance 를 줄여서 **ANOVA** 라고 부르기도 함."
      ],
      "metadata": {
        "id": "7CwcaJGvwqoQ"
      }
    },
    {
      "cell_type": "markdown",
      "source": [
        "### 5.2.6 분산분석의 직감적 사고방식 : 오차 및 효과의 분리"
      ],
      "metadata": {
        "id": "ZyBmBbOxyPwH"
      }
    },
    {
      "cell_type": "markdown",
      "source": [
        "바이올린 간의 거리가 **효과의 크기**이며, 각 바이올린의 폭이 **오차의 크기**입니다.\n",
        "\n",
        "![violine_anova](https://user-images.githubusercontent.com/291782/210509036-d5ca2e26-a12c-4902-9d3c-536c4d877c5f.png)\n",
        "\n",
        "\n",
        "- 각각의 바이올린은 날씨라는 수준으로 나뉘어져 있음\n",
        "- 바이올린이 떨어져 있다는 것은 날씨에 따라 매상이 크게 변한다는 것을 나타냄\n",
        "- 때문에 바이올린 간의 거리가 날씨 효과의 크기가 됨\n",
        "- 같은 날씨라고 해도 매상은 일정하지 않고 흩어져 있음. 날씨로 설명할 수 없는 차이의 크기를 오차의 크기로 표현한 것\n",
        "\n",
        "\n",
        "- **군간변동** : 바이올린 간의 거리, 즉, 효과의 크기를 군간변동\n",
        "- **군내변동** : 각 바이올린의 폭, 즉 오차의 크기를 군내변동"
      ],
      "metadata": {
        "id": "OE53soRsyc8O"
      }
    },
    {
      "cell_type": "markdown",
      "source": [
        "### 5.2.9 데이터 작성과 표시"
      ],
      "metadata": {
        "id": "kwJdfozlzEjJ"
      }
    },
    {
      "cell_type": "code",
      "source": [
        "# 샘플 데이터\n",
        "weather = ['cloudy', 'cloudy', 'rainy', 'rainy', 'sunny', 'sunny']\n",
        "beer = [6, 8, 2, 4, 10, 12]\n",
        "\n",
        "weather_beer = pd.DataFrame({'beer':beer, 'weather': weather})\n",
        "display(weather_beer)"
      ],
      "metadata": {
        "colab": {
          "base_uri": "https://localhost:8080/",
          "height": 237
        },
        "id": "TrzyrpTFzGbx",
        "outputId": "fda86368-1485-4626-c526-f4dd18860b52"
      },
      "execution_count": 24,
      "outputs": [
        {
          "output_type": "display_data",
          "data": {
            "text/plain": [
              "   beer weather\n",
              "0     6  cloudy\n",
              "1     8  cloudy\n",
              "2     2   rainy\n",
              "3     4   rainy\n",
              "4    10   sunny\n",
              "5    12   sunny"
            ],
            "text/html": [
              "\n",
              "  <div id=\"df-31b252ce-bfb3-4962-8212-f334f9173e7d\">\n",
              "    <div class=\"colab-df-container\">\n",
              "      <div>\n",
              "<style scoped>\n",
              "    .dataframe tbody tr th:only-of-type {\n",
              "        vertical-align: middle;\n",
              "    }\n",
              "\n",
              "    .dataframe tbody tr th {\n",
              "        vertical-align: top;\n",
              "    }\n",
              "\n",
              "    .dataframe thead th {\n",
              "        text-align: right;\n",
              "    }\n",
              "</style>\n",
              "<table border=\"1\" class=\"dataframe\">\n",
              "  <thead>\n",
              "    <tr style=\"text-align: right;\">\n",
              "      <th></th>\n",
              "      <th>beer</th>\n",
              "      <th>weather</th>\n",
              "    </tr>\n",
              "  </thead>\n",
              "  <tbody>\n",
              "    <tr>\n",
              "      <th>0</th>\n",
              "      <td>6</td>\n",
              "      <td>cloudy</td>\n",
              "    </tr>\n",
              "    <tr>\n",
              "      <th>1</th>\n",
              "      <td>8</td>\n",
              "      <td>cloudy</td>\n",
              "    </tr>\n",
              "    <tr>\n",
              "      <th>2</th>\n",
              "      <td>2</td>\n",
              "      <td>rainy</td>\n",
              "    </tr>\n",
              "    <tr>\n",
              "      <th>3</th>\n",
              "      <td>4</td>\n",
              "      <td>rainy</td>\n",
              "    </tr>\n",
              "    <tr>\n",
              "      <th>4</th>\n",
              "      <td>10</td>\n",
              "      <td>sunny</td>\n",
              "    </tr>\n",
              "    <tr>\n",
              "      <th>5</th>\n",
              "      <td>12</td>\n",
              "      <td>sunny</td>\n",
              "    </tr>\n",
              "  </tbody>\n",
              "</table>\n",
              "</div>\n",
              "      <button class=\"colab-df-convert\" onclick=\"convertToInteractive('df-31b252ce-bfb3-4962-8212-f334f9173e7d')\"\n",
              "              title=\"Convert this dataframe to an interactive table.\"\n",
              "              style=\"display:none;\">\n",
              "        \n",
              "  <svg xmlns=\"http://www.w3.org/2000/svg\" height=\"24px\"viewBox=\"0 0 24 24\"\n",
              "       width=\"24px\">\n",
              "    <path d=\"M0 0h24v24H0V0z\" fill=\"none\"/>\n",
              "    <path d=\"M18.56 5.44l.94 2.06.94-2.06 2.06-.94-2.06-.94-.94-2.06-.94 2.06-2.06.94zm-11 1L8.5 8.5l.94-2.06 2.06-.94-2.06-.94L8.5 2.5l-.94 2.06-2.06.94zm10 10l.94 2.06.94-2.06 2.06-.94-2.06-.94-.94-2.06-.94 2.06-2.06.94z\"/><path d=\"M17.41 7.96l-1.37-1.37c-.4-.4-.92-.59-1.43-.59-.52 0-1.04.2-1.43.59L10.3 9.45l-7.72 7.72c-.78.78-.78 2.05 0 2.83L4 21.41c.39.39.9.59 1.41.59.51 0 1.02-.2 1.41-.59l7.78-7.78 2.81-2.81c.8-.78.8-2.07 0-2.86zM5.41 20L4 18.59l7.72-7.72 1.47 1.35L5.41 20z\"/>\n",
              "  </svg>\n",
              "      </button>\n",
              "      \n",
              "  <style>\n",
              "    .colab-df-container {\n",
              "      display:flex;\n",
              "      flex-wrap:wrap;\n",
              "      gap: 12px;\n",
              "    }\n",
              "\n",
              "    .colab-df-convert {\n",
              "      background-color: #E8F0FE;\n",
              "      border: none;\n",
              "      border-radius: 50%;\n",
              "      cursor: pointer;\n",
              "      display: none;\n",
              "      fill: #1967D2;\n",
              "      height: 32px;\n",
              "      padding: 0 0 0 0;\n",
              "      width: 32px;\n",
              "    }\n",
              "\n",
              "    .colab-df-convert:hover {\n",
              "      background-color: #E2EBFA;\n",
              "      box-shadow: 0px 1px 2px rgba(60, 64, 67, 0.3), 0px 1px 3px 1px rgba(60, 64, 67, 0.15);\n",
              "      fill: #174EA6;\n",
              "    }\n",
              "\n",
              "    [theme=dark] .colab-df-convert {\n",
              "      background-color: #3B4455;\n",
              "      fill: #D2E3FC;\n",
              "    }\n",
              "\n",
              "    [theme=dark] .colab-df-convert:hover {\n",
              "      background-color: #434B5C;\n",
              "      box-shadow: 0px 1px 3px 1px rgba(0, 0, 0, 0.15);\n",
              "      filter: drop-shadow(0px 1px 2px rgba(0, 0, 0, 0.3));\n",
              "      fill: #FFFFFF;\n",
              "    }\n",
              "  </style>\n",
              "\n",
              "      <script>\n",
              "        const buttonEl =\n",
              "          document.querySelector('#df-31b252ce-bfb3-4962-8212-f334f9173e7d button.colab-df-convert');\n",
              "        buttonEl.style.display =\n",
              "          google.colab.kernel.accessAllowed ? 'block' : 'none';\n",
              "\n",
              "        async function convertToInteractive(key) {\n",
              "          const element = document.querySelector('#df-31b252ce-bfb3-4962-8212-f334f9173e7d');\n",
              "          const dataTable =\n",
              "            await google.colab.kernel.invokeFunction('convertToInteractive',\n",
              "                                                     [key], {});\n",
              "          if (!dataTable) return;\n",
              "\n",
              "          const docLinkHtml = 'Like what you see? Visit the ' +\n",
              "            '<a target=\"_blank\" href=https://colab.research.google.com/notebooks/data_table.ipynb>data table notebook</a>'\n",
              "            + ' to learn more about interactive tables.';\n",
              "          element.innerHTML = '';\n",
              "          dataTable['output_type'] = 'display_data';\n",
              "          await google.colab.output.renderOutput(dataTable, element);\n",
              "          const docLink = document.createElement('div');\n",
              "          docLink.innerHTML = docLinkHtml;\n",
              "          element.appendChild(docLink);\n",
              "        }\n",
              "      </script>\n",
              "    </div>\n",
              "  </div>\n",
              "  "
            ]
          },
          "metadata": {}
        }
      ]
    },
    {
      "cell_type": "code",
      "source": [
        "sns.boxplot(x='weather', y='beer', data=weather_beer)"
      ],
      "metadata": {
        "colab": {
          "base_uri": "https://localhost:8080/",
          "height": 303
        },
        "id": "ECme4cN4zfAV",
        "outputId": "47dc2e86-3653-4a4c-963e-df37fd423356"
      },
      "execution_count": 25,
      "outputs": [
        {
          "output_type": "execute_result",
          "data": {
            "text/plain": [
              "<matplotlib.axes._subplots.AxesSubplot at 0x7f9184518fa0>"
            ]
          },
          "metadata": {},
          "execution_count": 25
        },
        {
          "output_type": "display_data",
          "data": {
            "text/plain": [
              "<Figure size 432x288 with 1 Axes>"
            ],
            "image/png": "[encoded data removed]"
          },
          "metadata": {
            "needs_background": "light"
          }
        }
      ]
    },
    {
      "cell_type": "code",
      "source": [
        "# 날씨별 매상 평균치\n",
        "print('\\n\\n날씨별 매상 평균치:', weather_beer.groupby('weather').mean())\n",
        "\n",
        "# 날씨에 의한 영향 (날씨별 매상 평균치)\n",
        "effect = [7, 7, 3, 3, 11, 11]\n",
        "\n",
        "# effect의 흩어진 정도를 구함으로써 군간변동을 구할 수 있음\n",
        "# 군간변동의 분자에 해당하는 군간 편차제곱합을 계산\n",
        "# 군간 제곱합\n",
        "mu_effect = np.mean(effect)\n",
        "squares_model = np.sum((effect - mu_effect)**2)\n",
        "print('\\n\\n군간제곱합:', squares_model)\n",
        "\n",
        "\n",
        "# 오차는 원본 데이터에서 효과를 빼는 것으로 계산 가능\n",
        "resid = weather_beer.beer - effect\n",
        "print('\\n\\n오차:', resid)\n",
        "\n",
        "# 마찬가지로 군내 편차제곱합을 구함\n",
        "# 오차의 평균은 0이라는 점에 주의\n",
        "# 군내 제곱합\n",
        "squares_resid = np.sum(resid**2)\n",
        "print('\\n\\n군내제곱합:', squares_resid)"
      ],
      "metadata": {
        "colab": {
          "base_uri": "https://localhost:8080/"
        },
        "id": "O2WzUULC0GbD",
        "outputId": "87bb4f4c-cd91-49ec-c0d8-71bfb7975a1b"
      },
      "execution_count": 26,
      "outputs": [
        {
          "output_type": "stream",
          "name": "stdout",
          "text": [
            "\n",
            "\n",
            "날씨별 매상 평균치:          beer\n",
            "weather      \n",
            "cloudy    7.0\n",
            "rainy     3.0\n",
            "sunny    11.0\n",
            "\n",
            "\n",
            "군간제곱합: 64.0\n",
            "\n",
            "\n",
            "오차: 0   -1\n",
            "1    1\n",
            "2   -1\n",
            "3    1\n",
            "4   -1\n",
            "5    1\n",
            "Name: beer, dtype: int64\n",
            "\n",
            "\n",
            "군내제곱합: 6\n"
          ]
        }
      ]
    },
    {
      "cell_type": "markdown",
      "source": [
        "### 5.2.11 분산분석(2) : 군간 분석과 군내 분산 계산"
      ],
      "metadata": {
        "id": "cLzEkkCl3KKX"
      }
    },
    {
      "cell_type": "markdown",
      "source": [
        "분산분석에서도 군간, 군내 분석을 계산할 때는 단순히 샘플 사이즈를 사용하지 않고, **자유도**라 불리는 값으로 나누어야함\n",
        "\n",
        "- 군간변동의 자유도 : 수준의 종류에 따라 좌우됨\n",
        "    - 흐림, 맑음, 비 3가지 수준이 있음. 거기서 1을 빼면 군간변동의 자유도는 2가 됨\n",
        "- 군내변동의 자유도 : 샘플사이즈와 수준의 종류에 따라 좌우됨\n",
        "    - 샘플사이즈가 6, 수준이 3가지이므로 6-3 = 3이 군내변동 자유도"
      ],
      "metadata": {
        "id": "NRwMsJmJ3QEd"
      }
    },
    {
      "cell_type": "code",
      "source": [
        "df_model = 2 # 군간변동의 자유도\n",
        "df_resid = 3 # 군내변동의 자유도\n",
        "\n",
        "# 군간 평균제곱(분산)\n",
        "variance_model = squares_model / df_model\n",
        "print('군간 평균제곱(분산):', variance_model)\n",
        "\n",
        "# 군내 평균제곱(분산)\n",
        "variance_resid = squares_resid / df_resid\n",
        "print('군내 평균제곱(분산):', variance_resid)\n",
        "\n",
        "# F비 (군간 분산과 군내 분산의 비로 계산)\n",
        "f_ratio = variance_model / variance_resid\n",
        "print('\\n\\nF_ratio:', f_ratio)\n",
        "\n",
        "# p 값은 F분포의 누적분포함수에서 계산할 수 있음\n",
        "# sp.stats.f.cdf 함수를 사용\n",
        "# 파라미터로는 F비와 2개의 자유도, 총 3개를 넘김\n",
        "p = 1 - sp.stats.f.cdf(x=f_ratio, dfn=df_model, dfd=df_resid)\n",
        "print('\\n\\np value:', p)\n",
        "\n",
        "print('p value가 0.05 이하가 됐으므로 날씨에 의해 매상이 유의미하게 변화한다고 판단할 수 있음.')"
      ],
      "metadata": {
        "colab": {
          "base_uri": "https://localhost:8080/"
        },
        "id": "m3SB_6ql3xX0",
        "outputId": "b3fb9ced-c335-43a0-f6a6-58ba824bb6c5"
      },
      "execution_count": 27,
      "outputs": [
        {
          "output_type": "stream",
          "name": "stdout",
          "text": [
            "군간 평균제곱(분산): 32.0\n",
            "군내 평균제곱(분산): 2.0\n",
            "\n",
            "\n",
            "F_ratio: 16.0\n",
            "\n",
            "\n",
            "p value: 0.02509457330439091\n",
            "p value가 0.05 이하가 됐으므로 날씨에 의해 매상이 유의미하게 변화한다고 판단할 수 있음.\n"
          ]
        }
      ]
    },
    {
      "cell_type": "code",
      "source": [
        "# statsmodels 를 이용한 분산분석\n",
        "anova_model = smf.ols('beer ~ weather', data=weather_beer).fit()\n",
        "display(sm.stats.anova_lm(anova_model, typ=2))"
      ],
      "metadata": {
        "colab": {
          "base_uri": "https://localhost:8080/",
          "height": 112
        },
        "id": "f5QxXtw97CXq",
        "outputId": "8c63b279-2247-442e-9667-87970459887b"
      },
      "execution_count": 28,
      "outputs": [
        {
          "output_type": "display_data",
          "data": {
            "text/plain": [
              "          sum_sq   df     F    PR(>F)\n",
              "weather     64.0  2.0  16.0  0.025095\n",
              "Residual     6.0  3.0   NaN       NaN"
            ],
            "text/html": [
              "\n",
              "  <div id=\"df-4cf94e53-8d76-4f26-b84d-1131e12b83c9\">\n",
              "    <div class=\"colab-df-container\">\n",
              "      <div>\n",
              "<style scoped>\n",
              "    .dataframe tbody tr th:only-of-type {\n",
              "        vertical-align: middle;\n",
              "    }\n",
              "\n",
              "    .dataframe tbody tr th {\n",
              "        vertical-align: top;\n",
              "    }\n",
              "\n",
              "    .dataframe thead th {\n",
              "        text-align: right;\n",
              "    }\n",
              "</style>\n",
              "<table border=\"1\" class=\"dataframe\">\n",
              "  <thead>\n",
              "    <tr style=\"text-align: right;\">\n",
              "      <th></th>\n",
              "      <th>sum_sq</th>\n",
              "      <th>df</th>\n",
              "      <th>F</th>\n",
              "      <th>PR(&gt;F)</th>\n",
              "    </tr>\n",
              "  </thead>\n",
              "  <tbody>\n",
              "    <tr>\n",
              "      <th>weather</th>\n",
              "      <td>64.0</td>\n",
              "      <td>2.0</td>\n",
              "      <td>16.0</td>\n",
              "      <td>0.025095</td>\n",
              "    </tr>\n",
              "    <tr>\n",
              "      <th>Residual</th>\n",
              "      <td>6.0</td>\n",
              "      <td>3.0</td>\n",
              "      <td>NaN</td>\n",
              "      <td>NaN</td>\n",
              "    </tr>\n",
              "  </tbody>\n",
              "</table>\n",
              "</div>\n",
              "      <button class=\"colab-df-convert\" onclick=\"convertToInteractive('df-4cf94e53-8d76-4f26-b84d-1131e12b83c9')\"\n",
              "              title=\"Convert this dataframe to an interactive table.\"\n",
              "              style=\"display:none;\">\n",
              "        \n",
              "  <svg xmlns=\"http://www.w3.org/2000/svg\" height=\"24px\"viewBox=\"0 0 24 24\"\n",
              "       width=\"24px\">\n",
              "    <path d=\"M0 0h24v24H0V0z\" fill=\"none\"/>\n",
              "    <path d=\"M18.56 5.44l.94 2.06.94-2.06 2.06-.94-2.06-.94-.94-2.06-.94 2.06-2.06.94zm-11 1L8.5 8.5l.94-2.06 2.06-.94-2.06-.94L8.5 2.5l-.94 2.06-2.06.94zm10 10l.94 2.06.94-2.06 2.06-.94-2.06-.94-.94-2.06-.94 2.06-2.06.94z\"/><path d=\"M17.41 7.96l-1.37-1.37c-.4-.4-.92-.59-1.43-.59-.52 0-1.04.2-1.43.59L10.3 9.45l-7.72 7.72c-.78.78-.78 2.05 0 2.83L4 21.41c.39.39.9.59 1.41.59.51 0 1.02-.2 1.41-.59l7.78-7.78 2.81-2.81c.8-.78.8-2.07 0-2.86zM5.41 20L4 18.59l7.72-7.72 1.47 1.35L5.41 20z\"/>\n",
              "  </svg>\n",
              "      </button>\n",
              "      \n",
              "  <style>\n",
              "    .colab-df-container {\n",
              "      display:flex;\n",
              "      flex-wrap:wrap;\n",
              "      gap: 12px;\n",
              "    }\n",
              "\n",
              "    .colab-df-convert {\n",
              "      background-color: #E8F0FE;\n",
              "      border: none;\n",
              "      border-radius: 50%;\n",
              "      cursor: pointer;\n",
              "      display: none;\n",
              "      fill: #1967D2;\n",
              "      height: 32px;\n",
              "      padding: 0 0 0 0;\n",
              "      width: 32px;\n",
              "    }\n",
              "\n",
              "    .colab-df-convert:hover {\n",
              "      background-color: #E2EBFA;\n",
              "      box-shadow: 0px 1px 2px rgba(60, 64, 67, 0.3), 0px 1px 3px 1px rgba(60, 64, 67, 0.15);\n",
              "      fill: #174EA6;\n",
              "    }\n",
              "\n",
              "    [theme=dark] .colab-df-convert {\n",
              "      background-color: #3B4455;\n",
              "      fill: #D2E3FC;\n",
              "    }\n",
              "\n",
              "    [theme=dark] .colab-df-convert:hover {\n",
              "      background-color: #434B5C;\n",
              "      box-shadow: 0px 1px 3px 1px rgba(0, 0, 0, 0.15);\n",
              "      filter: drop-shadow(0px 1px 2px rgba(0, 0, 0, 0.3));\n",
              "      fill: #FFFFFF;\n",
              "    }\n",
              "  </style>\n",
              "\n",
              "      <script>\n",
              "        const buttonEl =\n",
              "          document.querySelector('#df-4cf94e53-8d76-4f26-b84d-1131e12b83c9 button.colab-df-convert');\n",
              "        buttonEl.style.display =\n",
              "          google.colab.kernel.accessAllowed ? 'block' : 'none';\n",
              "\n",
              "        async function convertToInteractive(key) {\n",
              "          const element = document.querySelector('#df-4cf94e53-8d76-4f26-b84d-1131e12b83c9');\n",
              "          const dataTable =\n",
              "            await google.colab.kernel.invokeFunction('convertToInteractive',\n",
              "                                                     [key], {});\n",
              "          if (!dataTable) return;\n",
              "\n",
              "          const docLinkHtml = 'Like what you see? Visit the ' +\n",
              "            '<a target=\"_blank\" href=https://colab.research.google.com/notebooks/data_table.ipynb>data table notebook</a>'\n",
              "            + ' to learn more about interactive tables.';\n",
              "          element.innerHTML = '';\n",
              "          dataTable['output_type'] = 'display_data';\n",
              "          await google.colab.output.renderOutput(dataTable, element);\n",
              "          const docLink = document.createElement('div');\n",
              "          docLink.innerHTML = docLinkHtml;\n",
              "          element.appendChild(docLink);\n",
              "        }\n",
              "      </script>\n",
              "    </div>\n",
              "  </div>\n",
              "  "
            ]
          },
          "metadata": {}
        }
      ]
    },
    {
      "cell_type": "markdown",
      "source": [
        "`sm.stats.anova_lm` 함수의 결과로 출력된 표의 형식을 **분산분석표**라고 함.\n",
        "- sum_sq : 군간과 군내의 편차제곱 합\n",
        "- df : 자유도\n",
        "- F : F비\n",
        "- PR(>F) : p value"
      ],
      "metadata": {
        "id": "QIUH4-wi7Eow"
      }
    },
    {
      "cell_type": "markdown",
      "source": [
        "**정리**\n",
        "- 분산분석에서는 데이터를 효과의 크기와 오차의 크기로 분리\n",
        "- 효과의 크기를 **군간변동**\n",
        "- 오차의 크기를 **군내변동**\n",
        "- 군간분산과 군내분산의 비율, 즉 F비를 통계량으로 사용\n",
        "- 모집단이 **등분산 정규분포**를 따를 때 F비는 F분포를 따른다는 것이 밝혀져 있기 때문에, 누적분포함수에서 p값을 계산하고, 그 값이 0.05 이하인지 판정"
      ],
      "metadata": {
        "id": "mIYDy8u55PKY"
      }
    },
    {
      "cell_type": "markdown",
      "source": [
        "### 5.2.17 모델의 계수 해석"
      ],
      "metadata": {
        "id": "pSh6zGnZ7Xnk"
      }
    },
    {
      "cell_type": "code",
      "source": [
        "anova_model.params"
      ],
      "metadata": {
        "colab": {
          "base_uri": "https://localhost:8080/"
        },
        "id": "Ak1snvDa7Z9L",
        "outputId": "3f9a78ea-7067-4e29-aa11-9700771b4117"
      },
      "execution_count": 29,
      "outputs": [
        {
          "output_type": "execute_result",
          "data": {
            "text/plain": [
              "Intercept           7.0\n",
              "weather[T.rainy]   -4.0\n",
              "weather[T.sunny]    4.0\n",
              "dtype: float64"
            ]
          },
          "metadata": {},
          "execution_count": 29
        }
      ]
    },
    {
      "cell_type": "markdown",
      "source": [
        "$맥주매상 \\sim N(\\beta_0 + \\beta_1 \\times 비 + \\beta_2 \\times 맑음, \\sigma^2)$\n",
        "\n",
        "위 식을 대응하면\n",
        "- Intercept : B0에 해당 (절편)\n",
        "    - 그러므로 흐린날의 매상 평균은 7이 됨. \n",
        "    - 비오는날 : weather[T.rainy] : 7 - 4 = 3 (매상의 기댓값)\n",
        "    - 맑은날 : weather[T.sunny] : 7 + 4 = 11 (매상의 기댓값)"
      ],
      "metadata": {
        "id": "wkPWFEoP7e1y"
      }
    },
    {
      "cell_type": "markdown",
      "source": [
        "### 5.2.18 모델을 사용해서 오차와 효과 분리하기"
      ],
      "metadata": {
        "id": "hJBYq-6H89Jh"
      }
    },
    {
      "cell_type": "code",
      "source": [
        "# 각 수준의 평균값(예측치)\n",
        "fitted = anova_model.fittedvalues\n",
        "print('예측치:', fitted)\n",
        "\n",
        "resid = anova_model.resid\n",
        "print('\\n\\n잔차:', resid)"
      ],
      "metadata": {
        "id": "eQF0jo009AKg",
        "colab": {
          "base_uri": "https://localhost:8080/"
        },
        "outputId": "99e529b9-881d-448e-b013-049bfefd51a2"
      },
      "execution_count": 30,
      "outputs": [
        {
          "output_type": "stream",
          "name": "stdout",
          "text": [
            "예측치: 0     7.0\n",
            "1     7.0\n",
            "2     3.0\n",
            "3     3.0\n",
            "4    11.0\n",
            "5    11.0\n",
            "dtype: float64\n",
            "\n",
            "\n",
            "잔차: 0   -1.0\n",
            "1    1.0\n",
            "2   -1.0\n",
            "3    1.0\n",
            "4   -1.0\n",
            "5    1.0\n",
            "dtype: float64\n"
          ]
        }
      ]
    },
    {
      "cell_type": "markdown",
      "source": [
        "### 5.2.19 회귀모델의 분산분석\n",
        "\n",
        "분산분석은 일반선형모델에서 일반적으로 사용할 수 있음.\n",
        "\n",
        "이는 독립변수가 연속형 데이터여도 변함없음"
      ],
      "metadata": {
        "id": "8rmW96UofRHE"
      }
    },
    {
      "cell_type": "code",
      "source": [
        "beer = pd.read_csv(FOLDER_PATH + '5-1-1-beer.csv')\n",
        "display(beer.head())\n",
        "\n",
        "# 모델추정\n",
        "lm_model = smf.ols(formula='beer ~ temperature', data=beer).fit()"
      ],
      "metadata": {
        "colab": {
          "base_uri": "https://localhost:8080/",
          "height": 206
        },
        "id": "0Nfgq1YVfg-E",
        "outputId": "f8562551-481b-40dd-dba9-5862daac4756"
      },
      "execution_count": 31,
      "outputs": [
        {
          "output_type": "display_data",
          "data": {
            "text/plain": [
              "   beer  temperature\n",
              "0  45.3         20.5\n",
              "1  59.3         25.0\n",
              "2  40.4         10.0\n",
              "3  38.0         26.9\n",
              "4  37.0         15.8"
            ],
            "text/html": [
              "\n",
              "  <div id=\"df-0e454d5b-ff81-481a-8587-60b499da8ce5\">\n",
              "    <div class=\"colab-df-container\">\n",
              "      <div>\n",
              "<style scoped>\n",
              "    .dataframe tbody tr th:only-of-type {\n",
              "        vertical-align: middle;\n",
              "    }\n",
              "\n",
              "    .dataframe tbody tr th {\n",
              "        vertical-align: top;\n",
              "    }\n",
              "\n",
              "    .dataframe thead th {\n",
              "        text-align: right;\n",
              "    }\n",
              "</style>\n",
              "<table border=\"1\" class=\"dataframe\">\n",
              "  <thead>\n",
              "    <tr style=\"text-align: right;\">\n",
              "      <th></th>\n",
              "      <th>beer</th>\n",
              "      <th>temperature</th>\n",
              "    </tr>\n",
              "  </thead>\n",
              "  <tbody>\n",
              "    <tr>\n",
              "      <th>0</th>\n",
              "      <td>45.3</td>\n",
              "      <td>20.5</td>\n",
              "    </tr>\n",
              "    <tr>\n",
              "      <th>1</th>\n",
              "      <td>59.3</td>\n",
              "      <td>25.0</td>\n",
              "    </tr>\n",
              "    <tr>\n",
              "      <th>2</th>\n",
              "      <td>40.4</td>\n",
              "      <td>10.0</td>\n",
              "    </tr>\n",
              "    <tr>\n",
              "      <th>3</th>\n",
              "      <td>38.0</td>\n",
              "      <td>26.9</td>\n",
              "    </tr>\n",
              "    <tr>\n",
              "      <th>4</th>\n",
              "      <td>37.0</td>\n",
              "      <td>15.8</td>\n",
              "    </tr>\n",
              "  </tbody>\n",
              "</table>\n",
              "</div>\n",
              "      <button class=\"colab-df-convert\" onclick=\"convertToInteractive('df-0e454d5b-ff81-481a-8587-60b499da8ce5')\"\n",
              "              title=\"Convert this dataframe to an interactive table.\"\n",
              "              style=\"display:none;\">\n",
              "        \n",
              "  <svg xmlns=\"http://www.w3.org/2000/svg\" height=\"24px\"viewBox=\"0 0 24 24\"\n",
              "       width=\"24px\">\n",
              "    <path d=\"M0 0h24v24H0V0z\" fill=\"none\"/>\n",
              "    <path d=\"M18.56 5.44l.94 2.06.94-2.06 2.06-.94-2.06-.94-.94-2.06-.94 2.06-2.06.94zm-11 1L8.5 8.5l.94-2.06 2.06-.94-2.06-.94L8.5 2.5l-.94 2.06-2.06.94zm10 10l.94 2.06.94-2.06 2.06-.94-2.06-.94-.94-2.06-.94 2.06-2.06.94z\"/><path d=\"M17.41 7.96l-1.37-1.37c-.4-.4-.92-.59-1.43-.59-.52 0-1.04.2-1.43.59L10.3 9.45l-7.72 7.72c-.78.78-.78 2.05 0 2.83L4 21.41c.39.39.9.59 1.41.59.51 0 1.02-.2 1.41-.59l7.78-7.78 2.81-2.81c.8-.78.8-2.07 0-2.86zM5.41 20L4 18.59l7.72-7.72 1.47 1.35L5.41 20z\"/>\n",
              "  </svg>\n",
              "      </button>\n",
              "      \n",
              "  <style>\n",
              "    .colab-df-container {\n",
              "      display:flex;\n",
              "      flex-wrap:wrap;\n",
              "      gap: 12px;\n",
              "    }\n",
              "\n",
              "    .colab-df-convert {\n",
              "      background-color: #E8F0FE;\n",
              "      border: none;\n",
              "      border-radius: 50%;\n",
              "      cursor: pointer;\n",
              "      display: none;\n",
              "      fill: #1967D2;\n",
              "      height: 32px;\n",
              "      padding: 0 0 0 0;\n",
              "      width: 32px;\n",
              "    }\n",
              "\n",
              "    .colab-df-convert:hover {\n",
              "      background-color: #E2EBFA;\n",
              "      box-shadow: 0px 1px 2px rgba(60, 64, 67, 0.3), 0px 1px 3px 1px rgba(60, 64, 67, 0.15);\n",
              "      fill: #174EA6;\n",
              "    }\n",
              "\n",
              "    [theme=dark] .colab-df-convert {\n",
              "      background-color: #3B4455;\n",
              "      fill: #D2E3FC;\n",
              "    }\n",
              "\n",
              "    [theme=dark] .colab-df-convert:hover {\n",
              "      background-color: #434B5C;\n",
              "      box-shadow: 0px 1px 3px 1px rgba(0, 0, 0, 0.15);\n",
              "      filter: drop-shadow(0px 1px 2px rgba(0, 0, 0, 0.3));\n",
              "      fill: #FFFFFF;\n",
              "    }\n",
              "  </style>\n",
              "\n",
              "      <script>\n",
              "        const buttonEl =\n",
              "          document.querySelector('#df-0e454d5b-ff81-481a-8587-60b499da8ce5 button.colab-df-convert');\n",
              "        buttonEl.style.display =\n",
              "          google.colab.kernel.accessAllowed ? 'block' : 'none';\n",
              "\n",
              "        async function convertToInteractive(key) {\n",
              "          const element = document.querySelector('#df-0e454d5b-ff81-481a-8587-60b499da8ce5');\n",
              "          const dataTable =\n",
              "            await google.colab.kernel.invokeFunction('convertToInteractive',\n",
              "                                                     [key], {});\n",
              "          if (!dataTable) return;\n",
              "\n",
              "          const docLinkHtml = 'Like what you see? Visit the ' +\n",
              "            '<a target=\"_blank\" href=https://colab.research.google.com/notebooks/data_table.ipynb>data table notebook</a>'\n",
              "            + ' to learn more about interactive tables.';\n",
              "          element.innerHTML = '';\n",
              "          dataTable['output_type'] = 'display_data';\n",
              "          await google.colab.output.renderOutput(dataTable, element);\n",
              "          const docLink = document.createElement('div');\n",
              "          docLink.innerHTML = docLinkHtml;\n",
              "          element.appendChild(docLink);\n",
              "        }\n",
              "      </script>\n",
              "    </div>\n",
              "  </div>\n",
              "  "
            ]
          },
          "metadata": {}
        }
      ]
    },
    {
      "cell_type": "markdown",
      "source": [
        "독립변수(기온)가 카테고리형 변수라고 해도 모델의 적용값과 잔차를 사용해서 F비를 계산할 수 있음\n",
        "\n",
        "F비를 구하기 전에 자유도를 먼저 정의\n",
        "\n",
        "독립변수가 연속형 데이터인 경우에는 군간변동, 군내변동이라는 용어를 사용하지 않음\n",
        "\n",
        "- 군간변동의 자유도 대신 **모델의 자유도** (파라미터 수(절편, 기울기 즉 2개) - 1) = 1 라고 함\n",
        "- 군내변동의 자유도 대신 **잔차의 자유도** (샘플사이즈(30) - 파라미터수(2))라고 함"
      ],
      "metadata": {
        "id": "-cC8QwGXgH8T"
      }
    },
    {
      "cell_type": "code",
      "source": [
        "param_n = len(lm_model.params)\n",
        "param_n\n",
        "sample_n = len(beer)\n",
        "sample_n"
      ],
      "metadata": {
        "colab": {
          "base_uri": "https://localhost:8080/"
        },
        "id": "fE_uS1x-hPPp",
        "outputId": "2156d5cf-8f3e-4660-bd23-92309cb903ba"
      },
      "execution_count": 32,
      "outputs": [
        {
          "output_type": "execute_result",
          "data": {
            "text/plain": [
              "30"
            ]
          },
          "metadata": {},
          "execution_count": 32
        }
      ]
    },
    {
      "cell_type": "code",
      "source": [
        "df_lm_model = param_n - 1 # 모델의 자유도 (파라미터수 -1) > ((절편, 기울기) - 1)\n",
        "df_lm_resid = sample_n - param_n # 잔차의 자유도 (샘플사이즈 - 파라미터수) > (30 - 2)\n",
        "print('모델의 자유도:', df_lm_model)\n",
        "print('잔차의 자유도:', df_lm_resid)"
      ],
      "metadata": {
        "colab": {
          "base_uri": "https://localhost:8080/"
        },
        "id": "NNQ8kL10g4LQ",
        "outputId": "fd085f9c-12c6-44ce-f2ef-ad4f872a9577"
      },
      "execution_count": 33,
      "outputs": [
        {
          "output_type": "stream",
          "name": "stdout",
          "text": [
            "모델의 자유도: 1\n",
            "잔차의 자유도: 28\n"
          ]
        }
      ]
    },
    {
      "cell_type": "code",
      "source": [
        "# F비 계산\n",
        "\n",
        "# 모델들 적용한 값\n",
        "lm_effect = lm_model.fittedvalues\n",
        "print('모델 적용값:', lm_effect)\n",
        "\n",
        "lm_resid = lm_model.resid\n",
        "print('잔차:', resid)\n",
        "\n",
        "mu = np.mean(lm_effect)\n",
        "squares_lm_model = np.sum((lm_effect - mu)**2)\n",
        "variance_lm_model = squares_lm_model / df_lm_model\n",
        "print('\\n\\n적용값 평균:', mu)\n",
        "print('제곱값:', squares_lm_model)\n",
        "print('분산:', variance_lm_model)\n",
        "\n",
        "# 잔차의 크기\n",
        "squares_lm_resid = np.sum((lm_resid)**2)\n",
        "variance_lm_resid = squares_lm_resid / df_lm_resid\n",
        "print('\\n\\n잔차의제곱:', squares_lm_resid)\n",
        "print('잔자츼 분산:', variance_lm_resid)\n",
        "\n",
        "# F비\n",
        "f_value_lm = variance_lm_model / variance_lm_resid\n",
        "print('\\n\\nF ratio:', f_value_lm)"
      ],
      "metadata": {
        "colab": {
          "base_uri": "https://localhost:8080/"
        },
        "id": "5z68LMz-htsH",
        "outputId": "f2b05257-da48-408e-d91f-e1fd7d42a377"
      },
      "execution_count": 34,
      "outputs": [
        {
          "output_type": "stream",
          "name": "stdout",
          "text": [
            "모델 적용값: 0     50.301481\n",
            "1     53.745905\n",
            "2     42.264491\n",
            "3     55.200217\n",
            "4     46.703971\n",
            "5     37.825011\n",
            "6     44.943488\n",
            "7     54.511333\n",
            "8     52.444678\n",
            "9     41.116350\n",
            "10    54.664418\n",
            "11    49.229882\n",
            "12    53.210106\n",
            "13    52.444678\n",
            "14    41.039807\n",
            "15    52.597764\n",
            "16    45.249659\n",
            "17    61.782895\n",
            "18    55.429846\n",
            "19    50.301481\n",
            "20    42.417577\n",
            "21    50.301481\n",
            "22    51.143451\n",
            "23    40.657093\n",
            "24    66.911259\n",
            "25    52.903935\n",
            "26    62.854493\n",
            "27    41.422521\n",
            "28    62.471779\n",
            "29    39.508952\n",
            "dtype: float64\n",
            "잔차: 0   -1.0\n",
            "1    1.0\n",
            "2   -1.0\n",
            "3    1.0\n",
            "4   -1.0\n",
            "5    1.0\n",
            "dtype: float64\n",
            "\n",
            "\n",
            "적용값 평균: 50.186666666666696\n",
            "제곱값: 1651.53248900722\n",
            "분산: 1651.53248900722\n",
            "\n",
            "\n",
            "잔차의제곱: 1625.5821776594491\n",
            "잔자츼 분산: 58.05650634498033\n",
            "\n",
            "\n",
            "F ratio: 28.446983688504613\n"
          ]
        }
      ]
    },
    {
      "cell_type": "code",
      "source": [
        "# F비 구하기\n",
        " # import statsmodels.api as sm\n",
        "import statsmodels.api as sm\n",
        "f_rto = sm.stats.anova_lm(lm_model, typ=2)\n",
        "print('F ratio:', f_rto)\n",
        "\n",
        "print(lm_model.summary)"
      ],
      "metadata": {
        "colab": {
          "base_uri": "https://localhost:8080/"
        },
        "id": "-8yQUwTajAd8",
        "outputId": "b5848c05-fda3-41cf-d72c-f802ab0cb1d3"
      },
      "execution_count": 35,
      "outputs": [
        {
          "output_type": "stream",
          "name": "stdout",
          "text": [
            "F ratio:                   sum_sq    df          F    PR(>F)\n",
            "temperature  1651.532489   1.0  28.446984  0.000011\n",
            "Residual     1625.582178  28.0        NaN       NaN\n",
            "<bound method RegressionResults.summary of <statsmodels.regression.linear_model.OLSResults object at 0x7f9186de92e0>>\n"
          ]
        }
      ]
    },
    {
      "cell_type": "markdown",
      "source": [
        "## 5.3 독립변수가 여럿인 모"
      ],
      "metadata": {
        "id": "p0fDsb_7j9Fd"
      }
    },
    {
      "cell_type": "markdown",
      "source": [
        "매상 예측 모델에서는 **습도, 기온, 날씨(맑음 또는 비), 가격** 이라는 독립변수를 사용\n",
        "\n",
        "- 날씨 : 카테고리형 변수\n",
        "- 나머지 : 연속형 변수\n",
        "\n",
        "이 절에서는 **분산분석**에서 Type II ANOVA라 불리는 검정방법을 배우겠음\n",
        "\n",
        "복수의 독립변수가 있을 경우 분석 방법"
      ],
      "metadata": {
        "id": "vFSNH1nikAE4"
      }
    },
    {
      "cell_type": "code",
      "source": [
        "sales = pd.read_csv(FOLDER_PATH + '5-3-1-lm-model.csv')\n",
        "sales.head(3)"
      ],
      "metadata": {
        "colab": {
          "base_uri": "https://localhost:8080/",
          "height": 143
        },
        "id": "eHIrqs3Lkc5U",
        "outputId": "d605ff38-b7bb-4ab4-80f3-0980dc42349e"
      },
      "execution_count": 36,
      "outputs": [
        {
          "output_type": "execute_result",
          "data": {
            "text/plain": [
              "   humidity  price  sales  temperature weather\n",
              "0      29.5    290  229.7         17.8   rainy\n",
              "1      38.1    290  206.1         26.1   rainy\n",
              "2      31.5    290  202.5         22.0   rainy"
            ],
            "text/html": [
              "\n",
              "  <div id=\"df-4bf2bdcf-8c11-44ec-85e0-921d91918103\">\n",
              "    <div class=\"colab-df-container\">\n",
              "      <div>\n",
              "<style scoped>\n",
              "    .dataframe tbody tr th:only-of-type {\n",
              "        vertical-align: middle;\n",
              "    }\n",
              "\n",
              "    .dataframe tbody tr th {\n",
              "        vertical-align: top;\n",
              "    }\n",
              "\n",
              "    .dataframe thead th {\n",
              "        text-align: right;\n",
              "    }\n",
              "</style>\n",
              "<table border=\"1\" class=\"dataframe\">\n",
              "  <thead>\n",
              "    <tr style=\"text-align: right;\">\n",
              "      <th></th>\n",
              "      <th>humidity</th>\n",
              "      <th>price</th>\n",
              "      <th>sales</th>\n",
              "      <th>temperature</th>\n",
              "      <th>weather</th>\n",
              "    </tr>\n",
              "  </thead>\n",
              "  <tbody>\n",
              "    <tr>\n",
              "      <th>0</th>\n",
              "      <td>29.5</td>\n",
              "      <td>290</td>\n",
              "      <td>229.7</td>\n",
              "      <td>17.8</td>\n",
              "      <td>rainy</td>\n",
              "    </tr>\n",
              "    <tr>\n",
              "      <th>1</th>\n",
              "      <td>38.1</td>\n",
              "      <td>290</td>\n",
              "      <td>206.1</td>\n",
              "      <td>26.1</td>\n",
              "      <td>rainy</td>\n",
              "    </tr>\n",
              "    <tr>\n",
              "      <th>2</th>\n",
              "      <td>31.5</td>\n",
              "      <td>290</td>\n",
              "      <td>202.5</td>\n",
              "      <td>22.0</td>\n",
              "      <td>rainy</td>\n",
              "    </tr>\n",
              "  </tbody>\n",
              "</table>\n",
              "</div>\n",
              "      <button class=\"colab-df-convert\" onclick=\"convertToInteractive('df-4bf2bdcf-8c11-44ec-85e0-921d91918103')\"\n",
              "              title=\"Convert this dataframe to an interactive table.\"\n",
              "              style=\"display:none;\">\n",
              "        \n",
              "  <svg xmlns=\"http://www.w3.org/2000/svg\" height=\"24px\"viewBox=\"0 0 24 24\"\n",
              "       width=\"24px\">\n",
              "    <path d=\"M0 0h24v24H0V0z\" fill=\"none\"/>\n",
              "    <path d=\"M18.56 5.44l.94 2.06.94-2.06 2.06-.94-2.06-.94-.94-2.06-.94 2.06-2.06.94zm-11 1L8.5 8.5l.94-2.06 2.06-.94-2.06-.94L8.5 2.5l-.94 2.06-2.06.94zm10 10l.94 2.06.94-2.06 2.06-.94-2.06-.94-.94-2.06-.94 2.06-2.06.94z\"/><path d=\"M17.41 7.96l-1.37-1.37c-.4-.4-.92-.59-1.43-.59-.52 0-1.04.2-1.43.59L10.3 9.45l-7.72 7.72c-.78.78-.78 2.05 0 2.83L4 21.41c.39.39.9.59 1.41.59.51 0 1.02-.2 1.41-.59l7.78-7.78 2.81-2.81c.8-.78.8-2.07 0-2.86zM5.41 20L4 18.59l7.72-7.72 1.47 1.35L5.41 20z\"/>\n",
              "  </svg>\n",
              "      </button>\n",
              "      \n",
              "  <style>\n",
              "    .colab-df-container {\n",
              "      display:flex;\n",
              "      flex-wrap:wrap;\n",
              "      gap: 12px;\n",
              "    }\n",
              "\n",
              "    .colab-df-convert {\n",
              "      background-color: #E8F0FE;\n",
              "      border: none;\n",
              "      border-radius: 50%;\n",
              "      cursor: pointer;\n",
              "      display: none;\n",
              "      fill: #1967D2;\n",
              "      height: 32px;\n",
              "      padding: 0 0 0 0;\n",
              "      width: 32px;\n",
              "    }\n",
              "\n",
              "    .colab-df-convert:hover {\n",
              "      background-color: #E2EBFA;\n",
              "      box-shadow: 0px 1px 2px rgba(60, 64, 67, 0.3), 0px 1px 3px 1px rgba(60, 64, 67, 0.15);\n",
              "      fill: #174EA6;\n",
              "    }\n",
              "\n",
              "    [theme=dark] .colab-df-convert {\n",
              "      background-color: #3B4455;\n",
              "      fill: #D2E3FC;\n",
              "    }\n",
              "\n",
              "    [theme=dark] .colab-df-convert:hover {\n",
              "      background-color: #434B5C;\n",
              "      box-shadow: 0px 1px 3px 1px rgba(0, 0, 0, 0.15);\n",
              "      filter: drop-shadow(0px 1px 2px rgba(0, 0, 0, 0.3));\n",
              "      fill: #FFFFFF;\n",
              "    }\n",
              "  </style>\n",
              "\n",
              "      <script>\n",
              "        const buttonEl =\n",
              "          document.querySelector('#df-4bf2bdcf-8c11-44ec-85e0-921d91918103 button.colab-df-convert');\n",
              "        buttonEl.style.display =\n",
              "          google.colab.kernel.accessAllowed ? 'block' : 'none';\n",
              "\n",
              "        async function convertToInteractive(key) {\n",
              "          const element = document.querySelector('#df-4bf2bdcf-8c11-44ec-85e0-921d91918103');\n",
              "          const dataTable =\n",
              "            await google.colab.kernel.invokeFunction('convertToInteractive',\n",
              "                                                     [key], {});\n",
              "          if (!dataTable) return;\n",
              "\n",
              "          const docLinkHtml = 'Like what you see? Visit the ' +\n",
              "            '<a target=\"_blank\" href=https://colab.research.google.com/notebooks/data_table.ipynb>data table notebook</a>'\n",
              "            + ' to learn more about interactive tables.';\n",
              "          element.innerHTML = '';\n",
              "          dataTable['output_type'] = 'display_data';\n",
              "          await google.colab.output.renderOutput(dataTable, element);\n",
              "          const docLink = document.createElement('div');\n",
              "          docLink.innerHTML = docLinkHtml;\n",
              "          element.appendChild(docLink);\n",
              "        }\n",
              "      </script>\n",
              "    </div>\n",
              "  </div>\n",
              "  "
            ]
          },
          "metadata": {},
          "execution_count": 36
        }
      ]
    },
    {
      "cell_type": "code",
      "source": [
        "# sns.pairplot(data=sales, hue='weather', palette='gray')\n",
        "sns.pairplot(data=sales, hue='weather')"
      ],
      "metadata": {
        "colab": {
          "base_uri": "https://localhost:8080/",
          "height": 744
        },
        "id": "hhOF4CHhknyR",
        "outputId": "b413abbb-84f9-4e9f-d91a-114de9fd3b33"
      },
      "execution_count": 37,
      "outputs": [
        {
          "output_type": "execute_result",
          "data": {
            "text/plain": [
              "<seaborn.axisgrid.PairGrid at 0x7f91846535b0>"
            ]
          },
          "metadata": {},
          "execution_count": 37
        },
        {
          "output_type": "display_data",
          "data": {
            "text/plain": [
              "<Figure size 792.725x720 with 20 Axes>"
            ],
            "image/png": "[encoded data removed]"
          },
          "metadata": {
            "needs_background": "light"
          }
        }
      ]
    },
    {
      "cell_type": "markdown",
      "source": [
        "### 5.3.5 복수의 독립변수를 가지는 모델"
      ],
      "metadata": {
        "id": "iUboJWqjnAGP"
      }
    },
    {
      "cell_type": "markdown",
      "source": [
        "독립변수가 4개 다 들어간 모델을 추정하겠음\n",
        "\n",
        "독립변수를 + 기호를 연결하여 복수의 독립변수를 모델에 포함시킬 수 있음"
      ],
      "metadata": {
        "id": "Y5m7ZDZnuzzA"
      }
    },
    {
      "cell_type": "code",
      "source": [
        "# 복수의 독립변수를 가진 모델을 추정\n",
        "lm_sales = smf.ols('sales ~ weather + humidity + temperature + price',\n",
        "                   data=sales).fit()\n",
        "\n",
        "# 추정된 결과\n",
        "lm_sales.params"
      ],
      "metadata": {
        "id": "Sr1rmcifnDMn",
        "colab": {
          "base_uri": "https://localhost:8080/"
        },
        "outputId": "3d207b6a-d8fc-4b81-f2ba-35a40f49f0ef"
      },
      "execution_count": 38,
      "outputs": [
        {
          "output_type": "execute_result",
          "data": {
            "text/plain": [
              "Intercept           278.627722\n",
              "weather[T.sunny]     19.989119\n",
              "humidity             -0.254055\n",
              "temperature           1.603115\n",
              "price                -0.329207\n",
              "dtype: float64"
            ]
          },
          "metadata": {},
          "execution_count": 38
        }
      ]
    },
    {
      "cell_type": "markdown",
      "source": [
        "가격(price) 계수가 - (마이너스) 라는 점에 주목.\n",
        "\n",
        "가격이 오르면 매출이 떨어진다는 의미"
      ],
      "metadata": {
        "id": "CqiYTOWxvOwX"
      }
    },
    {
      "cell_type": "markdown",
      "source": [
        "### 5.3.6 나쁜 분석 예 : 일반적인 분산분석으로 검정하"
      ],
      "metadata": {
        "id": "BhdUXWkqvUyW"
      }
    },
    {
      "cell_type": "markdown",
      "source": [
        "`typ=1` 파라미터를 넘기면 일반적인 분산분석이 됨\n",
        "\n",
        "**Type 1 ANOVA** 라고도 부름"
      ],
      "metadata": {
        "id": "pguOA4dmvbc2"
      }
    },
    {
      "cell_type": "code",
      "source": [
        "print(sm.stats.anova_lm(lm_sales, typ=1).round(3))"
      ],
      "metadata": {
        "colab": {
          "base_uri": "https://localhost:8080/"
        },
        "id": "4B2S4WY-vk8O",
        "outputId": "c45c046b-42fb-4d3c-cf64-0ac082d9460e"
      },
      "execution_count": 39,
      "outputs": [
        {
          "output_type": "stream",
          "name": "stdout",
          "text": [
            "               df     sum_sq   mean_sq       F  PR(>F)\n",
            "weather       1.0   7050.961  7050.961  38.848   0.000\n",
            "humidity      1.0   1779.601  1779.601   9.805   0.002\n",
            "temperature   1.0   2076.845  2076.845  11.443   0.001\n",
            "price         1.0    818.402   818.402   4.509   0.036\n",
            "Residual     95.0  17242.717   181.502     NaN     NaN\n"
          ]
        }
      ]
    },
    {
      "cell_type": "markdown",
      "source": [
        "- 위 검정결과를 보면 모든 독립변수가 유의미한 것처럼 되어 있음\n",
        "- 하지만 이 결과는 틀렸음\n",
        "- Type 1 ANOVA는 독립변수를 넣는 순서를 바꾸면 검정결과가 바뀜\n",
        "\n",
        "정말 그런지 확인을 위해 독립변수 순서를 변경해서 테스트"
      ],
      "metadata": {
        "id": "pe6Vgn5hvrPC"
      }
    },
    {
      "cell_type": "code",
      "source": [
        "# 독립변수 순서를 바꿈\n",
        "lm_sales_2 = smf.ols('sales ~ weather + temperature + humidity + price',\n",
        "                     data=sales).fit()\n",
        "\n",
        "# 검정결과\n",
        "print(sm.stats.anova_lm(lm_sales_2, typ=1).round(3))"
      ],
      "metadata": {
        "colab": {
          "base_uri": "https://localhost:8080/"
        },
        "id": "w0OfEcBhv7Ay",
        "outputId": "65fe5908-b274-456f-f6ad-acab4ef43896"
      },
      "execution_count": 40,
      "outputs": [
        {
          "output_type": "stream",
          "name": "stdout",
          "text": [
            "               df     sum_sq   mean_sq       F  PR(>F)\n",
            "weather       1.0   7050.961  7050.961  38.848   0.000\n",
            "temperature   1.0   3814.779  3814.779  21.018   0.000\n",
            "humidity      1.0     41.667    41.667   0.230   0.633\n",
            "price         1.0    818.402   818.402   4.509   0.036\n",
            "Residual     95.0  17242.717   181.502     NaN     NaN\n"
          ]
        }
      ]
    },
    {
      "cell_type": "markdown",
      "source": [
        "- 기온(temperature)과 습도(humidity)를 바꿈\n",
        "- 2번째 모델에서 습도의 p 값이 0.6정도로 매상에 유의미한 영향을 끼치지 않는다는 결과가 되었음"
      ],
      "metadata": {
        "id": "fQYgdyABwWwu"
      }
    },
    {
      "cell_type": "markdown",
      "source": [
        "### 5.3.7 회귀계수의 t검"
      ],
      "metadata": {
        "id": "JNN4lEKEwmVB"
      }
    },
    {
      "cell_type": "markdown",
      "source": [
        "분산분석 대신 회귀계수의 **t검정**을 하면 앞서와 같은 문제는 발생하지 않음\n",
        "\n",
        "계수와 검정결과만 표시해 보겠음"
      ],
      "metadata": {
        "id": "_LT9OUuowrFw"
      }
    },
    {
      "cell_type": "code",
      "source": [
        " # 모델1 의 결과\n",
        "display(lm_sales.summary().tables[1])\n",
        "\n",
        "print('\\n\\n\\n독립변수 순서를 변경한 모델2의 결과과 t검정에서는 1과 동일하다')\n",
        "# 독립변수 순서를 변경한 모델2의 결과\n",
        "display(lm_sales_2.summary().tables[1])"
      ],
      "metadata": {
        "colab": {
          "base_uri": "https://localhost:8080/",
          "height": 342
        },
        "id": "T4omDS7Yw0TU",
        "outputId": "3960a5c0-05b3-4e81-b22b-f4fb4a70701e"
      },
      "execution_count": 44,
      "outputs": [
        {
          "output_type": "display_data",
          "data": {
            "text/plain": [
              "<class 'statsmodels.iolib.table.SimpleTable'>"
            ],
            "text/html": [
              "<table class=\"simpletable\">\n",
              "<tr>\n",
              "          <td></td>            <th>coef</th>     <th>std err</th>      <th>t</th>      <th>P>|t|</th>  <th>[0.025</th>    <th>0.975]</th>  \n",
              "</tr>\n",
              "<tr>\n",
              "  <th>Intercept</th>        <td>  278.6277</td> <td>   46.335</td> <td>    6.013</td> <td> 0.000</td> <td>  186.641</td> <td>  370.615</td>\n",
              "</tr>\n",
              "<tr>\n",
              "  <th>weather[T.sunny]</th> <td>   19.9891</td> <td>    3.522</td> <td>    5.675</td> <td> 0.000</td> <td>   12.997</td> <td>   26.982</td>\n",
              "</tr>\n",
              "<tr>\n",
              "  <th>humidity</th>         <td>   -0.2541</td> <td>    0.456</td> <td>   -0.558</td> <td> 0.578</td> <td>   -1.159</td> <td>    0.651</td>\n",
              "</tr>\n",
              "<tr>\n",
              "  <th>temperature</th>      <td>    1.6031</td> <td>    0.443</td> <td>    3.620</td> <td> 0.000</td> <td>    0.724</td> <td>    2.482</td>\n",
              "</tr>\n",
              "<tr>\n",
              "  <th>price</th>            <td>   -0.3292</td> <td>    0.155</td> <td>   -2.123</td> <td> 0.036</td> <td>   -0.637</td> <td>   -0.021</td>\n",
              "</tr>\n",
              "</table>"
            ]
          },
          "metadata": {}
        },
        {
          "output_type": "stream",
          "name": "stdout",
          "text": [
            "\n",
            "\n",
            "\n",
            "독립변수 순서를 변경한 모델2의 결과과 t검정에서는 1과 동일하다\n"
          ]
        },
        {
          "output_type": "display_data",
          "data": {
            "text/plain": [
              "<class 'statsmodels.iolib.table.SimpleTable'>"
            ],
            "text/html": [
              "<table class=\"simpletable\">\n",
              "<tr>\n",
              "          <td></td>            <th>coef</th>     <th>std err</th>      <th>t</th>      <th>P>|t|</th>  <th>[0.025</th>    <th>0.975]</th>  \n",
              "</tr>\n",
              "<tr>\n",
              "  <th>Intercept</th>        <td>  278.6277</td> <td>   46.335</td> <td>    6.013</td> <td> 0.000</td> <td>  186.641</td> <td>  370.615</td>\n",
              "</tr>\n",
              "<tr>\n",
              "  <th>weather[T.sunny]</th> <td>   19.9891</td> <td>    3.522</td> <td>    5.675</td> <td> 0.000</td> <td>   12.997</td> <td>   26.982</td>\n",
              "</tr>\n",
              "<tr>\n",
              "  <th>temperature</th>      <td>    1.6031</td> <td>    0.443</td> <td>    3.620</td> <td> 0.000</td> <td>    0.724</td> <td>    2.482</td>\n",
              "</tr>\n",
              "<tr>\n",
              "  <th>humidity</th>         <td>   -0.2541</td> <td>    0.456</td> <td>   -0.558</td> <td> 0.578</td> <td>   -1.159</td> <td>    0.651</td>\n",
              "</tr>\n",
              "<tr>\n",
              "  <th>price</th>            <td>   -0.3292</td> <td>    0.155</td> <td>   -2.123</td> <td> 0.036</td> <td>   -0.637</td> <td>   -0.021</td>\n",
              "</tr>\n",
              "</table>"
            ]
          },
          "metadata": {}
        }
      ]
    },
    {
      "cell_type": "markdown",
      "source": [
        "### 5.3.8 Type 2 ANOVA"
      ],
      "metadata": {
        "id": "qNMh-jDKxeaO"
      }
    },
    {
      "cell_type": "markdown",
      "source": [
        "독립변수를 넣는 순서를 바꾸어도 검정 결과가 변하지 않는 분산분석을 Type 2 ANOVA라고 함."
      ],
      "metadata": {
        "id": "IRUCh6xZxhhK"
      }
    },
    {
      "cell_type": "markdown",
      "source": [
        "### 5.3.10 Type 2 ANOVA 와 수정제곱"
      ],
      "metadata": {
        "id": "Tq4Ny1pPyW78"
      }
    },
    {
      "cell_type": "markdown",
      "source": [
        "Type 1 ANOVA는 아래와 같이 **잔차제곱합**을 비교함\n",
        "- 모델0 : 매상 ~&nbsp;&nbsp;&nbsp;&nbsp;&nbsp;&nbsp;&nbsp;&nbsp;&nbsp;&nbsp;&nbsp;&nbsp;&nbsp;&nbsp;&nbsp;&nbsp;&nbsp;&nbsp;&nbsp;&nbsp;&nbsp;&nbsp;&nbsp;&nbsp;&nbsp;&nbsp;&nbsp;&nbsp;&nbsp;&nbsp;&nbsp;&nbsp;&nbsp;&nbsp;&nbsp;&nbsp;&nbsp;&nbsp;&nbsp;&nbsp;+ 잔차제곱합\n",
        "- 모델1 : 매상 ~ 날씨&nbsp;&nbsp;&nbsp;&nbsp;&nbsp;&nbsp;&nbsp;&nbsp;&nbsp;&nbsp;&nbsp;&nbsp;&nbsp;&nbsp;&nbsp;&nbsp;&nbsp;&nbsp;&nbsp;&nbsp;&nbsp;&nbsp;&nbsp;&nbsp;&nbsp;&nbsp;&nbsp;&nbsp;&nbsp;&nbsp;+ 잔차제곱합\n",
        "- 모델3 : 매상 ~ 날씨 + 습도 &nbsp;&nbsp;&nbsp;&nbsp;&nbsp;&nbsp;&nbsp;&nbsp;&nbsp;&nbsp;&nbsp;&nbsp;&nbsp;&nbsp;&nbsp;&nbsp;&nbsp;&nbsp;&nbsp;&nbsp;+ 잔차제곱합\n",
        "- 모델4 : 매상 ~ 날씨 + 습도 + 기온 &nbsp;&nbsp;&nbsp;&nbsp;&nbsp;&nbsp;&nbsp;&nbsp;&nbsp;&nbsp;+잔차제곱합\n",
        "- 모델5 : 매상 ~ 날씨 + 습도 + 기온 + 가격 + 잔차제곱합\n",
        "\n",
        "\n",
        "\n",
        "Type 2 ANOVA는 아래와 같인 **잔차제곱합**을 비교함\n",
        "- 모델0 : 매상 + 날씨 + 습도 + 기온 + 가격 + 잔차제곱합\n",
        "- 모델1 : 매상 ~&nbsp;&nbsp;&nbsp;&nbsp;&nbsp;&nbsp;&nbsp;&nbsp;&nbsp;&nbsp;습도 + 기온 + 가격 + 잔차제곱합\n",
        "- 모델2 : 매상 ~ 날씨&nbsp;&nbsp;&nbsp;&nbsp;&nbsp;&nbsp;&nbsp;&nbsp;&nbsp;&nbsp;+ 기온 + 가격 + 잔차제곱합\n",
        "- 모델3 : 매상 ~ 날씨 + 습도&nbsp;&nbsp;&nbsp;&nbsp;&nbsp;&nbsp;&nbsp;&nbsp;&nbsp;&nbsp;+ 가격 + 잔차제곱합\n",
        "- 모델4 : 매상 ~ 날씨 + 습도 + 기온&nbsp;&nbsp;&nbsp;&nbsp;&nbsp;&nbsp;&nbsp;&nbsp;&nbsp;&nbsp;+잔차제곱합\n",
        "\n",
        "Type 2 ANOVA는 독립변수가 줄어들면서 증가하는 잔차제곱합의 크기에 기반해서 독립변수가 갖는 효과의 크기를 정량화하고 있다고 생각하면 알기 쉽습니다. 이 방법으로 계산된 군간 편차제곱합을 **수정제곱합**이라고 부릅니다."
      ],
      "metadata": {
        "id": "hEVMZAG_yZ7a"
      }
    },
    {
      "cell_type": "markdown",
      "source": [
        "### 5.3.11 Type 2 ANOVA (실습)"
      ],
      "metadata": {
        "id": "69QJ2zdG0TY4"
      }
    },
    {
      "cell_type": "markdown",
      "source": [
        "수정제곱합을 계산해 보겠음"
      ],
      "metadata": {
        "id": "3ZbBGCVC0Wtp"
      }
    },
    {
      "cell_type": "code",
      "source": [
        "# 모든 변수가 포함된 모델의 잔차제곱합\n",
        "mod_full = smf.ols('sales ~ weather + humidity + temperature + price',\n",
        "                   data=sales).fit()\n",
        "\n",
        "resid_sq_full = np.sum(mod_full.resid ** 2)\n",
        "print('잔차제곱합:', resid_sq_full)"
      ],
      "metadata": {
        "colab": {
          "base_uri": "https://localhost:8080/"
        },
        "id": "SQioxzw-0aKL",
        "outputId": "37a41250-986f-4903-9eb1-4f14291989d7"
      },
      "execution_count": 45,
      "outputs": [
        {
          "output_type": "stream",
          "name": "stdout",
          "text": [
            "잔차제곱합: 17242.71694236648\n"
          ]
        }
      ]
    },
    {
      "cell_type": "code",
      "source": [
        "# 습도만 제거한 모델의 잔차제곱합\n",
        "mod_non_humi = smf.ols('sales ~ weather + temperature + price',\n",
        "                   data=sales).fit()\n",
        "\n",
        "resid_sq_non_humi = np.sum(mod_non_humi.resid ** 2)\n",
        "print('잔차제곱합 (습도만 제거):', resid_sq_non_humi)"
      ],
      "metadata": {
        "colab": {
          "base_uri": "https://localhost:8080/"
        },
        "id": "5QEewl1U0zNw",
        "outputId": "32a61c54-7fee-4723-a7fb-f9489d145f79"
      },
      "execution_count": 46,
      "outputs": [
        {
          "output_type": "stream",
          "name": "stdout",
          "text": [
            "잔차제곱합 (습도만 제거): 17299.142016107664\n"
          ]
        }
      ]
    },
    {
      "cell_type": "code",
      "source": [
        "# 잔차제곱합 차이\n",
        "resid_sq_non_humi - resid_sq_full"
      ],
      "metadata": {
        "colab": {
          "base_uri": "https://localhost:8080/"
        },
        "id": "jYRdPKNn1DCs",
        "outputId": "1e703aa0-d4cc-4f57-d74c-174313c4e1b7"
      },
      "execution_count": 47,
      "outputs": [
        {
          "output_type": "execute_result",
          "data": {
            "text/plain": [
              "56.42507374118213"
            ]
          },
          "metadata": {},
          "execution_count": 47
        }
      ]
    },
    {
      "cell_type": "markdown",
      "source": [
        "`sum_sq`열의 `humidity`를 보면 위에서 계산한 결과와 같다는 것을 알 수 있음"
      ],
      "metadata": {
        "id": "OL3L43U-1OVC"
      }
    },
    {
      "cell_type": "code",
      "source": [
        "print(sm.stats.anova_lm(mod_full, typ=2).round(3))"
      ],
      "metadata": {
        "colab": {
          "base_uri": "https://localhost:8080/"
        },
        "id": "kAx4weUq1U3r",
        "outputId": "5245babc-0fc9-4bbe-9c56-d6351f3e5262"
      },
      "execution_count": 48,
      "outputs": [
        {
          "output_type": "stream",
          "name": "stdout",
          "text": [
            "                sum_sq    df       F  PR(>F)\n",
            "weather       5845.878   1.0  32.208   0.000\n",
            "humidity        56.425   1.0   0.311   0.578\n",
            "temperature   2378.017   1.0  13.102   0.000\n",
            "price          818.402   1.0   4.509   0.036\n",
            "Residual     17242.717  95.0     NaN     NaN\n"
          ]
        }
      ]
    },
    {
      "cell_type": "markdown",
      "source": [
        "습도의 `sum_sq` 값이 위에서 계산한 결과(56.425)와 같고 `p value` 가 0.578이라서 유의미한 영향을 끼치고 있다고 볼수 없다는 결과를 얻음"
      ],
      "metadata": {
        "id": "bH0AxsKf1fGj"
      }
    },
    {
      "cell_type": "markdown",
      "source": [
        "### 5.3.14 AIC를 이용한 변수 선"
      ],
      "metadata": {
        "id": "dfZajk2Y2IE_"
      }
    },
    {
      "cell_type": "markdown",
      "source": [
        "AIC를 비교해 보겠음"
      ],
      "metadata": {
        "id": "KIKrjns22Kwl"
      }
    },
    {
      "cell_type": "code",
      "source": [
        "print('모든 변수를 포함한 모델 AIC:', mod_full.aic.round(3))\n",
        "print('습도를 제외한 모델 AIC:', mod_non_humi.aic.round(3))"
      ],
      "metadata": {
        "colab": {
          "base_uri": "https://localhost:8080/"
        },
        "id": "qGy_e0_R2OBH",
        "outputId": "c1a0315b-8e1b-4b82-b53d-5d626c3e8a7f"
      },
      "execution_count": 49,
      "outputs": [
        {
          "output_type": "stream",
          "name": "stdout",
          "text": [
            "모든 변수를 포함한 모델 AIC: 808.785\n",
            "습도를 제외한 모델 AIC: 807.112\n"
          ]
        }
      ]
    },
    {
      "cell_type": "markdown",
      "source": [
        "습도를 제외한 AIC가 더 작기에, 습도를 제외하는 것이 맞음"
      ],
      "metadata": {
        "id": "zmzxIJYa2YFn"
      }
    }
  ]
}