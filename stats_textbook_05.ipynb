{
  "nbformat": 4,
  "nbformat_minor": 0,
  "metadata": {
    "colab": {
      "provenance": [],
      "authorship_tag": "ABX9TyMCtRJ6aiS4MmPcKA8AXTir",
      "include_colab_link": true
    },
    "kernelspec": {
      "name": "python3",
      "display_name": "Python 3"
    },
    "language_info": {
      "name": "python"
    }
  },
  "cells": [
    {
      "cell_type": "markdown",
      "metadata": {
        "id": "view-in-github",
        "colab_type": "text"
      },
      "source": [
        "<a href=\"https://colab.research.google.com/github/johyunkang/adp_certificate/blob/main/stats_textbook_05.ipynb\" target=\"_parent\"><img src=\"https://colab.research.google.com/assets/colab-badge.svg\" alt=\"Open In Colab\"/></a>"
      ]
    },
    {
      "cell_type": "markdown",
      "source": [
        "# chapter5. 정규선형모델\n"
      ],
      "metadata": {
        "id": "kiSU70Y5ZDmW"
      }
    },
    {
      "cell_type": "markdown",
      "source": [
        "## 5.1 연속형 독립변수가 하나인 모델(단순회귀)"
      ],
      "metadata": {
        "id": "eAC4dmZQZQqg"
      }
    },
    {
      "cell_type": "markdown",
      "source": [
        "### 5.1.1 분석준비"
      ],
      "metadata": {
        "id": "fhQiTPuGZS-I"
      }
    },
    {
      "cell_type": "code",
      "source": [
        "import numpy as np\n",
        "import pandas as pd\n",
        "import scipy as sp\n",
        "from scipy import stats\n",
        "\n",
        "from matplotlib import pyplot as plt\n",
        "import seaborn as sns\n",
        "sns.set()\n",
        "\n",
        "# 선형모델을 추정하는 라이브러리(경고가 나올 수 있음)\n",
        "import statsmodels.formula.api as smf\n",
        "import statsmodels.api as sm\n",
        "\n",
        "%precision 3\n",
        "%matplotlib inline"
      ],
      "metadata": {
        "id": "uqOoR-wGZUsc"
      },
      "execution_count": 1,
      "outputs": []
    },
    {
      "cell_type": "code",
      "source": [
        "from google.colab import drive\n",
        "drive.mount('/content/drive')"
      ],
      "metadata": {
        "colab": {
          "base_uri": "https://localhost:8080/"
        },
        "id": "kM_hUkgQfAP6",
        "outputId": "5525f425-c006-478c-ce49-3b545eb7343d"
      },
      "execution_count": 2,
      "outputs": [
        {
          "output_type": "stream",
          "name": "stdout",
          "text": [
            "Mounted at /content/drive\n"
          ]
        }
      ]
    },
    {
      "cell_type": "code",
      "execution_count": 3,
      "metadata": {
        "colab": {
          "base_uri": "https://localhost:8080/",
          "height": 206
        },
        "id": "TON6ex5IZAv3",
        "outputId": "4f661b4a-c6e7-46b0-8a17-853d16fe21db"
      },
      "outputs": [
        {
          "output_type": "execute_result",
          "data": {
            "text/plain": [
              "   beer  temperature\n",
              "0  45.3         20.5\n",
              "1  59.3         25.0\n",
              "2  40.4         10.0\n",
              "3  38.0         26.9\n",
              "4  37.0         15.8"
            ],
            "text/html": [
              "\n",
              "  <div id=\"df-519adb02-353e-4603-851f-39c582dd373e\">\n",
              "    <div class=\"colab-df-container\">\n",
              "      <div>\n",
              "<style scoped>\n",
              "    .dataframe tbody tr th:only-of-type {\n",
              "        vertical-align: middle;\n",
              "    }\n",
              "\n",
              "    .dataframe tbody tr th {\n",
              "        vertical-align: top;\n",
              "    }\n",
              "\n",
              "    .dataframe thead th {\n",
              "        text-align: right;\n",
              "    }\n",
              "</style>\n",
              "<table border=\"1\" class=\"dataframe\">\n",
              "  <thead>\n",
              "    <tr style=\"text-align: right;\">\n",
              "      <th></th>\n",
              "      <th>beer</th>\n",
              "      <th>temperature</th>\n",
              "    </tr>\n",
              "  </thead>\n",
              "  <tbody>\n",
              "    <tr>\n",
              "      <th>0</th>\n",
              "      <td>45.3</td>\n",
              "      <td>20.5</td>\n",
              "    </tr>\n",
              "    <tr>\n",
              "      <th>1</th>\n",
              "      <td>59.3</td>\n",
              "      <td>25.0</td>\n",
              "    </tr>\n",
              "    <tr>\n",
              "      <th>2</th>\n",
              "      <td>40.4</td>\n",
              "      <td>10.0</td>\n",
              "    </tr>\n",
              "    <tr>\n",
              "      <th>3</th>\n",
              "      <td>38.0</td>\n",
              "      <td>26.9</td>\n",
              "    </tr>\n",
              "    <tr>\n",
              "      <th>4</th>\n",
              "      <td>37.0</td>\n",
              "      <td>15.8</td>\n",
              "    </tr>\n",
              "  </tbody>\n",
              "</table>\n",
              "</div>\n",
              "      <button class=\"colab-df-convert\" onclick=\"convertToInteractive('df-519adb02-353e-4603-851f-39c582dd373e')\"\n",
              "              title=\"Convert this dataframe to an interactive table.\"\n",
              "              style=\"display:none;\">\n",
              "        \n",
              "  <svg xmlns=\"http://www.w3.org/2000/svg\" height=\"24px\"viewBox=\"0 0 24 24\"\n",
              "       width=\"24px\">\n",
              "    <path d=\"M0 0h24v24H0V0z\" fill=\"none\"/>\n",
              "    <path d=\"M18.56 5.44l.94 2.06.94-2.06 2.06-.94-2.06-.94-.94-2.06-.94 2.06-2.06.94zm-11 1L8.5 8.5l.94-2.06 2.06-.94-2.06-.94L8.5 2.5l-.94 2.06-2.06.94zm10 10l.94 2.06.94-2.06 2.06-.94-2.06-.94-.94-2.06-.94 2.06-2.06.94z\"/><path d=\"M17.41 7.96l-1.37-1.37c-.4-.4-.92-.59-1.43-.59-.52 0-1.04.2-1.43.59L10.3 9.45l-7.72 7.72c-.78.78-.78 2.05 0 2.83L4 21.41c.39.39.9.59 1.41.59.51 0 1.02-.2 1.41-.59l7.78-7.78 2.81-2.81c.8-.78.8-2.07 0-2.86zM5.41 20L4 18.59l7.72-7.72 1.47 1.35L5.41 20z\"/>\n",
              "  </svg>\n",
              "      </button>\n",
              "      \n",
              "  <style>\n",
              "    .colab-df-container {\n",
              "      display:flex;\n",
              "      flex-wrap:wrap;\n",
              "      gap: 12px;\n",
              "    }\n",
              "\n",
              "    .colab-df-convert {\n",
              "      background-color: #E8F0FE;\n",
              "      border: none;\n",
              "      border-radius: 50%;\n",
              "      cursor: pointer;\n",
              "      display: none;\n",
              "      fill: #1967D2;\n",
              "      height: 32px;\n",
              "      padding: 0 0 0 0;\n",
              "      width: 32px;\n",
              "    }\n",
              "\n",
              "    .colab-df-convert:hover {\n",
              "      background-color: #E2EBFA;\n",
              "      box-shadow: 0px 1px 2px rgba(60, 64, 67, 0.3), 0px 1px 3px 1px rgba(60, 64, 67, 0.15);\n",
              "      fill: #174EA6;\n",
              "    }\n",
              "\n",
              "    [theme=dark] .colab-df-convert {\n",
              "      background-color: #3B4455;\n",
              "      fill: #D2E3FC;\n",
              "    }\n",
              "\n",
              "    [theme=dark] .colab-df-convert:hover {\n",
              "      background-color: #434B5C;\n",
              "      box-shadow: 0px 1px 3px 1px rgba(0, 0, 0, 0.15);\n",
              "      filter: drop-shadow(0px 1px 2px rgba(0, 0, 0, 0.3));\n",
              "      fill: #FFFFFF;\n",
              "    }\n",
              "  </style>\n",
              "\n",
              "      <script>\n",
              "        const buttonEl =\n",
              "          document.querySelector('#df-519adb02-353e-4603-851f-39c582dd373e button.colab-df-convert');\n",
              "        buttonEl.style.display =\n",
              "          google.colab.kernel.accessAllowed ? 'block' : 'none';\n",
              "\n",
              "        async function convertToInteractive(key) {\n",
              "          const element = document.querySelector('#df-519adb02-353e-4603-851f-39c582dd373e');\n",
              "          const dataTable =\n",
              "            await google.colab.kernel.invokeFunction('convertToInteractive',\n",
              "                                                     [key], {});\n",
              "          if (!dataTable) return;\n",
              "\n",
              "          const docLinkHtml = 'Like what you see? Visit the ' +\n",
              "            '<a target=\"_blank\" href=https://colab.research.google.com/notebooks/data_table.ipynb>data table notebook</a>'\n",
              "            + ' to learn more about interactive tables.';\n",
              "          element.innerHTML = '';\n",
              "          dataTable['output_type'] = 'display_data';\n",
              "          await google.colab.output.renderOutput(dataTable, element);\n",
              "          const docLink = document.createElement('div');\n",
              "          docLink.innerHTML = docLinkHtml;\n",
              "          element.appendChild(docLink);\n",
              "        }\n",
              "      </script>\n",
              "    </div>\n",
              "  </div>\n",
              "  "
            ]
          },
          "metadata": {},
          "execution_count": 3
        }
      ],
      "source": [
        "# bear data 생성\n",
        "# beer = [45.3, 59.3, 40.4, 38.0, 37.0]\n",
        "# temp = [20.5, 25.0, 10.0, 26.9, 15.8]\n",
        "\n",
        "# beer = pd.DataFrame({'beer':beer, 'temp':temp})\n",
        "beer = pd.read_csv('/content/drive/MyDrive/Colab Notebooks/adp/파이썬으로배우는통계학교과서/data/5-1-1-beer.csv')\n",
        "beer.head()"
      ]
    },
    {
      "cell_type": "code",
      "source": [
        "sns.jointplot(x='temperature', y='beer', data=beer)"
      ],
      "metadata": {
        "colab": {
          "base_uri": "https://localhost:8080/",
          "height": 459
        },
        "id": "qDuLf38_a6SO",
        "outputId": "843a2ff1-34fb-4ddf-b458-b8b9476ea520"
      },
      "execution_count": 4,
      "outputs": [
        {
          "output_type": "execute_result",
          "data": {
            "text/plain": [
              "<seaborn.axisgrid.JointGrid at 0x7f75200fc910>"
            ]
          },
          "metadata": {},
          "execution_count": 4
        },
        {
          "output_type": "display_data",
          "data": {
            "text/plain": [
              "<Figure size 432x432 with 3 Axes>"
            ],
            "image/png": "[encoded data removed]"
          },
          "metadata": {
            "needs_background": "light"
          }
        }
      ]
    },
    {
      "cell_type": "markdown",
      "source": [
        "아래와 같은 맥주 매상 모델을 구축할 것임\n",
        "\n",
        "$맥주매상 \\sim N(\\beta_0 + \\beta_1 \\times 기온, \\sigma^2)$\n",
        "\n",
        "**종속변수**에 맥주매상을, **독립변수**에 기온을 사용한 **정규선형모델**"
      ],
      "metadata": {
        "id": "-fOsW0_mfhR4"
      }
    },
    {
      "cell_type": "markdown",
      "source": [
        "### 5.1.4 statsmodels를 이용한 모델링"
      ],
      "metadata": {
        "id": "zRUUXSEegZ7d"
      }
    },
    {
      "cell_type": "code",
      "source": [
        "lm_model = smf.ols(formula = 'beer ~ temperature', data=beer).fit()"
      ],
      "metadata": {
        "id": "KccVP2uRdxqw"
      },
      "execution_count": 5,
      "outputs": []
    },
    {
      "cell_type": "markdown",
      "source": [
        "`sms.ols` 함수를 사용했음. ols 는 Ordinary Least Squares (범용최소제곱법)의 약자\n",
        "\n",
        "모집단 분포가 정규분포임을 가정했을 때 `최대우도법`의 결과는 `최소제곱법`의 결과와 일치함\n",
        "\n",
        "모델의 구조를 지정하는 것이 `formual`. \"beer ~ temperature\"로 지정함으로써 종속변수는 beer, 독립변수가 temperature인 모델을 지정"
      ],
      "metadata": {
        "id": "1xIH8e9ygkuc"
      }
    },
    {
      "cell_type": "markdown",
      "source": [
        "### 5.1.5 추정 결과 표시와 계수 검정"
      ],
      "metadata": {
        "id": "eJLL4SZWhCzy"
      }
    },
    {
      "cell_type": "code",
      "source": [
        "lm_model.summary()"
      ],
      "metadata": {
        "colab": {
          "base_uri": "https://localhost:8080/",
          "height": 441
        },
        "id": "Bqr6pGVvhIhP",
        "outputId": "228fd169-8b32-49bd-afad-c4408717e00c"
      },
      "execution_count": 6,
      "outputs": [
        {
          "output_type": "execute_result",
          "data": {
            "text/plain": [
              "<class 'statsmodels.iolib.summary.Summary'>\n",
              "\"\"\"\n",
              "                            OLS Regression Results                            \n",
              "==============================================================================\n",
              "Dep. Variable:                   beer   R-squared:                       0.504\n",
              "Model:                            OLS   Adj. R-squared:                  0.486\n",
              "Method:                 Least Squares   F-statistic:                     28.45\n",
              "Date:                Thu, 05 Jan 2023   Prob (F-statistic):           1.11e-05\n",
              "Time:                        14:53:50   Log-Likelihood:                -102.45\n",
              "No. Observations:                  30   AIC:                             208.9\n",
              "Df Residuals:                      28   BIC:                             211.7\n",
              "Df Model:                           1                                         \n",
              "Covariance Type:            nonrobust                                         \n",
              "===============================================================================\n",
              "                  coef    std err          t      P>|t|      [0.025      0.975]\n",
              "-------------------------------------------------------------------------------\n",
              "Intercept      34.6102      3.235     10.699      0.000      27.984      41.237\n",
              "temperature     0.7654      0.144      5.334      0.000       0.471       1.059\n",
              "==============================================================================\n",
              "Omnibus:                        0.587   Durbin-Watson:                   1.960\n",
              "Prob(Omnibus):                  0.746   Jarque-Bera (JB):                0.290\n",
              "Skew:                          -0.240   Prob(JB):                        0.865\n",
              "Kurtosis:                       2.951   Cond. No.                         52.5\n",
              "==============================================================================\n",
              "\n",
              "Notes:\n",
              "[1] Standard Errors assume that the covariance matrix of the errors is correctly specified.\n",
              "\"\"\""
            ],
            "text/html": [
              "<table class=\"simpletable\">\n",
              "<caption>OLS Regression Results</caption>\n",
              "<tr>\n",
              "  <th>Dep. Variable:</th>          <td>beer</td>       <th>  R-squared:         </th> <td>   0.504</td>\n",
              "</tr>\n",
              "<tr>\n",
              "  <th>Model:</th>                   <td>OLS</td>       <th>  Adj. R-squared:    </th> <td>   0.486</td>\n",
              "</tr>\n",
              "<tr>\n",
              "  <th>Method:</th>             <td>Least Squares</td>  <th>  F-statistic:       </th> <td>   28.45</td>\n",
              "</tr>\n",
              "<tr>\n",
              "  <th>Date:</th>             <td>Thu, 05 Jan 2023</td> <th>  Prob (F-statistic):</th> <td>1.11e-05</td>\n",
              "</tr>\n",
              "<tr>\n",
              "  <th>Time:</th>                 <td>14:53:50</td>     <th>  Log-Likelihood:    </th> <td> -102.45</td>\n",
              "</tr>\n",
              "<tr>\n",
              "  <th>No. Observations:</th>      <td>    30</td>      <th>  AIC:               </th> <td>   208.9</td>\n",
              "</tr>\n",
              "<tr>\n",
              "  <th>Df Residuals:</th>          <td>    28</td>      <th>  BIC:               </th> <td>   211.7</td>\n",
              "</tr>\n",
              "<tr>\n",
              "  <th>Df Model:</th>              <td>     1</td>      <th>                     </th>     <td> </td>   \n",
              "</tr>\n",
              "<tr>\n",
              "  <th>Covariance Type:</th>      <td>nonrobust</td>    <th>                     </th>     <td> </td>   \n",
              "</tr>\n",
              "</table>\n",
              "<table class=\"simpletable\">\n",
              "<tr>\n",
              "       <td></td>          <th>coef</th>     <th>std err</th>      <th>t</th>      <th>P>|t|</th>  <th>[0.025</th>    <th>0.975]</th>  \n",
              "</tr>\n",
              "<tr>\n",
              "  <th>Intercept</th>   <td>   34.6102</td> <td>    3.235</td> <td>   10.699</td> <td> 0.000</td> <td>   27.984</td> <td>   41.237</td>\n",
              "</tr>\n",
              "<tr>\n",
              "  <th>temperature</th> <td>    0.7654</td> <td>    0.144</td> <td>    5.334</td> <td> 0.000</td> <td>    0.471</td> <td>    1.059</td>\n",
              "</tr>\n",
              "</table>\n",
              "<table class=\"simpletable\">\n",
              "<tr>\n",
              "  <th>Omnibus:</th>       <td> 0.587</td> <th>  Durbin-Watson:     </th> <td>   1.960</td>\n",
              "</tr>\n",
              "<tr>\n",
              "  <th>Prob(Omnibus):</th> <td> 0.746</td> <th>  Jarque-Bera (JB):  </th> <td>   0.290</td>\n",
              "</tr>\n",
              "<tr>\n",
              "  <th>Skew:</th>          <td>-0.240</td> <th>  Prob(JB):          </th> <td>   0.865</td>\n",
              "</tr>\n",
              "<tr>\n",
              "  <th>Kurtosis:</th>      <td> 2.951</td> <th>  Cond. No.          </th> <td>    52.5</td>\n",
              "</tr>\n",
              "</table><br/><br/>Notes:<br/>[1] Standard Errors assume that the covariance matrix of the errors is correctly specified."
            ]
          },
          "metadata": {},
          "execution_count": 6
        }
      ]
    },
    {
      "cell_type": "markdown",
      "source": [
        "위 결과에서 두번째 표에 들어있는 **Intercept와 temperature**만 살펴 보겠습니다.\n",
        "\n",
        "- coef : 계숫값\n",
        "- std err : 표준오차\n",
        "- t : t값\n",
        "- P>|t| : 귀무가설을 `계수의 값이 0` 이라고 했을 때의 p값, 95% 신뢰구간에서 하측신뢰한계와 상측신뢰한계. p값은 매우 작은 탓에 반올림하여 0이 되었음\n",
        "\n",
        "기온(temperature)에 대한 계수(0.7654)는 유의미하게 0과 다르다고 판단할 수 있음. 양수이므로 기온이 오르면 맥주 매상도 오른다고 판단할 수 있음"
      ],
      "metadata": {
        "id": "N_-5oVwciR0r"
      }
    },
    {
      "cell_type": "markdown",
      "source": [
        "### 5.1.6 summary 함수의 출력 내용 설명"
      ],
      "metadata": {
        "id": "ibAtWg_cjVWv"
      }
    },
    {
      "cell_type": "markdown",
      "source": [
        "- Deep.Variable : 종속변수의 이름. Deep은 Depended의 약자로, 종속변수라는 의미\n",
        "- Model, Method : 범용최소제곱법을 사용했다는 설명\n",
        "- Date, Time : 모델을 추정한 일시\n",
        "- No.Observations : 샘플사이즈\n",
        "- Df Residuals : 샘플사이즈에서 추정된 파라미터 수를 뺀 것\n",
        "- Df model : 사용된 독립변수의 수\n",
        "- Covariance Type : 공분산 타입. 특별히 지정하지 않으면 nonrobust가 됨\n",
        "- R-squared, Adj. R-squared : 결정계수와 자유도 조정이 끝난 결정계수 (결정계수는 5.1.12절에서 설명)\n",
        "- F-statistic, Prob (F-statistic) : 분산분석결과. 분산분석은 5.2절에서 설명\n",
        "- Log-Likelihood : 최대로그우도\n",
        "- AIC : 아케이케 정보 기준\n",
        "- BIC : 베이즈 정보기준, 정보기준의 일종이지만 이 책에서는 사용하지 않음"
      ],
      "metadata": {
        "id": "D8ILTIInjcm0"
      }
    },
    {
      "cell_type": "markdown",
      "source": [
        "### 5.1.7 AIC를 이용한 모델 선택\n",
        "\n",
        "독립변수가 1개 뿐이기에 Null 모델의 AIC와 기온이라는 독립변수가 들어간 모델의 AIC를 비교"
      ],
      "metadata": {
        "id": "3r5gHShgklqG"
      }
    },
    {
      "cell_type": "markdown",
      "source": [
        "Null 모델 구축"
      ],
      "metadata": {
        "id": "_xF4Q3Bskw0l"
      }
    },
    {
      "cell_type": "code",
      "source": [
        "null_model = smf.ols('beer ~ 1', data=beer).fit()\n",
        "null_model.aic"
      ],
      "metadata": {
        "colab": {
          "base_uri": "https://localhost:8080/"
        },
        "id": "tAoBXn5AkzC4",
        "outputId": "72e9ca55-3e01-4752-9044-6e3884db882c"
      },
      "execution_count": 7,
      "outputs": [
        {
          "output_type": "execute_result",
          "data": {
            "text/plain": [
              "227.94194972563105"
            ]
          },
          "metadata": {},
          "execution_count": 7
        }
      ]
    },
    {
      "cell_type": "markdown",
      "source": [
        "독립변수가 있는 모델의 AIC"
      ],
      "metadata": {
        "id": "VhPLyDbAk7RW"
      }
    },
    {
      "cell_type": "code",
      "source": [
        "lm_model.aic"
      ],
      "metadata": {
        "colab": {
          "base_uri": "https://localhost:8080/"
        },
        "id": "JrmI1O0sk9PG",
        "outputId": "73f6fe51-e523-4fdd-ef86-9e058da34ada"
      },
      "execution_count": 8,
      "outputs": [
        {
          "output_type": "execute_result",
          "data": {
            "text/plain": [
              "208.90902935575437"
            ]
          },
          "metadata": {},
          "execution_count": 8
        }
      ]
    },
    {
      "cell_type": "markdown",
      "source": [
        "AIC 계산 방법 복습\n",
        "\n",
        "AIC = -2 X (최대로그우도 - 추정된 파라미터 수)"
      ],
      "metadata": {
        "id": "jAYWi51_lDKB"
      }
    },
    {
      "cell_type": "code",
      "source": [
        "# 추정된 모델의 로그우도\n",
        "print('추정된 모델의 로그우도:', lm_model.llf)\n",
        "\n",
        "# 사용된 독립변수의 수\n",
        "print('사용된 독립변수의 수 :', lm_model.df_model)\n",
        "\n",
        "# 실제로는 절편(B0)도 추정되었기 때문에 1을 더하면 추정된 파라미터 수를 구할 수 있음\n",
        "aic = -2 * (lm_model.llf - (lm_model.df_model + 1))\n",
        "print('aic:', aic)"
      ],
      "metadata": {
        "colab": {
          "base_uri": "https://localhost:8080/"
        },
        "id": "pEqIRMrolLof",
        "outputId": "ed09bceb-cb6e-4bdd-dfd3-8d415fc11c14"
      },
      "execution_count": 9,
      "outputs": [
        {
          "output_type": "stream",
          "name": "stdout",
          "text": [
            "추정된 모델의 로그우도: -102.45451467787719\n",
            "사용된 독립변수의 수 : 1.0\n",
            "aic: 208.90902935575437\n"
          ]
        }
      ]
    },
    {
      "cell_type": "markdown",
      "source": [
        "**중요**\n",
        "\n",
        "추정된 파라미터 수에는 몇가지 유형이 있음. 이번에는 **장애모수**를 파라미터 수에 포함시키지 않았지만 이를 포함한 AIC를 구하는 경우도 있음\n",
        "\n",
        "R언어 등 다른 소프트웨어는 장애모수가 포함되어 있기도 함.\n",
        "\n",
        "AIC는 그 값이 크고 작음에 의미가 있는 지표.\n",
        "\n",
        "다시 말해 AIC의 절댓값은 의미가 없음. 같은 유형으로 계산된 AIC는 대소관계가 변하지 않기 때문에 모델 선택에 있어 악영향은 없음\n",
        "\n",
        "다만 **다른 소프트웨어나 라이브러리에서 계산된 AIC와의 비교는 피해야 함**\n",
        "\n",
        "예를 들면 파이썬으로 구한 AIC와 R로 구한 AIC의 비교는 의미 없음."
      ],
      "metadata": {
        "id": "YoqmXAntl4YT"
      }
    },
    {
      "cell_type": "markdown",
      "source": [
        "### 5.1.9 seaborn을 이용한 회귀직선 그래프 그리기"
      ],
      "metadata": {
        "id": "5E-9PrATmksu"
      }
    },
    {
      "cell_type": "code",
      "source": [
        "sns.lmplot(x='temperature', y='beer', data=beer , scatter_kws={'color':'green'}, line_kws={'color':'black'})\n",
        "# 음영 부분은 회귀직선의 95% 신뢰구간을 나타냄"
      ],
      "metadata": {
        "colab": {
          "base_uri": "https://localhost:8080/",
          "height": 387
        },
        "id": "8fGqpknDmoGI",
        "outputId": "5c1d9b98-7198-4da5-c480-002339d44f81"
      },
      "execution_count": 10,
      "outputs": [
        {
          "output_type": "execute_result",
          "data": {
            "text/plain": [
              "<seaborn.axisgrid.FacetGrid at 0x7f751df4eb50>"
            ]
          },
          "metadata": {},
          "execution_count": 10
        },
        {
          "output_type": "display_data",
          "data": {
            "text/plain": [
              "<Figure size 360x360 with 1 Axes>"
            ],
            "image/png": "[encoded data removed]"
          },
          "metadata": {
            "needs_background": "light"
          }
        }
      ]
    },
    {
      "cell_type": "markdown",
      "source": [
        "### 5.1.10 모델을 이용한 예측"
      ],
      "metadata": {
        "id": "a65vY2VenkrX"
      }
    },
    {
      "cell_type": "code",
      "source": [
        "# predict() 함수에 파라미터를 아무것도 넘기지 않으면 훈련 데이터를 사용한 값이 그대로 출력됨\n",
        "print(lm_model.predict())\n",
        "\n",
        "# 기온을 0도 일때의 맥주 매상의 기댓값 계산\n",
        "print('\\n\\n기온 0도 일때 맥주매상 기댓값:', lm_model.predict(pd.DataFrame({'temperature':[0]})))\n",
        "\n",
        "# 0도 일땐 절편(B0)만 있는 것과 같기에 B0 값만 나옴\n",
        "print('\\n\\nB0 값(절편):', lm_model.params)\n",
        "\n",
        "# 기온이 20도일 때의 맥주 매상 기댓값\n",
        "print('\\n\\n기온 20도일 때의 맥주매상 기댓값 :', lm_model.predict(pd.DataFrame({'temperature':[20]})))\n",
        "\n",
        "# 위의 20도 일 때 기대값은 B0 + B1*20 의 계산결과와 같다.\n",
        "beta0 = lm_model.params[0]\n",
        "beta1 = lm_model.params[1]\n",
        "temperature = 20\n",
        "\n",
        "print('\\n\\n계산결과:', beta0 + beta1 * temperature)"
      ],
      "metadata": {
        "colab": {
          "base_uri": "https://localhost:8080/"
        },
        "id": "Ttp-rIaJnnLQ",
        "outputId": "98d7cb10-eeda-40d8-a68b-a12b5d8b28a3"
      },
      "execution_count": 11,
      "outputs": [
        {
          "output_type": "stream",
          "name": "stdout",
          "text": [
            "[50.301 53.746 42.264 55.2   46.704 37.825 44.943 54.511 52.445 41.116\n",
            " 54.664 49.23  53.21  52.445 41.04  52.598 45.25  61.783 55.43  50.301\n",
            " 42.418 50.301 51.143 40.657 66.911 52.904 62.854 41.423 62.472 39.509]\n",
            "\n",
            "\n",
            "기온 0도 일때 맥주매상 기댓값: 0    34.610215\n",
            "dtype: float64\n",
            "\n",
            "\n",
            "B0 값(절편): Intercept      34.610215\n",
            "temperature     0.765428\n",
            "dtype: float64\n",
            "\n",
            "\n",
            "기온 20도일 때의 맥주매상 기댓값 : 0    49.918767\n",
            "dtype: float64\n",
            "\n",
            "\n",
            "계산결과: 49.91876701095054\n"
          ]
        }
      ]
    },
    {
      "cell_type": "markdown",
      "source": [
        "### 5.1.1 잔차 계산\n",
        "모델의 평가는 주로 잔차를 체크해서 합니다.\n",
        "\n",
        "정규선형모델의 경우에는 잔차가 '평균이 0인 정규분포'를 따르는 것이므로 모델이 그 분포를 따르고 있는지 체크하게 됩니다.\n",
        "\n",
        "잔차는 다음과 같이 계산해서 얻을 수 있습니다."
      ],
      "metadata": {
        "id": "uE5cLp69W5wP"
      }
    },
    {
      "cell_type": "code",
      "source": [
        "resid = lm_model.resid\n",
        "print('잔차:', resid.head())"
      ],
      "metadata": {
        "colab": {
          "base_uri": "https://localhost:8080/"
        },
        "id": "IySs54HTXIWl",
        "outputId": "f3359e40-00e6-4ae9-dae9-12b9e16bc4f7"
      },
      "execution_count": 12,
      "outputs": [
        {
          "output_type": "stream",
          "name": "stdout",
          "text": [
            "잔차: 0    -5.001481\n",
            "1     5.554095\n",
            "2    -1.864491\n",
            "3   -17.200217\n",
            "4    -9.703971\n",
            "dtype: float64\n"
          ]
        }
      ]
    },
    {
      "cell_type": "markdown",
      "source": [
        "잔차 계산식은 아래와 같음\n",
        "\n",
        "$residuals = y - \\hat{y} \\qquad 여기서 \\hat{y} = \\beta_0 + \\beta_1 \\times 기온$\n",
        "\n",
        "잔차는 실제값 - 예측값"
      ],
      "metadata": {
        "id": "gFBMV4FMXTMi"
      }
    },
    {
      "cell_type": "code",
      "source": [
        "y_hat = beta0 + beta1 * beer.temperature\n",
        "print('\\n\\n예측값:', y_hat.head())\n",
        "\n",
        "# 잔차\n",
        "print('\\n\\n잔차:', (beer.beer - y_hat).head())"
      ],
      "metadata": {
        "colab": {
          "base_uri": "https://localhost:8080/"
        },
        "id": "c9aTyTkcXtBZ",
        "outputId": "71a77dad-132b-4c31-d9a2-bfdf545569ea"
      },
      "execution_count": 13,
      "outputs": [
        {
          "output_type": "stream",
          "name": "stdout",
          "text": [
            "\n",
            "\n",
            "예측값: 0    50.301481\n",
            "1    53.745905\n",
            "2    42.264491\n",
            "3    55.200217\n",
            "4    46.703971\n",
            "Name: temperature, dtype: float64\n",
            "\n",
            "\n",
            "잔차: 0    -5.001481\n",
            "1     5.554095\n",
            "2    -1.864491\n",
            "3   -17.200217\n",
            "4    -9.703971\n",
            "dtype: float64\n"
          ]
        }
      ]
    },
    {
      "cell_type": "markdown",
      "source": [
        "### 5.1.12 결정계수(R2)\n",
        "\n",
        "결정계수는 가지고 있는 데이터에 대해 모델을 적용했을 때의 적합도를 평가한 지표\n",
        "\n",
        "$R^2 = \\dfrac {\\sum_{i=1}^N (\\hat{y} - \\mu)^2} {\\sum_{i=1}^N (y - \\mu)^2}$"
      ],
      "metadata": {
        "id": "-pzhV1lsYwST"
      }
    },
    {
      "cell_type": "code",
      "source": [
        "mu = np.mean(beer.beer)\n",
        "y = beer.beer\n",
        "yhat = lm_model.predict()\n",
        "\n",
        "r2 = np.sum((yhat - mu)**2) / np.sum((y-mu)**2)\n",
        "print('R2:', r2)\n",
        "\n",
        "print('모델 R2:', lm_model.rsquared)"
      ],
      "metadata": {
        "colab": {
          "base_uri": "https://localhost:8080/"
        },
        "id": "BubFRvY8ZNcB",
        "outputId": "dbb22fca-c9d5-4619-8846-24c722a8eae3"
      },
      "execution_count": 14,
      "outputs": [
        {
          "output_type": "stream",
          "name": "stdout",
          "text": [
            "R2: 0.503959323061187\n",
            "모델 R2: 0.5039593230611858\n"
          ]
        }
      ]
    },
    {
      "cell_type": "markdown",
      "source": [
        "잔차는 residual = y - y_hat 으로 계산할 수 있음.\n",
        "\n",
        "그러면 식을 변형해서 y = y_hat + residual 라고 할 수 있음.\n",
        "\n",
        "그리고 결정계수(R2)의 분모는 아래와 같이 분해 가능\n",
        "\n",
        "\n",
        "$\\sum_{i=1}^N (y-\\mu)^2 = \\sum_{i=1}^N (\\hat{y}-\\mu)^2 + \\sum_{i=1}^N residuals^2$\n",
        "\n",
        "종속변수값의 변동크기 sum(y - mu)**2 을 모델로 설명 가능한 변동과 모델로 설명하지 못하는 잔차제곱합으로 분해할 수 있다는 겁니다.\n",
        "\n",
        "이 때문에 결정계수는 전체 변동폭의 크기에 대한 모델로 설명 가능한 변동폭의 비율이라고 해석할 수 있습니다."
      ],
      "metadata": {
        "id": "rxtB0noMaM_C"
      }
    },
    {
      "cell_type": "code",
      "source": [
        "# 모델로 설명 가능한 변동과 모델로 설명하지 못하는 잔차제곱합의 합계를 구하겠음\n",
        "print('모델로 설명 가능한 변동과 설명하지 못하는 잔차제곱합의 합계:', np.sum((yhat - mu)**2) + np.sum(resid**2))\n",
        "\n",
        "# 위 계산 결과는 데이터 전체 변동의 합과 같음\n",
        "print('데이터 전체 변동의 합:', np.sum((y - mu)**2))"
      ],
      "metadata": {
        "colab": {
          "base_uri": "https://localhost:8080/"
        },
        "id": "twu7igJtbEZ4",
        "outputId": "de746182-f197-4612-fb78-b3d99926e4b9"
      },
      "execution_count": 15,
      "outputs": [
        {
          "output_type": "stream",
          "name": "stdout",
          "text": [
            "모델로 설명 가능한 변동과 설명하지 못하는 잔차제곱합의 합계: 3277.114666666669\n",
            "데이터 전체 변동의 합: 3277.1146666666655\n"
          ]
        }
      ]
    },
    {
      "cell_type": "markdown",
      "source": [
        "위 코드와 같은 계산 결과가 있어서 결정계수는 아래와 같이도 계산할 수 있음\n",
        "\n",
        "$R^2 = 1 - \\dfrac {\\sum_{i=1}^N residuals^2} {\\sum_{i=1}^N (y-\\mu)^2}$"
      ],
      "metadata": {
        "id": "KRup8xaZbj3V"
      }
    },
    {
      "cell_type": "markdown",
      "source": [
        "### 5.1.13 수정 결정계수\n",
        "\n",
        "독립변수의 수가 늘어나는 것에 대해 패널티를 적용한 결정계수를 **수정된 결정계수**라고 부릅니다.\n",
        "\n",
        "독립변수가 늘어나면 결정계수는 큰 값이 됨. 결정계수가 높아지는 **과학습**을 일으키기 때문에 조정이 필요함\n",
        "\n",
        "$R^2 = 1 - \\dfrac {\\sum_{i=1}^N residuals^2 / (N -s -1)} {\\sum_{i=1}^N (y-\\mu)^2 \\ / (N-1)} \\quad s: 독립변수의 수$   "
      ],
      "metadata": {
        "id": "xKg0_0I6b9n2"
      }
    },
    {
      "cell_type": "code",
      "source": [
        "# 파이썬으로 수정결정계수 구하기\n",
        "n = len(beer.beer)\n",
        "s = 1\n",
        "adj_r2 = 1 - ( (np.sum(resid**2)    / (n-s-1) ) / \n",
        "               (np.sum((y - mu)**2) / (n-1)   ) )\n",
        "print('adj_R2:', adj_r2)\n",
        "print('\\n\\nmodel adj_r2:', lm_model.rsquared_adj)"
      ],
      "metadata": {
        "colab": {
          "base_uri": "https://localhost:8080/"
        },
        "id": "t9nSzPnXckVp",
        "outputId": "6af25418-b5ef-46c8-8a4c-3f272f0ca819"
      },
      "execution_count": 16,
      "outputs": [
        {
          "output_type": "stream",
          "name": "stdout",
          "text": [
            "adj_R2: 0.48624358459908534\n",
            "\n",
            "\n",
            "model adj_r2: 0.48624358459908534\n"
          ]
        }
      ]
    },
    {
      "cell_type": "markdown",
      "source": [
        "### 5.1.14 잔차 그래프"
      ],
      "metadata": {
        "id": "q7Qmpl-kdNsc"
      }
    },
    {
      "cell_type": "markdown",
      "source": [
        "잔차의 특징을 보는 가장 간단한 방법은 잔차의 히스토그램을 그리는 것"
      ],
      "metadata": {
        "id": "-goydgZQdaCF"
      }
    },
    {
      "cell_type": "code",
      "source": [
        "sns.distplot(resid)"
      ],
      "metadata": {
        "colab": {
          "base_uri": "https://localhost:8080/",
          "height": 344
        },
        "id": "a9XYaafxdQVt",
        "outputId": "e3150d6c-4d97-4cb1-8f47-766907c46a86"
      },
      "execution_count": 17,
      "outputs": [
        {
          "output_type": "stream",
          "name": "stderr",
          "text": [
            "/usr/local/lib/python3.8/dist-packages/seaborn/distributions.py:2619: FutureWarning: `distplot` is a deprecated function and will be removed in a future version. Please adapt your code to use either `displot` (a figure-level function with similar flexibility) or `histplot` (an axes-level function for histograms).\n",
            "  warnings.warn(msg, FutureWarning)\n"
          ]
        },
        {
          "output_type": "execute_result",
          "data": {
            "text/plain": [
              "<matplotlib.axes._subplots.AxesSubplot at 0x7f751da3a9d0>"
            ]
          },
          "metadata": {},
          "execution_count": 17
        },
        {
          "output_type": "display_data",
          "data": {
            "text/plain": [
              "<Figure size 432x288 with 1 Axes>"
            ],
            "image/png": "[encoded data removed]"
          },
          "metadata": {
            "needs_background": "light"
          }
        }
      ]
    },
    {
      "cell_type": "code",
      "source": [
        "# x축이 적합도, y축이 잔차인 산포도\n",
        "sns.jointplot(x=lm_model.fittedvalues, y=resid, \n",
        "              joint_kws={'color':'green'}, \n",
        "              marginal_kws={'color':'blue'})"
      ],
      "metadata": {
        "colab": {
          "base_uri": "https://localhost:8080/",
          "height": 459
        },
        "id": "FOBpmu-8dhi-",
        "outputId": "32857267-4a2f-4351-cb57-c6c0eb091143"
      },
      "execution_count": 18,
      "outputs": [
        {
          "output_type": "execute_result",
          "data": {
            "text/plain": [
              "<seaborn.axisgrid.JointGrid at 0x7f7520009e20>"
            ]
          },
          "metadata": {},
          "execution_count": 18
        },
        {
          "output_type": "display_data",
          "data": {
            "text/plain": [
              "<Figure size 432x432 with 3 Axes>"
            ],
            "image/png": "[encoded data removed]"
          },
          "metadata": {
            "needs_background": "light"
          }
        }
      ]
    },
    {
      "cell_type": "markdown",
      "source": [
        "### 5.1.15 Q-Q 플롯 (QQ플롯)\n",
        "\n",
        "이론상의 분위점과 실제 데이터의 분위점을 산포도 그래프로 그린 것을 **Q-Q플롯** 이라고 함\n",
        "\n",
        "Q는 Quantile의 약자.\n",
        "\n",
        "Q-Q플롯은 `sm.qqplot` 함수를 사용해 그릴 수 있음.\n",
        "\n",
        "`line=\"s\"` 라고 파라미터를 넘기면 잔차가 정규분포를 따르는 이 선상에 위치한다는 기준을 표시하게 됨"
      ],
      "metadata": {
        "id": "i6AuXIXueJY-"
      }
    },
    {
      "cell_type": "code",
      "source": [
        "fig = sm.qqplot(resid, line=\"s\")"
      ],
      "metadata": {
        "colab": {
          "base_uri": "https://localhost:8080/",
          "height": 285
        },
        "id": "kNJmUSW7eqPS",
        "outputId": "7775dbdd-2cd9-4f4d-acd7-1a09a77f3585"
      },
      "execution_count": 19,
      "outputs": [
        {
          "output_type": "display_data",
          "data": {
            "text/plain": [
              "<Figure size 432x288 with 1 Axes>"
            ],
            "image/png": "[encoded data removed]"
          },
          "metadata": {
            "needs_background": "light"
          }
        }
      ]
    },
    {
      "cell_type": "code",
      "source": [
        "resid_sort = resid.sort_values()\n",
        "print('오름차순 정렬된 잔차:', resid_sort.head())"
      ],
      "metadata": {
        "colab": {
          "base_uri": "https://localhost:8080/"
        },
        "id": "N93hbYcIe0Qz",
        "outputId": "3f4c9498-f847-49fe-db44-eb54c90baccf"
      },
      "execution_count": 20,
      "outputs": [
        {
          "output_type": "stream",
          "name": "stdout",
          "text": [
            "오름차순 정렬된 잔차: 3    -17.200217\n",
            "21   -14.501481\n",
            "12    -9.710106\n",
            "4     -9.703971\n",
            "10    -7.664418\n",
            "dtype: float64\n"
          ]
        }
      ]
    },
    {
      "cell_type": "markdown",
      "source": [
        "샘플 사이즈가 30이다. 가장 작은 데이터는 하위 몇%에 속할까? 1 / 31 로 계산하면 됨.\n",
        "\n",
        "1부터 시작한다는 점에 주의"
      ],
      "metadata": {
        "id": "tiYwmGpqfJCn"
      }
    },
    {
      "cell_type": "code",
      "source": [
        "1/31"
      ],
      "metadata": {
        "colab": {
          "base_uri": "https://localhost:8080/"
        },
        "id": "-foM-4kIfiQV",
        "outputId": "7d7d048e-3214-4a35-b54b-5d0fe6db7085"
      },
      "execution_count": 21,
      "outputs": [
        {
          "output_type": "execute_result",
          "data": {
            "text/plain": [
              "0.032"
            ]
          },
          "metadata": {},
          "execution_count": 21
        }
      ]
    },
    {
      "cell_type": "code",
      "source": [
        "# 30개의 샘플에 위 계산을 함. 이론상의 누적확률이 됨.\n",
        "nobs = len(resid_sort)\n",
        "cdf = np.arange(1, nobs+1) / (nobs + 1)\n",
        "print('cdf:', cdf)\n",
        "\n",
        "\n",
        "# 이론상의 분위점은 정규분포의 퍼센트포인트를 사용하면 계산할 수 있음\n",
        "ppf = stats.norm.ppf(cdf)\n",
        "print('\\n\\nppf:', ppf)\n",
        "\n",
        "# 가로축에 이론상의 분위점(ppf), 세로축에 정렬된 데이터(resid_sort)를 지정해서 산포도를 그릴 수 있음\n",
        "sns.jointplot(x=ppf, y=resid_sort, \n",
        "              joint_kws={'color':'green'}, \n",
        "              marginal_kws={'color':'blue'})"
      ],
      "metadata": {
        "colab": {
          "base_uri": "https://localhost:8080/",
          "height": 604
        },
        "id": "hBdAsrTBfTZ8",
        "outputId": "5937c2e0-9970-42af-e634-7493bc006ee3"
      },
      "execution_count": 22,
      "outputs": [
        {
          "output_type": "stream",
          "name": "stdout",
          "text": [
            "cdf: [0.032 0.065 0.097 0.129 0.161 0.194 0.226 0.258 0.29  0.323 0.355 0.387\n",
            " 0.419 0.452 0.484 0.516 0.548 0.581 0.613 0.645 0.677 0.71  0.742 0.774\n",
            " 0.806 0.839 0.871 0.903 0.935 0.968]\n",
            "\n",
            "\n",
            "ppf: [-1.849 -1.518 -1.3   -1.131 -0.989 -0.865 -0.753 -0.649 -0.552 -0.46\n",
            " -0.372 -0.287 -0.204 -0.122 -0.04   0.04   0.122  0.204  0.287  0.372\n",
            "  0.46   0.552  0.649  0.753  0.865  0.989  1.131  1.3    1.518  1.849]\n"
          ]
        },
        {
          "output_type": "execute_result",
          "data": {
            "text/plain": [
              "<seaborn.axisgrid.JointGrid at 0x7f751d7e2dc0>"
            ]
          },
          "metadata": {},
          "execution_count": 22
        },
        {
          "output_type": "display_data",
          "data": {
            "text/plain": [
              "<Figure size 432x432 with 3 Axes>"
            ],
            "image/png": "[encoded data removed]"
          },
          "metadata": {
            "needs_background": "light"
          }
        }
      ]
    },
    {
      "cell_type": "markdown",
      "source": [
        "### 5.1.16 summary 함수의 출력으로 보는 잔차 체크\n",
        "\n",
        "잔차 체크 결과는 summary 함수의 추정 결과에 출력 됨.\n",
        "\n",
        "summary 결과의 세번째 표에 주목"
      ],
      "metadata": {
        "id": "lwgDz4VXhCN3"
      }
    },
    {
      "cell_type": "code",
      "source": [
        "lm_model.summary()"
      ],
      "metadata": {
        "colab": {
          "base_uri": "https://localhost:8080/",
          "height": 441
        },
        "id": "O-etWDcAhMlE",
        "outputId": "5db82b5d-2d3e-4f1b-b032-bc224b1a4335"
      },
      "execution_count": 23,
      "outputs": [
        {
          "output_type": "execute_result",
          "data": {
            "text/plain": [
              "<class 'statsmodels.iolib.summary.Summary'>\n",
              "\"\"\"\n",
              "                            OLS Regression Results                            \n",
              "==============================================================================\n",
              "Dep. Variable:                   beer   R-squared:                       0.504\n",
              "Model:                            OLS   Adj. R-squared:                  0.486\n",
              "Method:                 Least Squares   F-statistic:                     28.45\n",
              "Date:                Thu, 05 Jan 2023   Prob (F-statistic):           1.11e-05\n",
              "Time:                        14:53:53   Log-Likelihood:                -102.45\n",
              "No. Observations:                  30   AIC:                             208.9\n",
              "Df Residuals:                      28   BIC:                             211.7\n",
              "Df Model:                           1                                         \n",
              "Covariance Type:            nonrobust                                         \n",
              "===============================================================================\n",
              "                  coef    std err          t      P>|t|      [0.025      0.975]\n",
              "-------------------------------------------------------------------------------\n",
              "Intercept      34.6102      3.235     10.699      0.000      27.984      41.237\n",
              "temperature     0.7654      0.144      5.334      0.000       0.471       1.059\n",
              "==============================================================================\n",
              "Omnibus:                        0.587   Durbin-Watson:                   1.960\n",
              "Prob(Omnibus):                  0.746   Jarque-Bera (JB):                0.290\n",
              "Skew:                          -0.240   Prob(JB):                        0.865\n",
              "Kurtosis:                       2.951   Cond. No.                         52.5\n",
              "==============================================================================\n",
              "\n",
              "Notes:\n",
              "[1] Standard Errors assume that the covariance matrix of the errors is correctly specified.\n",
              "\"\"\""
            ],
            "text/html": [
              "<table class=\"simpletable\">\n",
              "<caption>OLS Regression Results</caption>\n",
              "<tr>\n",
              "  <th>Dep. Variable:</th>          <td>beer</td>       <th>  R-squared:         </th> <td>   0.504</td>\n",
              "</tr>\n",
              "<tr>\n",
              "  <th>Model:</th>                   <td>OLS</td>       <th>  Adj. R-squared:    </th> <td>   0.486</td>\n",
              "</tr>\n",
              "<tr>\n",
              "  <th>Method:</th>             <td>Least Squares</td>  <th>  F-statistic:       </th> <td>   28.45</td>\n",
              "</tr>\n",
              "<tr>\n",
              "  <th>Date:</th>             <td>Thu, 05 Jan 2023</td> <th>  Prob (F-statistic):</th> <td>1.11e-05</td>\n",
              "</tr>\n",
              "<tr>\n",
              "  <th>Time:</th>                 <td>14:53:53</td>     <th>  Log-Likelihood:    </th> <td> -102.45</td>\n",
              "</tr>\n",
              "<tr>\n",
              "  <th>No. Observations:</th>      <td>    30</td>      <th>  AIC:               </th> <td>   208.9</td>\n",
              "</tr>\n",
              "<tr>\n",
              "  <th>Df Residuals:</th>          <td>    28</td>      <th>  BIC:               </th> <td>   211.7</td>\n",
              "</tr>\n",
              "<tr>\n",
              "  <th>Df Model:</th>              <td>     1</td>      <th>                     </th>     <td> </td>   \n",
              "</tr>\n",
              "<tr>\n",
              "  <th>Covariance Type:</th>      <td>nonrobust</td>    <th>                     </th>     <td> </td>   \n",
              "</tr>\n",
              "</table>\n",
              "<table class=\"simpletable\">\n",
              "<tr>\n",
              "       <td></td>          <th>coef</th>     <th>std err</th>      <th>t</th>      <th>P>|t|</th>  <th>[0.025</th>    <th>0.975]</th>  \n",
              "</tr>\n",
              "<tr>\n",
              "  <th>Intercept</th>   <td>   34.6102</td> <td>    3.235</td> <td>   10.699</td> <td> 0.000</td> <td>   27.984</td> <td>   41.237</td>\n",
              "</tr>\n",
              "<tr>\n",
              "  <th>temperature</th> <td>    0.7654</td> <td>    0.144</td> <td>    5.334</td> <td> 0.000</td> <td>    0.471</td> <td>    1.059</td>\n",
              "</tr>\n",
              "</table>\n",
              "<table class=\"simpletable\">\n",
              "<tr>\n",
              "  <th>Omnibus:</th>       <td> 0.587</td> <th>  Durbin-Watson:     </th> <td>   1.960</td>\n",
              "</tr>\n",
              "<tr>\n",
              "  <th>Prob(Omnibus):</th> <td> 0.746</td> <th>  Jarque-Bera (JB):  </th> <td>   0.290</td>\n",
              "</tr>\n",
              "<tr>\n",
              "  <th>Skew:</th>          <td>-0.240</td> <th>  Prob(JB):          </th> <td>   0.865</td>\n",
              "</tr>\n",
              "<tr>\n",
              "  <th>Kurtosis:</th>      <td> 2.951</td> <th>  Cond. No.          </th> <td>    52.5</td>\n",
              "</tr>\n",
              "</table><br/><br/>Notes:<br/>[1] Standard Errors assume that the covariance matrix of the errors is correctly specified."
            ]
          },
          "metadata": {},
          "execution_count": 23
        }
      ]
    },
    {
      "cell_type": "markdown",
      "source": [
        "- Prob(Omnibus), Prob(JB) : 잔차의 정규성 검정에 대한 결과\n",
        "    - 귀무가설 : 잔차가 정규분포를 따른다.\n",
        "    - 대립가설 : 잔차가 정규분포와 다르다.\n",
        "\n",
        "정규분포와 다른지 여부를 판단할 때 Skew(왜도)나 Kurtosis (첨도)라는 지표를 사용\n",
        "- 왜도 : 히스토그램의 좌우 비대칭 방향과 정도를 측정\n",
        "    - 왜도가 0보다 크면 : 오른쪽 자락이 길어짐\n",
        "\n",
        "$Skew = E(\\dfrac {(x - \\mu)^3} {\\sigma^3})$\n",
        " - E() : 기댓값을 받는 함수\n",
        " - x:확률변수 (이 경우는 잔차)\n",
        "\n",
        " 첨도는 히스토그램 중심부의 뾰족함을 측정하는 지표. 값이 클수록 가운데 부분이 뾰족해짐. 정규분포의 첨도는 3\n",
        "\n",
        " $Kurtosis = E( \\dfrac {(x - \\mu)^4} {\\sigma^4})$\n",
        "\n",
        " - Durbin-Watson : 잔차의 자기상관을 체크하는 지표. 2 전후라면 문제 없다고 판단할 수 있다."
      ],
      "metadata": {
        "id": "oWz-LYN5hQRw"
      }
    },
    {
      "cell_type": "markdown",
      "source": [
        "### 5.2.4 분산분석의 직감적 사고방식 : F비"
      ],
      "metadata": {
        "id": "O5QdVg-gwj7l"
      }
    },
    {
      "cell_type": "markdown",
      "source": [
        "분산분석의 귀무가설과 대립가설은 아래와 같습니다.\n",
        "- 귀무가설 : 수준간의 평균값에 차이가 없다.\n",
        "- 대립가설 : 수준간의 평균값에 차이가 있다.\n",
        "\n",
        "수진이란 날씨, 물고기의 종류 등과 같은 카테고리형 변수를 가르킴\n",
        "\n",
        "$F비 = \\dfrac {효과의 분산 크기} {오차의 분산 크기}$\n",
        "\n",
        "효과는 날씨에 따른 매상의 변동, 오차는 날씨라는 변수를 이용해서 설명할 수 없는 맥주 매상의 변동.\n",
        "\n",
        "\n",
        "**분산분석** : 분산의 비율을 취한 통계량으로 검정을 시행하기 때문에 분산분석이라고 불림. 분사분석은 ANalysis Of VAriance 를 줄여서 **ANOVA** 라고 부르기도 함."
      ],
      "metadata": {
        "id": "7CwcaJGvwqoQ"
      }
    },
    {
      "cell_type": "markdown",
      "source": [
        "### 5.2.6 분산분석의 직감적 사고방식 : 오차 및 효과의 분리"
      ],
      "metadata": {
        "id": "ZyBmBbOxyPwH"
      }
    },
    {
      "cell_type": "markdown",
      "source": [
        "바이올린 간의 거리가 **효과의 크기**이며, 각 바이올린의 폭이 **오차의 크기**입니다.\n",
        "\n",
        "![violine_anova](https://user-images.githubusercontent.com/291782/210509036-d5ca2e26-a12c-4902-9d3c-536c4d877c5f.png)\n",
        "\n",
        "\n",
        "- 각각의 바이올린은 날씨라는 수준으로 나뉘어져 있음\n",
        "- 바이올린이 떨어져 있다는 것은 날씨에 따라 매상이 크게 변한다는 것을 나타냄\n",
        "- 때문에 바이올린 간의 거리가 날씨 효과의 크기가 됨\n",
        "- 같은 날씨라고 해도 매상은 일정하지 않고 흩어져 있음. 날씨로 설명할 수 없는 차이의 크기를 오차의 크기로 표현한 것\n",
        "\n",
        "\n",
        "- **군간변동** : 바이올린 간의 거리, 즉, 효과의 크기를 군간변동\n",
        "- **군내변동** : 각 바이올린의 폭, 즉 오차의 크기를 군내변동"
      ],
      "metadata": {
        "id": "OE53soRsyc8O"
      }
    },
    {
      "cell_type": "markdown",
      "source": [
        "### 5.2.9 데이터 작성과 표시"
      ],
      "metadata": {
        "id": "kwJdfozlzEjJ"
      }
    },
    {
      "cell_type": "code",
      "source": [
        "# 샘플 데이터\n",
        "weather = ['cloudy', 'cloudy', 'rainy', 'rainy', 'sunny', 'sunny']\n",
        "beer = [6, 8, 2, 4, 10, 12]\n",
        "\n",
        "weather_beer = pd.DataFrame({'beer':beer, 'weather': weather})\n",
        "display(weather_beer)"
      ],
      "metadata": {
        "colab": {
          "base_uri": "https://localhost:8080/",
          "height": 237
        },
        "id": "TrzyrpTFzGbx",
        "outputId": "c186b437-ad1a-4fb0-e822-3dd9bb8dbaa8"
      },
      "execution_count": 24,
      "outputs": [
        {
          "output_type": "display_data",
          "data": {
            "text/plain": [
              "   beer weather\n",
              "0     6  cloudy\n",
              "1     8  cloudy\n",
              "2     2   rainy\n",
              "3     4   rainy\n",
              "4    10   sunny\n",
              "5    12   sunny"
            ],
            "text/html": [
              "\n",
              "  <div id=\"df-5be7f5d0-b394-4ab3-92cd-b2055d479992\">\n",
              "    <div class=\"colab-df-container\">\n",
              "      <div>\n",
              "<style scoped>\n",
              "    .dataframe tbody tr th:only-of-type {\n",
              "        vertical-align: middle;\n",
              "    }\n",
              "\n",
              "    .dataframe tbody tr th {\n",
              "        vertical-align: top;\n",
              "    }\n",
              "\n",
              "    .dataframe thead th {\n",
              "        text-align: right;\n",
              "    }\n",
              "</style>\n",
              "<table border=\"1\" class=\"dataframe\">\n",
              "  <thead>\n",
              "    <tr style=\"text-align: right;\">\n",
              "      <th></th>\n",
              "      <th>beer</th>\n",
              "      <th>weather</th>\n",
              "    </tr>\n",
              "  </thead>\n",
              "  <tbody>\n",
              "    <tr>\n",
              "      <th>0</th>\n",
              "      <td>6</td>\n",
              "      <td>cloudy</td>\n",
              "    </tr>\n",
              "    <tr>\n",
              "      <th>1</th>\n",
              "      <td>8</td>\n",
              "      <td>cloudy</td>\n",
              "    </tr>\n",
              "    <tr>\n",
              "      <th>2</th>\n",
              "      <td>2</td>\n",
              "      <td>rainy</td>\n",
              "    </tr>\n",
              "    <tr>\n",
              "      <th>3</th>\n",
              "      <td>4</td>\n",
              "      <td>rainy</td>\n",
              "    </tr>\n",
              "    <tr>\n",
              "      <th>4</th>\n",
              "      <td>10</td>\n",
              "      <td>sunny</td>\n",
              "    </tr>\n",
              "    <tr>\n",
              "      <th>5</th>\n",
              "      <td>12</td>\n",
              "      <td>sunny</td>\n",
              "    </tr>\n",
              "  </tbody>\n",
              "</table>\n",
              "</div>\n",
              "      <button class=\"colab-df-convert\" onclick=\"convertToInteractive('df-5be7f5d0-b394-4ab3-92cd-b2055d479992')\"\n",
              "              title=\"Convert this dataframe to an interactive table.\"\n",
              "              style=\"display:none;\">\n",
              "        \n",
              "  <svg xmlns=\"http://www.w3.org/2000/svg\" height=\"24px\"viewBox=\"0 0 24 24\"\n",
              "       width=\"24px\">\n",
              "    <path d=\"M0 0h24v24H0V0z\" fill=\"none\"/>\n",
              "    <path d=\"M18.56 5.44l.94 2.06.94-2.06 2.06-.94-2.06-.94-.94-2.06-.94 2.06-2.06.94zm-11 1L8.5 8.5l.94-2.06 2.06-.94-2.06-.94L8.5 2.5l-.94 2.06-2.06.94zm10 10l.94 2.06.94-2.06 2.06-.94-2.06-.94-.94-2.06-.94 2.06-2.06.94z\"/><path d=\"M17.41 7.96l-1.37-1.37c-.4-.4-.92-.59-1.43-.59-.52 0-1.04.2-1.43.59L10.3 9.45l-7.72 7.72c-.78.78-.78 2.05 0 2.83L4 21.41c.39.39.9.59 1.41.59.51 0 1.02-.2 1.41-.59l7.78-7.78 2.81-2.81c.8-.78.8-2.07 0-2.86zM5.41 20L4 18.59l7.72-7.72 1.47 1.35L5.41 20z\"/>\n",
              "  </svg>\n",
              "      </button>\n",
              "      \n",
              "  <style>\n",
              "    .colab-df-container {\n",
              "      display:flex;\n",
              "      flex-wrap:wrap;\n",
              "      gap: 12px;\n",
              "    }\n",
              "\n",
              "    .colab-df-convert {\n",
              "      background-color: #E8F0FE;\n",
              "      border: none;\n",
              "      border-radius: 50%;\n",
              "      cursor: pointer;\n",
              "      display: none;\n",
              "      fill: #1967D2;\n",
              "      height: 32px;\n",
              "      padding: 0 0 0 0;\n",
              "      width: 32px;\n",
              "    }\n",
              "\n",
              "    .colab-df-convert:hover {\n",
              "      background-color: #E2EBFA;\n",
              "      box-shadow: 0px 1px 2px rgba(60, 64, 67, 0.3), 0px 1px 3px 1px rgba(60, 64, 67, 0.15);\n",
              "      fill: #174EA6;\n",
              "    }\n",
              "\n",
              "    [theme=dark] .colab-df-convert {\n",
              "      background-color: #3B4455;\n",
              "      fill: #D2E3FC;\n",
              "    }\n",
              "\n",
              "    [theme=dark] .colab-df-convert:hover {\n",
              "      background-color: #434B5C;\n",
              "      box-shadow: 0px 1px 3px 1px rgba(0, 0, 0, 0.15);\n",
              "      filter: drop-shadow(0px 1px 2px rgba(0, 0, 0, 0.3));\n",
              "      fill: #FFFFFF;\n",
              "    }\n",
              "  </style>\n",
              "\n",
              "      <script>\n",
              "        const buttonEl =\n",
              "          document.querySelector('#df-5be7f5d0-b394-4ab3-92cd-b2055d479992 button.colab-df-convert');\n",
              "        buttonEl.style.display =\n",
              "          google.colab.kernel.accessAllowed ? 'block' : 'none';\n",
              "\n",
              "        async function convertToInteractive(key) {\n",
              "          const element = document.querySelector('#df-5be7f5d0-b394-4ab3-92cd-b2055d479992');\n",
              "          const dataTable =\n",
              "            await google.colab.kernel.invokeFunction('convertToInteractive',\n",
              "                                                     [key], {});\n",
              "          if (!dataTable) return;\n",
              "\n",
              "          const docLinkHtml = 'Like what you see? Visit the ' +\n",
              "            '<a target=\"_blank\" href=https://colab.research.google.com/notebooks/data_table.ipynb>data table notebook</a>'\n",
              "            + ' to learn more about interactive tables.';\n",
              "          element.innerHTML = '';\n",
              "          dataTable['output_type'] = 'display_data';\n",
              "          await google.colab.output.renderOutput(dataTable, element);\n",
              "          const docLink = document.createElement('div');\n",
              "          docLink.innerHTML = docLinkHtml;\n",
              "          element.appendChild(docLink);\n",
              "        }\n",
              "      </script>\n",
              "    </div>\n",
              "  </div>\n",
              "  "
            ]
          },
          "metadata": {}
        }
      ]
    },
    {
      "cell_type": "code",
      "source": [
        "sns.boxplot(x='weather', y='beer', data=weather_beer)"
      ],
      "metadata": {
        "colab": {
          "base_uri": "https://localhost:8080/",
          "height": 303
        },
        "id": "ECme4cN4zfAV",
        "outputId": "f42180cc-5cfd-4fb4-94df-156ac2e61776"
      },
      "execution_count": 25,
      "outputs": [
        {
          "output_type": "execute_result",
          "data": {
            "text/plain": [
              "<matplotlib.axes._subplots.AxesSubplot at 0x7f751d860f70>"
            ]
          },
          "metadata": {},
          "execution_count": 25
        },
        {
          "output_type": "display_data",
          "data": {
            "text/plain": [
              "<Figure size 432x288 with 1 Axes>"
            ],
            "image/png": "[encoded data removed]"
          },
          "metadata": {
            "needs_background": "light"
          }
        }
      ]
    },
    {
      "cell_type": "code",
      "source": [
        "# 날씨별 매상 평균치\n",
        "print('\\n\\n날씨별 매상 평균치:', weather_beer.groupby('weather').mean())\n",
        "\n",
        "# 날씨에 의한 영향 (날씨별 매상 평균치)\n",
        "effect = [7, 7, 3, 3, 11, 11]\n",
        "\n",
        "# effect의 흩어진 정도를 구함으로써 군간변동을 구할 수 있음\n",
        "# 군간변동의 분자에 해당하는 군간 편차제곱합을 계산\n",
        "# 군간 제곱합\n",
        "mu_effect = np.mean(effect)\n",
        "squares_model = np.sum((effect - mu_effect)**2)\n",
        "print('\\n\\n군간제곱합:', squares_model)\n",
        "\n",
        "\n",
        "# 오차는 원본 데이터에서 효과를 빼는 것으로 계산 가능\n",
        "resid = weather_beer.beer - effect\n",
        "print('\\n\\n오차:', resid)\n",
        "\n",
        "# 마찬가지로 군내 편차제곱합을 구함\n",
        "# 오차의 평균은 0이라는 점에 주의\n",
        "# 군내 제곱합\n",
        "squares_resid = np.sum(resid**2)\n",
        "print('\\n\\n군내제곱합:', squares_resid)"
      ],
      "metadata": {
        "colab": {
          "base_uri": "https://localhost:8080/"
        },
        "id": "O2WzUULC0GbD",
        "outputId": "4e08027b-aab3-400c-bda8-7a46995131fb"
      },
      "execution_count": 26,
      "outputs": [
        {
          "output_type": "stream",
          "name": "stdout",
          "text": [
            "\n",
            "\n",
            "날씨별 매상 평균치:          beer\n",
            "weather      \n",
            "cloudy    7.0\n",
            "rainy     3.0\n",
            "sunny    11.0\n",
            "\n",
            "\n",
            "군간제곱합: 64.0\n",
            "\n",
            "\n",
            "오차: 0   -1\n",
            "1    1\n",
            "2   -1\n",
            "3    1\n",
            "4   -1\n",
            "5    1\n",
            "Name: beer, dtype: int64\n",
            "\n",
            "\n",
            "군내제곱합: 6\n"
          ]
        }
      ]
    },
    {
      "cell_type": "markdown",
      "source": [
        "### 5.2.11 분산분석(2) : 군간 분석과 군내 분산 계산"
      ],
      "metadata": {
        "id": "cLzEkkCl3KKX"
      }
    },
    {
      "cell_type": "markdown",
      "source": [
        "분산분석에서도 군간, 군내 분석을 계산할 때는 단순히 샘플 사이즈를 사용하지 않고, **자유도**라 불리는 값으로 나누어야함\n",
        "\n",
        "- 군간변동의 자유도 : 수준의 종류에 따라 좌우됨\n",
        "    - 흐림, 맑음, 비 3가지 수준이 있음. 거기서 1을 빼면 군간변동의 자유도는 2가 됨\n",
        "- 군내변동의 자유도 : 샘플사이즈와 수준의 종류에 따라 좌우됨\n",
        "    - 샘플사이즈가 6, 수준이 3가지이므로 6-3 = 3이 군내변동 자유도"
      ],
      "metadata": {
        "id": "NRwMsJmJ3QEd"
      }
    },
    {
      "cell_type": "code",
      "source": [
        "df_model = 2 # 군간변동의 자유도\n",
        "df_resid = 3 # 군내변동의 자유도\n",
        "\n",
        "# 군간 평균제곱(분산)\n",
        "variance_model = squares_model / df_model\n",
        "print('군간 평균제곱(분산):', variance_model)\n",
        "\n",
        "# 군내 평균제곱(분산)\n",
        "variance_resid = squares_resid / df_resid\n",
        "print('군내 평균제곱(분산):', variance_resid)\n",
        "\n",
        "# F비 (군간 분산과 군내 분산의 비로 계산)\n",
        "f_ratio = variance_model / variance_resid\n",
        "print('\\n\\nF_ratio:', f_ratio)\n",
        "\n",
        "# p 값은 F분포의 누적분포함수에서 계산할 수 있음\n",
        "# sp.stats.f.cdf 함수를 사용\n",
        "# 파라미터로는 F비와 2개의 자유도, 총 3개를 넘김\n",
        "p = 1 - sp.stats.f.cdf(x=f_ratio, dfn=df_model, dfd=df_resid)\n",
        "print('\\n\\np value:', p)\n",
        "\n",
        "print('p value가 0.05 이하가 됐으므로 날씨에 의해 매상이 유의미하게 변화한다고 판단할 수 있음.')"
      ],
      "metadata": {
        "colab": {
          "base_uri": "https://localhost:8080/"
        },
        "id": "m3SB_6ql3xX0",
        "outputId": "ed8f5932-f4d1-4a74-999b-e5e5a05a3350"
      },
      "execution_count": 27,
      "outputs": [
        {
          "output_type": "stream",
          "name": "stdout",
          "text": [
            "군간 평균제곱(분산): 32.0\n",
            "군내 평균제곱(분산): 2.0\n",
            "\n",
            "\n",
            "F_ratio: 16.0\n",
            "\n",
            "\n",
            "p value: 0.02509457330439091\n",
            "p value가 0.05 이하가 됐으므로 날씨에 의해 매상이 유의미하게 변화한다고 판단할 수 있음.\n"
          ]
        }
      ]
    },
    {
      "cell_type": "code",
      "source": [
        "# statsmodels 를 이용한 분산분석\n",
        "anova_model = smf.ols('beer ~ weather', data=weather_beer).fit()\n",
        "display(sm.stats.anova_lm(anova_model, typ=2))"
      ],
      "metadata": {
        "colab": {
          "base_uri": "https://localhost:8080/",
          "height": 112
        },
        "id": "f5QxXtw97CXq",
        "outputId": "05907986-9faa-422e-91f3-6cb421629e94"
      },
      "execution_count": 28,
      "outputs": [
        {
          "output_type": "display_data",
          "data": {
            "text/plain": [
              "          sum_sq   df     F    PR(>F)\n",
              "weather     64.0  2.0  16.0  0.025095\n",
              "Residual     6.0  3.0   NaN       NaN"
            ],
            "text/html": [
              "\n",
              "  <div id=\"df-099b41b1-acec-4139-89e1-38f089e9dfb2\">\n",
              "    <div class=\"colab-df-container\">\n",
              "      <div>\n",
              "<style scoped>\n",
              "    .dataframe tbody tr th:only-of-type {\n",
              "        vertical-align: middle;\n",
              "    }\n",
              "\n",
              "    .dataframe tbody tr th {\n",
              "        vertical-align: top;\n",
              "    }\n",
              "\n",
              "    .dataframe thead th {\n",
              "        text-align: right;\n",
              "    }\n",
              "</style>\n",
              "<table border=\"1\" class=\"dataframe\">\n",
              "  <thead>\n",
              "    <tr style=\"text-align: right;\">\n",
              "      <th></th>\n",
              "      <th>sum_sq</th>\n",
              "      <th>df</th>\n",
              "      <th>F</th>\n",
              "      <th>PR(&gt;F)</th>\n",
              "    </tr>\n",
              "  </thead>\n",
              "  <tbody>\n",
              "    <tr>\n",
              "      <th>weather</th>\n",
              "      <td>64.0</td>\n",
              "      <td>2.0</td>\n",
              "      <td>16.0</td>\n",
              "      <td>0.025095</td>\n",
              "    </tr>\n",
              "    <tr>\n",
              "      <th>Residual</th>\n",
              "      <td>6.0</td>\n",
              "      <td>3.0</td>\n",
              "      <td>NaN</td>\n",
              "      <td>NaN</td>\n",
              "    </tr>\n",
              "  </tbody>\n",
              "</table>\n",
              "</div>\n",
              "      <button class=\"colab-df-convert\" onclick=\"convertToInteractive('df-099b41b1-acec-4139-89e1-38f089e9dfb2')\"\n",
              "              title=\"Convert this dataframe to an interactive table.\"\n",
              "              style=\"display:none;\">\n",
              "        \n",
              "  <svg xmlns=\"http://www.w3.org/2000/svg\" height=\"24px\"viewBox=\"0 0 24 24\"\n",
              "       width=\"24px\">\n",
              "    <path d=\"M0 0h24v24H0V0z\" fill=\"none\"/>\n",
              "    <path d=\"M18.56 5.44l.94 2.06.94-2.06 2.06-.94-2.06-.94-.94-2.06-.94 2.06-2.06.94zm-11 1L8.5 8.5l.94-2.06 2.06-.94-2.06-.94L8.5 2.5l-.94 2.06-2.06.94zm10 10l.94 2.06.94-2.06 2.06-.94-2.06-.94-.94-2.06-.94 2.06-2.06.94z\"/><path d=\"M17.41 7.96l-1.37-1.37c-.4-.4-.92-.59-1.43-.59-.52 0-1.04.2-1.43.59L10.3 9.45l-7.72 7.72c-.78.78-.78 2.05 0 2.83L4 21.41c.39.39.9.59 1.41.59.51 0 1.02-.2 1.41-.59l7.78-7.78 2.81-2.81c.8-.78.8-2.07 0-2.86zM5.41 20L4 18.59l7.72-7.72 1.47 1.35L5.41 20z\"/>\n",
              "  </svg>\n",
              "      </button>\n",
              "      \n",
              "  <style>\n",
              "    .colab-df-container {\n",
              "      display:flex;\n",
              "      flex-wrap:wrap;\n",
              "      gap: 12px;\n",
              "    }\n",
              "\n",
              "    .colab-df-convert {\n",
              "      background-color: #E8F0FE;\n",
              "      border: none;\n",
              "      border-radius: 50%;\n",
              "      cursor: pointer;\n",
              "      display: none;\n",
              "      fill: #1967D2;\n",
              "      height: 32px;\n",
              "      padding: 0 0 0 0;\n",
              "      width: 32px;\n",
              "    }\n",
              "\n",
              "    .colab-df-convert:hover {\n",
              "      background-color: #E2EBFA;\n",
              "      box-shadow: 0px 1px 2px rgba(60, 64, 67, 0.3), 0px 1px 3px 1px rgba(60, 64, 67, 0.15);\n",
              "      fill: #174EA6;\n",
              "    }\n",
              "\n",
              "    [theme=dark] .colab-df-convert {\n",
              "      background-color: #3B4455;\n",
              "      fill: #D2E3FC;\n",
              "    }\n",
              "\n",
              "    [theme=dark] .colab-df-convert:hover {\n",
              "      background-color: #434B5C;\n",
              "      box-shadow: 0px 1px 3px 1px rgba(0, 0, 0, 0.15);\n",
              "      filter: drop-shadow(0px 1px 2px rgba(0, 0, 0, 0.3));\n",
              "      fill: #FFFFFF;\n",
              "    }\n",
              "  </style>\n",
              "\n",
              "      <script>\n",
              "        const buttonEl =\n",
              "          document.querySelector('#df-099b41b1-acec-4139-89e1-38f089e9dfb2 button.colab-df-convert');\n",
              "        buttonEl.style.display =\n",
              "          google.colab.kernel.accessAllowed ? 'block' : 'none';\n",
              "\n",
              "        async function convertToInteractive(key) {\n",
              "          const element = document.querySelector('#df-099b41b1-acec-4139-89e1-38f089e9dfb2');\n",
              "          const dataTable =\n",
              "            await google.colab.kernel.invokeFunction('convertToInteractive',\n",
              "                                                     [key], {});\n",
              "          if (!dataTable) return;\n",
              "\n",
              "          const docLinkHtml = 'Like what you see? Visit the ' +\n",
              "            '<a target=\"_blank\" href=https://colab.research.google.com/notebooks/data_table.ipynb>data table notebook</a>'\n",
              "            + ' to learn more about interactive tables.';\n",
              "          element.innerHTML = '';\n",
              "          dataTable['output_type'] = 'display_data';\n",
              "          await google.colab.output.renderOutput(dataTable, element);\n",
              "          const docLink = document.createElement('div');\n",
              "          docLink.innerHTML = docLinkHtml;\n",
              "          element.appendChild(docLink);\n",
              "        }\n",
              "      </script>\n",
              "    </div>\n",
              "  </div>\n",
              "  "
            ]
          },
          "metadata": {}
        }
      ]
    },
    {
      "cell_type": "markdown",
      "source": [
        "`sm.stats.anova_lm` 함수의 결과로 출력된 표의 형식을 **분산분석표**라고 함.\n",
        "- sum_sq : 군간과 군내의 편차제곱 합\n",
        "- df : 자유도\n",
        "- F : F비\n",
        "- PR(>F) : p value"
      ],
      "metadata": {
        "id": "QIUH4-wi7Eow"
      }
    },
    {
      "cell_type": "markdown",
      "source": [
        "**정리**\n",
        "- 분산분석에서는 데이터를 효과의 크기와 오차의 크기로 분리\n",
        "- 효과의 크기를 **군간변동**\n",
        "- 오차의 크기를 **군내변동**\n",
        "- 군간분산과 군내분산의 비율, 즉 F비를 통계량으로 사용\n",
        "- 모집단이 **등분산 정규분포**를 따를 때 F비는 F분포를 따른다는 것이 밝혀져 있기 때문에, 누적분포함수에서 p값을 계산하고, 그 값이 0.05 이하인지 판정"
      ],
      "metadata": {
        "id": "mIYDy8u55PKY"
      }
    },
    {
      "cell_type": "markdown",
      "source": [
        "### 5.2.17 모델의 계수 해석"
      ],
      "metadata": {
        "id": "pSh6zGnZ7Xnk"
      }
    },
    {
      "cell_type": "code",
      "source": [
        "anova_model.params"
      ],
      "metadata": {
        "colab": {
          "base_uri": "https://localhost:8080/"
        },
        "id": "Ak1snvDa7Z9L",
        "outputId": "fdf171b6-f0fb-46a5-b1bb-3362ce5e37ba"
      },
      "execution_count": 29,
      "outputs": [
        {
          "output_type": "execute_result",
          "data": {
            "text/plain": [
              "Intercept           7.0\n",
              "weather[T.rainy]   -4.0\n",
              "weather[T.sunny]    4.0\n",
              "dtype: float64"
            ]
          },
          "metadata": {},
          "execution_count": 29
        }
      ]
    },
    {
      "cell_type": "markdown",
      "source": [
        "$맥주매상 \\sim N(\\beta_0 + \\beta_1 \\times 비 + \\beta_2 \\times 맑음, \\sigma^2)$\n",
        "\n",
        "위 식을 대응하면\n",
        "- Intercept : B0에 해당 (절편)\n",
        "    - 그러므로 흐린날의 매상 평균은 7이 됨. \n",
        "    - 비오는날 : weather[T.rainy] : 7 - 4 = 3 (매상의 기댓값)\n",
        "    - 맑은날 : weather[T.sunny] : 7 + 4 = 11 (매상의 기댓값)"
      ],
      "metadata": {
        "id": "wkPWFEoP7e1y"
      }
    },
    {
      "cell_type": "markdown",
      "source": [
        "### 5.2.18 모델을 사용해서 오차와 효과 분리하기"
      ],
      "metadata": {
        "id": "hJBYq-6H89Jh"
      }
    },
    {
      "cell_type": "code",
      "source": [
        "fitted = anova_model.fittedvalues\n",
        "fitted"
      ],
      "metadata": {
        "id": "eQF0jo009AKg",
        "colab": {
          "base_uri": "https://localhost:8080/"
        },
        "outputId": "f9094260-6649-4c55-99ef-f4cf5689f308"
      },
      "execution_count": 30,
      "outputs": [
        {
          "output_type": "execute_result",
          "data": {
            "text/plain": [
              "0     7.0\n",
              "1     7.0\n",
              "2     3.0\n",
              "3     3.0\n",
              "4    11.0\n",
              "5    11.0\n",
              "dtype: float64"
            ]
          },
          "metadata": {},
          "execution_count": 30
        }
      ]
    }
  ]
}