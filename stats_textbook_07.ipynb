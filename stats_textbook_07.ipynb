{
  "nbformat": 4,
  "nbformat_minor": 0,
  "metadata": {
    "colab": {
      "provenance": [],
      "authorship_tag": "ABX9TyNGjnT+FGGnGQFgsQjOx21T",
      "include_colab_link": true
    },
    "kernelspec": {
      "name": "python3",
      "display_name": "Python 3"
    },
    "language_info": {
      "name": "python"
    }
  },
  "cells": [
    {
      "cell_type": "markdown",
      "metadata": {
        "id": "view-in-github",
        "colab_type": "text"
      },
      "source": [
        "<a href=\"https://colab.research.google.com/github/johyunkang/adp_certificate/blob/main/stats_textbook_07.ipynb\" target=\"_parent\"><img src=\"https://colab.research.google.com/assets/colab-badge.svg\" alt=\"Open In Colab\"/></a>"
      ]
    },
    {
      "cell_type": "markdown",
      "source": [
        "# Chapter 7 통계학과 머신러닝 "
      ],
      "metadata": {
        "id": "ujcDnZc6hBZL"
      }
    },
    {
      "cell_type": "markdown",
      "source": [
        "## 7.1 머신러닝 기본"
      ],
      "metadata": {
        "id": "6SjG74Q6hI8H"
      }
    },
    {
      "cell_type": "markdown",
      "source": [
        "## 7.2 정규화와 리지 회귀, 라소 회귀 "
      ],
      "metadata": {
        "id": "L7P_lUc4hWcu"
      }
    },
    {
      "cell_type": "code",
      "execution_count": null,
      "metadata": {
        "id": "piUGSDs1g7r9"
      },
      "outputs": [],
      "source": []
    }
  ]
}