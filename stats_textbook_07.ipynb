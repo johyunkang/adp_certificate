{
  "nbformat": 4,
  "nbformat_minor": 0,
  "metadata": {
    "colab": {
      "provenance": [],
      "mount_file_id": "1earwarCxzTrhLLRevpTnWF9UMYI-1Fma",
      "authorship_tag": "ABX9TyNBPWBNWhNoCTDKmTruL1zJ",
      "include_colab_link": true
    },
    "kernelspec": {
      "name": "python3",
      "display_name": "Python 3"
    },
    "language_info": {
      "name": "python"
    }
  },
  "cells": [
    {
      "cell_type": "markdown",
      "metadata": {
        "id": "view-in-github",
        "colab_type": "text"
      },
      "source": [
        "<a href=\"https://colab.research.google.com/github/johyunkang/adp_certificate/blob/main/stats_textbook_07.ipynb\" target=\"_parent\"><img src=\"https://colab.research.google.com/assets/colab-badge.svg\" alt=\"Open In Colab\"/></a>"
      ]
    },
    {
      "cell_type": "markdown",
      "source": [
        "# Chapter 7 통계학과 머신러닝 "
      ],
      "metadata": {
        "id": "ujcDnZc6hBZL"
      }
    },
    {
      "cell_type": "markdown",
      "source": [
        "## 7.1 머신러닝 기본"
      ],
      "metadata": {
        "id": "6SjG74Q6hI8H"
      }
    },
    {
      "cell_type": "markdown",
      "source": [
        "## 7.2 정규화와 리지 회귀, 라소 회귀 "
      ],
      "metadata": {
        "id": "L7P_lUc4hWcu"
      }
    },
    {
      "cell_type": "markdown",
      "source": [
        "### 7.2.1 정규화"
      ],
      "metadata": {
        "id": "04vYBqPhr2b8"
      }
    },
    {
      "cell_type": "markdown",
      "source": [
        "- 정규화 : 파라미터를 추정할 때 손실함수에 벌칙항을 도입함으로써 계수가 큰 값이 되는 것을 막는 기법\n",
        "- 통계학에서는 파라미터의 **축소추정** 이라고도 부름 "
      ],
      "metadata": {
        "id": "gF9gOPxdr4RF"
      }
    },
    {
      "cell_type": "markdown",
      "source": [
        "### 7.2.2 리지회기 "
      ],
      "metadata": {
        "id": "dUh7849AsHUU"
      }
    },
    {
      "cell_type": "markdown",
      "source": [
        "- 정규화항으로 계수의 제곱합을 이용한 회귀모델\n",
        "- L2 정규화라고도 부름\n",
        "- 리지 회귀는 아래처럼 벌칙이 있는 잔차제곱합을 최소로 하는 계수를 추정 \n",
        "\n",
        "![ridge](https://user-images.githubusercontent.com/291782/212477117-e75e7619-6a92-49c6-a309-1080a0c7e3ac.png)\n",
        "\n",
        "\n",
        "- 위 식에서 a (알파)가 정규화의 강도를 지정하는 파라미터. a가 크면 벌칙의 영향이 강해지기 때문에 계수의 절대치는 작아\n"
      ],
      "metadata": {
        "id": "XJho0-j3sJbV"
      }
    },
    {
      "cell_type": "markdown",
      "source": [
        "### 7.2.3 라소회귀 "
      ],
      "metadata": {
        "id": "ckqOzAhItHgK"
      }
    },
    {
      "cell_type": "markdown",
      "source": [
        "- 정규화항으로 계수의 절댓값의 합을 이용한 회귀모델\n",
        "- L1 정규화라고도 부름\n",
        "\n",
        "![lasso](https://user-images.githubusercontent.com/291782/212477264-ba23268e-b074-4950-ad38-9b95ef6b5329.png)\n",
        "\n",
        "- 벌칙항이 절댓값의 합이 된다는점을 제외하면 리지 회귀와 같음"
      ],
      "metadata": {
        "id": "lxH8DUYstJI4"
      }
    },
    {
      "cell_type": "markdown",
      "source": [
        "### 7.2.4 정규화 강도를 지정하는 파라미터 결정 "
      ],
      "metadata": {
        "id": "_7tS0T6-wL-I"
      }
    },
    {
      "cell_type": "markdown",
      "source": [
        "- 정규화항에 나타나는 a는 한 가지 요소로만 결정되지 않음\n",
        "- a도 포함해서 최적화의 대상으로 삼으면 반드시 a=0이 된 뒤 잔차제곱합을 최소로 하도록 움직이기 때문\n",
        "- 이렇게 되면 일반적인 최소제곱법과 다르지 않게 됨\n",
        "- 교차검증법을 사용할 것을 권장"
      ],
      "metadata": {
        "id": "dFGIPen6wQ1y"
      }
    },
    {
      "cell_type": "markdown",
      "source": [
        "### 7.2.5 독립변수의 표준화 "
      ],
      "metadata": {
        "id": "-QUf5ViCwlz8"
      }
    },
    {
      "cell_type": "markdown",
      "source": [
        "- 리지, 라소회귀를 실행하기 전 미리 독립변수를 평균 0, 표준편차 1로 표준화할 필요가 있음\n",
        "- 데이터의 단위가 바뀌었을 때 회귀 계수의 절댓값의 크기가 변경되기 때문"
      ],
      "metadata": {
        "id": "y8jf4V5qwn9C"
      }
    },
    {
      "cell_type": "markdown",
      "source": [
        "### 7.2.6 리지회귀와 라소회귀의 추정결과 차이 "
      ],
      "metadata": {
        "id": "tUnz20i7zh-7"
      }
    },
    {
      "cell_type": "markdown",
      "source": [
        "- 리지회귀는 전체적으로 절대치가 작은 회귀계수를 얻을 수 있음\n",
        "- 라소회귀는 대부분의 파라미터가 0, 일부 파라미터만 0과 다른 값이 되기 쉬움.\n",
        "\n",
        "아래는 리지와 라소의 벌칙 크기 비교\n",
        "\n",
        "![ridge-lasso](https://user-images.githubusercontent.com/291782/212478620-ebf719a1-3547-4a72-9e28-27256a8fb46d.png)\n",
        "\n"
      ],
      "metadata": {
        "id": "HIB8uhsqzmGa"
      }
    },
    {
      "cell_type": "markdown",
      "source": [
        "## 7.3 파이썬을 이용한 리지 회귀와 라소 회귀 "
      ],
      "metadata": {
        "id": "YDn-KHhN257g"
      }
    },
    {
      "cell_type": "code",
      "source": [
        "import numpy as np\n",
        "import pandas as pd\n",
        "import scipy as sp\n",
        "from scipy import stats\n",
        "\n",
        "from matplotlib import pyplot as plt\n",
        "import seaborn as sns\n",
        "sns.set()\n",
        "\n",
        "import statsmodels.formula.api as smf\n",
        "import statsmodels.api as sm\n",
        "\n",
        "from sklearn import linear_model\n",
        "\n",
        "%precision 3\n",
        "%matplotlib inline"
      ],
      "metadata": {
        "id": "IiC5REop2-Ww"
      },
      "execution_count": 1,
      "outputs": []
    },
    {
      "cell_type": "code",
      "source": [
        "PATH = '/content/drive/MyDrive/Colab Notebooks/adp/파이썬으로배우는통계학교과서/data/'\n",
        "x = pd.read_csv(PATH + '7-3-1-large-data.csv')\n",
        "x.head()"
      ],
      "metadata": {
        "colab": {
          "base_uri": "https://localhost:8080/",
          "height": 299
        },
        "id": "Q3G7bvxn3UtO",
        "outputId": "30864908-cb14-403b-cebd-4e4f68d2fa00"
      },
      "execution_count": 2,
      "outputs": [
        {
          "output_type": "execute_result",
          "data": {
            "text/plain": [
              "      X_1     X_2     X_3     X_4     X_5     X_6     X_7     X_8     X_9  \\\n",
              "0  1.0000  0.5000  0.3333  0.2500  0.2000  0.1667  0.1429  0.1250  0.1111   \n",
              "1  0.5000  0.3333  0.2500  0.2000  0.1667  0.1429  0.1250  0.1111  0.1000   \n",
              "2  0.3333  0.2500  0.2000  0.1667  0.1429  0.1250  0.1111  0.1000  0.0909   \n",
              "3  0.2500  0.2000  0.1667  0.1429  0.1250  0.1111  0.1000  0.0909  0.0833   \n",
              "4  0.2000  0.1667  0.1429  0.1250  0.1111  0.1000  0.0909  0.0833  0.0769   \n",
              "\n",
              "     X_10  ...    X_91    X_92    X_93    X_94    X_95    X_96    X_97  \\\n",
              "0  0.1000  ...  0.0110  0.0109  0.0108  0.0106  0.0105  0.0104  0.0103   \n",
              "1  0.0909  ...  0.0109  0.0108  0.0106  0.0105  0.0104  0.0103  0.0102   \n",
              "2  0.0833  ...  0.0108  0.0106  0.0105  0.0104  0.0103  0.0102  0.0101   \n",
              "3  0.0769  ...  0.0106  0.0105  0.0104  0.0103  0.0102  0.0101  0.0100   \n",
              "4  0.0714  ...  0.0105  0.0104  0.0103  0.0102  0.0101  0.0100  0.0099   \n",
              "\n",
              "     X_98    X_99   X_100  \n",
              "0  0.0102  0.0101  0.0100  \n",
              "1  0.0101  0.0100  0.0099  \n",
              "2  0.0100  0.0099  0.0098  \n",
              "3  0.0099  0.0098  0.0097  \n",
              "4  0.0098  0.0097  0.0096  \n",
              "\n",
              "[5 rows x 100 columns]"
            ],
            "text/html": [
              "\n",
              "  <div id=\"df-2d4d99c3-c454-4035-88d0-11c6525869a3\">\n",
              "    <div class=\"colab-df-container\">\n",
              "      <div>\n",
              "<style scoped>\n",
              "    .dataframe tbody tr th:only-of-type {\n",
              "        vertical-align: middle;\n",
              "    }\n",
              "\n",
              "    .dataframe tbody tr th {\n",
              "        vertical-align: top;\n",
              "    }\n",
              "\n",
              "    .dataframe thead th {\n",
              "        text-align: right;\n",
              "    }\n",
              "</style>\n",
              "<table border=\"1\" class=\"dataframe\">\n",
              "  <thead>\n",
              "    <tr style=\"text-align: right;\">\n",
              "      <th></th>\n",
              "      <th>X_1</th>\n",
              "      <th>X_2</th>\n",
              "      <th>X_3</th>\n",
              "      <th>X_4</th>\n",
              "      <th>X_5</th>\n",
              "      <th>X_6</th>\n",
              "      <th>X_7</th>\n",
              "      <th>X_8</th>\n",
              "      <th>X_9</th>\n",
              "      <th>X_10</th>\n",
              "      <th>...</th>\n",
              "      <th>X_91</th>\n",
              "      <th>X_92</th>\n",
              "      <th>X_93</th>\n",
              "      <th>X_94</th>\n",
              "      <th>X_95</th>\n",
              "      <th>X_96</th>\n",
              "      <th>X_97</th>\n",
              "      <th>X_98</th>\n",
              "      <th>X_99</th>\n",
              "      <th>X_100</th>\n",
              "    </tr>\n",
              "  </thead>\n",
              "  <tbody>\n",
              "    <tr>\n",
              "      <th>0</th>\n",
              "      <td>1.0000</td>\n",
              "      <td>0.5000</td>\n",
              "      <td>0.3333</td>\n",
              "      <td>0.2500</td>\n",
              "      <td>0.2000</td>\n",
              "      <td>0.1667</td>\n",
              "      <td>0.1429</td>\n",
              "      <td>0.1250</td>\n",
              "      <td>0.1111</td>\n",
              "      <td>0.1000</td>\n",
              "      <td>...</td>\n",
              "      <td>0.0110</td>\n",
              "      <td>0.0109</td>\n",
              "      <td>0.0108</td>\n",
              "      <td>0.0106</td>\n",
              "      <td>0.0105</td>\n",
              "      <td>0.0104</td>\n",
              "      <td>0.0103</td>\n",
              "      <td>0.0102</td>\n",
              "      <td>0.0101</td>\n",
              "      <td>0.0100</td>\n",
              "    </tr>\n",
              "    <tr>\n",
              "      <th>1</th>\n",
              "      <td>0.5000</td>\n",
              "      <td>0.3333</td>\n",
              "      <td>0.2500</td>\n",
              "      <td>0.2000</td>\n",
              "      <td>0.1667</td>\n",
              "      <td>0.1429</td>\n",
              "      <td>0.1250</td>\n",
              "      <td>0.1111</td>\n",
              "      <td>0.1000</td>\n",
              "      <td>0.0909</td>\n",
              "      <td>...</td>\n",
              "      <td>0.0109</td>\n",
              "      <td>0.0108</td>\n",
              "      <td>0.0106</td>\n",
              "      <td>0.0105</td>\n",
              "      <td>0.0104</td>\n",
              "      <td>0.0103</td>\n",
              "      <td>0.0102</td>\n",
              "      <td>0.0101</td>\n",
              "      <td>0.0100</td>\n",
              "      <td>0.0099</td>\n",
              "    </tr>\n",
              "    <tr>\n",
              "      <th>2</th>\n",
              "      <td>0.3333</td>\n",
              "      <td>0.2500</td>\n",
              "      <td>0.2000</td>\n",
              "      <td>0.1667</td>\n",
              "      <td>0.1429</td>\n",
              "      <td>0.1250</td>\n",
              "      <td>0.1111</td>\n",
              "      <td>0.1000</td>\n",
              "      <td>0.0909</td>\n",
              "      <td>0.0833</td>\n",
              "      <td>...</td>\n",
              "      <td>0.0108</td>\n",
              "      <td>0.0106</td>\n",
              "      <td>0.0105</td>\n",
              "      <td>0.0104</td>\n",
              "      <td>0.0103</td>\n",
              "      <td>0.0102</td>\n",
              "      <td>0.0101</td>\n",
              "      <td>0.0100</td>\n",
              "      <td>0.0099</td>\n",
              "      <td>0.0098</td>\n",
              "    </tr>\n",
              "    <tr>\n",
              "      <th>3</th>\n",
              "      <td>0.2500</td>\n",
              "      <td>0.2000</td>\n",
              "      <td>0.1667</td>\n",
              "      <td>0.1429</td>\n",
              "      <td>0.1250</td>\n",
              "      <td>0.1111</td>\n",
              "      <td>0.1000</td>\n",
              "      <td>0.0909</td>\n",
              "      <td>0.0833</td>\n",
              "      <td>0.0769</td>\n",
              "      <td>...</td>\n",
              "      <td>0.0106</td>\n",
              "      <td>0.0105</td>\n",
              "      <td>0.0104</td>\n",
              "      <td>0.0103</td>\n",
              "      <td>0.0102</td>\n",
              "      <td>0.0101</td>\n",
              "      <td>0.0100</td>\n",
              "      <td>0.0099</td>\n",
              "      <td>0.0098</td>\n",
              "      <td>0.0097</td>\n",
              "    </tr>\n",
              "    <tr>\n",
              "      <th>4</th>\n",
              "      <td>0.2000</td>\n",
              "      <td>0.1667</td>\n",
              "      <td>0.1429</td>\n",
              "      <td>0.1250</td>\n",
              "      <td>0.1111</td>\n",
              "      <td>0.1000</td>\n",
              "      <td>0.0909</td>\n",
              "      <td>0.0833</td>\n",
              "      <td>0.0769</td>\n",
              "      <td>0.0714</td>\n",
              "      <td>...</td>\n",
              "      <td>0.0105</td>\n",
              "      <td>0.0104</td>\n",
              "      <td>0.0103</td>\n",
              "      <td>0.0102</td>\n",
              "      <td>0.0101</td>\n",
              "      <td>0.0100</td>\n",
              "      <td>0.0099</td>\n",
              "      <td>0.0098</td>\n",
              "      <td>0.0097</td>\n",
              "      <td>0.0096</td>\n",
              "    </tr>\n",
              "  </tbody>\n",
              "</table>\n",
              "<p>5 rows × 100 columns</p>\n",
              "</div>\n",
              "      <button class=\"colab-df-convert\" onclick=\"convertToInteractive('df-2d4d99c3-c454-4035-88d0-11c6525869a3')\"\n",
              "              title=\"Convert this dataframe to an interactive table.\"\n",
              "              style=\"display:none;\">\n",
              "        \n",
              "  <svg xmlns=\"http://www.w3.org/2000/svg\" height=\"24px\"viewBox=\"0 0 24 24\"\n",
              "       width=\"24px\">\n",
              "    <path d=\"M0 0h24v24H0V0z\" fill=\"none\"/>\n",
              "    <path d=\"M18.56 5.44l.94 2.06.94-2.06 2.06-.94-2.06-.94-.94-2.06-.94 2.06-2.06.94zm-11 1L8.5 8.5l.94-2.06 2.06-.94-2.06-.94L8.5 2.5l-.94 2.06-2.06.94zm10 10l.94 2.06.94-2.06 2.06-.94-2.06-.94-.94-2.06-.94 2.06-2.06.94z\"/><path d=\"M17.41 7.96l-1.37-1.37c-.4-.4-.92-.59-1.43-.59-.52 0-1.04.2-1.43.59L10.3 9.45l-7.72 7.72c-.78.78-.78 2.05 0 2.83L4 21.41c.39.39.9.59 1.41.59.51 0 1.02-.2 1.41-.59l7.78-7.78 2.81-2.81c.8-.78.8-2.07 0-2.86zM5.41 20L4 18.59l7.72-7.72 1.47 1.35L5.41 20z\"/>\n",
              "  </svg>\n",
              "      </button>\n",
              "      \n",
              "  <style>\n",
              "    .colab-df-container {\n",
              "      display:flex;\n",
              "      flex-wrap:wrap;\n",
              "      gap: 12px;\n",
              "    }\n",
              "\n",
              "    .colab-df-convert {\n",
              "      background-color: #E8F0FE;\n",
              "      border: none;\n",
              "      border-radius: 50%;\n",
              "      cursor: pointer;\n",
              "      display: none;\n",
              "      fill: #1967D2;\n",
              "      height: 32px;\n",
              "      padding: 0 0 0 0;\n",
              "      width: 32px;\n",
              "    }\n",
              "\n",
              "    .colab-df-convert:hover {\n",
              "      background-color: #E2EBFA;\n",
              "      box-shadow: 0px 1px 2px rgba(60, 64, 67, 0.3), 0px 1px 3px 1px rgba(60, 64, 67, 0.15);\n",
              "      fill: #174EA6;\n",
              "    }\n",
              "\n",
              "    [theme=dark] .colab-df-convert {\n",
              "      background-color: #3B4455;\n",
              "      fill: #D2E3FC;\n",
              "    }\n",
              "\n",
              "    [theme=dark] .colab-df-convert:hover {\n",
              "      background-color: #434B5C;\n",
              "      box-shadow: 0px 1px 3px 1px rgba(0, 0, 0, 0.15);\n",
              "      filter: drop-shadow(0px 1px 2px rgba(0, 0, 0, 0.3));\n",
              "      fill: #FFFFFF;\n",
              "    }\n",
              "  </style>\n",
              "\n",
              "      <script>\n",
              "        const buttonEl =\n",
              "          document.querySelector('#df-2d4d99c3-c454-4035-88d0-11c6525869a3 button.colab-df-convert');\n",
              "        buttonEl.style.display =\n",
              "          google.colab.kernel.accessAllowed ? 'block' : 'none';\n",
              "\n",
              "        async function convertToInteractive(key) {\n",
              "          const element = document.querySelector('#df-2d4d99c3-c454-4035-88d0-11c6525869a3');\n",
              "          const dataTable =\n",
              "            await google.colab.kernel.invokeFunction('convertToInteractive',\n",
              "                                                     [key], {});\n",
              "          if (!dataTable) return;\n",
              "\n",
              "          const docLinkHtml = 'Like what you see? Visit the ' +\n",
              "            '<a target=\"_blank\" href=https://colab.research.google.com/notebooks/data_table.ipynb>data table notebook</a>'\n",
              "            + ' to learn more about interactive tables.';\n",
              "          element.innerHTML = '';\n",
              "          dataTable['output_type'] = 'display_data';\n",
              "          await google.colab.output.renderOutput(dataTable, element);\n",
              "          const docLink = document.createElement('div');\n",
              "          docLink.innerHTML = docLinkHtml;\n",
              "          element.appendChild(docLink);\n",
              "        }\n",
              "      </script>\n",
              "    </div>\n",
              "  </div>\n",
              "  "
            ]
          },
          "metadata": {},
          "execution_count": 2
        }
      ]
    },
    {
      "cell_type": "markdown",
      "source": [
        "샘플사이즈는 150, x_1 부터 x_100 까지 100개 열이 있는 비교적 복잡한 데이터"
      ],
      "metadata": {
        "id": "pz3aYIAv3td7"
      }
    },
    {
      "cell_type": "markdown",
      "source": [
        "### 7.3.3 표준화 "
      ],
      "metadata": {
        "id": "wCKmnr3130xp"
      }
    },
    {
      "cell_type": "markdown",
      "source": [
        "표준화는 각각의 변수에 평균값을 빼고 표준편차로 나누는 작업\n",
        "\n",
        "이렇게 하면 평균이 0, 표준편차가 1이 됨"
      ],
      "metadata": {
        "id": "Hj8G7p9T390E"
      }
    },
    {
      "cell_type": "code",
      "source": [
        "np.mean(x.X_1)\n",
        "\n",
        "x -= np.mean(x, axis=0)\n",
        "x /= np.std(x, ddof=1, axis=0)"
      ],
      "metadata": {
        "id": "KuLtacIa4Emo"
      },
      "execution_count": 4,
      "outputs": []
    },
    {
      "cell_type": "code",
      "source": [
        "# 평균값이 0이 되었는지 확인\n",
        "print('평균값이 0이 되었는지 확인:\\n ', np.mean(x, axis=0).head(3).round(3))\n",
        "\n",
        "# 표준편차가 1이 되었는지 확인\n",
        "print('\\n\\n표준편차가 1이 되었는지 확인: \\n', np.std(x, ddof=1, axis=0).head(3))"
      ],
      "metadata": {
        "colab": {
          "base_uri": "https://localhost:8080/"
        },
        "id": "kIeBRQbN4XMY",
        "outputId": "d3e9f842-c8d6-4dc6-a69c-ac02ac7b8051"
      },
      "execution_count": 8,
      "outputs": [
        {
          "output_type": "stream",
          "name": "stdout",
          "text": [
            "평균값이 0이 되었는지 확인:\n",
            "  X_1   -0.0\n",
            "X_2   -0.0\n",
            "X_3    0.0\n",
            "dtype: float64\n",
            "\n",
            "\n",
            "표준편차가 1이 되었는지 확인: \n",
            " X_1    1.0\n",
            "X_2    1.0\n",
            "X_3    1.0\n",
            "dtype: float64\n"
          ]
        }
      ]
    }
  ]
}