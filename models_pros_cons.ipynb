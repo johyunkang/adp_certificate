{
  "cells": [
    {
      "cell_type": "markdown",
      "metadata": {
        "id": "view-in-github",
        "colab_type": "text"
      },
      "source": [
        "<a href=\"https://colab.research.google.com/github/johyunkang/adp_certificate/blob/main/models_pros_cons.ipynb\" target=\"_parent\"><img src=\"https://colab.research.google.com/assets/colab-badge.svg\" alt=\"Open In Colab\"/></a>"
      ]
    },
    {
      "cell_type": "markdown",
      "id": "3187ec49",
      "metadata": {
        "id": "3187ec49"
      },
      "source": [
        "# 모델별 특징과 장단점"
      ]
    },
    {
      "cell_type": "markdown",
      "id": "768740a8",
      "metadata": {
        "id": "768740a8"
      },
      "source": [
        "## 1. 분류 (Classification)"
      ]
    },
    {
      "cell_type": "markdown",
      "id": "e8922fcb",
      "metadata": {
        "id": "e8922fcb"
      },
      "source": [
        "1. 로지스틱 회귀\n",
        "    - 로지스틱 회귀는 기계 학습에서 일반적으로 사용되는 인기 있는 선형 분류 알고리즘입니다. 중소 규모의 데이터 세트에서 잘 작동하는 간단하고 이해하기 쉬운 알고리즘입니다.\n",
        "\n",
        "- 특징\n",
        "    - 결정 경계가 선형 함수일 때 잘 작동하는 선형 알고리즘.\n",
        "    - 클래스 확률로 해석할 수 있는 확률 출력을 제공합니다.\n",
        "    - 과적합을 방지하기 위해 정규화할 수 있습니다.\n",
        "- 장점:\n",
        "    - 간단하고 구현하기 쉽습니다.\n",
        "    - 중소 규모의 데이터 세트에서 잘 작동합니다.\n",
        "    - 해석 가능한 결과를 제공합니다.\n",
        "- 약점:\n",
        "    - 결정 경계가 비선형인 경우 제대로 작동하지 않을 수 있습니다.\n",
        "    - 관련 없는 특성이 많을 때 과적합이 발생할 수 있습니다.\n",
        "    \n",
        "2. 랜덤 포레스트\n",
        "- 랜덤 포레스트는 결정 트리를 기반으로 하는 인기 있는 앙상블 분류 알고리즘입니다. 광범위한 데이터 세트에서 잘 작동하는 유연한 알고리즘입니다.\n",
        "- 특징:\n",
        "    - 여러 결정 트리를 결합하는 앙상블 알고리즘.\n",
        "    - 비선형 결정 경계를 처리할 수 있습니다.\n",
        "    - 관련 없는 기능이 많은 데이터 세트를 처리할 수 있습니다.\n",
        "- 장점:\n",
        "    - 유연하고 광범위한 데이터 세트에서 잘 작동할 수 있습니다.\n",
        "    - 범주형 및 연속형 기능을 모두 처리할 수 있습니다.\n",
        "    - 기능 중요도 추정치를 제공합니다.\n",
        "- 약점:\n",
        "    - 대규모 데이터 세트에서 교육하는 데 속도가 느릴 수 있습니다.\n",
        "    - 상관관계가 높은 기능이 있는 데이터 세트에서는 제대로 작동하지 않을 수 있습니다.\n",
        "3. 서포트 벡터 머신(SVM)\n",
        "- SVM(Support Vector Machines)은 분류 및 회귀 분석에 널리 사용되는 알고리즘입니다. 광범위한 데이터 세트에서 잘 작동하는 강력한 알고리즘입니다.\n",
        "- 특징:\n",
        "    - 클래스를 최대로 분리하는 초평면을 찾는 알고리즘.\n",
        "    - 커널 트릭을 사용하여 비선형 결정 경계를 처리할 수 있습니다.\n",
        "    - 많은 기능을 가진 데이터 세트를 처리할 수 있습니다.\n",
        "- 장점:\n",
        "    - 강력하고 다양한 데이터 세트에서 잘 작동할 수 있습니다.\n",
        "    - 선형 및 비선형 결정 경계를 모두 처리할 수 있습니다.\n",
        "    - 우수한 일반화 성능을 제공합니다.\n",
        "- 담점:\n",
        "    - 대규모 데이터 세트에서 교육하는 데 속도가 느릴 수 있습니다.\n",
        "    - 커널 기능 선택에 민감할 수 있습니다.\n",
        "    \n",
        "4. XGBoost:\n",
        "- 특징:\n",
        "    - 그래디언트 부스팅 알고리즘을 사용하여 결정 트리의 앙상블을 생성합니다.\n",
        "    - 누락된 데이터 및 비선형 관계를 처리할 수 있습니다.\n",
        "    - 과적합을 방지하기 위해 정규화를 허용합니다.\n",
        "- 장점:\n",
        "    - 광범위한 분류 작업에서 뛰어난 성능을 제공합니다.\n",
        "    - 높은 차원의 대규모 데이터 세트를 처리할 수 있습니다.\n",
        "    - 빠른 실행 속도를 제공합니다.\n",
        "- 단점:\n",
        "    - 하이퍼파라미터 선택에 민감할 수 있습니다.\n",
        "    - 적절하게 정규화되지 않으면 과대적합되기 쉽습니다.\n",
        "    - 최적의 결과를 얻으려면 신중한 기능 엔지니어링이 필요합니다.\n",
        "    \n",
        "5. LightGBM:\n",
        "- 특징:\n",
        "    - 그래디언트 부스팅 알고리즘을 사용하여 결정 트리의 앙상블을 생성합니다.\n",
        "    - 높은 차원의 대규모 데이터 세트를 처리할 수 있습니다.\n",
        "    - 훈련 속도를 높이기 위해 히스토그램 기반 접근 방식을 사용합니다.\n",
        "\n",
        "- 장점:\n",
        "    - 광범위한 분류 작업에서 뛰어난 성능을 제공합니다.\n",
        "    - 특히 대규모 데이터 세트에서 빠른 실행 속도를 제공합니다.\n",
        "    - 원-핫 인코딩 없이 범주형 기능을 처리할 수 있습니다.\n",
        "\n",
        "- 단점:\n",
        "    - 하이퍼파라미터 선택에 민감할 수 있습니다.\n",
        "    - 더 작은 데이터 세트에서는 XGBoost만큼 성능이 좋지 않을 수 있습니다.\n",
        "    - 최적의 결과를 얻으려면 신중한 기능 엔지니어링이 필요합니다."
      ]
    },
    {
      "cell_type": "markdown",
      "id": "2908eed5",
      "metadata": {
        "id": "2908eed5"
      },
      "source": [
        "### XGBoost\n",
        "- 일반 매개변수\n",
        "    - booster: 사용할 부스터 유형(기본값='gbtree')\n",
        "    - silent: 학습 중 메시지 출력 여부(default=0)\n",
        "    - nthread: 병렬 처리에 사용할 스레드 수(기본값=-1, 사용 가능한 모든 코어 사용)\n",
        "- 부스터 매개변수의 몇 가지 예입니다.\n",
        "    - max_depth: 앙상블에서 각 트리의 최대 깊이(default=6)\n",
        "    - eta: 부스팅 과정의 학습률(default=0.3)\n",
        "    - subsample: 교육 인스턴스의 하위 샘플 비율(기본값=1)\n",
        "    - colsample_bytree: 각 트리를 구성할 때 컬럼의 부표본 비율(default=1)\n",
        "- 하이퍼 파라미터\n",
        "    - learning_rate: 최소 손실 함수를 향해 이동하면서 각 반복에서 단계 크기를 결정합니다.\n",
        "    - n_estimators: 앙상블의 트리 수입니다.\n",
        "    - min_child_weight: 자식에 필요한 인스턴스 가중치의 최소 합입니다.\n",
        "    - gamma: 트리의 리프 노드에서 추가 파티션을 만드는 데 필요한 최소 손실 감소."
      ]
    },
    {
      "cell_type": "code",
      "execution_count": null,
      "id": "60feba6d",
      "metadata": {
        "scrolled": true,
        "id": "60feba6d",
        "outputId": "360d7160-728d-48eb-9d1f-c8d9aa056304"
      },
      "outputs": [
        {
          "name": "stdout",
          "output_type": "stream",
          "text": [
            "Accuracy: 1.0\n"
          ]
        }
      ],
      "source": [
        "from sklearn.datasets import load_iris\n",
        "from sklearn.model_selection import train_test_split, GridSearchCV\n",
        "from xgboost import XGBClassifier\n",
        "from sklearn.metrics import accuracy_score\n",
        "\n",
        "# Load iris dataset\n",
        "data = load_iris()\n",
        "X, y = data.data, data.target\n",
        "\n",
        "# Split dataset into training and testing sets\n",
        "X_train, X_test, y_train, y_test = train_test_split(X, y, test_size=0.2, random_state=42)\n",
        "\n",
        "# Define XGBoost classifier\n",
        "xgb = XGBClassifier()\n",
        "\n",
        "# Define hyperparameters to search over\n",
        "param_grid = {\n",
        "    'learning_rate': [0.1, 0.3, 0.5],\n",
        "    'max_depth': [3, 5, 7],\n",
        "    'n_estimators': [50, 100, 200],\n",
        "    'gamma': [0, 0.1, 0.2],\n",
        "    'min_child_weight': [1, 3, 5]\n",
        "}\n",
        "\n",
        "# Perform grid search to find best hyperparameters\n",
        "grid_search = GridSearchCV(estimator=xgb, param_grid=param_grid, cv=5, n_jobs=-1)\n",
        "grid_search.fit(X_train, y_train)\n",
        "\n",
        "# Get best hyperparameters and train final model\n",
        "best_params = grid_search.best_params_\n",
        "xgb_best = XGBClassifier(**best_params)\n",
        "xgb_best.fit(X_train, y_train)\n",
        "\n",
        "# Make predictions on test set\n",
        "y_pred = xgb_best.predict(X_test)\n",
        "\n",
        "# Calculate accuracy score\n",
        "accuracy = accuracy_score(y_test, y_pred)\n",
        "print(f\"Accuracy: {accuracy}\")"
      ]
    },
    {
      "cell_type": "markdown",
      "id": "f7530e84",
      "metadata": {
        "id": "f7530e84"
      },
      "source": [
        "### LightGBM"
      ]
    },
    {
      "cell_type": "markdown",
      "id": "72f8cba8",
      "metadata": {
        "id": "72f8cba8"
      },
      "source": [
        "- 핵심 매개변수의 몇 가지 예입니다.\n",
        "    - objective: 최적화할 목적 함수 유형(default='regression')\n",
        "    - metric: 사용할 평가 메트릭(default='rmse')\n",
        "    - num_threads: 병렬 처리에 사용할 스레드 수(기본값=0, 사용 가능한 모든 코어 사용)\n",
        "- 부스팅 매개변수의 몇 가지 예는 다음과 같습니다.\n",
        "    - num_leaves: 각 트리의 최대 리프 수(기본값=31)\n",
        "    - learning_rate: 부스팅 과정의 학습률(default=0.1)\n",
        "    - feature_fraction: 각 트리를 구성할 때 열의 하위 표본 비율(기본값=1)\n",
        "    - bagging_fraction: 교육 인스턴스의 하위 샘플 비율(기본값=1)\n",
        "- 하이퍼 파라미터\n",
        "    - learning_rate: 최소 손실 함수를 향해 이동하면서 각 반복에서 단계 크기를 결정합니다.\n",
        "    - num_iterations: 수행할 부스팅 반복 횟수.\n",
        "    - min_data_in_leaf: 리프에 필요한 학습 인스턴스의 최소 개수입니다.\n",
        "    - lambda_l1: 가중치에 대한 L1 정규화 용어입니다."
      ]
    },
    {
      "cell_type": "code",
      "execution_count": null,
      "id": "69edbdaa",
      "metadata": {
        "scrolled": false,
        "id": "69edbdaa"
      },
      "outputs": [],
      "source": [
        "from sklearn.datasets import load_iris\n",
        "from sklearn.model_selection import train_test_split, RandomizedSearchCV\n",
        "from lightgbm import LGBMClassifier\n",
        "from sklearn.metrics import accuracy_score\n",
        "import numpy as np\n",
        "import warnings\n",
        "warnings.filterwarnings(action='ignore')\n",
        "\n",
        "# Load iris dataset\n",
        "data = load_iris()\n",
        "X, y = data.data, data.target\n",
        "\n",
        "# Split dataset into training and testing sets\n",
        "X_train, X_test, y_train, y_test = train_test_split(X, y, test_size=0.2, random_state=42)\n",
        "\n",
        "# Define LightGBM classifier\n",
        "lgbm = LGBMClassifier()\n",
        "\n",
        "# Define hyperparameters to search over\n",
        "param_dist = {\n",
        "    'learning_rate': np.linspace(0.05, 0.5, 10),\n",
        "    'num_leaves': np.arange(10, 50, 5),\n",
        "    'max_depth': np.arange(3, 10),\n",
        "    'min_data_in_leaf': np.arange(10, 50, 5),\n",
        "    'lambda_l1': [0, 1e-3, 1e-2, 1e-1]\n",
        "}\n",
        "\n",
        "# Perform randomized search to find best hyperparameters\n",
        "random_search = RandomizedSearchCV(estimator=lgbm, param_distributions=param_dist, cv=5, n_iter=50, n_jobs=-1)\n",
        "random_search.fit(X_train, y_train)\n",
        "\n",
        "# Get best hyperparameters and train final model\n",
        "best_params = random_search.best_params_\n",
        "lgbm_best = LGBMClassifier(**best_params)\n",
        "lgbm_best.fit(X_train, y_train)\n",
        "\n",
        "# Make predictions on test set\n",
        "y_pred = lgbm_best.predict(X_test)\n",
        "\n",
        "# Calculate accuracy score\n",
        "accuracy = accuracy_score(y_test, y_pred)\n",
        "print(f\"Accuracy: {accuracy}\")"
      ]
    },
    {
      "cell_type": "markdown",
      "id": "88608310",
      "metadata": {
        "id": "88608310"
      },
      "source": [
        "### KNN Classifier"
      ]
    },
    {
      "cell_type": "markdown",
      "id": "034ed21e",
      "metadata": {
        "id": "034ed21e"
      },
      "source": [
        "1. 특징\n",
        " - KNN(K-Nearest Neighbors)은 분류 및 회귀 작업 모두에 사용할 수 있는 다목적 모델입니다. \n",
        " - 데이터 포인트가 명확한 선형 분리가 없고 결정 경계가 비선형인 상황에서 자주 사용됩니다.\n",
        "2. 특징:\n",
        " - KNN은 비모수적 모델입니다. 즉, 입력과 출력 사이의 관계에 대한 특정 기능적 형식을 가정하지 않습니다.\n",
        "- KNN은 게으른 학습자입니다. 즉, 분류하거나 예측할 쿼리 인스턴스를 수신할 때까지 모델을 구축하지 않습니다.\n",
        "- KNN은 다중 클래스 문제를 처리할 수 있습니다.\n",
        "\n",
        "3. 장점:\n",
        "- KNN은 이해하고 구현하기 쉽습니다.\n",
        "- KNN은 시끄러운 데이터와 이상값을 잘 처리할 수 있습니다.\n",
        "- KNN은 교육이 필요하지 않으므로 계산 효율이 높습니다.\n",
        "- KNN은 회귀 및 분류 작업 모두에 사용할 수 있습니다.\n",
        "\n",
        "4. 단점:\n",
        "- KNN은 거리 메트릭의 선택과 이웃 수(k)에 민감할 수 있습니다.\n",
        "- KNN은 대규모 데이터 세트의 경우 느리고 메모리를 많이 사용할 수 있습니다.\n",
        "- KNN은 고차원 데이터 세트에서 잘 수행되지 않을 수 있습니다.\n",
        "\n",
        "5. 파라미터\n",
        "    - n_neighbors : int형\n",
        "    - weights : 'uniform'(default), 'distance'"
      ]
    },
    {
      "cell_type": "code",
      "execution_count": null,
      "id": "7eece986",
      "metadata": {
        "id": "7eece986",
        "outputId": "66be7cf9-a584-4576-bf45-ce10a92893d2"
      },
      "outputs": [
        {
          "name": "stdout",
          "output_type": "stream",
          "text": [
            "Accuracy: 0.9777777777777777\n"
          ]
        }
      ],
      "source": [
        "from sklearn.datasets import load_iris\n",
        "from sklearn.neighbors import KNeighborsClassifier\n",
        "from sklearn.model_selection import train_test_split\n",
        "from sklearn.metrics import accuracy_score\n",
        "iris = load_iris()\n",
        "X, y = iris.data, iris.target\n",
        "X_train, X_test, y_train, y_test = train_test_split(X, y, test_size=0.3, random_state=1)\n",
        "\n",
        "knn = KNeighborsClassifier(n_neighbors=4, weights='uniform')\n",
        "knn.fit(X_train, y_train)\n",
        "y_pred = knn.predict(X_test)\n",
        "accuracy = accuracy_score(y_test, y_pred)\n",
        "print(\"Accuracy:\", accuracy)"
      ]
    },
    {
      "cell_type": "markdown",
      "id": "e18a4b29",
      "metadata": {
        "id": "e18a4b29"
      },
      "source": [
        "## 2. 회귀(Regressor)"
      ]
    },
    {
      "cell_type": "markdown",
      "id": "b9249980",
      "metadata": {
        "id": "b9249980"
      },
      "source": [
        "1. 선형 회귀\n",
        "- 선형 회귀는 간단하고 널리 사용되는 회귀 분석 알고리즘입니다. 종속 변수와 하나 이상의 독립 변수 간의 관계를 선형 함수로 모델링합니다.\n",
        "\n",
        "- 특징:\n",
        "    - 종속 변수와 독립 변수 사이의 선형 관계를 가정합니다.\n",
        "    - 연속 및 범주 독립 변수를 모두 처리할 수 있습니다.\n",
        "    - 과적합을 방지하기 위해 정규화할 수 있습니다.\n",
        "- 장점:\n",
        "    - 간단하고 구현하기 쉽습니다.\n",
        "    - 해석 가능한 결과를 제공합니다.\n",
        "    - 종속 변수와 독립 변수 간의 관계가 선형일 때 잘 작동합니다.\n",
        "- 단점:\n",
        "    - 종속변수와 독립변수의 관계가 비선형일 경우 제대로 작동하지 않을 수 있습니다.\n",
        "    - 무관한 독립 변수가 많을 경우 과적합이 발생할 수 있습니다.\n",
        "    \n",
        "2. 결정 트리\n",
        "- 결정 트리는 회귀 분석을 위한 강력한 알고리즘입니다. 독립 변수의 값을 기반으로 데이터를 재귀적으로 분할하여 종속 변수와 하나 이상의 독립 변수 간의 관계를 모델링합니다.\n",
        "- 특징:\n",
        "    - 연속 및 범주 독립 변수를 모두 처리할 수 있는 비선형 알고리즘입니다.\n",
        "    - 독립 변수 간의 상호 작용을 처리할 수 있습니다.\n",
        "    - 누락된 값과 이상값을 처리할 수 있습니다.\n",
        "- 장점:\n",
        "    - 해석 가능한 결과를 제공합니다.\n",
        "    - 종속 변수와 독립 변수 사이의 선형 및 비선형 관계를 모두 처리할 수 있습니다.\n",
        "    - 독립 변수 간의 상호 작용을 처리할 수 있습니다.\n",
        "- 단점:\n",
        "    - 종속 변수와 독립 변수 간의 관계가 매우 비선형적일 경우 제대로 작동하지 않을 수 있습니다.\n",
        "    - 트리가 너무 깊으면 과적합이 발생할 수 있습니다.\n",
        "    \n",
        "3. 랜덤 포레스트\n",
        "- 랜덤 포레스트는 의사 결정 트리를 기반으로 하는 회귀 분석을 위한 강력한 앙상블 알고리즘입니다. 예측의 정확성과 안정성을 향상시키기 위해 여러 의사 결정 트리를 결합합니다.\n",
        "\n",
        "- 특징:\n",
        "    - 여러 결정 트리를 결합하는 앙상블 알고리즘.\n",
        "    - 연속 및 범주 독립 변수를 모두 처리할 수 있습니다.\n",
        "    - 독립 변수 간의 상호 작용을 처리할 수 있습니다.\n",
        "- 징점:\n",
        "    - 정확하고 안정적인 예측을 제공합니다.\n",
        "    - 종속 변수와 독립 변수 사이의 선형 및 비선형 관계를 모두 처리할 수 있습니다.\n",
        "    - 독립 변수 간의 상호 작용을 처리할 수 있습니다.\n",
        "- 단점:\n",
        "    - 종속 변수와 독립 변수 간의 관계가 매우 비선형적일 경우 제대로 작동하지 않을 수 있습니다.\n",
        "    - 대규모 데이터 세트에서 교육하는 데 속도가 느릴 수 있습니다.\n",
        "    \n",
        "3. 랜덤 포레스트\n",
        "    - 랜덤 포레스트는 의사 결정 트리를 기반으로 하는 회귀 분석을 위한 강력한 앙상블 알고리즘입니다. 예측의 정확성과 안정성을 향상시키기 위해 여러 의사 결정 트리를 결합합니다.\n",
        "- 특징:\n",
        "    - 여러 결정 트리를 결합하는 앙상블 알고리즘.\n",
        "    - 연속 및 범주 독립 변수를 모두 처리할 수 있습니다.\n",
        "    - 독립 변수 간의 상호 작용을 처리할 수 있습니다.\n",
        "- 장점:\n",
        "    - 정확하고 안정적인 예측을 제공합니다.\n",
        "    - 종속 변수와 독립 변수 사이의 선형 및 비선형 관계를 모두 처리할 수 있습니다.\n",
        "    - 독립 변수 간의 상호 작용을 처리할 수 있습니다.\n",
        "\n",
        "- 단점:\n",
        "    - 종속 변수와 독립 변수 간의 관계가 매우 비선형적일 경우 제대로 작동하지 않을 수 있습니다.\n",
        "    - 대규모 데이터 세트에서 교육하는 데 속도가 느릴 수 있습니다."
      ]
    },
    {
      "cell_type": "markdown",
      "id": "b9e371c8",
      "metadata": {
        "id": "b9e371c8"
      },
      "source": [
        "### Ridge, Lasso, ElasticNet"
      ]
    },
    {
      "cell_type": "markdown",
      "id": "ed50a12e",
      "metadata": {
        "id": "ed50a12e"
      },
      "source": [
        "1. Ridge (능선)\n",
        "- 특징:\n",
        "    - 과적합을 방지하기 위해 목적 함수에 정규화 항을 추가합니다. (**L2규제**)\n",
        "    - 예측변수 간의 다중공선성을 다룰 수 있다.\n",
        "- 장점:\n",
        "    - 다중공선성이 존재하는 경우 일반 최소자승회귀보다 데이터에 더 적합할 수 있습니다.\n",
        "    - 예측 변수가 많을 때 잘 작동합니다.\n",
        "\n",
        "- 단점:\n",
        "    - 계수가 매우 작거나 0인 예측 변수가 많은 경우 성능이 좋지 않을 수 있습니다.\n",
        "\n",
        "- 파라미터\n",
        "    - alpha: 정규화 강도 매개변수. 알파 값이 높을수록 정규화가 강화되어 과적합을 방지할 수 있습니다.\n",
        "    - fit_intercept: 모델에 절편 항을 맞출지 여부. 기본값은 참입니다.\n",
        "    - max_iter: 솔버가 수렴하는 최대 반복 횟수. 기본값은 없음(솔버에서 설정)입니다.\n",
        "    - normalize: 입력 데이터를 정규화할지 여부. 기본값은 거짓입니다.\n",
        "    - solver: 최적화 문제를 해결하는 데 사용되는 알고리즘입니다. 옵션은 'auto'(기본값), 'svd', 'cholesky', 'lsqr', 'sparse_cg', 'sag' 또는 'saga'입니다.\n",
        "    - tol: 솔버가 수렴하는 허용오차. 기본값은 0.001입니다.\n",
        "\n",
        "\n",
        "2. Lasso (올가미 회귀):\n",
        "- 특징:\n",
        "    - 과적합을 방지하기 위해 계수의 절대값을 사용하는 목적 함수에 정규화 항을 추가합니다. (**L1규제**)\n",
        "    - 일부 계수를 0으로 설정하여 기능 선택에 사용할 수 있습니다.\n",
        "\n",
        "- 장점:\n",
        "    - 일부 계수를 0으로 설정하여 희소 솔루션을 제공할 수 있으므로 모델을 더 쉽게 해석하고 과적합을 줄일 수 있습니다.\n",
        "    - 예측 변수가 많을 때 잘 작동할 수 있습니다.\n",
        "\n",
        "- 단점:\n",
        "    - 계수가 매우 작거나 0인 예측 변수가 많은 경우 잘 작동하지 않을 수 있습니다.\n",
        "- 파라미터\n",
        "    - alpha : 정규화 강도 매개변수. 알파 값이 높을수록 정규화가 강화되어 과적합을 방지할 수 있습니다.\n",
        "    - fit_intercept: 모델에 절편 항을 맞출지 여부. 기본값은 True입니다.\n",
        "    - max_iter: 솔버가 수렴하는 최대 반복 횟수. 기본값은 1000입니다.\n",
        "    - normalize: 입력 데이터를 정규화할지 여부. 기본값은 False 입니다.\n",
        "    - selection : 기능을 선택하는 데 사용되는 방법입니다. 옵션은 'cyclic'(기본값) 또는 'random'입니다.\n",
        "    - tol: 솔버가 수렴하는 허용오차. 기본값은 0.0001입니다.\n",
        "\n",
        "\n",
        "3. ElasticNet 회귀:\n",
        "- 특징:\n",
        "    - 과적합을 방지하기 위해 L1 및 L2 정규화 항을 결합합니다.\n",
        "    - 예측변수 간의 다중공선성을 다룰 수 있다.\n",
        "    - 많은 기능을 가진 고차원 데이터 세트를 처리할 수 있습니다.\n",
        "    - L1 및 L2 정규화를 결합하여 모델 성능 향상\n",
        "\n",
        "\n",
        "- 장점:\n",
        "    - Lasso 회귀와 같은 희소 솔루션을 제공하는 동시에 다음과 같은 다중 공선성을 처리할 수 있습니다.\n",
        "    - 특징이 많은 데이터셋에 적합\n",
        "    - 가장 중요한 기능을 선택하는 데 도움이 됩니다.\n",
        "    - 다중공선성을 잘 다룬다.\n",
        "\n",
        "- 단점\n",
        "    - 일부 다른 회귀 모델보다 느릴 수 있음\n",
        "    - 최적의 성능을 위해 하이퍼파라미터를 신중하게 선택해야 함\n",
        "    \n",
        "- 하이퍼 파라미터\n",
        "    - alpha: L1과 L2 정규화 간의 균형을 제어합니다. 알파 값이 높을수록 L1 정규화가 증가하고 모델에 사용되는 기능 수가 줄어듭니다.\n",
        "    - l1_ratio: L1 및 L2 정규화 비율을 제어합니다. 값 1은 순수한 L1 정규화를 나타내고 0은 순수한 L2 정규화를 나타냅니다."
      ]
    },
    {
      "cell_type": "code",
      "execution_count": null,
      "id": "f43fb0af",
      "metadata": {
        "id": "f43fb0af",
        "outputId": "b24be9e6-5219-454d-b88c-52934eeb1a11"
      },
      "outputs": [
        {
          "name": "stdout",
          "output_type": "stream",
          "text": [
            "Ridge regression:\n",
            "  Coefficients: [  45.36737726  -76.66608563  291.33883165  198.99581745   -0.53030959\n",
            "  -28.57704987 -144.51190505  119.26006559  230.22160832  112.14983004]\n",
            "  Intercept: 152.241675211113\n",
            "  Mean squared error: 3077.42\n",
            "Lasso regression:\n",
            "  Coefficients: [  0.          -0.         413.43184792  34.83051518   0.\n",
            "   0.          -0.           0.         258.15289363   0.        ]\n",
            "  Intercept: 152.6639595689638\n",
            "  Mean squared error: 3403.58\n",
            "ElasticNet regression:\n",
            "  Coefficients: [ 0.40100389  0.          3.41353382  2.32614375  0.4595766   0.12555225\n",
            " -1.78311241  2.12401019  3.07139136  1.90618344]\n",
            "  Intercept: 153.71775116932596\n",
            "  Mean squared error: 5311.21\n"
          ]
        }
      ],
      "source": [
        "from sklearn.datasets import load_diabetes\n",
        "from sklearn.linear_model import Ridge, Lasso, ElasticNet\n",
        "from sklearn.model_selection import train_test_split\n",
        "from sklearn.metrics import mean_squared_error\n",
        "\n",
        "X, y = load_diabetes(return_X_y=True)\n",
        "X_train, X_test, y_train, y_test = train_test_split(X, y, test_size=0.2, random_state=42)\n",
        "\n",
        "ridge = Ridge(alpha=1.0, fit_intercept=True, max_iter=None, \n",
        "              solver='auto', tol=0.001)\n",
        "lasso = Lasso(alpha=1.0, fit_intercept=True, max_iter=1000, \n",
        "              selection='cyclic', tol=0.0001)\n",
        "elasticnet = ElasticNet(alpha=1.0, l1_ratio=0.5)\n",
        "\n",
        "ridge.fit(X_train, y_train)\n",
        "lasso.fit(X_train, y_train)\n",
        "elasticnet.fit(X_train, y_train)\n",
        "\n",
        "y_pred_ridge = ridge.predict(X_test)\n",
        "y_pred_lasso = lasso.predict(X_test)\n",
        "y_pred_elasticnet = elasticnet.predict(X_test)\n",
        "\n",
        "mse_ridge = mean_squared_error(y_test, y_pred_ridge)\n",
        "mse_lasso = mean_squared_error(y_test, y_pred_lasso)\n",
        "mse_elasticnet = mean_squared_error(y_test, y_pred_elasticnet)\n",
        "\n",
        "print(\"Ridge regression:\")\n",
        "print(f\"  Coefficients: {ridge.coef_}\")\n",
        "print(f\"  Intercept: {ridge.intercept_}\")\n",
        "print(f\"  Mean squared error: {mse_ridge:.2f}\")\n",
        "\n",
        "print(\"Lasso regression:\")\n",
        "print(f\"  Coefficients: {lasso.coef_}\")\n",
        "print(f\"  Intercept: {lasso.intercept_}\")\n",
        "print(f\"  Mean squared error: {mse_lasso:.2f}\")\n",
        "\n",
        "print(\"ElasticNet regression:\")\n",
        "print(f\"  Coefficients: {elasticnet.coef_}\")\n",
        "print(f\"  Intercept: {elasticnet.intercept_}\")\n",
        "print(f\"  Mean squared error: {mse_elasticnet:.2f}\")"
      ]
    },
    {
      "cell_type": "markdown",
      "id": "1852e062",
      "metadata": {
        "id": "1852e062"
      },
      "source": [
        "## 3. 군집 (Clustering)\n"
      ]
    },
    {
      "cell_type": "markdown",
      "id": "6f31bac2",
      "metadata": {
        "id": "6f31bac2"
      },
      "source": [
        "군집 분석은 유사한 객체를 특성에 따라 함께 그룹화하기 위해 비지도 학습에 사용되는 기술입니다. 여러 클러스터링 알고리즘을 사용할 수 있으며 각각 고유한 특성, 강점 및 약점이 있습니다.\n",
        "\n",
        "1. K-평균 (K-Means)\n",
        "    - K-평균은 특징의 유사성을 기반으로 데이터를 K 클러스터로 분할하는 널리 사용되는 클러스터링 알고리즘입니다. 알고리즘은 각 데이터 포인트를 가장 가까운 군집 중심에 반복적으로 할당하고 새 군집 중심을 계산하며 수렴될 때까지 반복합니다.\n",
        "- 특징:\n",
        "    - 사전에 클러스터 수를 지정해야 합니다.\n",
        "    - 대용량 데이터 세트와 잘 작동합니다.\n",
        "    - 클러스터 센터의 초기 무작위 선택에 민감합니다.\n",
        "\n",
        "- 장점:\n",
        "    - 계산적으로 효율적이고 구현하기 쉽습니다.\n",
        "    - 클러스터가 잘 분리되어 있고 데이터가 균일하게 분산되어 있을 때 잘 작동합니다.\n",
        "\n",
        "- 단점:\n",
        "    - 클러스터의 모양이 불규칙하거나 밀도가 다른 경우 제대로 작동하지 않을 수 있습니다.\n",
        "    - 데이터의 차원이 높을 경우 잘 동작하지 않을 수 있습니다.\n",
        "    \n",
        "2. Hierarchical Clustering (계층적 클러스터링)\n",
        "    - 계층적 클러스터링은 더 작은 클러스터를 더 큰 클러스터로 반복적으로 병합(집합)하거나 더 큰 클러스터를 더 작은 클러스터로 반복적으로 분할(분할)하여 클러스터 계층을 구축하는 클러스터링 알고리즘입니다.\n",
        "\n",
        "- 특징:\n",
        "    - 클러스터 간의 계층적 관계를 보여주는 덴드로그램을 생성합니다.\n",
        "    - 사전에 클러스터 수를 지정할 필요가 없습니다.\n",
        "    - 다양한 크기와 모양의 클러스터를 처리할 수 있습니다.\n",
        "\n",
        "- 장점:\n",
        "    - 클러스터링 계층의 시각적 표현을 제공합니다.\n",
        "    - 다양한 크기와 모양의 클러스터를 처리할 수 있습니다.\n",
        "\n",
        "- 단점:\n",
        "    - 대규모 데이터 세트의 경우 계산 비용이 많이 들 수 있습니다.\n",
        "    - 복잡한 데이터 세트에 대해 최적이 아닌 솔루션을 생성할 수 있습니다.\n"
      ]
    },
    {
      "cell_type": "markdown",
      "id": "a80c16e0",
      "metadata": {
        "id": "a80c16e0"
      },
      "source": [
        "### K-Means"
      ]
    },
    {
      "cell_type": "code",
      "execution_count": null,
      "id": "aaf70163",
      "metadata": {
        "id": "aaf70163",
        "outputId": "af1a8695-c885-4653-e2a3-4fb78669e2e8"
      },
      "outputs": [
        {
          "name": "stdout",
          "output_type": "stream",
          "text": [
            "X: [[ 5.02007669  2.58375543]\n",
            " [ 3.23236714  1.195353  ]\n",
            " [-6.10792848 -9.72865221]\n",
            " [ 5.19966928  3.05395041]\n",
            " [ 1.38081864  4.5933741 ]]\n",
            "y: [1 1 2 1 4]\n",
            "labels: [0 0 2 0 4]\n",
            "centers: [[ 4.65960568  1.89528052]\n",
            " [-2.50265159  9.03963769]\n",
            " [-6.68630691 -6.81139455]\n",
            " [-8.80798056  7.40425704]\n",
            " [ 2.01603476  4.27139248]]\n"
          ]
        }
      ],
      "source": [
        "from sklearn.datasets import make_blobs\n",
        "from sklearn.cluster import KMeans\n",
        "import warnings\n",
        "warnings.filterwarnings(action='ignore')\n",
        "\n",
        "# Generate random dataset\n",
        "X, y = make_blobs(n_samples=1000, centers=5, random_state=42)\n",
        "print('X:', X[:5])\n",
        "print('y:', y[:5])\n",
        "# Fit K-means model to data\n",
        "kmeans = KMeans(n_clusters=5, random_state=42)\n",
        "kmeans.fit(X)\n",
        "\n",
        "# Get cluster labels and cluster centers\n",
        "labels = kmeans.labels_\n",
        "centers = kmeans.cluster_centers_\n",
        "print('labels:', labels[:5])\n",
        "print('centers:', centers[:5])"
      ]
    },
    {
      "cell_type": "markdown",
      "id": "3dead0c2",
      "metadata": {
        "id": "3dead0c2"
      },
      "source": [
        "### 계층적군집분석"
      ]
    },
    {
      "cell_type": "code",
      "execution_count": null,
      "id": "d6fcdb42",
      "metadata": {
        "id": "d6fcdb42",
        "outputId": "2d7d7941-55a9-4204-d46b-598b60a5e842"
      },
      "outputs": [
        {
          "data": {
            "image/png": "[encoded data removed]",
            "text/plain": [
              "<Figure size 400x400 with 1 Axes>"
            ]
          },
          "metadata": {},
          "output_type": "display_data"
        }
      ],
      "source": [
        "from sklearn.datasets import make_blobs\n",
        "from sklearn.cluster import AgglomerativeClustering\n",
        "import matplotlib.pyplot as plt\n",
        "import scipy.cluster.hierarchy as sch\n",
        "\n",
        "# Generate random dataset\n",
        "X, y = make_blobs(n_samples=100, centers=4, random_state=42)\n",
        "\n",
        "# Fit hierarchical clustering model to data\n",
        "hc = AgglomerativeClustering(n_clusters=None, linkage='ward', distance_threshold=0)\n",
        "hc.fit(X)\n",
        "\n",
        "# Plot dendrogram\n",
        "plt.figure(figsize=(4, 4))\n",
        "dendrogram = sch.dendrogram(sch.linkage(X, method='ward'))\n",
        "plt.title(\"Dendrogram\")\n",
        "plt.xlabel(\"Data points\")\n",
        "plt.ylabel(\"Distance\")\n",
        "plt.show()"
      ]
    },
    {
      "cell_type": "markdown",
      "id": "f3e77ed3",
      "metadata": {
        "id": "f3e77ed3"
      },
      "source": [
        "### DBSCAN"
      ]
    },
    {
      "cell_type": "code",
      "execution_count": null,
      "id": "e4a1db83",
      "metadata": {
        "id": "e4a1db83"
      },
      "outputs": [],
      "source": [
        "from sklearn.datasets import make_moons\n",
        "from sklearn.cluster import DBSCAN\n",
        "import matplotlib.pyplot as plt\n",
        "\n",
        "# Generate moon-shaped dataset\n",
        "X, y = make_moons(n_samples=200, noise=0.05, random_state=42)\n",
        "\n",
        "# Fit DBSCAN model to data\n",
        "dbscan = DBSCAN(eps=0.2, min_samples=5)\n",
        "dbscan.fit(X)\n",
        "\n",
        "# Get cluster labels and number of clusters\n",
        "labels = dbscan.labels_\n",
        "n_clusters = len(set(labels)) - (1 if -1 in labels else 0)\n",
        "\n",
        "# Plot clusters\n",
        "plt.figure(figsize=(4, 4))\n",
        "plt.scatter(X[:, 0], X[:, 1], c=labels, cmap='viridis')\n",
        "plt.title(f\"DBSCAN: {n_clusters} clusters\")\n",
        "plt.xlabel(\"Feature 1\")\n",
        "plt.ylabel(\"Feature 2\")\n",
        "plt.show()"
      ]
    },
    {
      "cell_type": "markdown",
      "id": "a7aa4252",
      "metadata": {
        "id": "a7aa4252"
      },
      "source": [
        "## 4. 차원축소"
      ]
    },
    {
      "cell_type": "markdown",
      "id": "761e086c",
      "metadata": {
        "id": "761e086c"
      },
      "source": [
        "1. 주성분 분석(PCA)\n",
        "- 특징\n",
        "    - PCA는 고차원 데이터에서 분산이 최대가 되는 방향을 찾아 원래 분산을 최대한 유지하면서 데이터를 저차원 공간에 투영하는 선형 차원 축소 방법입니다. \n",
        "    - 데이터 압축, 시각화 및 기능 추출에 널리 사용됩니다.\n",
        "- 장점:\n",
        "    - PCA는 계산 효율적이고 해석 가능하며 대규모 데이터 세트를 처리할 수 있습니다. \n",
        "    - 또한 광범위하게 적용 가능하며 다양한 도메인에서 사용할 수 있습니다.\n",
        "- 단점: \n",
        "    - PCA는 데이터가 선형적으로 분리 가능하다고 가정하고 데이터가 복잡한 비선형 구조를 가진 경우 제대로 작동하지 않을 수 있습니다.\n",
        "\n",
        "2. t-분산 확률적 이웃 임베딩(t-SNE)\n",
        "- 특징: \n",
        "    - t-SNE는 고차원 공간과 저차원 공간의 점들 간의 쌍 유사도를 나타내는 확률 분포를 최적화하여 고차원 데이터를 저차원 공간으로 매핑하는 비선형 차원 축소 방법입니다. \n",
        "    - 일반적으로 데이터 시각화에 사용됩니다.\n",
        "- 강점: \n",
        "    - t-SNE는 데이터의 로컬 구조를 보존하는 데 효과적이며 데이터의 포인트 간의 비선형 관계를 밝힐 수 있습니다. \n",
        "    - 또한 고차원 데이터를 시각화하는 데에도 적합합니다.\n",
        "- 약점: \n",
        "    - t-SNE는 계산 비용이 많이 들고 하이퍼파라미터에 민감하며 구성 요소 수가 너무 적으면 과적합될 수 있습니다.\n",
        "- 매개변수: \n",
        "    - 주요 하이퍼 매개변수는 데이터의 로컬 및 글로벌 구조 보존과 유지할 구성 요소 수 사이의 균형을 제어하는 ​​perplexity입니다.\n",
        "    \n",
        "3. 선형 판별 분석(LDA)\n",
        "\n",
        "- 특성: \n",
        "    - LDA는 데이터에서 클래스 간의 분리를 최대화하는 방향을 찾는 것을 목표로 하는 감독된 차원 감소 방법입니다. \n",
        "    - 일반적으로 특징 추출 및 분류에 사용됩니다.\n",
        "- 장점: \n",
        "    - LDA는 클래스 분리성을 유지하면서 데이터의 차원을 줄이는 데 효과적입니다. \n",
        "    - 또한 분류 모델의 성능을 향상시킬 수 있습니다.\n",
        "- 약점: \n",
        "    - LDA는 데이터가 정상적으로 분포되고 클래스 공분산이 동일하다고 가정하므로 실제로는 그렇지 않을 수 있습니다.\n"
      ]
    },
    {
      "cell_type": "code",
      "execution_count": null,
      "id": "4c7b2fdf",
      "metadata": {
        "id": "4c7b2fdf"
      },
      "outputs": [],
      "source": [
        "from sklearn.discriminant_analysis import LinearDiscriminantAnalysis\n",
        "\n",
        "# Load dataset\n",
        "X, y = load_dataset()\n",
        "\n",
        "# Initialize LDA with n_components=2\n",
        "lda = LinearDiscriminantAnalysis(n_components=2)\n",
        "\n",
        "# Fit and transform data\n",
        "X_lda = lda.fit_transform(X, y)"
      ]
    }
  ],
  "metadata": {
    "kernelspec": {
      "display_name": "Python 3 (ipykernel)",
      "language": "python",
      "name": "python3"
    },
    "language_info": {
      "codemirror_mode": {
        "name": "ipython",
        "version": 3
      },
      "file_extension": ".py",
      "mimetype": "text/x-python",
      "name": "python",
      "nbconvert_exporter": "python",
      "pygments_lexer": "ipython3",
      "version": "3.8.10"
    },
    "colab": {
      "provenance": [],
      "include_colab_link": true
    }
  },
  "nbformat": 4,
  "nbformat_minor": 5
}