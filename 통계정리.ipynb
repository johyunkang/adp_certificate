{
  "nbformat": 4,
  "nbformat_minor": 0,
  "metadata": {
    "colab": {
      "provenance": [],
      "authorship_tag": "ABX9TyOw9j+IyACrrMr7RLRchBsF",
      "include_colab_link": true
    },
    "kernelspec": {
      "name": "python3",
      "display_name": "Python 3"
    },
    "language_info": {
      "name": "python"
    }
  },
  "cells": [
    {
      "cell_type": "markdown",
      "metadata": {
        "id": "view-in-github",
        "colab_type": "text"
      },
      "source": [
        "<a href=\"https://colab.research.google.com/github/johyunkang/adp_certificate/blob/main/%ED%86%B5%EA%B3%84%EC%A0%95%EB%A6%AC.ipynb\" target=\"_parent\"><img src=\"https://colab.research.google.com/assets/colab-badge.svg\" alt=\"Open In Colab\"/></a>"
      ]
    },
    {
      "cell_type": "markdown",
      "source": [
        "# 정규성검증\n",
        "\n",
        "## 정규성 검정 (Normality Test) 이란?\n",
        "\n",
        "데이터셋의 분포가 정규분포(Normal Distribution)를 따르는 지를 검정하는 것\n",
        "\n",
        "Statistics의 여러 검정법들이 데이터의 **정규분포를 가정**하고(예: `t-test` )가정하고 수행되기 때문에, 데이터 자체의 정규성을 확인하는 검정 과정이 필수적임\n",
        "\n",
        "중심극한정리에 의해 표본수(n)가 30이 넘어가면 데이터셋이 정규분포에 가까워진다.\n",
        "\n",
        "그러나, 경우에 따라 30이 넘어가도 데이터 특이성에 따라 정규분포를 반드시 따르지 않을 수 있기에, Normality Test를 통해 데이터의 정규분포를 확인해야 함\n",
        "\n",
        "## 정규성 검정 종류\n",
        "\n",
        "### 1. Shaprio-Wilks test\n",
        "\n",
        "- 표본수(n)가 2,000 미만인 데이터셋에 적합한 정규성 검정\n",
        "\n",
        "### 2. kolmogorove-Smirnov test\n",
        "\n",
        "- 표본수(n)가 2,000 초과인 데이터셋에 적합한 정규성 검정\n",
        "\n",
        "### 3. Quantile-Quantile plot (Q-Q plot, graphic test)\n",
        "\n",
        "- 데이터셋이 정규분포를 따르는지 판단하는 시각적 분석 방법\n",
        "- 분석할 데이터 종류가 많지 않다면, QQplot을 통해 시각적으로 확인해 보는게 가장 간단하며 직관적임\n",
        "\n",
        "## 정규성 검정의 H0, H1\n",
        "\n",
        "- 귀무가설(h0) : 데이터셋이 정규분포를 따른다\n",
        "- 대립가설(h1) : 데이터셋이 정규분포를 따르지 않는다\n",
        "- 귀무가설을 기각하고 대립가설이 채택된다면(p-value < 0.01 or p-value < 0.05) 해당 데이터셋은 정규분포를 따르지 않는 것이다."
      ],
      "metadata": {
        "id": "2yvjNIV5HVfQ"
      }
    },
    {
      "cell_type": "code",
      "execution_count": null,
      "metadata": {
        "id": "NWt9POceHTkk"
      },
      "outputs": [],
      "source": []
    }
  ]
}