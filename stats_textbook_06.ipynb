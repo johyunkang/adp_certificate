{
  "nbformat": 4,
  "nbformat_minor": 0,
  "metadata": {
    "colab": {
      "provenance": [],
      "mount_file_id": "1ZNXl4S63jGV2Tzd9vQm60UNkMsXxOIbH",
      "authorship_tag": "ABX9TyOundr6hkzaA8pss2IlnYlW",
      "include_colab_link": true
    },
    "kernelspec": {
      "name": "python3",
      "display_name": "Python 3"
    },
    "language_info": {
      "name": "python"
    }
  },
  "cells": [
    {
      "cell_type": "markdown",
      "metadata": {
        "id": "view-in-github",
        "colab_type": "text"
      },
      "source": [
        "<a href=\"https://colab.research.google.com/github/johyunkang/adp_certificate/blob/main/stats_textbook_06.ipynb\" target=\"_parent\"><img src=\"https://colab.research.google.com/assets/colab-badge.svg\" alt=\"Open In Colab\"/></a>"
      ]
    },
    {
      "cell_type": "markdown",
      "source": [
        "# Chapter 6 일반선형모"
      ],
      "metadata": {
        "id": "DcDdbogK3Vyy"
      }
    },
    {
      "cell_type": "markdown",
      "source": [
        "## 6.1 여러 가지 확률분포"
      ],
      "metadata": {
        "id": "tfGTIdc53Zgb"
      }
    },
    {
      "cell_type": "markdown",
      "source": [
        "### 6.1.2 이항분포"
      ],
      "metadata": {
        "id": "PXQ-F1c75Tln"
      }
    },
    {
      "cell_type": "markdown",
      "source": [
        "**이항분포**는 성공확률이 p면서 N회의 독립 베르누이 시행을 했을 때 성공한 횟수 m이 따르는 이산형 확률분포\n",
        "\n",
        "이항분포는 Binomial distribution의 약자를 취해 Bin으로 표시\n",
        "\n",
        "- $Bin(m | N, p) = _nC_m \\cdot p^m \\cdot (1-p)^{N-m}$\n",
        "- $_NC_m = \\dfrac {N!} {(N-m)! \\cdot m!}$\n",
        "- p : 성공확률\n",
        "- N : 시행횟수\n",
        "- m : 성공횟수 "
      ],
      "metadata": {
        "id": "0GDpLvR9Cgkr"
      }
    },
    {
      "cell_type": "markdown",
      "source": [
        "### 6.1.5 분석준비 (이항분포)"
      ],
      "metadata": {
        "id": "zXlpuECuEwYw"
      }
    },
    {
      "cell_type": "code",
      "execution_count": 1,
      "metadata": {
        "id": "2QvHvf1S3TKi"
      },
      "outputs": [],
      "source": [
        "import numpy as np\n",
        "import pandas as pd\n",
        "import scipy as sp\n",
        "from scipy import stats\n",
        "\n",
        "from matplotlib import pyplot as plt\n",
        "import seaborn as sns\n",
        "sns.set()\n",
        "\n",
        "%precision 3\n",
        "%matplotlib inline"
      ]
    },
    {
      "cell_type": "markdown",
      "source": [
        "### 6.1.6 이항분포(실습)"
      ],
      "metadata": {
        "id": "DteCtCseFDaQ"
      }
    },
    {
      "cell_type": "code",
      "source": [
        "# pmf : Probability Mass Function (확률질량함수)\n",
        "# 앞이 나올 확률이 50%인 동전을 2번 던져서 그중 1번 앞면이 나올 확률\n",
        "sp.stats.binom.pmf(k=1, n=2, p=0.5)\n",
        "\n",
        "np.random.seed(1)\n",
        "\n",
        "# 난수생성함수 : rvs\n",
        "# 앞이 나올 확률 20%, 10번 던져 앞이 나온 수를 세는 시행을 5회 반복\n",
        "print(sp.stats.binom.rvs(n=10, p=0.2, size=5))\n",
        "\n",
        "# N=10, p=0.2 인 이항분포\n",
        "binomial = sp.stats.binom(n=10, p=0.2)\n",
        "\n",
        "# 난수 10,000개\n",
        "rvs_binomial = binomial.rvs(size=10_000)\n",
        "\n",
        "# 확률밀도함수\n",
        "m = np.arange(0, 10, 1)\n",
        "pmf_binomial = binomial.pmf(k=m)\n",
        "\n",
        "# 난수의 히스토그램과 확률질량함수를 겹처서 그리기\n",
        "sns.distplot(rvs_binomial, bins=m, kde=False,\n",
        "             norm_hist=True)\n",
        "plt.plot(m, pmf_binomial)\n"
      ],
      "metadata": {
        "colab": {
          "base_uri": "https://localhost:8080/",
          "height": 360
        },
        "id": "MVsYoTiXFFwv",
        "outputId": "f6bf8426-c62a-4d2c-9bf4-e46d7e999a74"
      },
      "execution_count": 2,
      "outputs": [
        {
          "output_type": "stream",
          "name": "stdout",
          "text": [
            "[2 3 0 1 1]\n"
          ]
        },
        {
          "output_type": "stream",
          "name": "stderr",
          "text": [
            "/usr/local/lib/python3.8/dist-packages/seaborn/distributions.py:2619: FutureWarning: `distplot` is a deprecated function and will be removed in a future version. Please adapt your code to use either `displot` (a figure-level function with similar flexibility) or `histplot` (an axes-level function for histograms).\n",
            "  warnings.warn(msg, FutureWarning)\n"
          ]
        },
        {
          "output_type": "execute_result",
          "data": {
            "text/plain": [
              "[<matplotlib.lines.Line2D at 0x7fd0042e6370>]"
            ]
          },
          "metadata": {},
          "execution_count": 2
        },
        {
          "output_type": "display_data",
          "data": {
            "text/plain": [
              "<Figure size 432x288 with 1 Axes>"
            ],
            "image/png": "[encoded data removed]"
          },
          "metadata": {
            "needs_background": "light"
          }
        }
      ]
    },
    {
      "cell_type": "markdown",
      "source": [
        "### 6.1.7 푸아송 분포"
      ],
      "metadata": {
        "id": "DfRTCebkGveY"
      }
    },
    {
      "cell_type": "markdown",
      "source": [
        "**푸아송분포**는 1개 또는 2개, 1회 또는 2회 등의 **카운트 데이터**가 따르는 이산형 확률분포입니다.\n",
        "\n",
        "카운트 데이터는 0 이상의 정수라는 특징이 있음\n",
        "\n",
        "푸아송 분포의 모수는 **강도**(일이 일어난 횟수에 대한 기댓값, 발생 강도) &lambda; 밖에 없습니다.\n",
        "\n",
        "푸아송 분포를 따르는 확률변수는 기댓값과 분산도 &lambda; 값과 같습니다.\n",
        "\n",
        "\n",
        "사용 예\n",
        "- 낚싯대를 바꾸면 잡아 올리는 물고기 수가 달라지는지\n",
        "- 주변 환경에 따라 조사 구획내의 생물의 개체수가 변하는지\n",
        "- 날씨에 따라 상품의 판매 개수가 얼마나 달라지는지"
      ],
      "metadata": {
        "id": "5MXVVt47HUHI"
      }
    },
    {
      "cell_type": "markdown",
      "source": [
        "### 6.1.9 푸아송 분포의 확률질량함수\n",
        "\n",
        "$Pois(x | \\lambda) = \\dfrac {e^{-\\lambda}\\lambda^x} {x!}$\n",
        "\n",
        "- x : 카운트 데이터 등 이산형 확률변수\n",
        "- &lambda; : 푸아송 분포의 강도"
      ],
      "metadata": {
        "id": "iRgWMxJMDWbM"
      }
    },
    {
      "cell_type": "markdown",
      "source": [
        "### 6.1.10 이항분포와 푸아송분포의 관계\n",
        "\n",
        "푸아송 분포는 $p \\to 0, N \\to \\infty $라는 조건에서 이항분포가 $Np = \\lambda$ 인 결과라고 볼 수 있음\n",
        "\n",
        "문장으로 풀어 쓰면 '성공확률이 한없이 0에 가깝지만 시행횟수가 무한히 많은 이항분포' 임\n",
        "\n",
        "예) 교통사고 사상자수라는 카운트 데이터가 있다고 하면, 사고에 휘말릴 가능성이 있는 사람 수는 길을 걷고 있는 모든 사람 수라는 것이 되므로 `N`은 매우 큰 값이 됨. 한편 사고에 휘말릴 확률 `p`는 매우 작을 것임. 일어나기 어려운 사건 (p -> 0) 이지만 대상이 되는 사람 수가 굉장히 많을 때 (N -> 무한)의 발생건수가 푸아송 분포를 따르는 것이 됨."
      ],
      "metadata": {
        "id": "ZV5e0jJqEGMA"
      }
    },
    {
      "cell_type": "markdown",
      "source": [
        "### 6.1.11 푸아송 분포 실습"
      ],
      "metadata": {
        "id": "KQ1gMDPaGE9S"
      }
    },
    {
      "cell_type": "code",
      "source": [
        "sp.stats.poisson.pmf(k=2, mu=5)"
      ],
      "metadata": {
        "colab": {
          "base_uri": "https://localhost:8080/"
        },
        "id": "fGEpojJZGEHg",
        "outputId": "6341dc44-9624-43b3-ce89-795bfff8c7af"
      },
      "execution_count": 3,
      "outputs": [
        {
          "output_type": "execute_result",
          "data": {
            "text/plain": [
              "0.08422433748856832"
            ]
          },
          "metadata": {},
          "execution_count": 3
        }
      ]
    },
    {
      "cell_type": "code",
      "source": [
        "# 강도가 2인 푸아송 분포를 따르는 난수는 다음과 같이 얻을 수 있음\n",
        "np.random.seed(1)\n",
        "sp.stats.poisson.rvs(mu=2, size=5)"
      ],
      "metadata": {
        "colab": {
          "base_uri": "https://localhost:8080/"
        },
        "id": "VU7llmwNGQLv",
        "outputId": "28dbac89-a10c-4420-98a4-135d5482c49d"
      },
      "execution_count": 4,
      "outputs": [
        {
          "output_type": "execute_result",
          "data": {
            "text/plain": [
              "array([2, 1, 0, 1, 2])"
            ]
          },
          "metadata": {},
          "execution_count": 4
        }
      ]
    },
    {
      "cell_type": "code",
      "source": [
        "# 람다=2 인 푸아송 분포\n",
        "poisson = sp.stats.poisson(mu=2)\n",
        "\n",
        "rvs_poisson = poisson.rvs(size=10_000)\n",
        "\n",
        "# 확률질량함수\n",
        "m = np.arange(0, 10, 1)\n",
        "pmf_poisson = poisson.pmf(k=m)\n",
        "\n",
        "# 난수의 히스토그램과 확률질량함수 겹쳐 그리기\n",
        "sns.distplot(rvs_poisson, bins=m, kde=False, norm_hist=True) # 난수의 히스토그램\n",
        "plt.plot(m, pmf_poisson) # 확률질량함수"
      ],
      "metadata": {
        "colab": {
          "base_uri": "https://localhost:8080/",
          "height": 342
        },
        "id": "Fs0FNjk_GqTO",
        "outputId": "4b73db86-325b-4fb0-bc36-eced3c3c0cb1"
      },
      "execution_count": 5,
      "outputs": [
        {
          "output_type": "stream",
          "name": "stderr",
          "text": [
            "/usr/local/lib/python3.8/dist-packages/seaborn/distributions.py:2619: FutureWarning: `distplot` is a deprecated function and will be removed in a future version. Please adapt your code to use either `displot` (a figure-level function with similar flexibility) or `histplot` (an axes-level function for histograms).\n",
            "  warnings.warn(msg, FutureWarning)\n"
          ]
        },
        {
          "output_type": "execute_result",
          "data": {
            "text/plain": [
              "[<matplotlib.lines.Line2D at 0x7fd003dbde50>]"
            ]
          },
          "metadata": {},
          "execution_count": 5
        },
        {
          "output_type": "display_data",
          "data": {
            "text/plain": [
              "<Figure size 432x288 with 1 Axes>"
            ],
            "image/png": "[encoded data removed]"
          },
          "metadata": {
            "needs_background": "light"
          }
        }
      ]
    },
    {
      "cell_type": "markdown",
      "source": [
        "푸아송 분포와 이항분포의 관계를 확인하겠음\n",
        "\n",
        "시행횟수를 100,000,000회, 성공확률을 0.00000002로 한 이항분포의 확률질량함수를 강도 2인 푸아송 분포의 확률질량함수와 비교\n",
        "\n",
        "이 둘은 거의 일치"
      ],
      "metadata": {
        "id": "NuHz5ZmKGNpc"
      }
    },
    {
      "cell_type": "code",
      "source": [
        "# N이 크고 p가 작은 이항분포\n",
        "N = 100_000_000\n",
        "p = 0.000_000_02\n",
        "m = np.arange(0, 10, 1)\n",
        "\n",
        "binomial_2 = sp.stats.binom(n=N, p=p)\n",
        "\n",
        "# 확률질량함수\n",
        "pmf_binomial_2 = binomial_2.pmf(k=m)\n",
        "\n",
        "# 확률질량의 그래프\n",
        "plt.plot(m, pmf_poisson, color='gray')\n",
        "plt.plot(m, pmf_binomial_2, color='black', linestyle='dotted')"
      ],
      "metadata": {
        "colab": {
          "base_uri": "https://localhost:8080/",
          "height": 286
        },
        "id": "pdOmCsbBHv34",
        "outputId": "84570acf-0ebd-4809-b229-efbb21cab80c"
      },
      "execution_count": 6,
      "outputs": [
        {
          "output_type": "execute_result",
          "data": {
            "text/plain": [
              "[<matplotlib.lines.Line2D at 0x7fd003d3c250>]"
            ]
          },
          "metadata": {},
          "execution_count": 6
        },
        {
          "output_type": "display_data",
          "data": {
            "text/plain": [
              "<Figure size 432x288 with 1 Axes>"
            ],
            "image/png": "[encoded data removed]"
          },
          "metadata": {
            "needs_background": "light"
          }
        }
      ]
    },
    {
      "cell_type": "markdown",
      "source": [
        "### 6.1.12 그 외의 확률분"
      ],
      "metadata": {
        "id": "CKIZ8sJdI1Ma"
      }
    },
    {
      "cell_type": "markdown",
      "source": [
        "`statsmodels`에서 모델링 가능한 확률분포는\n",
        "\n",
        "- 정규분포\n",
        "- 이항분포\n",
        "- 푸아송분포\n",
        "- 음이항분포 : 푸아송분포와 마찬가지로 카운트 데이터가 따르는 확률분포. 푸아송 보다 분산이 큰것이 특징. 과분산 이슈.\n",
        "- 감마분포 : 0 이상의 값을 취하는 연속형 확률변수가 따르는 확률분포"
      ],
      "metadata": {
        "id": "gdRGWxhYI3zG"
      }
    },
    {
      "cell_type": "markdown",
      "source": [
        "## 6.2 일반선형모델의 기본 (GLM; Generalized Linear Models)"
      ],
      "metadata": {
        "id": "FoEuSVNmJXvG"
      }
    },
    {
      "cell_type": "markdown",
      "source": [
        "### 6.2.1 일반선형모델의 구성요소\n",
        "\n",
        "- 모집단이 따르는 확률분포\n",
        "- 선형예측자 : 독립변수를 선형의 관계식으로 표현한 것 (a + b*기온)\n",
        "- 링크함수 : 종속변수와 선형예측자를 서로 대응시키기 위해 사용. 종속변수에 링크함수를 적용함"
      ],
      "metadata": {
        "id": "2KGiXJdSKL5g"
      }
    },
    {
      "cell_type": "markdown",
      "source": [
        "### 6.2.5 링크함수와 확률분포의 대응\n",
        "\n",
        "|  확률분포  | 링크함수 |    모델명     |\n",
        "| :--------: | :------: | :-----------: |\n",
        "|  정규분포  | 항등함수 | 정규선형모델  |\n",
        "|  이항분포  | 로짓함수 | 로지스틱 회귀 |\n",
        "| 푸아송분포 | 로그함수 |  푸아송 회귀  |\n",
        "\n",
        "\n",
        "- 항등함수 : f(x) = x 가 되는 함수. 아무런 변환도 하지 않는 함수"
      ],
      "metadata": {
        "id": "PSdE5m7kK9iQ"
      }
    },
    {
      "cell_type": "markdown",
      "source": [
        "### 6.2.7 일반선형모델을 이용한 검정방법\n",
        "\n",
        "일반선형모델의 검정방법\n",
        "- Wald 검정 : 샘플사이즈가 클 때 추정값이 정규분포를 따르는 것을 이용한 검정\n",
        "- 우도비검정 (likelyhood ratio test) : 모델의 적합도를 비교하는 방법\n",
        "- 스코어 검정 (score test) : 별로 사용되지 않음"
      ],
      "metadata": {
        "id": "V0i3jbp-LrT-"
      }
    },
    {
      "cell_type": "markdown",
      "source": [
        "## 6.3 로지스틱 회귀\n",
        "\n",
        "로지스틱 회귀는 확률분포에 이항분포를 사용하고, 링크함수에 로짓함수를 사용한 일반선형모델\n",
        "\n",
        "독립변수는 여러개 있어도 상관없고, **연속형과 카테고리형이 섞여 있어도 상관없음**"
      ],
      "metadata": {
        "id": "aeRMT09IMCB_"
      }
    },
    {
      "cell_type": "markdown",
      "source": [
        "### 6.3.3 로짓함수\n",
        "\n",
        "**로짓함수**는 아래와 같은 함수\n",
        "\n",
        "$f(x) = log(\\dfrac {x} {1-x})$"
      ],
      "metadata": {
        "id": "3OgN_SWqOymV"
      }
    },
    {
      "cell_type": "markdown",
      "source": [
        "### 6.3.4 역함수\n",
        "\n",
        "f(a) = b 가 있을 때 a, b를 반대로 해서 g(b) = a 가 되는 함수 g(x)를 f(x)의 **역함수** 라고 함\n",
        "\n",
        "**지수함수의 역함수는 로그함수**"
      ],
      "metadata": {
        "id": "pYeEKqprO9a_"
      }
    },
    {
      "cell_type": "markdown",
      "source": [
        "### 6.3.5 로지스틱함수"
      ],
      "metadata": {
        "id": "fa-IWFzjPOdt"
      }
    },
    {
      "cell_type": "markdown",
      "source": [
        "**로지스틱함수**는 로짓함수의 **역함수**이다.\n",
        "\n",
        "로짓함수를 f(x)라 하고, 로리스틱함수를 g(x)라 하면 g(f(x)) = x 가 됨.\n",
        "\n",
        "역함수를 적용하면 변환 전의 값으로 돌아가게 됨.\n",
        "\n",
        "로지스틱 함수는 다음과 같이 정의됨\n",
        "\n",
        "$g(y) = \\dfrac {1} {1+exp(-y)}$"
      ],
      "metadata": {
        "id": "F8cydg8mRLKl"
      }
    },
    {
      "cell_type": "markdown",
      "source": [
        "### 6.3.6 로지스틱함수의 특"
      ],
      "metadata": {
        "id": "e4bwprf4RoqY"
      }
    },
    {
      "cell_type": "markdown",
      "source": [
        "지수함수인 exp(-y)는 음수가 될 수 없음.\n",
        "\n",
        "따라서 로지스틱 함수의 분모는 1 이하로 내려가지 않음.\n",
        "\n",
        "exp(-y)는 y가 작아질수록 큰 값이 됨.\n",
        "\n",
        ">   exp(-10) : 0.000045\n",
        ">\n",
        ">   exp(-5) : 0.0067\n",
        ">\n",
        ">   exp(-1) : 0.3678\n",
        ">\n",
        ">   exp(0) : 1\n",
        ">\n",
        ">   exp(1) : 2.718\n",
        ">\n",
        ">   exp(5) : 54.598\n",
        "\n",
        "\n",
        "분모가 큰값이 되면 로지스틱함수의 출력은 점점 0이 됨\n",
        "\n",
        "정리하면\n",
        "\n",
        "$y \\to \\infty 일때  \\quad g(y) \\to 1 이 됨$\n",
        "\n",
        "$y \\to -\\infty 일때  \\quad g(y) \\to 0 이 됨$\n",
        "\n",
        "때문에 로지스틱함수의 출력은 0 미만이거나 1을 초과하지 않음\n",
        "\n"
      ],
      "metadata": {
        "id": "fX5JZaKlRsY0"
      }
    },
    {
      "cell_type": "markdown",
      "source": [
        "### 6.3.7 로지스틱회귀의 구"
      ],
      "metadata": {
        "id": "ETlV2xvcUbpI"
      }
    },
    {
      "cell_type": "markdown",
      "source": [
        "로지스틱 회귀는 확률분포에 이항분포를 사용\n",
        "\n",
        "링크함수에 로짓함수를 사용한 일반선형모델"
      ],
      "metadata": {
        "id": "PtvxLg5_UelS"
      }
    },
    {
      "cell_type": "markdown",
      "source": [
        "### 6.3.8 로지스틱회귀의 우도함"
      ],
      "metadata": {
        "id": "I6FVFTwgVC3M"
      }
    },
    {
      "cell_type": "markdown",
      "source": [
        "계수 $\\beta_0, \\beta_1$ 의 추정을 배우겠음\n",
        "\n",
        "아래와 같은 데이터를 얻었다고 합시다.\n",
        "\n",
        "- 공부시간 3시간인 학생 9명 중 4명이 합격\n",
        "- 공부시간 5시간인 학생 8명 중 6명이 합격\n",
        "- 공부시간 8시간인 학생 1명 중 1명이 합격\n",
        "\n",
        "이때의 우도함수를 $\\mathcal{L}(\\beta_0,\\beta_1;N,m) $ 이라고 함.\n",
        "\n",
        "세미콜론(;) 기호의 우측은 조건을 나타냄\n",
        "- N : 시행횟수\n",
        "- m : 합격자수\n",
        "\n",
        "\n",
        "$\\mathcal{L}(\\beta_0,\\beta_1;N,m) = Bin(4 | 9, \\dfrac {1} {1+exp[-(\\beta_0 + \\beta_1 \\times 3)]}) \\times Bin(6 | 8, \\dfrac {1} {1+exp[-(\\beta_0 + \\beta_1 \\times 5)]}) \\times Bin(1 | 1, \\dfrac {1} {1+exp[-(\\beta_0 + \\beta_1 \\times 8)]})$"
      ],
      "metadata": {
        "id": "sbAPEbnnVF5O"
      }
    },
    {
      "cell_type": "markdown",
      "source": [
        "### 6.3.9 분석준비"
      ],
      "metadata": {
        "id": "J9No6LLXYBZw"
      }
    },
    {
      "cell_type": "code",
      "source": [
        "import numpy as np\n",
        "import pandas as pd\n",
        "import scipy as sp\n",
        "from scipy import stats\n",
        "\n",
        "from matplotlib import pyplot as plt\n",
        "import seaborn as sns\n",
        "sns.set()\n",
        "\n",
        "import statsmodels.formula.api as smf\n",
        "import statsmodels.api as sm\n",
        "\n",
        "%precision 3\n",
        "%matplotlib inline "
      ],
      "metadata": {
        "id": "OOkfRnbDYF-x"
      },
      "execution_count": 7,
      "outputs": []
    },
    {
      "cell_type": "code",
      "source": [
        "test_result = pd.read_csv('/content/drive/MyDrive/Colab Notebooks/adp/파이썬으로배우는통계학교과서/data/6-3-1-logistic-regression.csv')\n",
        "test_result\n",
        "# test_result.info()\n",
        "test_result[test_result['hours'] == 8].head(10)"
      ],
      "metadata": {
        "colab": {
          "base_uri": "https://localhost:8080/",
          "height": 363
        },
        "id": "tZANVs64Ye-l",
        "outputId": "ec0dfac3-9209-4345-f358-d3570d1e1e92"
      },
      "execution_count": 28,
      "outputs": [
        {
          "output_type": "execute_result",
          "data": {
            "text/plain": [
              "    hours  result\n",
              "80      8       1\n",
              "81      8       1\n",
              "82      8       1\n",
              "83      8       1\n",
              "84      8       1\n",
              "85      8       1\n",
              "86      8       1\n",
              "87      8       0\n",
              "88      8       1\n",
              "89      8       1"
            ],
            "text/html": [
              "\n",
              "  <div id=\"df-ccc7d570-6fe3-4287-bec6-11b1437e09d8\">\n",
              "    <div class=\"colab-df-container\">\n",
              "      <div>\n",
              "<style scoped>\n",
              "    .dataframe tbody tr th:only-of-type {\n",
              "        vertical-align: middle;\n",
              "    }\n",
              "\n",
              "    .dataframe tbody tr th {\n",
              "        vertical-align: top;\n",
              "    }\n",
              "\n",
              "    .dataframe thead th {\n",
              "        text-align: right;\n",
              "    }\n",
              "</style>\n",
              "<table border=\"1\" class=\"dataframe\">\n",
              "  <thead>\n",
              "    <tr style=\"text-align: right;\">\n",
              "      <th></th>\n",
              "      <th>hours</th>\n",
              "      <th>result</th>\n",
              "    </tr>\n",
              "  </thead>\n",
              "  <tbody>\n",
              "    <tr>\n",
              "      <th>80</th>\n",
              "      <td>8</td>\n",
              "      <td>1</td>\n",
              "    </tr>\n",
              "    <tr>\n",
              "      <th>81</th>\n",
              "      <td>8</td>\n",
              "      <td>1</td>\n",
              "    </tr>\n",
              "    <tr>\n",
              "      <th>82</th>\n",
              "      <td>8</td>\n",
              "      <td>1</td>\n",
              "    </tr>\n",
              "    <tr>\n",
              "      <th>83</th>\n",
              "      <td>8</td>\n",
              "      <td>1</td>\n",
              "    </tr>\n",
              "    <tr>\n",
              "      <th>84</th>\n",
              "      <td>8</td>\n",
              "      <td>1</td>\n",
              "    </tr>\n",
              "    <tr>\n",
              "      <th>85</th>\n",
              "      <td>8</td>\n",
              "      <td>1</td>\n",
              "    </tr>\n",
              "    <tr>\n",
              "      <th>86</th>\n",
              "      <td>8</td>\n",
              "      <td>1</td>\n",
              "    </tr>\n",
              "    <tr>\n",
              "      <th>87</th>\n",
              "      <td>8</td>\n",
              "      <td>0</td>\n",
              "    </tr>\n",
              "    <tr>\n",
              "      <th>88</th>\n",
              "      <td>8</td>\n",
              "      <td>1</td>\n",
              "    </tr>\n",
              "    <tr>\n",
              "      <th>89</th>\n",
              "      <td>8</td>\n",
              "      <td>1</td>\n",
              "    </tr>\n",
              "  </tbody>\n",
              "</table>\n",
              "</div>\n",
              "      <button class=\"colab-df-convert\" onclick=\"convertToInteractive('df-ccc7d570-6fe3-4287-bec6-11b1437e09d8')\"\n",
              "              title=\"Convert this dataframe to an interactive table.\"\n",
              "              style=\"display:none;\">\n",
              "        \n",
              "  <svg xmlns=\"http://www.w3.org/2000/svg\" height=\"24px\"viewBox=\"0 0 24 24\"\n",
              "       width=\"24px\">\n",
              "    <path d=\"M0 0h24v24H0V0z\" fill=\"none\"/>\n",
              "    <path d=\"M18.56 5.44l.94 2.06.94-2.06 2.06-.94-2.06-.94-.94-2.06-.94 2.06-2.06.94zm-11 1L8.5 8.5l.94-2.06 2.06-.94-2.06-.94L8.5 2.5l-.94 2.06-2.06.94zm10 10l.94 2.06.94-2.06 2.06-.94-2.06-.94-.94-2.06-.94 2.06-2.06.94z\"/><path d=\"M17.41 7.96l-1.37-1.37c-.4-.4-.92-.59-1.43-.59-.52 0-1.04.2-1.43.59L10.3 9.45l-7.72 7.72c-.78.78-.78 2.05 0 2.83L4 21.41c.39.39.9.59 1.41.59.51 0 1.02-.2 1.41-.59l7.78-7.78 2.81-2.81c.8-.78.8-2.07 0-2.86zM5.41 20L4 18.59l7.72-7.72 1.47 1.35L5.41 20z\"/>\n",
              "  </svg>\n",
              "      </button>\n",
              "      \n",
              "  <style>\n",
              "    .colab-df-container {\n",
              "      display:flex;\n",
              "      flex-wrap:wrap;\n",
              "      gap: 12px;\n",
              "    }\n",
              "\n",
              "    .colab-df-convert {\n",
              "      background-color: #E8F0FE;\n",
              "      border: none;\n",
              "      border-radius: 50%;\n",
              "      cursor: pointer;\n",
              "      display: none;\n",
              "      fill: #1967D2;\n",
              "      height: 32px;\n",
              "      padding: 0 0 0 0;\n",
              "      width: 32px;\n",
              "    }\n",
              "\n",
              "    .colab-df-convert:hover {\n",
              "      background-color: #E2EBFA;\n",
              "      box-shadow: 0px 1px 2px rgba(60, 64, 67, 0.3), 0px 1px 3px 1px rgba(60, 64, 67, 0.15);\n",
              "      fill: #174EA6;\n",
              "    }\n",
              "\n",
              "    [theme=dark] .colab-df-convert {\n",
              "      background-color: #3B4455;\n",
              "      fill: #D2E3FC;\n",
              "    }\n",
              "\n",
              "    [theme=dark] .colab-df-convert:hover {\n",
              "      background-color: #434B5C;\n",
              "      box-shadow: 0px 1px 3px 1px rgba(0, 0, 0, 0.15);\n",
              "      filter: drop-shadow(0px 1px 2px rgba(0, 0, 0, 0.3));\n",
              "      fill: #FFFFFF;\n",
              "    }\n",
              "  </style>\n",
              "\n",
              "      <script>\n",
              "        const buttonEl =\n",
              "          document.querySelector('#df-ccc7d570-6fe3-4287-bec6-11b1437e09d8 button.colab-df-convert');\n",
              "        buttonEl.style.display =\n",
              "          google.colab.kernel.accessAllowed ? 'block' : 'none';\n",
              "\n",
              "        async function convertToInteractive(key) {\n",
              "          const element = document.querySelector('#df-ccc7d570-6fe3-4287-bec6-11b1437e09d8');\n",
              "          const dataTable =\n",
              "            await google.colab.kernel.invokeFunction('convertToInteractive',\n",
              "                                                     [key], {});\n",
              "          if (!dataTable) return;\n",
              "\n",
              "          const docLinkHtml = 'Like what you see? Visit the ' +\n",
              "            '<a target=\"_blank\" href=https://colab.research.google.com/notebooks/data_table.ipynb>data table notebook</a>'\n",
              "            + ' to learn more about interactive tables.';\n",
              "          element.innerHTML = '';\n",
              "          dataTable['output_type'] = 'display_data';\n",
              "          await google.colab.output.renderOutput(dataTable, element);\n",
              "          const docLink = document.createElement('div');\n",
              "          docLink.innerHTML = docLinkHtml;\n",
              "          element.appendChild(docLink);\n",
              "        }\n",
              "      </script>\n",
              "    </div>\n",
              "  </div>\n",
              "  "
            ]
          },
          "metadata": {},
          "execution_count": 28
        }
      ]
    },
    {
      "cell_type": "code",
      "source": [
        "# 공부시간과 합격률의 관계를 그래프로\n",
        "# 가로축에 공부시간, 세로축에 합격률 지정 막대그래프\n",
        "sns.barplot(x='hours', y='result', data=test_result)\n",
        "\n",
        "# 공부시간마다의 합격률 계산\n",
        "print('공부시간 마다의 합격률 계산\\n', test_result.groupby('hours').mean())"
      ],
      "metadata": {
        "colab": {
          "base_uri": "https://localhost:8080/",
          "height": 520
        },
        "id": "SsT__nP7Y5_B",
        "outputId": "506c398c-9fc7-4ae8-f01f-07ba0c5901ac"
      },
      "execution_count": 29,
      "outputs": [
        {
          "output_type": "stream",
          "name": "stdout",
          "text": [
            "공부시간 마다의 합격률 계산\n",
            "        result\n",
            "hours        \n",
            "0         0.0\n",
            "1         0.0\n",
            "2         0.1\n",
            "3         0.1\n",
            "4         0.4\n",
            "5         0.4\n",
            "6         0.9\n",
            "7         0.8\n",
            "8         0.9\n",
            "9         1.0\n"
          ]
        },
        {
          "output_type": "display_data",
          "data": {
            "text/plain": [
              "<Figure size 432x288 with 1 Axes>"
            ],
            "image/png": "[encoded data removed]"
          },
          "metadata": {
            "needs_background": "light"
          }
        }
      ]
    },
    {
      "cell_type": "markdown",
      "source": [
        "### 6.3.11 로지스틱회귀 (실습)"
      ],
      "metadata": {
        "id": "2myLBXr4besN"
      }
    },
    {
      "cell_type": "code",
      "source": [
        "mod_glm = smf.glm(formula = 'result ~ hours', data=test_result, family=sm.families.Binomial()).fit()"
      ],
      "metadata": {
        "id": "T6KeDWLdbhGf"
      },
      "execution_count": 32,
      "outputs": []
    },
    {
      "cell_type": "markdown",
      "source": [
        "(로지스틱 회귀와는 상관없이) 일반선형모델을 추정하는 경우에는 `smf.glm` 함수를 사용\n",
        "\n",
        "- family : 확률분포지정. `sm.families.Binomial()` 은 이항분포 지정\n",
        "- 푸아송분포 지정 방법 : `sm.families.Poission()`\n",
        "- 이항분포를 지정하면 링크함수는 디폴트로 로짓함수\n",
        "- 푸아송분포를 지정하면 링크함수는 디폴트로 로그함수\n",
        "- 링크함수 강제 지정 방법 : `sm.families.Binomial(link = sm.families.links.logit)` 이라고 명시적으로 **로짓함수** 지정 가능"
      ],
      "metadata": {
        "id": "4rVEYJLvbuCJ"
      }
    },
    {
      "cell_type": "markdown",
      "source": [
        "### 6.3.12 로지스틱 회귀 결과의 출력"
      ],
      "metadata": {
        "id": "HPKkVITyc6rF"
      }
    },
    {
      "cell_type": "code",
      "source": [
        "mod_glm.summary()"
      ],
      "metadata": {
        "colab": {
          "base_uri": "https://localhost:8080/",
          "height": 287
        },
        "id": "cpJawAKmc9uh",
        "outputId": "f493acae-6106-4397-c55f-39bcc5dde6f8"
      },
      "execution_count": 33,
      "outputs": [
        {
          "output_type": "execute_result",
          "data": {
            "text/plain": [
              "<class 'statsmodels.iolib.summary.Summary'>\n",
              "\"\"\"\n",
              "                 Generalized Linear Model Regression Results                  \n",
              "==============================================================================\n",
              "Dep. Variable:                 result   No. Observations:                  100\n",
              "Model:                            GLM   Df Residuals:                       98\n",
              "Model Family:                Binomial   Df Model:                            1\n",
              "Link Function:                  logit   Scale:                          1.0000\n",
              "Method:                          IRLS   Log-Likelihood:                -34.014\n",
              "Date:                Wed, 11 Jan 2023   Deviance:                       68.028\n",
              "Time:                        15:30:07   Pearson chi2:                     84.9\n",
              "No. Iterations:                     6                                         \n",
              "Covariance Type:            nonrobust                                         \n",
              "==============================================================================\n",
              "                 coef    std err          z      P>|z|      [0.025      0.975]\n",
              "------------------------------------------------------------------------------\n",
              "Intercept     -4.5587      0.901     -5.061      0.000      -6.324      -2.793\n",
              "hours          0.9289      0.174      5.345      0.000       0.588       1.270\n",
              "==============================================================================\n",
              "\"\"\""
            ],
            "text/html": [
              "<table class=\"simpletable\">\n",
              "<caption>Generalized Linear Model Regression Results</caption>\n",
              "<tr>\n",
              "  <th>Dep. Variable:</th>        <td>result</td>      <th>  No. Observations:  </th>  <td>   100</td> \n",
              "</tr>\n",
              "<tr>\n",
              "  <th>Model:</th>                  <td>GLM</td>       <th>  Df Residuals:      </th>  <td>    98</td> \n",
              "</tr>\n",
              "<tr>\n",
              "  <th>Model Family:</th>        <td>Binomial</td>     <th>  Df Model:          </th>  <td>     1</td> \n",
              "</tr>\n",
              "<tr>\n",
              "  <th>Link Function:</th>         <td>logit</td>      <th>  Scale:             </th> <td>  1.0000</td>\n",
              "</tr>\n",
              "<tr>\n",
              "  <th>Method:</th>                <td>IRLS</td>       <th>  Log-Likelihood:    </th> <td> -34.014</td>\n",
              "</tr>\n",
              "<tr>\n",
              "  <th>Date:</th>            <td>Wed, 11 Jan 2023</td> <th>  Deviance:          </th> <td>  68.028</td>\n",
              "</tr>\n",
              "<tr>\n",
              "  <th>Time:</th>                <td>15:30:07</td>     <th>  Pearson chi2:      </th>  <td>  84.9</td> \n",
              "</tr>\n",
              "<tr>\n",
              "  <th>No. Iterations:</th>          <td>6</td>        <th>                     </th>     <td> </td>   \n",
              "</tr>\n",
              "<tr>\n",
              "  <th>Covariance Type:</th>     <td>nonrobust</td>    <th>                     </th>     <td> </td>   \n",
              "</tr>\n",
              "</table>\n",
              "<table class=\"simpletable\">\n",
              "<tr>\n",
              "      <td></td>         <th>coef</th>     <th>std err</th>      <th>z</th>      <th>P>|z|</th>  <th>[0.025</th>    <th>0.975]</th>  \n",
              "</tr>\n",
              "<tr>\n",
              "  <th>Intercept</th> <td>   -4.5587</td> <td>    0.901</td> <td>   -5.061</td> <td> 0.000</td> <td>   -6.324</td> <td>   -2.793</td>\n",
              "</tr>\n",
              "<tr>\n",
              "  <th>hours</th>     <td>    0.9289</td> <td>    0.174</td> <td>    5.345</td> <td> 0.000</td> <td>    0.588</td> <td>    1.270</td>\n",
              "</tr>\n",
              "</table>"
            ]
          },
          "metadata": {},
          "execution_count": 33
        }
      ]
    },
    {
      "cell_type": "markdown",
      "source": [
        "- Method : IRLS (반복적인 최소제곱법의 약자; Iterative Reweighted Least Squares )\n",
        "- No.Iterations : 내부에서 계산한 반복수\n",
        "- 계수에 대해서는 t검정 대신 Wald 검정 결과가 출력되고 있음\n",
        "- 공부시간 계수는 양수임"
      ],
      "metadata": {
        "id": "IPV05B9Oc_av"
      }
    },
    {
      "cell_type": "markdown",
      "source": [
        "### 6.3.13 모델 선택"
      ],
      "metadata": {
        "id": "xRQZrqHxdo8B"
      }
    }
  ]
}