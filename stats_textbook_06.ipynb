{
  "nbformat": 4,
  "nbformat_minor": 0,
  "metadata": {
    "colab": {
      "provenance": [],
      "authorship_tag": "ABX9TyP77LSirGvfr7yEyvcu11UX",
      "include_colab_link": true
    },
    "kernelspec": {
      "name": "python3",
      "display_name": "Python 3"
    },
    "language_info": {
      "name": "python"
    }
  },
  "cells": [
    {
      "cell_type": "markdown",
      "metadata": {
        "id": "view-in-github",
        "colab_type": "text"
      },
      "source": [
        "<a href=\"https://colab.research.google.com/github/johyunkang/adp_certificate/blob/main/stats_textbook_06.ipynb\" target=\"_parent\"><img src=\"https://colab.research.google.com/assets/colab-badge.svg\" alt=\"Open In Colab\"/></a>"
      ]
    },
    {
      "cell_type": "markdown",
      "source": [
        "# Chapter 6 일반선형모"
      ],
      "metadata": {
        "id": "DcDdbogK3Vyy"
      }
    },
    {
      "cell_type": "markdown",
      "source": [
        "## 6.1 여러 가지 확률분포"
      ],
      "metadata": {
        "id": "tfGTIdc53Zgb"
      }
    },
    {
      "cell_type": "markdown",
      "source": [
        "### 6.1.2 이항분포"
      ],
      "metadata": {
        "id": "PXQ-F1c75Tln"
      }
    },
    {
      "cell_type": "code",
      "execution_count": null,
      "metadata": {
        "id": "2QvHvf1S3TKi"
      },
      "outputs": [],
      "source": []
    }
  ]
}