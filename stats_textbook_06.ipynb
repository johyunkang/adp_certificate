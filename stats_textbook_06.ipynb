{
  "nbformat": 4,
  "nbformat_minor": 0,
  "metadata": {
    "colab": {
      "provenance": [],
      "authorship_tag": "ABX9TyMtNg080QyQBQfgKisO+BWo",
      "include_colab_link": true
    },
    "kernelspec": {
      "name": "python3",
      "display_name": "Python 3"
    },
    "language_info": {
      "name": "python"
    }
  },
  "cells": [
    {
      "cell_type": "markdown",
      "metadata": {
        "id": "view-in-github",
        "colab_type": "text"
      },
      "source": [
        "<a href=\"https://colab.research.google.com/github/johyunkang/adp_certificate/blob/main/stats_textbook_06.ipynb\" target=\"_parent\"><img src=\"https://colab.research.google.com/assets/colab-badge.svg\" alt=\"Open In Colab\"/></a>"
      ]
    },
    {
      "cell_type": "markdown",
      "source": [
        "# Chapter 6 일반선형모"
      ],
      "metadata": {
        "id": "DcDdbogK3Vyy"
      }
    },
    {
      "cell_type": "markdown",
      "source": [
        "## 6.1 여러 가지 확률분포"
      ],
      "metadata": {
        "id": "tfGTIdc53Zgb"
      }
    },
    {
      "cell_type": "markdown",
      "source": [
        "### 6.1.2 이항분포"
      ],
      "metadata": {
        "id": "PXQ-F1c75Tln"
      }
    },
    {
      "cell_type": "markdown",
      "source": [
        "**이항분포**는 성공확률이 p면서 N회의 독립 베르누이 시행을 했을 때 성공한 횟수 m이 따르는 이산형 확률분포\n",
        "\n",
        "이항분포는 Binomial distribution의 약자를 취해 Bin으로 표시\n",
        "\n",
        "- $Bin(m | N, p) = _nC_m \\cdot p^m \\cdot (1-p)^{N-m}$\n",
        "- $_NC_m = \\dfrac {N!} {(N-m)! \\cdot m!}$\n",
        "- p : 성공확률\n",
        "- N : 시행횟수\n",
        "- m : 성공횟수 "
      ],
      "metadata": {
        "id": "0GDpLvR9Cgkr"
      }
    },
    {
      "cell_type": "markdown",
      "source": [
        "### 6.1.5 분석준비 (이항분포)"
      ],
      "metadata": {
        "id": "zXlpuECuEwYw"
      }
    },
    {
      "cell_type": "code",
      "execution_count": 1,
      "metadata": {
        "id": "2QvHvf1S3TKi"
      },
      "outputs": [],
      "source": [
        "import numpy as np\n",
        "import pandas as pd\n",
        "import scipy as sp\n",
        "from scipy import stats\n",
        "\n",
        "from matplotlib import pyplot as plt\n",
        "import seaborn as sns\n",
        "sns.set()\n",
        "\n",
        "%precision 3\n",
        "%matplotlib inline"
      ]
    },
    {
      "cell_type": "markdown",
      "source": [
        "### 6.1.6 이항분포(실습)"
      ],
      "metadata": {
        "id": "DteCtCseFDaQ"
      }
    },
    {
      "cell_type": "code",
      "source": [
        "# pmf : Probability Mass Function (확률질량함수)\n",
        "# 앞이 나올 확률이 50%인 동전을 2번 던져서 그중 1번 앞면이 나올 확률\n",
        "sp.stats.binom.pmf(k=1, n=2, p=0.5)\n",
        "\n",
        "np.random.seed(1)\n",
        "\n",
        "# 난수생성함수 : rvs\n",
        "# 앞이 나올 확률 20%, 10번 던져 앞이 나온 수를 세는 시행을 5회 반복\n",
        "print(sp.stats.binom.rvs(n=10, p=0.2, size=5))\n",
        "\n",
        "# N=10, p=0.2 인 이항분포\n",
        "binomial = sp.stats.binom(n=10, p=0.2)\n",
        "\n",
        "# 난수 10,000개\n",
        "rvs_binomial = binomial.rvs(size=10_000)\n",
        "\n",
        "# 확률밀도함수\n",
        "m = np.arange(0, 10, 1)\n",
        "pmf_binomial = binomial.pmf(k=m)\n",
        "\n",
        "# 난수의 히스토그램과 확률질량함수를 겹처서 그리기\n",
        "sns.distplot(rvs_binomial, bins=m, kde=False,\n",
        "             norm_hist=True)\n",
        "plt.plot(m, pmf_binomial)\n"
      ],
      "metadata": {
        "colab": {
          "base_uri": "https://localhost:8080/",
          "height": 360
        },
        "id": "MVsYoTiXFFwv",
        "outputId": "5fe8e516-f5b4-445e-d914-f3382df97708"
      },
      "execution_count": 5,
      "outputs": [
        {
          "output_type": "stream",
          "name": "stdout",
          "text": [
            "[2 3 0 1 1]\n"
          ]
        },
        {
          "output_type": "stream",
          "name": "stderr",
          "text": [
            "/usr/local/lib/python3.8/dist-packages/seaborn/distributions.py:2619: FutureWarning: `distplot` is a deprecated function and will be removed in a future version. Please adapt your code to use either `displot` (a figure-level function with similar flexibility) or `histplot` (an axes-level function for histograms).\n",
            "  warnings.warn(msg, FutureWarning)\n"
          ]
        },
        {
          "output_type": "execute_result",
          "data": {
            "text/plain": [
              "[<matplotlib.lines.Line2D at 0x7f0eb67b4e80>]"
            ]
          },
          "metadata": {},
          "execution_count": 5
        },
        {
          "output_type": "display_data",
          "data": {
            "text/plain": [
              "<Figure size 432x288 with 1 Axes>"
            ],
            "image/png": "[encoded data removed]"
          },
          "metadata": {
            "needs_background": "light"
          }
        }
      ]
    },
    {
      "cell_type": "markdown",
      "source": [
        "### 6.1.7 푸아송 분포"
      ],
      "metadata": {
        "id": "DfRTCebkGveY"
      }
    },
    {
      "cell_type": "markdown",
      "source": [],
      "metadata": {
        "id": "5MXVVt47HUHI"
      }
    }
  ]
}