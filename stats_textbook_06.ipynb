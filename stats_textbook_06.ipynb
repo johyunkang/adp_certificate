{
  "nbformat": 4,
  "nbformat_minor": 0,
  "metadata": {
    "colab": {
      "provenance": [],
      "mount_file_id": "1ZNXl4S63jGV2Tzd9vQm60UNkMsXxOIbH",
      "authorship_tag": "ABX9TyNftO9XK9uzK50e8QXWqHCK",
      "include_colab_link": true
    },
    "kernelspec": {
      "name": "python3",
      "display_name": "Python 3"
    },
    "language_info": {
      "name": "python"
    }
  },
  "cells": [
    {
      "cell_type": "markdown",
      "metadata": {
        "id": "view-in-github",
        "colab_type": "text"
      },
      "source": [
        "<a href=\"https://colab.research.google.com/github/johyunkang/adp_certificate/blob/main/stats_textbook_06.ipynb\" target=\"_parent\"><img src=\"https://colab.research.google.com/assets/colab-badge.svg\" alt=\"Open In Colab\"/></a>"
      ]
    },
    {
      "cell_type": "markdown",
      "source": [
        "# Chapter 6 일반선형모"
      ],
      "metadata": {
        "id": "DcDdbogK3Vyy"
      }
    },
    {
      "cell_type": "markdown",
      "source": [
        "## 6.1 여러 가지 확률분포"
      ],
      "metadata": {
        "id": "tfGTIdc53Zgb"
      }
    },
    {
      "cell_type": "markdown",
      "source": [
        "### 6.1.2 이항분포"
      ],
      "metadata": {
        "id": "PXQ-F1c75Tln"
      }
    },
    {
      "cell_type": "markdown",
      "source": [
        "**이항분포**는 성공확률이 p면서 N회의 독립 베르누이 시행을 했을 때 성공한 횟수 m이 따르는 이산형 확률분포\n",
        "\n",
        "이항분포는 Binomial distribution의 약자를 취해 Bin으로 표시\n",
        "\n",
        "- $Bin(m | N, p) = _nC_m \\cdot p^m \\cdot (1-p)^{N-m}$\n",
        "- $_NC_m = \\dfrac {N!} {(N-m)! \\cdot m!}$\n",
        "- p : 성공확률\n",
        "- N : 시행횟수\n",
        "- m : 성공횟수 "
      ],
      "metadata": {
        "id": "0GDpLvR9Cgkr"
      }
    },
    {
      "cell_type": "markdown",
      "source": [
        "### 6.1.5 분석준비 (이항분포)"
      ],
      "metadata": {
        "id": "zXlpuECuEwYw"
      }
    },
    {
      "cell_type": "code",
      "execution_count": 1,
      "metadata": {
        "id": "2QvHvf1S3TKi"
      },
      "outputs": [],
      "source": [
        "import numpy as np\n",
        "import pandas as pd\n",
        "import scipy as sp\n",
        "from scipy import stats\n",
        "\n",
        "from matplotlib import pyplot as plt\n",
        "import seaborn as sns\n",
        "sns.set()\n",
        "\n",
        "%precision 3\n",
        "%matplotlib inline"
      ]
    },
    {
      "cell_type": "markdown",
      "source": [
        "### 6.1.6 이항분포(실습)"
      ],
      "metadata": {
        "id": "DteCtCseFDaQ"
      }
    },
    {
      "cell_type": "code",
      "source": [
        "# pmf : Probability Mass Function (확률질량함수)\n",
        "# 앞이 나올 확률이 50%인 동전을 2번 던져서 그중 1번 앞면이 나올 확률\n",
        "sp.stats.binom.pmf(k=1, n=2, p=0.5)\n",
        "\n",
        "np.random.seed(1)\n",
        "\n",
        "# 난수생성함수 : rvs\n",
        "# 앞이 나올 확률 20%, 10번 던져 앞이 나온 수를 세는 시행을 5회 반복\n",
        "print(sp.stats.binom.rvs(n=10, p=0.2, size=5))\n",
        "\n",
        "# N=10, p=0.2 인 이항분포\n",
        "binomial = sp.stats.binom(n=10, p=0.2)\n",
        "\n",
        "# 난수 10,000개\n",
        "rvs_binomial = binomial.rvs(size=10_000)\n",
        "\n",
        "# 확률밀도함수\n",
        "m = np.arange(0, 10, 1)\n",
        "pmf_binomial = binomial.pmf(k=m)\n",
        "\n",
        "# 난수의 히스토그램과 확률질량함수를 겹처서 그리기\n",
        "sns.distplot(rvs_binomial, bins=m, kde=False,\n",
        "             norm_hist=True)\n",
        "plt.plot(m, pmf_binomial)\n"
      ],
      "metadata": {
        "colab": {
          "base_uri": "https://localhost:8080/",
          "height": 360
        },
        "id": "MVsYoTiXFFwv",
        "outputId": "0f3bf87c-aaf2-4264-e232-3a8c893f9d15"
      },
      "execution_count": 2,
      "outputs": [
        {
          "output_type": "stream",
          "name": "stdout",
          "text": [
            "[2 3 0 1 1]\n"
          ]
        },
        {
          "output_type": "stream",
          "name": "stderr",
          "text": [
            "/usr/local/lib/python3.8/dist-packages/seaborn/distributions.py:2619: FutureWarning: `distplot` is a deprecated function and will be removed in a future version. Please adapt your code to use either `displot` (a figure-level function with similar flexibility) or `histplot` (an axes-level function for histograms).\n",
            "  warnings.warn(msg, FutureWarning)\n"
          ]
        },
        {
          "output_type": "execute_result",
          "data": {
            "text/plain": [
              "[<matplotlib.lines.Line2D at 0x7f00dcea16a0>]"
            ]
          },
          "metadata": {},
          "execution_count": 2
        },
        {
          "output_type": "display_data",
          "data": {
            "text/plain": [
              "<Figure size 432x288 with 1 Axes>"
            ],
            "image/png": "[encoded data removed]"
          },
          "metadata": {
            "needs_background": "light"
          }
        }
      ]
    },
    {
      "cell_type": "markdown",
      "source": [
        "### 6.1.7 푸아송 분포"
      ],
      "metadata": {
        "id": "DfRTCebkGveY"
      }
    },
    {
      "cell_type": "markdown",
      "source": [
        "**푸아송분포**는 1개 또는 2개, 1회 또는 2회 등의 **카운트 데이터**가 따르는 이산형 확률분포입니다.\n",
        "\n",
        "카운트 데이터는 0 이상의 정수라는 특징이 있음\n",
        "\n",
        "푸아송 분포의 모수는 **강도**(일이 일어난 횟수에 대한 기댓값, 발생 강도) &lambda; 밖에 없습니다.\n",
        "\n",
        "푸아송 분포를 따르는 확률변수는 기댓값과 분산도 &lambda; 값과 같습니다.\n",
        "\n",
        "\n",
        "사용 예\n",
        "- 낚싯대를 바꾸면 잡아 올리는 물고기 수가 달라지는지\n",
        "- 주변 환경에 따라 조사 구획내의 생물의 개체수가 변하는지\n",
        "- 날씨에 따라 상품의 판매 개수가 얼마나 달라지는지"
      ],
      "metadata": {
        "id": "5MXVVt47HUHI"
      }
    },
    {
      "cell_type": "markdown",
      "source": [
        "### 6.1.9 푸아송 분포의 확률질량함수\n",
        "\n",
        "$Pois(x | \\lambda) = \\dfrac {e^{-\\lambda}\\lambda^x} {x!}$\n",
        "\n",
        "- x : 카운트 데이터 등 이산형 확률변수\n",
        "- &lambda; : 푸아송 분포의 강도"
      ],
      "metadata": {
        "id": "iRgWMxJMDWbM"
      }
    },
    {
      "cell_type": "markdown",
      "source": [
        "### 6.1.10 이항분포와 푸아송분포의 관계\n",
        "\n",
        "푸아송 분포는 $p \\to 0, N \\to \\infty $라는 조건에서 이항분포가 $Np = \\lambda$ 인 결과라고 볼 수 있음\n",
        "\n",
        "문장으로 풀어 쓰면 '성공확률이 한없이 0에 가깝지만 시행횟수가 무한히 많은 이항분포' 임\n",
        "\n",
        "예) 교통사고 사상자수라는 카운트 데이터가 있다고 하면, 사고에 휘말릴 가능성이 있는 사람 수는 길을 걷고 있는 모든 사람 수라는 것이 되므로 `N`은 매우 큰 값이 됨. 한편 사고에 휘말릴 확률 `p`는 매우 작을 것임. 일어나기 어려운 사건 (p -> 0) 이지만 대상이 되는 사람 수가 굉장히 많을 때 (N -> 무한)의 발생건수가 푸아송 분포를 따르는 것이 됨."
      ],
      "metadata": {
        "id": "ZV5e0jJqEGMA"
      }
    },
    {
      "cell_type": "markdown",
      "source": [
        "### 6.1.11 푸아송 분포 실습"
      ],
      "metadata": {
        "id": "KQ1gMDPaGE9S"
      }
    },
    {
      "cell_type": "code",
      "source": [
        "sp.stats.poisson.pmf(k=2, mu=5)"
      ],
      "metadata": {
        "colab": {
          "base_uri": "https://localhost:8080/"
        },
        "id": "fGEpojJZGEHg",
        "outputId": "ee47a0ca-5739-4367-87ee-9737a908e51e"
      },
      "execution_count": 3,
      "outputs": [
        {
          "output_type": "execute_result",
          "data": {
            "text/plain": [
              "0.08422433748856832"
            ]
          },
          "metadata": {},
          "execution_count": 3
        }
      ]
    },
    {
      "cell_type": "code",
      "source": [
        "# 강도가 2인 푸아송 분포를 따르는 난수는 다음과 같이 얻을 수 있음\n",
        "np.random.seed(1)\n",
        "sp.stats.poisson.rvs(mu=2, size=5)"
      ],
      "metadata": {
        "colab": {
          "base_uri": "https://localhost:8080/"
        },
        "id": "VU7llmwNGQLv",
        "outputId": "41df0755-0c3d-4d18-9911-d6e5d12b2fd7"
      },
      "execution_count": 4,
      "outputs": [
        {
          "output_type": "execute_result",
          "data": {
            "text/plain": [
              "array([2, 1, 0, 1, 2])"
            ]
          },
          "metadata": {},
          "execution_count": 4
        }
      ]
    },
    {
      "cell_type": "code",
      "source": [
        "# 람다=2 인 푸아송 분포\n",
        "poisson = sp.stats.poisson(mu=2)\n",
        "\n",
        "rvs_poisson = poisson.rvs(size=10_000)\n",
        "\n",
        "# 확률질량함수\n",
        "m = np.arange(0, 10, 1)\n",
        "pmf_poisson = poisson.pmf(k=m)\n",
        "\n",
        "# 난수의 히스토그램과 확률질량함수 겹쳐 그리기\n",
        "sns.distplot(rvs_poisson, bins=m, kde=False, norm_hist=True) # 난수의 히스토그램\n",
        "plt.plot(m, pmf_poisson) # 확률질량함수"
      ],
      "metadata": {
        "colab": {
          "base_uri": "https://localhost:8080/",
          "height": 342
        },
        "id": "Fs0FNjk_GqTO",
        "outputId": "62173811-2153-4d42-a0bf-fa7272631b6c"
      },
      "execution_count": 5,
      "outputs": [
        {
          "output_type": "stream",
          "name": "stderr",
          "text": [
            "/usr/local/lib/python3.8/dist-packages/seaborn/distributions.py:2619: FutureWarning: `distplot` is a deprecated function and will be removed in a future version. Please adapt your code to use either `displot` (a figure-level function with similar flexibility) or `histplot` (an axes-level function for histograms).\n",
            "  warnings.warn(msg, FutureWarning)\n"
          ]
        },
        {
          "output_type": "execute_result",
          "data": {
            "text/plain": [
              "[<matplotlib.lines.Line2D at 0x7f00dc981640>]"
            ]
          },
          "metadata": {},
          "execution_count": 5
        },
        {
          "output_type": "display_data",
          "data": {
            "text/plain": [
              "<Figure size 432x288 with 1 Axes>"
            ],
            "image/png": "[encoded data removed]"
          },
          "metadata": {
            "needs_background": "light"
          }
        }
      ]
    },
    {
      "cell_type": "markdown",
      "source": [
        "푸아송 분포와 이항분포의 관계를 확인하겠음\n",
        "\n",
        "시행횟수를 100,000,000회, 성공확률을 0.00000002로 한 이항분포의 확률질량함수를 강도 2인 푸아송 분포의 확률질량함수와 비교\n",
        "\n",
        "이 둘은 거의 일치"
      ],
      "metadata": {
        "id": "NuHz5ZmKGNpc"
      }
    },
    {
      "cell_type": "code",
      "source": [
        "# N이 크고 p가 작은 이항분포\n",
        "N = 100_000_000\n",
        "p = 0.000_000_02\n",
        "m = np.arange(0, 10, 1)\n",
        "\n",
        "binomial_2 = sp.stats.binom(n=N, p=p)\n",
        "\n",
        "# 확률질량함수\n",
        "pmf_binomial_2 = binomial_2.pmf(k=m)\n",
        "\n",
        "# 확률질량의 그래프\n",
        "plt.plot(m, pmf_poisson, color='gray')\n",
        "plt.plot(m, pmf_binomial_2, color='black', linestyle='dotted')"
      ],
      "metadata": {
        "colab": {
          "base_uri": "https://localhost:8080/",
          "height": 286
        },
        "id": "pdOmCsbBHv34",
        "outputId": "cd35abd8-dda8-464f-9e81-f0998c6511ae"
      },
      "execution_count": 6,
      "outputs": [
        {
          "output_type": "execute_result",
          "data": {
            "text/plain": [
              "[<matplotlib.lines.Line2D at 0x7f00dc8f2940>]"
            ]
          },
          "metadata": {},
          "execution_count": 6
        },
        {
          "output_type": "display_data",
          "data": {
            "text/plain": [
              "<Figure size 432x288 with 1 Axes>"
            ],
            "image/png": "[encoded data removed]"
          },
          "metadata": {
            "needs_background": "light"
          }
        }
      ]
    },
    {
      "cell_type": "markdown",
      "source": [
        "### 6.1.12 그 외의 확률분"
      ],
      "metadata": {
        "id": "CKIZ8sJdI1Ma"
      }
    },
    {
      "cell_type": "markdown",
      "source": [
        "`statsmodels`에서 모델링 가능한 확률분포는\n",
        "\n",
        "- 정규분포\n",
        "- 이항분포\n",
        "- 푸아송분포\n",
        "- 음이항분포 : 푸아송분포와 마찬가지로 카운트 데이터가 따르는 확률분포. 푸아송 보다 분산이 큰것이 특징. 과분산 이슈.\n",
        "- 감마분포 : 0 이상의 값을 취하는 연속형 확률변수가 따르는 확률분포"
      ],
      "metadata": {
        "id": "gdRGWxhYI3zG"
      }
    },
    {
      "cell_type": "markdown",
      "source": [
        "## 6.2 일반선형모델의 기본 (GLM; Generalized Linear Models)"
      ],
      "metadata": {
        "id": "FoEuSVNmJXvG"
      }
    },
    {
      "cell_type": "markdown",
      "source": [
        "### 6.2.1 일반선형모델의 구성요소\n",
        "\n",
        "- 모집단이 따르는 확률분포\n",
        "- 선형예측자 : 독립변수를 선형의 관계식으로 표현한 것 (a + b*기온)\n",
        "- 링크함수 : 종속변수와 선형예측자를 서로 대응시키기 위해 사용. 종속변수에 링크함수를 적용함"
      ],
      "metadata": {
        "id": "2KGiXJdSKL5g"
      }
    },
    {
      "cell_type": "markdown",
      "source": [
        "### 6.2.5 링크함수와 확률분포의 대응\n",
        "\n",
        "|  확률분포  | 링크함수 |    모델명     |\n",
        "| :--------: | :------: | :-----------: |\n",
        "|  정규분포  | 항등함수 | 정규선형모델  |\n",
        "|  이항분포  | 로짓함수 | 로지스틱 회귀 |\n",
        "| 푸아송분포 | 로그함수 |  푸아송 회귀  |\n",
        "\n",
        "\n",
        "- 항등함수 : f(x) = x 가 되는 함수. 아무런 변환도 하지 않는 함수"
      ],
      "metadata": {
        "id": "PSdE5m7kK9iQ"
      }
    },
    {
      "cell_type": "markdown",
      "source": [
        "### 6.2.7 일반선형모델을 이용한 검정방법\n",
        "\n",
        "일반선형모델의 검정방법\n",
        "- Wald 검정 : 샘플사이즈가 클 때 추정값이 정규분포를 따르는 것을 이용한 검정\n",
        "- 우도비검정 (likelyhood ratio test) : 모델의 적합도를 비교하는 방법\n",
        "- 스코어 검정 (score test) : 별로 사용되지 않음"
      ],
      "metadata": {
        "id": "V0i3jbp-LrT-"
      }
    },
    {
      "cell_type": "markdown",
      "source": [
        "## 6.3 로지스틱 회귀\n",
        "\n",
        "로지스틱 회귀는 확률분포에 이항분포를 사용하고, 링크함수에 로짓함수를 사용한 일반선형모델\n",
        "\n",
        "독립변수는 여러개 있어도 상관없고, **연속형과 카테고리형이 섞여 있어도 상관없음**"
      ],
      "metadata": {
        "id": "aeRMT09IMCB_"
      }
    },
    {
      "cell_type": "markdown",
      "source": [
        "### 6.3.3 로짓함수\n",
        "\n",
        "**로짓함수**는 아래와 같은 함수\n",
        "\n",
        "$f(x) = log(\\dfrac {x} {1-x})$"
      ],
      "metadata": {
        "id": "3OgN_SWqOymV"
      }
    },
    {
      "cell_type": "markdown",
      "source": [
        "### 6.3.4 역함수\n",
        "\n",
        "f(a) = b 가 있을 때 a, b를 반대로 해서 g(b) = a 가 되는 함수 g(x)를 f(x)의 **역함수** 라고 함\n",
        "\n",
        "**지수함수의 역함수는 로그함수**"
      ],
      "metadata": {
        "id": "pYeEKqprO9a_"
      }
    },
    {
      "cell_type": "markdown",
      "source": [
        "### 6.3.5 로지스틱함수"
      ],
      "metadata": {
        "id": "fa-IWFzjPOdt"
      }
    },
    {
      "cell_type": "markdown",
      "source": [
        "**로지스틱함수**는 로짓함수의 **역함수**이다.\n",
        "\n",
        "로짓함수를 f(x)라 하고, 로리스틱함수를 g(x)라 하면 g(f(x)) = x 가 됨.\n",
        "\n",
        "역함수를 적용하면 변환 전의 값으로 돌아가게 됨.\n",
        "\n",
        "로지스틱 함수는 다음과 같이 정의됨\n",
        "\n",
        "$g(y) = \\dfrac {1} {1+exp(-y)}$"
      ],
      "metadata": {
        "id": "F8cydg8mRLKl"
      }
    },
    {
      "cell_type": "markdown",
      "source": [
        "### 6.3.6 로지스틱함수의 특징\n"
      ],
      "metadata": {
        "id": "e4bwprf4RoqY"
      }
    },
    {
      "cell_type": "markdown",
      "source": [
        "지수함수인 exp(-y)는 음수가 될 수 없음.\n",
        "\n",
        "따라서 로지스틱 함수의 분모는 1 이하로 내려가지 않음.\n",
        "\n",
        "exp(-y)는 y가 작아질수록 큰 값이 됨.\n",
        "\n",
        ">   exp(-10) : 0.000045\n",
        ">\n",
        ">   exp(-5) : 0.0067\n",
        ">\n",
        ">   exp(-1) : 0.3678\n",
        ">\n",
        ">   exp(0) : 1\n",
        ">\n",
        ">   exp(1) : 2.718\n",
        ">\n",
        ">   exp(5) : 54.598\n",
        "\n",
        "\n",
        "분모가 큰값이 되면 로지스틱함수의 출력은 점점 0이 됨\n",
        "\n",
        "정리하면\n",
        "\n",
        "$y \\to \\infty 일때  \\quad g(y) \\to 1 이 됨$\n",
        "\n",
        "$y \\to -\\infty 일때  \\quad g(y) \\to 0 이 됨$\n",
        "\n",
        "때문에 로지스틱함수의 출력은 0 미만이거나 1을 초과하지 않음\n",
        "\n"
      ],
      "metadata": {
        "id": "fX5JZaKlRsY0"
      }
    },
    {
      "cell_type": "markdown",
      "source": [
        "### 6.3.7 로지스틱회귀의 구조 "
      ],
      "metadata": {
        "id": "ETlV2xvcUbpI"
      }
    },
    {
      "cell_type": "markdown",
      "source": [
        "로지스틱 회귀는 확률분포에 이항분포를 사용\n",
        "\n",
        "링크함수에 로짓함수를 사용한 일반선형모델"
      ],
      "metadata": {
        "id": "PtvxLg5_UelS"
      }
    },
    {
      "cell_type": "markdown",
      "source": [
        "### 6.3.8 로지스틱회귀의 우도함"
      ],
      "metadata": {
        "id": "I6FVFTwgVC3M"
      }
    },
    {
      "cell_type": "markdown",
      "source": [
        "계수 $\\beta_0, \\beta_1$ 의 추정을 배우겠음\n",
        "\n",
        "아래와 같은 데이터를 얻었다고 합시다.\n",
        "\n",
        "- 공부시간 3시간인 학생 9명 중 4명이 합격\n",
        "- 공부시간 5시간인 학생 8명 중 6명이 합격\n",
        "- 공부시간 8시간인 학생 1명 중 1명이 합격\n",
        "\n",
        "이때의 우도함수를 $\\mathcal{L}(\\beta_0,\\beta_1;N,m) $ 이라고 함.\n",
        "\n",
        "세미콜론(;) 기호의 우측은 조건을 나타냄\n",
        "- N : 시행횟수\n",
        "- m : 합격자수\n",
        "\n",
        "\n",
        "$\\mathcal{L}(\\beta_0,\\beta_1;N,m) = Bin(4 | 9, \\dfrac {1} {1+exp[-(\\beta_0 + \\beta_1 \\times 3)]}) \\times Bin(6 | 8, \\dfrac {1} {1+exp[-(\\beta_0 + \\beta_1 \\times 5)]}) \\times Bin(1 | 1, \\dfrac {1} {1+exp[-(\\beta_0 + \\beta_1 \\times 8)]})$"
      ],
      "metadata": {
        "id": "sbAPEbnnVF5O"
      }
    },
    {
      "cell_type": "markdown",
      "source": [
        "### 6.3.9 분석준비"
      ],
      "metadata": {
        "id": "J9No6LLXYBZw"
      }
    },
    {
      "cell_type": "code",
      "source": [
        "import numpy as np\n",
        "import pandas as pd\n",
        "import scipy as sp\n",
        "from scipy import stats\n",
        "\n",
        "from matplotlib import pyplot as plt\n",
        "import seaborn as sns\n",
        "sns.set()\n",
        "\n",
        "import statsmodels.formula.api as smf\n",
        "import statsmodels.api as sm\n",
        "\n",
        "%precision 3\n",
        "%matplotlib inline "
      ],
      "metadata": {
        "id": "OOkfRnbDYF-x"
      },
      "execution_count": 7,
      "outputs": []
    },
    {
      "cell_type": "code",
      "source": [
        "PATH = '/content/drive/MyDrive/Colab Notebooks/adp/파이썬으로배우는통계학교과서/data/'\n",
        "test_result = pd.read_csv(PATH+'6-3-1-logistic-regression.csv')\n",
        "test_result\n",
        "# test_result.info()\n",
        "test_result[test_result['hours'] == 8].head(10)"
      ],
      "metadata": {
        "colab": {
          "base_uri": "https://localhost:8080/",
          "height": 363
        },
        "id": "tZANVs64Ye-l",
        "outputId": "dc254cae-ede9-42b0-a17c-7f2f672f851c"
      },
      "execution_count": 20,
      "outputs": [
        {
          "output_type": "execute_result",
          "data": {
            "text/plain": [
              "    hours  result\n",
              "80      8       1\n",
              "81      8       1\n",
              "82      8       1\n",
              "83      8       1\n",
              "84      8       1\n",
              "85      8       1\n",
              "86      8       1\n",
              "87      8       0\n",
              "88      8       1\n",
              "89      8       1"
            ],
            "text/html": [
              "\n",
              "  <div id=\"df-8612410c-5ad0-4007-8cef-37ee1fd6fcf3\">\n",
              "    <div class=\"colab-df-container\">\n",
              "      <div>\n",
              "<style scoped>\n",
              "    .dataframe tbody tr th:only-of-type {\n",
              "        vertical-align: middle;\n",
              "    }\n",
              "\n",
              "    .dataframe tbody tr th {\n",
              "        vertical-align: top;\n",
              "    }\n",
              "\n",
              "    .dataframe thead th {\n",
              "        text-align: right;\n",
              "    }\n",
              "</style>\n",
              "<table border=\"1\" class=\"dataframe\">\n",
              "  <thead>\n",
              "    <tr style=\"text-align: right;\">\n",
              "      <th></th>\n",
              "      <th>hours</th>\n",
              "      <th>result</th>\n",
              "    </tr>\n",
              "  </thead>\n",
              "  <tbody>\n",
              "    <tr>\n",
              "      <th>80</th>\n",
              "      <td>8</td>\n",
              "      <td>1</td>\n",
              "    </tr>\n",
              "    <tr>\n",
              "      <th>81</th>\n",
              "      <td>8</td>\n",
              "      <td>1</td>\n",
              "    </tr>\n",
              "    <tr>\n",
              "      <th>82</th>\n",
              "      <td>8</td>\n",
              "      <td>1</td>\n",
              "    </tr>\n",
              "    <tr>\n",
              "      <th>83</th>\n",
              "      <td>8</td>\n",
              "      <td>1</td>\n",
              "    </tr>\n",
              "    <tr>\n",
              "      <th>84</th>\n",
              "      <td>8</td>\n",
              "      <td>1</td>\n",
              "    </tr>\n",
              "    <tr>\n",
              "      <th>85</th>\n",
              "      <td>8</td>\n",
              "      <td>1</td>\n",
              "    </tr>\n",
              "    <tr>\n",
              "      <th>86</th>\n",
              "      <td>8</td>\n",
              "      <td>1</td>\n",
              "    </tr>\n",
              "    <tr>\n",
              "      <th>87</th>\n",
              "      <td>8</td>\n",
              "      <td>0</td>\n",
              "    </tr>\n",
              "    <tr>\n",
              "      <th>88</th>\n",
              "      <td>8</td>\n",
              "      <td>1</td>\n",
              "    </tr>\n",
              "    <tr>\n",
              "      <th>89</th>\n",
              "      <td>8</td>\n",
              "      <td>1</td>\n",
              "    </tr>\n",
              "  </tbody>\n",
              "</table>\n",
              "</div>\n",
              "      <button class=\"colab-df-convert\" onclick=\"convertToInteractive('df-8612410c-5ad0-4007-8cef-37ee1fd6fcf3')\"\n",
              "              title=\"Convert this dataframe to an interactive table.\"\n",
              "              style=\"display:none;\">\n",
              "        \n",
              "  <svg xmlns=\"http://www.w3.org/2000/svg\" height=\"24px\"viewBox=\"0 0 24 24\"\n",
              "       width=\"24px\">\n",
              "    <path d=\"M0 0h24v24H0V0z\" fill=\"none\"/>\n",
              "    <path d=\"M18.56 5.44l.94 2.06.94-2.06 2.06-.94-2.06-.94-.94-2.06-.94 2.06-2.06.94zm-11 1L8.5 8.5l.94-2.06 2.06-.94-2.06-.94L8.5 2.5l-.94 2.06-2.06.94zm10 10l.94 2.06.94-2.06 2.06-.94-2.06-.94-.94-2.06-.94 2.06-2.06.94z\"/><path d=\"M17.41 7.96l-1.37-1.37c-.4-.4-.92-.59-1.43-.59-.52 0-1.04.2-1.43.59L10.3 9.45l-7.72 7.72c-.78.78-.78 2.05 0 2.83L4 21.41c.39.39.9.59 1.41.59.51 0 1.02-.2 1.41-.59l7.78-7.78 2.81-2.81c.8-.78.8-2.07 0-2.86zM5.41 20L4 18.59l7.72-7.72 1.47 1.35L5.41 20z\"/>\n",
              "  </svg>\n",
              "      </button>\n",
              "      \n",
              "  <style>\n",
              "    .colab-df-container {\n",
              "      display:flex;\n",
              "      flex-wrap:wrap;\n",
              "      gap: 12px;\n",
              "    }\n",
              "\n",
              "    .colab-df-convert {\n",
              "      background-color: #E8F0FE;\n",
              "      border: none;\n",
              "      border-radius: 50%;\n",
              "      cursor: pointer;\n",
              "      display: none;\n",
              "      fill: #1967D2;\n",
              "      height: 32px;\n",
              "      padding: 0 0 0 0;\n",
              "      width: 32px;\n",
              "    }\n",
              "\n",
              "    .colab-df-convert:hover {\n",
              "      background-color: #E2EBFA;\n",
              "      box-shadow: 0px 1px 2px rgba(60, 64, 67, 0.3), 0px 1px 3px 1px rgba(60, 64, 67, 0.15);\n",
              "      fill: #174EA6;\n",
              "    }\n",
              "\n",
              "    [theme=dark] .colab-df-convert {\n",
              "      background-color: #3B4455;\n",
              "      fill: #D2E3FC;\n",
              "    }\n",
              "\n",
              "    [theme=dark] .colab-df-convert:hover {\n",
              "      background-color: #434B5C;\n",
              "      box-shadow: 0px 1px 3px 1px rgba(0, 0, 0, 0.15);\n",
              "      filter: drop-shadow(0px 1px 2px rgba(0, 0, 0, 0.3));\n",
              "      fill: #FFFFFF;\n",
              "    }\n",
              "  </style>\n",
              "\n",
              "      <script>\n",
              "        const buttonEl =\n",
              "          document.querySelector('#df-8612410c-5ad0-4007-8cef-37ee1fd6fcf3 button.colab-df-convert');\n",
              "        buttonEl.style.display =\n",
              "          google.colab.kernel.accessAllowed ? 'block' : 'none';\n",
              "\n",
              "        async function convertToInteractive(key) {\n",
              "          const element = document.querySelector('#df-8612410c-5ad0-4007-8cef-37ee1fd6fcf3');\n",
              "          const dataTable =\n",
              "            await google.colab.kernel.invokeFunction('convertToInteractive',\n",
              "                                                     [key], {});\n",
              "          if (!dataTable) return;\n",
              "\n",
              "          const docLinkHtml = 'Like what you see? Visit the ' +\n",
              "            '<a target=\"_blank\" href=https://colab.research.google.com/notebooks/data_table.ipynb>data table notebook</a>'\n",
              "            + ' to learn more about interactive tables.';\n",
              "          element.innerHTML = '';\n",
              "          dataTable['output_type'] = 'display_data';\n",
              "          await google.colab.output.renderOutput(dataTable, element);\n",
              "          const docLink = document.createElement('div');\n",
              "          docLink.innerHTML = docLinkHtml;\n",
              "          element.appendChild(docLink);\n",
              "        }\n",
              "      </script>\n",
              "    </div>\n",
              "  </div>\n",
              "  "
            ]
          },
          "metadata": {},
          "execution_count": 20
        }
      ]
    },
    {
      "cell_type": "code",
      "source": [
        "# 공부시간과 합격률의 관계를 그래프로\n",
        "# 가로축에 공부시간, 세로축에 합격률 지정 막대그래프\n",
        "sns.barplot(x='hours', y='result', data=test_result)\n",
        "\n",
        "# 공부시간마다의 합격률 계산\n",
        "print('공부시간 마다의 합격률 계산\\n', test_result.groupby('hours').mean())"
      ],
      "metadata": {
        "colab": {
          "base_uri": "https://localhost:8080/",
          "height": 520
        },
        "id": "SsT__nP7Y5_B",
        "outputId": "bf29da89-38bc-48c3-8d99-05ccd2e67c14"
      },
      "execution_count": 9,
      "outputs": [
        {
          "output_type": "stream",
          "name": "stdout",
          "text": [
            "공부시간 마다의 합격률 계산\n",
            "        result\n",
            "hours        \n",
            "0         0.0\n",
            "1         0.0\n",
            "2         0.1\n",
            "3         0.1\n",
            "4         0.4\n",
            "5         0.4\n",
            "6         0.9\n",
            "7         0.8\n",
            "8         0.9\n",
            "9         1.0\n"
          ]
        },
        {
          "output_type": "display_data",
          "data": {
            "text/plain": [
              "<Figure size 432x288 with 1 Axes>"
            ],
            "image/png": "[encoded data removed]"
          },
          "metadata": {
            "needs_background": "light"
          }
        }
      ]
    },
    {
      "cell_type": "markdown",
      "source": [
        "### 6.3.11 로지스틱회귀 (실습)"
      ],
      "metadata": {
        "id": "2myLBXr4besN"
      }
    },
    {
      "cell_type": "code",
      "source": [
        "mod_glm = smf.glm(formula = 'result ~ hours', data=test_result, family=sm.families.Binomial()).fit()"
      ],
      "metadata": {
        "id": "T6KeDWLdbhGf"
      },
      "execution_count": 10,
      "outputs": []
    },
    {
      "cell_type": "markdown",
      "source": [
        "(로지스틱 회귀와는 상관없이) 일반선형모델을 추정하는 경우에는 `smf.glm` 함수를 사용\n",
        "\n",
        "- family : 확률분포지정. `sm.families.Binomial()` 은 이항분포 지정\n",
        "- 푸아송분포 지정 방법 : `sm.families.Poission()`\n",
        "- 이항분포를 지정하면 링크함수는 디폴트로 로짓함수\n",
        "- 푸아송분포를 지정하면 링크함수는 디폴트로 로그함수\n",
        "- 링크함수 강제 지정 방법 : `sm.families.Binomial(link = sm.families.links.logit)` 이라고 명시적으로 **로짓함수** 지정 가능"
      ],
      "metadata": {
        "id": "4rVEYJLvbuCJ"
      }
    },
    {
      "cell_type": "markdown",
      "source": [
        "### 6.3.12 로지스틱 회귀 결과의 출력"
      ],
      "metadata": {
        "id": "HPKkVITyc6rF"
      }
    },
    {
      "cell_type": "code",
      "source": [
        "mod_glm.summary()"
      ],
      "metadata": {
        "colab": {
          "base_uri": "https://localhost:8080/",
          "height": 287
        },
        "id": "cpJawAKmc9uh",
        "outputId": "21836440-2661-4263-805d-1cc1c7bacb10"
      },
      "execution_count": 11,
      "outputs": [
        {
          "output_type": "execute_result",
          "data": {
            "text/plain": [
              "<class 'statsmodels.iolib.summary.Summary'>\n",
              "\"\"\"\n",
              "                 Generalized Linear Model Regression Results                  \n",
              "==============================================================================\n",
              "Dep. Variable:                 result   No. Observations:                  100\n",
              "Model:                            GLM   Df Residuals:                       98\n",
              "Model Family:                Binomial   Df Model:                            1\n",
              "Link Function:                  logit   Scale:                          1.0000\n",
              "Method:                          IRLS   Log-Likelihood:                -34.014\n",
              "Date:                Thu, 12 Jan 2023   Deviance:                       68.028\n",
              "Time:                        13:55:30   Pearson chi2:                     84.9\n",
              "No. Iterations:                     6                                         \n",
              "Covariance Type:            nonrobust                                         \n",
              "==============================================================================\n",
              "                 coef    std err          z      P>|z|      [0.025      0.975]\n",
              "------------------------------------------------------------------------------\n",
              "Intercept     -4.5587      0.901     -5.061      0.000      -6.324      -2.793\n",
              "hours          0.9289      0.174      5.345      0.000       0.588       1.270\n",
              "==============================================================================\n",
              "\"\"\""
            ],
            "text/html": [
              "<table class=\"simpletable\">\n",
              "<caption>Generalized Linear Model Regression Results</caption>\n",
              "<tr>\n",
              "  <th>Dep. Variable:</th>        <td>result</td>      <th>  No. Observations:  </th>  <td>   100</td> \n",
              "</tr>\n",
              "<tr>\n",
              "  <th>Model:</th>                  <td>GLM</td>       <th>  Df Residuals:      </th>  <td>    98</td> \n",
              "</tr>\n",
              "<tr>\n",
              "  <th>Model Family:</th>        <td>Binomial</td>     <th>  Df Model:          </th>  <td>     1</td> \n",
              "</tr>\n",
              "<tr>\n",
              "  <th>Link Function:</th>         <td>logit</td>      <th>  Scale:             </th> <td>  1.0000</td>\n",
              "</tr>\n",
              "<tr>\n",
              "  <th>Method:</th>                <td>IRLS</td>       <th>  Log-Likelihood:    </th> <td> -34.014</td>\n",
              "</tr>\n",
              "<tr>\n",
              "  <th>Date:</th>            <td>Thu, 12 Jan 2023</td> <th>  Deviance:          </th> <td>  68.028</td>\n",
              "</tr>\n",
              "<tr>\n",
              "  <th>Time:</th>                <td>13:55:30</td>     <th>  Pearson chi2:      </th>  <td>  84.9</td> \n",
              "</tr>\n",
              "<tr>\n",
              "  <th>No. Iterations:</th>          <td>6</td>        <th>                     </th>     <td> </td>   \n",
              "</tr>\n",
              "<tr>\n",
              "  <th>Covariance Type:</th>     <td>nonrobust</td>    <th>                     </th>     <td> </td>   \n",
              "</tr>\n",
              "</table>\n",
              "<table class=\"simpletable\">\n",
              "<tr>\n",
              "      <td></td>         <th>coef</th>     <th>std err</th>      <th>z</th>      <th>P>|z|</th>  <th>[0.025</th>    <th>0.975]</th>  \n",
              "</tr>\n",
              "<tr>\n",
              "  <th>Intercept</th> <td>   -4.5587</td> <td>    0.901</td> <td>   -5.061</td> <td> 0.000</td> <td>   -6.324</td> <td>   -2.793</td>\n",
              "</tr>\n",
              "<tr>\n",
              "  <th>hours</th>     <td>    0.9289</td> <td>    0.174</td> <td>    5.345</td> <td> 0.000</td> <td>    0.588</td> <td>    1.270</td>\n",
              "</tr>\n",
              "</table>"
            ]
          },
          "metadata": {},
          "execution_count": 11
        }
      ]
    },
    {
      "cell_type": "markdown",
      "source": [
        "- Method : IRLS (반복적인 최소제곱법의 약자; Iterative Reweighted Least Squares )\n",
        "- No.Iterations : 내부에서 계산한 반복수\n",
        "- 계수에 대해서는 t검정 대신 Wald 검정 결과가 출력되고 있음\n",
        "- 공부시간 계수는 양수임"
      ],
      "metadata": {
        "id": "IPV05B9Oc_av"
      }
    },
    {
      "cell_type": "markdown",
      "source": [
        "### 6.3.13 모델 선택"
      ],
      "metadata": {
        "id": "xRQZrqHxdo8B"
      }
    },
    {
      "cell_type": "code",
      "source": [
        "# Null 모델 추정\n",
        "# import statsmodels.formula.api as smf\n",
        "# import statsmodels.api as sm\n",
        "import statsmodels.formula.api as smf\n",
        "import statsmodels.api as sm\n",
        "mod_glm_null = smf.glm('result ~ 1', data=test_result,\n",
        "                       family=sm.families.Binomial()).fit()\n",
        "\n",
        "# AIC 비교\n",
        "print('Null 모델:', mod_glm_null.aic.round(3))\n",
        "print('변수가 있는 모델:', mod_glm.aic.round(3))"
      ],
      "metadata": {
        "colab": {
          "base_uri": "https://localhost:8080/"
        },
        "id": "hlEwM_8dRDYN",
        "outputId": "78595443-5418-4474-b7c4-3ed1559656d4"
      },
      "execution_count": 13,
      "outputs": [
        {
          "output_type": "stream",
          "name": "stdout",
          "text": [
            "Null 모델: 139.989\n",
            "변수가 있는 모델: 72.028\n"
          ]
        }
      ]
    },
    {
      "cell_type": "markdown",
      "source": [
        "위 두 모델의 AIC 비교 결과 공부시간을 독립변수로 이용한 모델의 AIC가 더 작음.\n",
        "\n",
        "공부시간이라는 변수는 합격률을 예측하는데 도움이 된다는 것임."
      ],
      "metadata": {
        "id": "1XAkLyIFRwCh"
      }
    },
    {
      "cell_type": "markdown",
      "source": [
        "### 6.3.14 로지스틱 회귀곡선 그래프"
      ],
      "metadata": {
        "id": "9XV4qVwjR6Th"
      }
    },
    {
      "cell_type": "markdown",
      "source": [
        "로지스틱 회귀로 구할 수 있었던 이론상의 합격률을 그래프로 나타내 보겠음.\n",
        "\n",
        "- 가로축 : 공부시간\n",
        "- 세로축 : 합격 여부의 이항확률변수를 지정한 산포도를 그리고, 이론상의 합격률을 겹치겠음"
      ],
      "metadata": {
        "id": "uYm9Fv3VR-80"
      }
    },
    {
      "cell_type": "code",
      "source": [
        "sns.lmplot(x='hours', y='result',\n",
        "           data=test_result,\n",
        "           logistic=True,\n",
        "        #    scatter_kws={'color':'gray'},\n",
        "           line_kws={'color':'black'},\n",
        "           x_jitter=0.1, y_jitter=0.02)\n",
        "# x_jitter, y_jitter : 산포도가 그리는 데이터의 점을 조금 위아래로 흩어지게 하는 설정\n",
        "# 그렇지 않으면 겹쳐져서 얼마나 있는지 잘 구분이 안감"
      ],
      "metadata": {
        "colab": {
          "base_uri": "https://localhost:8080/",
          "height": 387
        },
        "id": "SXIbqjnGSNMb",
        "outputId": "76db42d8-7b39-4228-afe7-f8259b04a991"
      },
      "execution_count": 18,
      "outputs": [
        {
          "output_type": "execute_result",
          "data": {
            "text/plain": [
              "<seaborn.axisgrid.FacetGrid at 0x7f00d0bdf040>"
            ]
          },
          "metadata": {},
          "execution_count": 18
        },
        {
          "output_type": "display_data",
          "data": {
            "text/plain": [
              "<Figure size 360x360 with 1 Axes>"
            ],
            "image/png": "[encoded data removed]"
          },
          "metadata": {
            "needs_background": "light"
          }
        }
      ]
    },
    {
      "cell_type": "markdown",
      "source": [
        "### 6.3.15 성공확률 예측"
      ],
      "metadata": {
        "id": "qqlswokWTXyL"
      }
    },
    {
      "cell_type": "code",
      "source": [
        "# 합격률을 수치로 얻을 수도 있음\n",
        "exp_val = pd.DataFrame({'hours':np.arange(0, 10, 1)})\n",
        "\n",
        "# 공부시간에 따른 합격확률 예측치\n",
        "pred = mod_glm.predict(exp_val)\n",
        "pred\n",
        "# 0 시간이면 1%, 9시간이면 97.8% 의 이론상 합격률"
      ],
      "metadata": {
        "colab": {
          "base_uri": "https://localhost:8080/"
        },
        "id": "0E1Kfz_5TbAI",
        "outputId": "5acdf08a-6a95-4a7b-9c50-3b31f176fed0"
      },
      "execution_count": 19,
      "outputs": [
        {
          "output_type": "execute_result",
          "data": {
            "text/plain": [
              "0    0.010367\n",
              "1    0.025836\n",
              "2    0.062920\n",
              "3    0.145291\n",
              "4    0.300876\n",
              "5    0.521427\n",
              "6    0.733929\n",
              "7    0.874741\n",
              "8    0.946467\n",
              "9    0.978147\n",
              "dtype: float64"
            ]
          },
          "metadata": {},
          "execution_count": 19
        }
      ]
    },
    {
      "cell_type": "markdown",
      "source": [
        "### 6.3.16 용어설명 "
      ],
      "metadata": {
        "id": "Z-ScyNZ1T3yn"
      }
    },
    {
      "cell_type": "markdown",
      "source": [
        "**오즈(Odds)**\n",
        "\n",
        "오즈는 실패하는 것보다 성공하는 것이 몇배 더 쉬운가를 나타내는 것. p는 성공확률\n",
        "\n",
        "$Odds = \\dfrac {p} {1-p}$\n",
        "\n",
        "p=0.5 일 때 오즈는 1이 되어 성공과 실패의 쉬움이 변하지 않음.\n",
        "\n",
        "p=0.75 일때 오즈는 3이 되어 성공이 실패보다 3배 쉬워짐\n",
        "\n",
        "\n",
        "**오즈비(odd ratio)**\n",
        "\n",
        "오즈 간에 비율을 취한것을 **오즈비**라고 부름.\n",
        "\n",
        "오즈비에 로그를 취한것을 로그오즈비라고 부름."
      ],
      "metadata": {
        "id": "cFt7umgCT6Z-"
      }
    },
    {
      "cell_type": "markdown",
      "source": [
        "## 6.4 일반선형모델의 평가"
      ],
      "metadata": {
        "id": "xQEt_8cDU8yc"
      }
    },
    {
      "cell_type": "markdown",
      "source": [
        "정규선형모델에서 모델을 평가할 때 **잔차**의 체크는 필수"
      ],
      "metadata": {
        "id": "4Mx8EfvCVDEp"
      }
    },
    {
      "cell_type": "code",
      "source": [
        "# 데이터 다시 읽기\n",
        "test_result = pd.read_csv(PATH + '6-3-1-logistic-regression.csv')\n",
        "\n",
        "# modeling\n",
        "mod_glm = smf.glm('result ~ hours', data=test_result,\n",
        "                  family=sm.families.Binomial()).fit()"
      ],
      "metadata": {
        "id": "SFf8S3FHVhS4"
      },
      "execution_count": 22,
      "outputs": []
    },
    {
      "cell_type": "markdown",
      "source": [
        "### 6.4.2 피어슨 잔차 (Pearson)"
      ],
      "metadata": {
        "id": "vimSr84FV62E"
      }
    },
    {
      "cell_type": "markdown",
      "source": [
        "피어슨 잔차는 다음과 같이 계산 가능\n",
        "$Pearson residuals = \\dfrac {y - N\\hat{p}} {\\sqrt{N\\hat{p}(1-\\hat{p})}}$\n",
        "\n",
        "- N : 시행횟수\n",
        "- hat p : 추측한 성공확률 (즉, mod_glm.predict())\n",
        "\n",
        "\n",
        "위 식에서 예측결과의 시행횟수는 당연히 1이 되기 때문에 피어슨 잔차는 실질적으로 다음과 같이 계산됨\n",
        "\n",
        "$Pearson residuals = \\dfrac {y - N\\hat{p}} {\\sqrt{\\hat{p}(1-\\hat{p})}}$"
      ],
      "metadata": {
        "id": "rHgZCWFzV-p7"
      }
    },
    {
      "cell_type": "markdown",
      "source": [
        "### 6.4.3 피어슨 잔차의 해석 "
      ],
      "metadata": {
        "id": "LamF_mTOWqou"
      }
    },
    {
      "cell_type": "markdown",
      "source": [
        "피어슨 잔차의 분모는 이항분포의 분산의 값과 일치\n",
        "\n",
        "그 값에 루트를 취한 것이므로 분모는 이항분포의 표준편차로 볼 수 있음.\n",
        "\n",
        "정규선형모델에서는 종속변수와 predict() 함수로 구한 예측값의 차이를 잔차로 사용했습니다. y - hat p을 잔차로 사용하는 느낌입니다. \n",
        "\n",
        "피어슨 잔차는 일반 잔차를 분포의 표준편차로 나눈것으로 해석할 수 있음\n",
        "\n",
        "\n",
        "피어슨 잔차의 제곱합은 **피어슨 카이제곱통계량** 이라고도 부르며, 모델 적합도의 지표가 됨."
      ],
      "metadata": {
        "id": "4G_092avWs9Q"
      }
    },
    {
      "cell_type": "markdown",
      "source": [
        "### 6.4.4 피어슨 잔차 (실습)"
      ],
      "metadata": {
        "id": "aBM-W0YmXq_G"
      }
    },
    {
      "cell_type": "code",
      "source": [
        "# 예측한 성공확률\n",
        "pred = mod_glm.predict()\n",
        "print('공부시간별 예측 합격 확률:', pred)\n",
        "\n",
        "# 종속변수 (시험합격여부)\n",
        "y = test_result.result\n",
        "\n",
        "# 피어슨 잔차\n",
        "pearson_resid = (y - pred) / np.sqrt(pred * (1 - pred))\n",
        "display(pearson_resid.head(3))\n",
        "\n",
        "# 피어슨 잔차제곱합은 피어슨 카이제곱통계량이 됨\n",
        "print('피어슨 카이제곱통계량:', np.sum(mod_glm.resid_pearson ** 2))\n",
        "\n",
        "# 위 결과는 summary()에도 출력되며 아래와 같이도 꺼낼 수 있음\n",
        "print('피어슨 카이제곱 통계량 다른 방법:', mod_glm.pearson_chi2)\n",
        "print('summary() 의 Pearson chi2 에도 값이 나타남')\n",
        "display(mod_glm.summary())"
      ],
      "metadata": {
        "colab": {
          "base_uri": "https://localhost:8080/",
          "height": 576
        },
        "id": "PekfGGb4Xtc4",
        "outputId": "09d65d98-65fb-435e-a4ef-e98a56e77622"
      },
      "execution_count": 28,
      "outputs": [
        {
          "output_type": "stream",
          "name": "stdout",
          "text": [
            "공부시간별 예측 합격 확률: [0.01  0.01  0.01  0.01  0.01  0.01  0.01  0.01  0.01  0.01  0.026 0.026\n",
            " 0.026 0.026 0.026 0.026 0.026 0.026 0.026 0.026 0.063 0.063 0.063 0.063\n",
            " 0.063 0.063 0.063 0.063 0.063 0.063 0.145 0.145 0.145 0.145 0.145 0.145\n",
            " 0.145 0.145 0.145 0.145 0.301 0.301 0.301 0.301 0.301 0.301 0.301 0.301\n",
            " 0.301 0.301 0.521 0.521 0.521 0.521 0.521 0.521 0.521 0.521 0.521 0.521\n",
            " 0.734 0.734 0.734 0.734 0.734 0.734 0.734 0.734 0.734 0.734 0.875 0.875\n",
            " 0.875 0.875 0.875 0.875 0.875 0.875 0.875 0.875 0.946 0.946 0.946 0.946\n",
            " 0.946 0.946 0.946 0.946 0.946 0.946 0.978 0.978 0.978 0.978 0.978 0.978\n",
            " 0.978 0.978 0.978 0.978]\n"
          ]
        },
        {
          "output_type": "display_data",
          "data": {
            "text/plain": [
              "0   -0.102351\n",
              "1   -0.102351\n",
              "2   -0.102351\n",
              "Name: result, dtype: float64"
            ]
          },
          "metadata": {}
        },
        {
          "output_type": "stream",
          "name": "stdout",
          "text": [
            "피어슨 카이제곱통계량: 84.91138782569973\n",
            "피어슨 카이제곱 통계량 다른 방법: 84.91138782569973\n",
            "summary() 의 Pearson chi2 에도 값이 나타남\n"
          ]
        },
        {
          "output_type": "display_data",
          "data": {
            "text/plain": [
              "<class 'statsmodels.iolib.summary.Summary'>\n",
              "\"\"\"\n",
              "                 Generalized Linear Model Regression Results                  \n",
              "==============================================================================\n",
              "Dep. Variable:                 result   No. Observations:                  100\n",
              "Model:                            GLM   Df Residuals:                       98\n",
              "Model Family:                Binomial   Df Model:                            1\n",
              "Link Function:                  logit   Scale:                          1.0000\n",
              "Method:                          IRLS   Log-Likelihood:                -34.014\n",
              "Date:                Thu, 12 Jan 2023   Deviance:                       68.028\n",
              "Time:                        14:30:02   Pearson chi2:                     84.9\n",
              "No. Iterations:                     6                                         \n",
              "Covariance Type:            nonrobust                                         \n",
              "==============================================================================\n",
              "                 coef    std err          z      P>|z|      [0.025      0.975]\n",
              "------------------------------------------------------------------------------\n",
              "Intercept     -4.5587      0.901     -5.061      0.000      -6.324      -2.793\n",
              "hours          0.9289      0.174      5.345      0.000       0.588       1.270\n",
              "==============================================================================\n",
              "\"\"\""
            ],
            "text/html": [
              "<table class=\"simpletable\">\n",
              "<caption>Generalized Linear Model Regression Results</caption>\n",
              "<tr>\n",
              "  <th>Dep. Variable:</th>        <td>result</td>      <th>  No. Observations:  </th>  <td>   100</td> \n",
              "</tr>\n",
              "<tr>\n",
              "  <th>Model:</th>                  <td>GLM</td>       <th>  Df Residuals:      </th>  <td>    98</td> \n",
              "</tr>\n",
              "<tr>\n",
              "  <th>Model Family:</th>        <td>Binomial</td>     <th>  Df Model:          </th>  <td>     1</td> \n",
              "</tr>\n",
              "<tr>\n",
              "  <th>Link Function:</th>         <td>logit</td>      <th>  Scale:             </th> <td>  1.0000</td>\n",
              "</tr>\n",
              "<tr>\n",
              "  <th>Method:</th>                <td>IRLS</td>       <th>  Log-Likelihood:    </th> <td> -34.014</td>\n",
              "</tr>\n",
              "<tr>\n",
              "  <th>Date:</th>            <td>Thu, 12 Jan 2023</td> <th>  Deviance:          </th> <td>  68.028</td>\n",
              "</tr>\n",
              "<tr>\n",
              "  <th>Time:</th>                <td>14:30:02</td>     <th>  Pearson chi2:      </th>  <td>  84.9</td> \n",
              "</tr>\n",
              "<tr>\n",
              "  <th>No. Iterations:</th>          <td>6</td>        <th>                     </th>     <td> </td>   \n",
              "</tr>\n",
              "<tr>\n",
              "  <th>Covariance Type:</th>     <td>nonrobust</td>    <th>                     </th>     <td> </td>   \n",
              "</tr>\n",
              "</table>\n",
              "<table class=\"simpletable\">\n",
              "<tr>\n",
              "      <td></td>         <th>coef</th>     <th>std err</th>      <th>z</th>      <th>P>|z|</th>  <th>[0.025</th>    <th>0.975]</th>  \n",
              "</tr>\n",
              "<tr>\n",
              "  <th>Intercept</th> <td>   -4.5587</td> <td>    0.901</td> <td>   -5.061</td> <td> 0.000</td> <td>   -6.324</td> <td>   -2.793</td>\n",
              "</tr>\n",
              "<tr>\n",
              "  <th>hours</th>     <td>    0.9289</td> <td>    0.174</td> <td>    5.345</td> <td> 0.000</td> <td>    0.588</td> <td>    1.270</td>\n",
              "</tr>\n",
              "</table>"
            ]
          },
          "metadata": {}
        }
      ]
    },
    {
      "cell_type": "markdown",
      "source": [
        "### 6.4.8 deviance 잔차"
      ],
      "metadata": {
        "id": "QXLTCknRZjIw"
      }
    },
    {
      "cell_type": "code",
      "source": [
        "# deviance 잔차 직적 확인\n",
        "print('deviance 잔차')\n",
        "display(mod_glm.resid_deviance.head(5))\n",
        "\n",
        "# deviance 잔차 제곱합은 deviance 가 됨\n",
        "print('\\n\\ndeviance 잔차 제곱합은 deviance가 됨 :', np.sum(mod_glm.resid_deviance ** 2))\n",
        "\n",
        "print('\\n\\nsummary()에서도 deviance 확인 가능')\n",
        "display(mod_glm.summary())"
      ],
      "metadata": {
        "colab": {
          "base_uri": "https://localhost:8080/",
          "height": 522
        },
        "id": "ny736IHoZlcJ",
        "outputId": "dc0c1af6-a34b-4d0a-88ac-16e6ff0af63f"
      },
      "execution_count": 32,
      "outputs": [
        {
          "output_type": "stream",
          "name": "stdout",
          "text": [
            "deviance 잔차\n"
          ]
        },
        {
          "output_type": "display_data",
          "data": {
            "text/plain": [
              "0   -0.144369\n",
              "1   -0.144369\n",
              "2   -0.144369\n",
              "3   -0.144369\n",
              "4   -0.144369\n",
              "dtype: float64"
            ]
          },
          "metadata": {}
        },
        {
          "output_type": "stream",
          "name": "stdout",
          "text": [
            "\n",
            "\n",
            "deviance 잔차 제곱합은 deviance가 됨 : 68.02788118117269\n",
            "\n",
            "\n",
            "summary()에서도 deviance 확인 가능\n"
          ]
        },
        {
          "output_type": "display_data",
          "data": {
            "text/plain": [
              "<class 'statsmodels.iolib.summary.Summary'>\n",
              "\"\"\"\n",
              "                 Generalized Linear Model Regression Results                  \n",
              "==============================================================================\n",
              "Dep. Variable:                 result   No. Observations:                  100\n",
              "Model:                            GLM   Df Residuals:                       98\n",
              "Model Family:                Binomial   Df Model:                            1\n",
              "Link Function:                  logit   Scale:                          1.0000\n",
              "Method:                          IRLS   Log-Likelihood:                -34.014\n",
              "Date:                Thu, 12 Jan 2023   Deviance:                       68.028\n",
              "Time:                        14:35:32   Pearson chi2:                     84.9\n",
              "No. Iterations:                     6                                         \n",
              "Covariance Type:            nonrobust                                         \n",
              "==============================================================================\n",
              "                 coef    std err          z      P>|z|      [0.025      0.975]\n",
              "------------------------------------------------------------------------------\n",
              "Intercept     -4.5587      0.901     -5.061      0.000      -6.324      -2.793\n",
              "hours          0.9289      0.174      5.345      0.000       0.588       1.270\n",
              "==============================================================================\n",
              "\"\"\""
            ],
            "text/html": [
              "<table class=\"simpletable\">\n",
              "<caption>Generalized Linear Model Regression Results</caption>\n",
              "<tr>\n",
              "  <th>Dep. Variable:</th>        <td>result</td>      <th>  No. Observations:  </th>  <td>   100</td> \n",
              "</tr>\n",
              "<tr>\n",
              "  <th>Model:</th>                  <td>GLM</td>       <th>  Df Residuals:      </th>  <td>    98</td> \n",
              "</tr>\n",
              "<tr>\n",
              "  <th>Model Family:</th>        <td>Binomial</td>     <th>  Df Model:          </th>  <td>     1</td> \n",
              "</tr>\n",
              "<tr>\n",
              "  <th>Link Function:</th>         <td>logit</td>      <th>  Scale:             </th> <td>  1.0000</td>\n",
              "</tr>\n",
              "<tr>\n",
              "  <th>Method:</th>                <td>IRLS</td>       <th>  Log-Likelihood:    </th> <td> -34.014</td>\n",
              "</tr>\n",
              "<tr>\n",
              "  <th>Date:</th>            <td>Thu, 12 Jan 2023</td> <th>  Deviance:          </th> <td>  68.028</td>\n",
              "</tr>\n",
              "<tr>\n",
              "  <th>Time:</th>                <td>14:35:32</td>     <th>  Pearson chi2:      </th>  <td>  84.9</td> \n",
              "</tr>\n",
              "<tr>\n",
              "  <th>No. Iterations:</th>          <td>6</td>        <th>                     </th>     <td> </td>   \n",
              "</tr>\n",
              "<tr>\n",
              "  <th>Covariance Type:</th>     <td>nonrobust</td>    <th>                     </th>     <td> </td>   \n",
              "</tr>\n",
              "</table>\n",
              "<table class=\"simpletable\">\n",
              "<tr>\n",
              "      <td></td>         <th>coef</th>     <th>std err</th>      <th>z</th>      <th>P>|z|</th>  <th>[0.025</th>    <th>0.975]</th>  \n",
              "</tr>\n",
              "<tr>\n",
              "  <th>Intercept</th> <td>   -4.5587</td> <td>    0.901</td> <td>   -5.061</td> <td> 0.000</td> <td>   -6.324</td> <td>   -2.793</td>\n",
              "</tr>\n",
              "<tr>\n",
              "  <th>hours</th>     <td>    0.9289</td> <td>    0.174</td> <td>    5.345</td> <td> 0.000</td> <td>    0.588</td> <td>    1.270</td>\n",
              "</tr>\n",
              "</table>"
            ]
          },
          "metadata": {}
        }
      ]
    },
    {
      "cell_type": "markdown",
      "source": [
        "## 6.5 푸아송 회귀"
      ],
      "metadata": {
        "id": "lfr0sXulacE6"
      }
    },
    {
      "cell_type": "markdown",
      "source": [
        "**푸아송 회귀**란 확률분포에 푸아송 분포를 사용하고, 링크함수에 로그함수를 사용한 일반선형모델임.\n",
        "\n",
        "독립변수는 여러개 상관없고, 연속형과 카테고리형이 혼재되어 있어도 됨."
      ],
      "metadata": {
        "id": "PaZ_ym8xad-U"
      }
    },
    {
      "cell_type": "markdown",
      "source": [
        "### 6.5.4 푸아송 회귀 (실습) "
      ],
      "metadata": {
        "id": "EP9YVBgravkJ"
      }
    },
    {
      "cell_type": "code",
      "source": [
        "beer = pd.read_csv(PATH+'6-5-1-poisson-regression.csv')\n",
        "beer.head(3)"
      ],
      "metadata": {
        "colab": {
          "base_uri": "https://localhost:8080/",
          "height": 143
        },
        "id": "0r5dnjzZbeue",
        "outputId": "6a337c00-69c2-4106-d591-65b9b2ed320c"
      },
      "execution_count": 35,
      "outputs": [
        {
          "output_type": "execute_result",
          "data": {
            "text/plain": [
              "   beer_number  temperature\n",
              "0            6         17.5\n",
              "1           11         26.6\n",
              "2            2          5.0"
            ],
            "text/html": [
              "\n",
              "  <div id=\"df-6e5cb9b2-ae60-484e-9e5a-73ef848f83ce\">\n",
              "    <div class=\"colab-df-container\">\n",
              "      <div>\n",
              "<style scoped>\n",
              "    .dataframe tbody tr th:only-of-type {\n",
              "        vertical-align: middle;\n",
              "    }\n",
              "\n",
              "    .dataframe tbody tr th {\n",
              "        vertical-align: top;\n",
              "    }\n",
              "\n",
              "    .dataframe thead th {\n",
              "        text-align: right;\n",
              "    }\n",
              "</style>\n",
              "<table border=\"1\" class=\"dataframe\">\n",
              "  <thead>\n",
              "    <tr style=\"text-align: right;\">\n",
              "      <th></th>\n",
              "      <th>beer_number</th>\n",
              "      <th>temperature</th>\n",
              "    </tr>\n",
              "  </thead>\n",
              "  <tbody>\n",
              "    <tr>\n",
              "      <th>0</th>\n",
              "      <td>6</td>\n",
              "      <td>17.5</td>\n",
              "    </tr>\n",
              "    <tr>\n",
              "      <th>1</th>\n",
              "      <td>11</td>\n",
              "      <td>26.6</td>\n",
              "    </tr>\n",
              "    <tr>\n",
              "      <th>2</th>\n",
              "      <td>2</td>\n",
              "      <td>5.0</td>\n",
              "    </tr>\n",
              "  </tbody>\n",
              "</table>\n",
              "</div>\n",
              "      <button class=\"colab-df-convert\" onclick=\"convertToInteractive('df-6e5cb9b2-ae60-484e-9e5a-73ef848f83ce')\"\n",
              "              title=\"Convert this dataframe to an interactive table.\"\n",
              "              style=\"display:none;\">\n",
              "        \n",
              "  <svg xmlns=\"http://www.w3.org/2000/svg\" height=\"24px\"viewBox=\"0 0 24 24\"\n",
              "       width=\"24px\">\n",
              "    <path d=\"M0 0h24v24H0V0z\" fill=\"none\"/>\n",
              "    <path d=\"M18.56 5.44l.94 2.06.94-2.06 2.06-.94-2.06-.94-.94-2.06-.94 2.06-2.06.94zm-11 1L8.5 8.5l.94-2.06 2.06-.94-2.06-.94L8.5 2.5l-.94 2.06-2.06.94zm10 10l.94 2.06.94-2.06 2.06-.94-2.06-.94-.94-2.06-.94 2.06-2.06.94z\"/><path d=\"M17.41 7.96l-1.37-1.37c-.4-.4-.92-.59-1.43-.59-.52 0-1.04.2-1.43.59L10.3 9.45l-7.72 7.72c-.78.78-.78 2.05 0 2.83L4 21.41c.39.39.9.59 1.41.59.51 0 1.02-.2 1.41-.59l7.78-7.78 2.81-2.81c.8-.78.8-2.07 0-2.86zM5.41 20L4 18.59l7.72-7.72 1.47 1.35L5.41 20z\"/>\n",
              "  </svg>\n",
              "      </button>\n",
              "      \n",
              "  <style>\n",
              "    .colab-df-container {\n",
              "      display:flex;\n",
              "      flex-wrap:wrap;\n",
              "      gap: 12px;\n",
              "    }\n",
              "\n",
              "    .colab-df-convert {\n",
              "      background-color: #E8F0FE;\n",
              "      border: none;\n",
              "      border-radius: 50%;\n",
              "      cursor: pointer;\n",
              "      display: none;\n",
              "      fill: #1967D2;\n",
              "      height: 32px;\n",
              "      padding: 0 0 0 0;\n",
              "      width: 32px;\n",
              "    }\n",
              "\n",
              "    .colab-df-convert:hover {\n",
              "      background-color: #E2EBFA;\n",
              "      box-shadow: 0px 1px 2px rgba(60, 64, 67, 0.3), 0px 1px 3px 1px rgba(60, 64, 67, 0.15);\n",
              "      fill: #174EA6;\n",
              "    }\n",
              "\n",
              "    [theme=dark] .colab-df-convert {\n",
              "      background-color: #3B4455;\n",
              "      fill: #D2E3FC;\n",
              "    }\n",
              "\n",
              "    [theme=dark] .colab-df-convert:hover {\n",
              "      background-color: #434B5C;\n",
              "      box-shadow: 0px 1px 3px 1px rgba(0, 0, 0, 0.15);\n",
              "      filter: drop-shadow(0px 1px 2px rgba(0, 0, 0, 0.3));\n",
              "      fill: #FFFFFF;\n",
              "    }\n",
              "  </style>\n",
              "\n",
              "      <script>\n",
              "        const buttonEl =\n",
              "          document.querySelector('#df-6e5cb9b2-ae60-484e-9e5a-73ef848f83ce button.colab-df-convert');\n",
              "        buttonEl.style.display =\n",
              "          google.colab.kernel.accessAllowed ? 'block' : 'none';\n",
              "\n",
              "        async function convertToInteractive(key) {\n",
              "          const element = document.querySelector('#df-6e5cb9b2-ae60-484e-9e5a-73ef848f83ce');\n",
              "          const dataTable =\n",
              "            await google.colab.kernel.invokeFunction('convertToInteractive',\n",
              "                                                     [key], {});\n",
              "          if (!dataTable) return;\n",
              "\n",
              "          const docLinkHtml = 'Like what you see? Visit the ' +\n",
              "            '<a target=\"_blank\" href=https://colab.research.google.com/notebooks/data_table.ipynb>data table notebook</a>'\n",
              "            + ' to learn more about interactive tables.';\n",
              "          element.innerHTML = '';\n",
              "          dataTable['output_type'] = 'display_data';\n",
              "          await google.colab.output.renderOutput(dataTable, element);\n",
              "          const docLink = document.createElement('div');\n",
              "          docLink.innerHTML = docLinkHtml;\n",
              "          element.appendChild(docLink);\n",
              "        }\n",
              "      </script>\n",
              "    </div>\n",
              "  </div>\n",
              "  "
            ]
          },
          "metadata": {},
          "execution_count": 35
        }
      ]
    },
    {
      "cell_type": "code",
      "source": [
        "mod_pois = smf.glm('beer_number ~ temperature', beer, family=sm.families.Poisson()).fit()\n",
        "mod_pois.summary()"
      ],
      "metadata": {
        "colab": {
          "base_uri": "https://localhost:8080/",
          "height": 287
        },
        "id": "rV_Tz5Mhb4Hh",
        "outputId": "aee28e5f-bcd2-4dcc-9cef-1d62f06feacf"
      },
      "execution_count": 36,
      "outputs": [
        {
          "output_type": "execute_result",
          "data": {
            "text/plain": [
              "<class 'statsmodels.iolib.summary.Summary'>\n",
              "\"\"\"\n",
              "                 Generalized Linear Model Regression Results                  \n",
              "==============================================================================\n",
              "Dep. Variable:            beer_number   No. Observations:                   30\n",
              "Model:                            GLM   Df Residuals:                       28\n",
              "Model Family:                 Poisson   Df Model:                            1\n",
              "Link Function:                    log   Scale:                          1.0000\n",
              "Method:                          IRLS   Log-Likelihood:                -57.672\n",
              "Date:                Thu, 12 Jan 2023   Deviance:                       5.1373\n",
              "Time:                        14:44:03   Pearson chi2:                     5.40\n",
              "No. Iterations:                     4                                         \n",
              "Covariance Type:            nonrobust                                         \n",
              "===============================================================================\n",
              "                  coef    std err          z      P>|z|      [0.025      0.975]\n",
              "-------------------------------------------------------------------------------\n",
              "Intercept       0.4476      0.199      2.253      0.024       0.058       0.837\n",
              "temperature     0.0761      0.008      9.784      0.000       0.061       0.091\n",
              "===============================================================================\n",
              "\"\"\""
            ],
            "text/html": [
              "<table class=\"simpletable\">\n",
              "<caption>Generalized Linear Model Regression Results</caption>\n",
              "<tr>\n",
              "  <th>Dep. Variable:</th>      <td>beer_number</td>   <th>  No. Observations:  </th>  <td>    30</td> \n",
              "</tr>\n",
              "<tr>\n",
              "  <th>Model:</th>                  <td>GLM</td>       <th>  Df Residuals:      </th>  <td>    28</td> \n",
              "</tr>\n",
              "<tr>\n",
              "  <th>Model Family:</th>         <td>Poisson</td>     <th>  Df Model:          </th>  <td>     1</td> \n",
              "</tr>\n",
              "<tr>\n",
              "  <th>Link Function:</th>          <td>log</td>       <th>  Scale:             </th> <td>  1.0000</td>\n",
              "</tr>\n",
              "<tr>\n",
              "  <th>Method:</th>                <td>IRLS</td>       <th>  Log-Likelihood:    </th> <td> -57.672</td>\n",
              "</tr>\n",
              "<tr>\n",
              "  <th>Date:</th>            <td>Thu, 12 Jan 2023</td> <th>  Deviance:          </th> <td>  5.1373</td>\n",
              "</tr>\n",
              "<tr>\n",
              "  <th>Time:</th>                <td>14:44:03</td>     <th>  Pearson chi2:      </th>  <td>  5.40</td> \n",
              "</tr>\n",
              "<tr>\n",
              "  <th>No. Iterations:</th>          <td>4</td>        <th>                     </th>     <td> </td>   \n",
              "</tr>\n",
              "<tr>\n",
              "  <th>Covariance Type:</th>     <td>nonrobust</td>    <th>                     </th>     <td> </td>   \n",
              "</tr>\n",
              "</table>\n",
              "<table class=\"simpletable\">\n",
              "<tr>\n",
              "       <td></td>          <th>coef</th>     <th>std err</th>      <th>z</th>      <th>P>|z|</th>  <th>[0.025</th>    <th>0.975]</th>  \n",
              "</tr>\n",
              "<tr>\n",
              "  <th>Intercept</th>   <td>    0.4476</td> <td>    0.199</td> <td>    2.253</td> <td> 0.024</td> <td>    0.058</td> <td>    0.837</td>\n",
              "</tr>\n",
              "<tr>\n",
              "  <th>temperature</th> <td>    0.0761</td> <td>    0.008</td> <td>    9.784</td> <td> 0.000</td> <td>    0.061</td> <td>    0.091</td>\n",
              "</tr>\n",
              "</table>"
            ]
          },
          "metadata": {},
          "execution_count": 36
        }
      ]
    },
    {
      "cell_type": "markdown",
      "source": [
        "- 기온 계수(coef) 는 양의 값.\n",
        "\n",
        "기온이 오르면 맥주 판매 개수도 늘어날 것"
      ],
      "metadata": {
        "id": "8joj4MJTcDs-"
      }
    },
    {
      "cell_type": "markdown",
      "source": [
        "### 6.5.5 모델선택 "
      ],
      "metadata": {
        "id": "oWBEbb4HcMZL"
      }
    },
    {
      "cell_type": "code",
      "source": [
        "mod_pois_null = smf.glm('beer_number ~ 1', beer, family=sm.families.Poisson()).fit()\n",
        "\n",
        "print('Null 모델 AIC:', mod_pois_null.aic.round(3))\n",
        "print('변수가 있는 모델 AIC:', mod_pois.aic.round(3))"
      ],
      "metadata": {
        "colab": {
          "base_uri": "https://localhost:8080/"
        },
        "id": "R1i3kE0pcPAz",
        "outputId": "03517daa-de0e-4eec-c7bd-9a15cbade13e"
      },
      "execution_count": 37,
      "outputs": [
        {
          "output_type": "stream",
          "name": "stdout",
          "text": [
            "Null 모델 AIC: 223.363\n",
            "변수가 있는 모델 AIC: 119.343\n"
          ]
        }
      ]
    },
    {
      "cell_type": "markdown",
      "source": [
        "### 6.5.6 회귀곡선 그래프 "
      ],
      "metadata": {
        "id": "h_MkxhfPcpNb"
      }
    },
    {
      "cell_type": "code",
      "source": [
        "# 예측값 작성\n",
        "x_plot = np.arange(0, 37, 1)\n",
        "pred = mod_pois.predict(pd.DataFrame({'temperature':x_plot}))\n",
        "\n",
        "# 회귀곡선을 그리지 않는 lmplot\n",
        "# fit_reg : True 인 경우 line 및 오차(?) 표시\n",
        "sns.lmplot(y='beer_number', x='temperature', data=beer, fit_reg=False)\n",
        "\n",
        "# 회귀곡선을 덧 그리기\n",
        "plt.plot(x_plot, pred)\n",
        "\n",
        "\n",
        "sns.lmplot(y='beer_number', x='temperature', data=beer, fit_reg=True)"
      ],
      "metadata": {
        "colab": {
          "base_uri": "https://localhost:8080/",
          "height": 739
        },
        "id": "Evu4EneIcr3X",
        "outputId": "1d802d70-6297-4063-ab07-61904fefc355"
      },
      "execution_count": 45,
      "outputs": [
        {
          "output_type": "execute_result",
          "data": {
            "text/plain": [
              "<seaborn.axisgrid.FacetGrid at 0x7f00d07488e0>"
            ]
          },
          "metadata": {},
          "execution_count": 45
        },
        {
          "output_type": "display_data",
          "data": {
            "text/plain": [
              "<Figure size 360x360 with 1 Axes>"
            ],
            "image/png": "[encoded data removed]"
          },
          "metadata": {
            "needs_background": "light"
          }
        },
        {
          "output_type": "display_data",
          "data": {
            "text/plain": [
              "<Figure size 360x360 with 1 Axes>"
            ],
            "image/png": "[encoded data removed]"
          },
          "metadata": {
            "needs_background": "light"
          }
        }
      ]
    },
    {
      "cell_type": "markdown",
      "source": [
        "### 6.5.7 회귀계수 해석 "
      ],
      "metadata": {
        "id": "FLvNhO2-eddj"
      }
    },
    {
      "cell_type": "markdown",
      "source": [
        "로그의 특징으로서 덧셈이 곱셈이 된다는 점에 주의할 필요가 있음\n",
        "\n",
        "일반적인 모델에서는 기온이 1도 오르면 맥주 매출이 X원 증가한다는 해석이 되지만, \n",
        "\n",
        "로그함수를 사용하면 기온이 1도 오르면, 맥주 판매 개수가 Y배가 된다는 해석이 됨."
      ],
      "metadata": {
        "id": "n02ugRWxegHF"
      }
    },
    {
      "cell_type": "code",
      "source": [
        "# 기온이 1도일 때의 판매 개수의 기댓값\n",
        "exp_val_1 = pd.DataFrame({'temperature':[1]})\n",
        "pred_1 = mod_pois.predict(exp_val_1)\n",
        "\n",
        "# 기온이 2도일 때의 판매 개수의 기댓값\n",
        "exp_val_2 = pd.DataFrame({'temperature':[2]})\n",
        "pred_2 = mod_pois.predict(exp_val_2)\n",
        "\n",
        "# 기온이 1도에서 2도로 1도 오르면 판매 개수는 몇배가 되는지\n",
        "print('기온이 1도에서 1도 올라 2도가 되었을 때 판매개수는 몇배?:', pred_2 / pred_1)\n",
        "\n",
        "# 위 결과는 회귀계수에 exp를 취한 값과 동일\n",
        "np.exp(mod_pois.params['temperature'])"
      ],
      "metadata": {
        "colab": {
          "base_uri": "https://localhost:8080/"
        },
        "id": "XfxxI4FMe0Eu",
        "outputId": "27bec631-789b-4aa4-f583-8e5f0a30dbf4"
      },
      "execution_count": 47,
      "outputs": [
        {
          "output_type": "stream",
          "name": "stdout",
          "text": [
            "기온이 1도에서 1도 올라 2도가 되었을 때 판매개수는 몇배?: 0    1.079045\n",
            "dtype: float64\n"
          ]
        },
        {
          "output_type": "execute_result",
          "data": {
            "text/plain": [
              "1.079045054586893"
            ]
          },
          "metadata": {},
          "execution_count": 47
        }
      ]
    }
  ]
}