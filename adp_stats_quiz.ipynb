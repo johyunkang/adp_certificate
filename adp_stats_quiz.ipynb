{
  "nbformat": 4,
  "nbformat_minor": 0,
  "metadata": {
    "colab": {
      "provenance": [],
      "authorship_tag": "ABX9TyPrM47LbOuD2wj+3eNgnYVH",
      "include_colab_link": true
    },
    "kernelspec": {
      "name": "python3",
      "display_name": "Python 3"
    },
    "language_info": {
      "name": "python"
    }
  },
  "cells": [
    {
      "cell_type": "markdown",
      "metadata": {
        "id": "view-in-github",
        "colab_type": "text"
      },
      "source": [
        "<a href=\"https://colab.research.google.com/github/johyunkang/adp_certificate/blob/main/adp_stats_quiz.ipynb\" target=\"_parent\"><img src=\"https://colab.research.google.com/assets/colab-badge.svg\" alt=\"Open In Colab\"/></a>"
      ]
    },
    {
      "cell_type": "markdown",
      "source": [
        "# ADP 27회 통"
      ],
      "metadata": {
        "id": "e6gEZlXM5wph"
      }
    },
    {
      "cell_type": "markdown",
      "source": [
        "Q1. 2년 전 제품 생산량이 100,000개, 1년 전 제품 생산량이 150,000개, 그 후 팩토리 기술의 상승으로 제품 생산량이 250,000개 되었을 때, 연평균 상승률의 대푯값을 구하시오. (반올림하여 소수점 아래 둘째자리까지 표기하시오.)"
      ],
      "metadata": {
        "id": "YSpIpyZH5zij"
      }
    },
    {
      "cell_type": "code",
      "execution_count": 5,
      "metadata": {
        "colab": {
          "base_uri": "https://localhost:8080/"
        },
        "id": "VVF2jReD5tif",
        "outputId": "c6e599d8-dad3-4d31-a045-56129d2acd4f"
      },
      "outputs": [
        {
          "output_type": "stream",
          "name": "stdout",
          "text": [
            "1년전 상승률: 50.0  %\n",
            "올해 상승률: 40.0  %\n",
            "연평균 상승률: 45.0 %\n"
          ]
        }
      ],
      "source": [
        "import numpy as np\n",
        "\n",
        "past_2y = 100_000\n",
        "past_1y = 150_000\n",
        "now = 250_000\n",
        "\n",
        "rt1 = (past_1y - past_2y)/ past_2y\n",
        "print('1년전 상승률:', rt1 * 100, ' %')\n",
        "\n",
        "rt2 = (now - past_1y) / now\n",
        "print('올해 상승률:', rt2 * 100, ' %')\n",
        "print('연평균 상승률:', (rt1+rt2)/2 * 100, '%')"
      ]
    }
  ]
}