{
  "nbformat": 4,
  "nbformat_minor": 0,
  "metadata": {
    "colab": {
      "provenance": [],
      "authorship_tag": "ABX9TyO3LGsdz4DGqIiqMOjvyZQk",
      "include_colab_link": true
    },
    "kernelspec": {
      "name": "python3",
      "display_name": "Python 3"
    },
    "language_info": {
      "name": "python"
    }
  },
  "cells": [
    {
      "cell_type": "markdown",
      "metadata": {
        "id": "view-in-github",
        "colab_type": "text"
      },
      "source": [
        "<a href=\"https://colab.research.google.com/github/johyunkang/adp_certificate/blob/main/adp_stats_quiz.ipynb\" target=\"_parent\"><img src=\"https://colab.research.google.com/assets/colab-badge.svg\" alt=\"Open In Colab\"/></a>"
      ]
    },
    {
      "cell_type": "markdown",
      "source": [
        "# ADP 27회 통계"
      ],
      "metadata": {
        "id": "e6gEZlXM5wph"
      }
    },
    {
      "cell_type": "markdown",
      "source": [
        "Q1. 2년 전 제품 생산량이 100,000개, 1년 전 제품 생산량이 150,000개, 그 후 팩토리 기술의 상승으로 제품 생산량이 250,000개 되었을 때, 연평균 상승률의 대푯값을 구하시오. (반올림하여 소수점 아래 둘째자리까지 표기하시오.)"
      ],
      "metadata": {
        "id": "YSpIpyZH5zij"
      }
    },
    {
      "cell_type": "code",
      "execution_count": 7,
      "metadata": {
        "colab": {
          "base_uri": "https://localhost:8080/"
        },
        "id": "VVF2jReD5tif",
        "outputId": "aef9cf11-5800-4da0-84af-7043b0924ac6"
      },
      "outputs": [
        {
          "output_type": "stream",
          "name": "stdout",
          "text": [
            "1년전 상승률: 50.0  %\n",
            "올해 상승률: 40.0  %\n",
            "연평균 상승률: 45.0 %\n",
            "연평균 상승률(CAGR): 58.11\n",
            "58 2 %\n",
            "44.72 %\n",
            "44.72 %\n"
          ]
        }
      ],
      "source": [
        "import numpy as np\n",
        "\n",
        "past_2y = 100_000\n",
        "past_1y = 150_000\n",
        "now = 250_000\n",
        "\n",
        "rt1 = (past_1y - past_2y)/ past_2y\n",
        "print('1년전 상승률:', rt1 * 100, ' %')\n",
        "\n",
        "rt2 = (now - past_1y) / now\n",
        "print('올해 상승률:', rt2 * 100, ' %')\n",
        "print('연평균 상승률:', (rt1+rt2)/2 * 100, '%')\n",
        "ans = pow((250_000/100_000), (1/2)) - 1\n",
        "print('연평균 상승률(CAGR):', round(ans * 100, 2))\n",
        "print(round((((past_1y / past_2y) * (now / past_1y))**0.5 -1) * 100), 2, '%')\n",
        "print(round(np.sqrt(rt1 * rt2) * 100, 2), '%')\n",
        "print(round(((rt1 * rt2)**0.5) * 100, 2), '%')"
      ]
    },
    {
      "cell_type": "code",
      "source": [
        "print(round((pow((now/past_2y), (1/2)) - 1) * 100, 2), '%')\n",
        "\n",
        "import statistics  as sts\n",
        "\n",
        "n_list = [100_000, 150_000, 250_000]\n",
        "rt1 = sts.mean(n_list[:2])\n",
        "rt2 = sts.mean(n_list[1:])\n",
        "print(rt1, rt2)\n",
        "print(sts.mean(n_list))\n",
        "geo_mean = sts.geometric_mean([rt1, rt2])\n",
        "print(geo_mean)\n",
        "\n",
        "print(n_list[:2], n_list[1:])\n"
      ],
      "metadata": {
        "colab": {
          "base_uri": "https://localhost:8080/"
        },
        "id": "DQH_BrwA8L0N",
        "outputId": "d20efaec-19c6-4ced-e4c4-7921b1ca3ddf"
      },
      "execution_count": 2,
      "outputs": [
        {
          "output_type": "stream",
          "name": "stdout",
          "text": [
            "58.11 %\n",
            "125000 200000\n",
            "166666.66666666666\n",
            "158113.88300841878\n",
            "[100000, 150000] [150000, 250000]\n"
          ]
        }
      ]
    },
    {
      "cell_type": "code",
      "source": [],
      "metadata": {
        "id": "GhhoRp2dPwC4"
      },
      "execution_count": null,
      "outputs": []
    },
    {
      "cell_type": "markdown",
      "source": [
        "#### NPV"
      ],
      "metadata": {
        "id": "J_gfrXJQHweq"
      }
    },
    {
      "cell_type": "code",
      "source": [
        "cashflow = [-750000, 10000, 20000, 30000, 40000]\n",
        "r = 0.05 # 할인률\n",
        "\n",
        "import numpy as np\n",
        "net_present_value = np.npv(r, cashflow)\n",
        "print('NPV:', net_present_value)"
      ],
      "metadata": {
        "colab": {
          "base_uri": "https://localhost:8080/",
          "height": 427
        },
        "id": "N2FGrn9cHx8G",
        "outputId": "58c95999-b63b-41c6-9389-5deb68b9c80e"
      },
      "execution_count": 3,
      "outputs": [
        {
          "output_type": "stream",
          "name": "stderr",
          "text": [
            "<ipython-input-3-80a0f3b357cd>:5: DeprecationWarning: In accordance with NEP 32, the function npv was removed from NumPy version 1.20.  A replacement for this function is available in the numpy_financial library: https://pypi.org/project/numpy-financial\n",
            "  net_present_value = np.npv(r, cashflow)\n"
          ]
        },
        {
          "output_type": "error",
          "ename": "RuntimeError",
          "evalue": "ignored",
          "traceback": [
            "\u001b[0;31m---------------------------------------------------------------------------\u001b[0m",
            "\u001b[0;31mRuntimeError\u001b[0m                              Traceback (most recent call last)",
            "\u001b[0;32m<ipython-input-3-80a0f3b357cd>\u001b[0m in \u001b[0;36m<module>\u001b[0;34m\u001b[0m\n\u001b[1;32m      3\u001b[0m \u001b[0;34m\u001b[0m\u001b[0m\n\u001b[1;32m      4\u001b[0m \u001b[0;32mimport\u001b[0m \u001b[0mnumpy\u001b[0m \u001b[0;32mas\u001b[0m \u001b[0mnp\u001b[0m\u001b[0;34m\u001b[0m\u001b[0;34m\u001b[0m\u001b[0m\n\u001b[0;32m----> 5\u001b[0;31m \u001b[0mnet_present_value\u001b[0m \u001b[0;34m=\u001b[0m \u001b[0mnp\u001b[0m\u001b[0;34m.\u001b[0m\u001b[0mnpv\u001b[0m\u001b[0;34m(\u001b[0m\u001b[0mr\u001b[0m\u001b[0;34m,\u001b[0m \u001b[0mcashflow\u001b[0m\u001b[0;34m)\u001b[0m\u001b[0;34m\u001b[0m\u001b[0;34m\u001b[0m\u001b[0m\n\u001b[0m\u001b[1;32m      6\u001b[0m \u001b[0mprint\u001b[0m\u001b[0;34m(\u001b[0m\u001b[0;34m'NPV:'\u001b[0m\u001b[0;34m,\u001b[0m \u001b[0mnet_present_value\u001b[0m\u001b[0;34m)\u001b[0m\u001b[0;34m\u001b[0m\u001b[0;34m\u001b[0m\u001b[0m\n",
            "\u001b[0;32m/usr/local/lib/python3.8/dist-packages/numpy/__init__.py\u001b[0m in \u001b[0;36m_expired\u001b[0;34m(*args, **kwds)\u001b[0m\n\u001b[1;32m    287\u001b[0m \u001b[0;34m\u001b[0m\u001b[0m\n\u001b[1;32m    288\u001b[0m             \u001b[0;32mdef\u001b[0m \u001b[0m_expired\u001b[0m\u001b[0;34m(\u001b[0m\u001b[0;34m*\u001b[0m\u001b[0margs\u001b[0m\u001b[0;34m,\u001b[0m \u001b[0;34m**\u001b[0m\u001b[0mkwds\u001b[0m\u001b[0;34m)\u001b[0m\u001b[0;34m:\u001b[0m\u001b[0;34m\u001b[0m\u001b[0;34m\u001b[0m\u001b[0m\n\u001b[0;32m--> 289\u001b[0;31m                 \u001b[0;32mraise\u001b[0m \u001b[0mRuntimeError\u001b[0m\u001b[0;34m(\u001b[0m\u001b[0mmsg\u001b[0m\u001b[0;34m)\u001b[0m\u001b[0;34m\u001b[0m\u001b[0;34m\u001b[0m\u001b[0m\n\u001b[0m\u001b[1;32m    290\u001b[0m \u001b[0;34m\u001b[0m\u001b[0m\n\u001b[1;32m    291\u001b[0m             \u001b[0;32mreturn\u001b[0m \u001b[0m_expired\u001b[0m\u001b[0;34m\u001b[0m\u001b[0;34m\u001b[0m\u001b[0m\n",
            "\u001b[0;31mRuntimeError\u001b[0m: In accordance with NEP 32, the function npv was removed from NumPy version 1.20.  A replacement for this function is available in the numpy_financial library: https://pypi.org/project/numpy-financial"
          ]
        }
      ]
    },
    {
      "cell_type": "markdown",
      "source": [
        "Q2. 8건의 광고시간 측정. 평균 15.5초, 분산 3.2초 일때 90% 신뢰구간은?\n"
      ],
      "metadata": {
        "id": "56RmqZ-CL2gL"
      }
    },
    {
      "cell_type": "code",
      "source": [
        "# 정규분포를 가정하며, 집계한 광고 수가 30개 미만이므로 t검정을 사용\n",
        "from scipy import stats\n",
        "mu = 15.5\n",
        "var = 3.2\n",
        "n = 8\n",
        "stats.t.interval(alpha=0.9, loc=mu, scale=np.sqrt(var/n), df=(n-1))"
      ],
      "metadata": {
        "colab": {
          "base_uri": "https://localhost:8080/"
        },
        "id": "Akiht4WTJI5M",
        "outputId": "054fe524-d185-4ecd-c891-a63ba1f7461c"
      },
      "execution_count": 8,
      "outputs": [
        {
          "output_type": "execute_result",
          "data": {
            "text/plain": [
              "(14.301763280356333, 16.698236719643667)"
            ]
          },
          "metadata": {},
          "execution_count": 8
        }
      ]
    },
    {
      "cell_type": "markdown",
      "source": [
        "Q3. 15개 강의 상류와 하류의 어류다양성 점수. 상류-하류는 독립이 아닌 종속\n",
        "- 3-1 귀무가설과 대립가설을 설정하라"
      ],
      "metadata": {
        "id": "8a2QfxAJQeV1"
      }
    },
    {
      "cell_type": "code",
      "source": [
        "# 귀무가설 : 강의 상류와 하류간 어류 다양성 점수는 상관 없다.\n",
        "# 대립가설 : 강의 상류와 하류간 어류 다양성 점수는 상관이 없지 않다."
      ],
      "metadata": {
        "id": "c4IjG7COQpeD"
      },
      "execution_count": null,
      "outputs": []
    },
    {
      "cell_type": "markdown",
      "source": [
        "- 3-2 통계량을 구하고, 대립가설 채택 여부를 기술하라"
      ],
      "metadata": {
        "id": "kSNWN4gCV5vl"
      }
    },
    {
      "cell_type": "code",
      "source": [
        "# t 검정을 사용한다고 생각함\n",
        "# 상류 / 하류 간 독립이 아니라고 했으므로\n",
        "# 독립표본 검정(쌍검정)이 아닌 대응표본 검정을 실행해야 한다고 생각\n",
        "\n",
        "from scipy import stats\n",
        "import pandas as pd\n",
        "\n",
        "river = ['A', 'B', 'C', 'D', 'E', 'F', 'G', 'H', 'I', 'J']\n",
        "up = [40, 38, 42, 29, 19, 27, 37, 47, 57, 56]\n",
        "down = [48, 38, 40, 30, 20, 26, 35, 48, 55, 56]\n",
        "\n",
        "df = pd.DataFrame({'river':river, 'up':up, 'down':down})\n",
        "display(df.head())\n",
        "\n",
        "# 먼저 상류와 하류 데이터에 대한 각각의 정규성 검정을 수행\n",
        "# 표본의 수가 적으니 비모수 검정 해야 하나?\n",
        "print('정규성검정 상류:', stats.shapiro(df.up))\n",
        "print('정규성검정 하류:', stats.shapiro(df.down))\n",
        "print('샘플 데이터는 p-value 가 둘 다 0.05를 초과하여 정규성을 만족하지만, 실제 시험에선 하나가 정규성을 만족하지 못 했음')\n",
        "\n",
        "# 둘 중 하나가 정규성을 만족하지 못하여\n",
        "# stats.ttest_rel을 쓰지 못하고, 윌콕슨 부호순위검정을 수행\n",
        "stats.wilcoxon(df.up, df.down)\n",
        "\n",
        "# 수행결과 p-value 가 0.05 미만으로 나와 귀무가설을 기각\n",
        "# 즉, 상-하류간 어류 다양성 점수에 유의미한 차이가 있었다."
      ],
      "metadata": {
        "colab": {
          "base_uri": "https://localhost:8080/",
          "height": 242
        },
        "id": "NO-3r-dgV83_",
        "outputId": "13c038f3-2381-4e29-98e9-da48f1b2c9e3"
      },
      "execution_count": 13,
      "outputs": [
        {
          "output_type": "display_data",
          "data": {
            "text/plain": [
              "  river  up  down\n",
              "0     A  40    48\n",
              "1     B  38    38\n",
              "2     C  42    40\n",
              "3     D  29    30\n",
              "4     E  19    20"
            ],
            "text/html": [
              "\n",
              "  <div id=\"df-bc426038-216f-4eea-bc1d-8aa3b96b995e\">\n",
              "    <div class=\"colab-df-container\">\n",
              "      <div>\n",
              "<style scoped>\n",
              "    .dataframe tbody tr th:only-of-type {\n",
              "        vertical-align: middle;\n",
              "    }\n",
              "\n",
              "    .dataframe tbody tr th {\n",
              "        vertical-align: top;\n",
              "    }\n",
              "\n",
              "    .dataframe thead th {\n",
              "        text-align: right;\n",
              "    }\n",
              "</style>\n",
              "<table border=\"1\" class=\"dataframe\">\n",
              "  <thead>\n",
              "    <tr style=\"text-align: right;\">\n",
              "      <th></th>\n",
              "      <th>river</th>\n",
              "      <th>up</th>\n",
              "      <th>down</th>\n",
              "    </tr>\n",
              "  </thead>\n",
              "  <tbody>\n",
              "    <tr>\n",
              "      <th>0</th>\n",
              "      <td>A</td>\n",
              "      <td>40</td>\n",
              "      <td>48</td>\n",
              "    </tr>\n",
              "    <tr>\n",
              "      <th>1</th>\n",
              "      <td>B</td>\n",
              "      <td>38</td>\n",
              "      <td>38</td>\n",
              "    </tr>\n",
              "    <tr>\n",
              "      <th>2</th>\n",
              "      <td>C</td>\n",
              "      <td>42</td>\n",
              "      <td>40</td>\n",
              "    </tr>\n",
              "    <tr>\n",
              "      <th>3</th>\n",
              "      <td>D</td>\n",
              "      <td>29</td>\n",
              "      <td>30</td>\n",
              "    </tr>\n",
              "    <tr>\n",
              "      <th>4</th>\n",
              "      <td>E</td>\n",
              "      <td>19</td>\n",
              "      <td>20</td>\n",
              "    </tr>\n",
              "  </tbody>\n",
              "</table>\n",
              "</div>\n",
              "      <button class=\"colab-df-convert\" onclick=\"convertToInteractive('df-bc426038-216f-4eea-bc1d-8aa3b96b995e')\"\n",
              "              title=\"Convert this dataframe to an interactive table.\"\n",
              "              style=\"display:none;\">\n",
              "        \n",
              "  <svg xmlns=\"http://www.w3.org/2000/svg\" height=\"24px\"viewBox=\"0 0 24 24\"\n",
              "       width=\"24px\">\n",
              "    <path d=\"M0 0h24v24H0V0z\" fill=\"none\"/>\n",
              "    <path d=\"M18.56 5.44l.94 2.06.94-2.06 2.06-.94-2.06-.94-.94-2.06-.94 2.06-2.06.94zm-11 1L8.5 8.5l.94-2.06 2.06-.94-2.06-.94L8.5 2.5l-.94 2.06-2.06.94zm10 10l.94 2.06.94-2.06 2.06-.94-2.06-.94-.94-2.06-.94 2.06-2.06.94z\"/><path d=\"M17.41 7.96l-1.37-1.37c-.4-.4-.92-.59-1.43-.59-.52 0-1.04.2-1.43.59L10.3 9.45l-7.72 7.72c-.78.78-.78 2.05 0 2.83L4 21.41c.39.39.9.59 1.41.59.51 0 1.02-.2 1.41-.59l7.78-7.78 2.81-2.81c.8-.78.8-2.07 0-2.86zM5.41 20L4 18.59l7.72-7.72 1.47 1.35L5.41 20z\"/>\n",
              "  </svg>\n",
              "      </button>\n",
              "      \n",
              "  <style>\n",
              "    .colab-df-container {\n",
              "      display:flex;\n",
              "      flex-wrap:wrap;\n",
              "      gap: 12px;\n",
              "    }\n",
              "\n",
              "    .colab-df-convert {\n",
              "      background-color: #E8F0FE;\n",
              "      border: none;\n",
              "      border-radius: 50%;\n",
              "      cursor: pointer;\n",
              "      display: none;\n",
              "      fill: #1967D2;\n",
              "      height: 32px;\n",
              "      padding: 0 0 0 0;\n",
              "      width: 32px;\n",
              "    }\n",
              "\n",
              "    .colab-df-convert:hover {\n",
              "      background-color: #E2EBFA;\n",
              "      box-shadow: 0px 1px 2px rgba(60, 64, 67, 0.3), 0px 1px 3px 1px rgba(60, 64, 67, 0.15);\n",
              "      fill: #174EA6;\n",
              "    }\n",
              "\n",
              "    [theme=dark] .colab-df-convert {\n",
              "      background-color: #3B4455;\n",
              "      fill: #D2E3FC;\n",
              "    }\n",
              "\n",
              "    [theme=dark] .colab-df-convert:hover {\n",
              "      background-color: #434B5C;\n",
              "      box-shadow: 0px 1px 3px 1px rgba(0, 0, 0, 0.15);\n",
              "      filter: drop-shadow(0px 1px 2px rgba(0, 0, 0, 0.3));\n",
              "      fill: #FFFFFF;\n",
              "    }\n",
              "  </style>\n",
              "\n",
              "      <script>\n",
              "        const buttonEl =\n",
              "          document.querySelector('#df-bc426038-216f-4eea-bc1d-8aa3b96b995e button.colab-df-convert');\n",
              "        buttonEl.style.display =\n",
              "          google.colab.kernel.accessAllowed ? 'block' : 'none';\n",
              "\n",
              "        async function convertToInteractive(key) {\n",
              "          const element = document.querySelector('#df-bc426038-216f-4eea-bc1d-8aa3b96b995e');\n",
              "          const dataTable =\n",
              "            await google.colab.kernel.invokeFunction('convertToInteractive',\n",
              "                                                     [key], {});\n",
              "          if (!dataTable) return;\n",
              "\n",
              "          const docLinkHtml = 'Like what you see? Visit the ' +\n",
              "            '<a target=\"_blank\" href=https://colab.research.google.com/notebooks/data_table.ipynb>data table notebook</a>'\n",
              "            + ' to learn more about interactive tables.';\n",
              "          element.innerHTML = '';\n",
              "          dataTable['output_type'] = 'display_data';\n",
              "          await google.colab.output.renderOutput(dataTable, element);\n",
              "          const docLink = document.createElement('div');\n",
              "          docLink.innerHTML = docLinkHtml;\n",
              "          element.appendChild(docLink);\n",
              "        }\n",
              "      </script>\n",
              "    </div>\n",
              "  </div>\n",
              "  "
            ]
          },
          "metadata": {}
        },
        {
          "output_type": "stream",
          "name": "stdout",
          "text": [
            "정규성검정 상류: ShapiroResult(statistic=0.9646286368370056, pvalue=0.837075412273407)\n",
            "정규성검정 하류: ShapiroResult(statistic=0.9580702781677246, pvalue=0.7636648416519165)\n"
          ]
        }
      ]
    },
    {
      "cell_type": "markdown",
      "source": [
        "Q4. 백분위 회귀\n",
        "- 4-1 주어진 데이터에 대해 백분위 50%로 잡고 백분위 회귀 모델을 구현하고 계수들에 대해 설명하라."
      ],
      "metadata": {
        "id": "YzemCoCFaLlU"
      }
    },
    {
      "cell_type": "markdown",
      "source": [
        "참조 URL : https://amaruak00.github.io/2022/12/17/adp27th.html\n"
      ],
      "metadata": {
        "id": "HDqy4DGtR4DJ"
      }
    }
  ]
}