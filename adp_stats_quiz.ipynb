{
  "nbformat": 4,
  "nbformat_minor": 0,
  "metadata": {
    "colab": {
      "provenance": [],
      "authorship_tag": "ABX9TyPd7xDdmYi9T4IrIl+XDNm4",
      "include_colab_link": true
    },
    "kernelspec": {
      "name": "python3",
      "display_name": "Python 3"
    },
    "language_info": {
      "name": "python"
    }
  },
  "cells": [
    {
      "cell_type": "markdown",
      "metadata": {
        "id": "view-in-github",
        "colab_type": "text"
      },
      "source": [
        "<a href=\"https://colab.research.google.com/github/johyunkang/adp_certificate/blob/main/adp_stats_quiz.ipynb\" target=\"_parent\"><img src=\"https://colab.research.google.com/assets/colab-badge.svg\" alt=\"Open In Colab\"/></a>"
      ]
    },
    {
      "cell_type": "markdown",
      "source": [
        "# ADP 27회 통계"
      ],
      "metadata": {
        "id": "e6gEZlXM5wph"
      }
    },
    {
      "cell_type": "markdown",
      "source": [
        "Q1. 2년 전 제품 생산량이 100,000개, 1년 전 제품 생산량이 150,000개, 그 후 팩토리 기술의 상승으로 제품 생산량이 250,000개 되었을 때, 연평균 상승률의 대푯값을 구하시오. (반올림하여 소수점 아래 둘째자리까지 표기하시오.)"
      ],
      "metadata": {
        "id": "YSpIpyZH5zij"
      }
    },
    {
      "cell_type": "code",
      "execution_count": null,
      "metadata": {
        "colab": {
          "base_uri": "https://localhost:8080/"
        },
        "id": "VVF2jReD5tif",
        "outputId": "54ca7863-e577-4d63-85d0-46a9807e1804"
      },
      "outputs": [
        {
          "output_type": "stream",
          "name": "stdout",
          "text": [
            "기하평균: 58.11 %\n",
            "CAGR :  58.11 %\n"
          ]
        }
      ],
      "source": [
        "import numpy as np\n",
        "import warnings\n",
        "warnings.filterwarnings(action='ignore')\n",
        "\n",
        "p2 = 100_000\n",
        "p1 = 150_000\n",
        "p0 = 250_000\n",
        "\n",
        "rt1 = (p1/p2)\n",
        "rt2 = (p0/p1)\n",
        "geo_mean=np.sqrt(rt1 * rt2) - 1\n",
        "print('기하평균:', round(geo_mean * 100, 2), '%')\n",
        "print('CAGR : ', round(((p0/p2)**(1/2)-1)*100, 2), '%')"
      ]
    },
    {
      "cell_type": "markdown",
      "source": [
        "#### 조화평균\n",
        "\n",
        "\n",
        "\n",
        "$속력 = \\dfrac {거리} {시간}$\n",
        "\n",
        "$\\dfrac {2ab} {a + b} ,  \\dfrac {3abc} {ab+bc+ca}$\n",
        "\n",
        "$a = \\dfrac {d} {t_a}, b = \\dfrac {d} {t_b}$\n",
        "\n",
        "\n",
        "Q. 100km의 거리를 절반은 40km/h 의 속도로 가고, 나머지 50km는 100km/h 속도로 갔다면 평균속력은?"
      ],
      "metadata": {
        "id": "K_Xah79YF0ME"
      }
    },
    {
      "cell_type": "code",
      "source": [
        "a = 40\n",
        "b = 100\n",
        "\n",
        "ans1 = (2*a*b)/(a + b) # 2ab / (a+b)\n",
        "print(ans1)\n",
        "\n",
        "ans2 = 2/(1/a + 1/b) # 2 / (1/a + 1/b)\n",
        "print(ans2)\n",
        "       "
      ],
      "metadata": {
        "colab": {
          "base_uri": "https://localhost:8080/"
        },
        "id": "Ci4HzfpjGVLR",
        "outputId": "abdc571d-e473-40c2-a2a2-77c6cf276926"
      },
      "execution_count": null,
      "outputs": [
        {
          "output_type": "stream",
          "name": "stdout",
          "text": [
            "57.142857142857146\n",
            "57.14285714285714\n"
          ]
        }
      ]
    },
    {
      "cell_type": "markdown",
      "source": [
        "#### NPV"
      ],
      "metadata": {
        "id": "J_gfrXJQHweq"
      }
    },
    {
      "cell_type": "code",
      "source": [
        "cashflows = [ 10000, 20000, 30000, 40000]\n",
        "r = 0.05 # 할인률\n",
        "npv = -70_000 # 최초 투자금액이며 현금 유출이라 (-)로 표시\n",
        "\n",
        "period = 1 # 1Y: 1, 12month : 12\n",
        "\n",
        "i=0\n",
        "# npv=0\n",
        "for c in cashflows :\n",
        "    i = i + 1\n",
        "    npv = npv + c/(1+r)**(i/period)\n",
        "    print(npv)\n",
        "\n",
        "print('최종 NPV:', npv)\n"
      ],
      "metadata": {
        "colab": {
          "base_uri": "https://localhost:8080/"
        },
        "id": "N2FGrn9cHx8G",
        "outputId": "53cb05b3-3d47-4826-d33a-d0e9c71983e0"
      },
      "execution_count": null,
      "outputs": [
        {
          "output_type": "stream",
          "name": "stdout",
          "text": [
            "-60476.19047619047\n",
            "-42335.600907029475\n",
            "-16420.472951085194\n",
            "16487.62604059008\n",
            "최종 NPV: 16487.62604059008\n"
          ]
        }
      ]
    },
    {
      "cell_type": "markdown",
      "source": [
        "#### IRR\n",
        "\n",
        "IRR : NPV가 0이 되는 할인율"
      ],
      "metadata": {
        "id": "uYRgp_Wp4LSy"
      }
    },
    {
      "cell_type": "code",
      "source": [
        "import scipy as sp\n",
        "import numpy as np\n",
        "cashflows = [-70000, 10000, 20000, 30000, 40000]"
      ],
      "metadata": {
        "id": "QvgXVNu74MaI"
      },
      "execution_count": null,
      "outputs": []
    },
    {
      "cell_type": "markdown",
      "source": [
        "Q2. 8건의 광고시간 측정. 평균 15.5초, 분산 3.2초 일때 90% 신뢰구간은?\n"
      ],
      "metadata": {
        "id": "56RmqZ-CL2gL"
      }
    },
    {
      "cell_type": "code",
      "source": [
        "# 정규분포를 가정하며, 집계한 광고 수가 30개 미만이므로 t검정을 사용\n",
        "from scipy import stats\n",
        "mu = 15.5\n",
        "var = 3.2\n",
        "n = 8\n",
        "# alpha method will be deprecated. please use confidence parameter instead of alpha.\n",
        "confidence_level_90 = stats.t.interval(alpha=0.9, loc=mu, scale=np.sqrt(var/n), df=(n-1))\n",
        "print('90% 신뢰구간:', confidence_level_90)\n",
        "confidence_level_90_n = stats.t.interval(confidence=0.9, loc=mu, scale=np.sqrt(var/n), df=(n))\n",
        "print('90% 신뢰구간:', confidence_level_90_n)"
      ],
      "metadata": {
        "colab": {
          "base_uri": "https://localhost:8080/"
        },
        "id": "Akiht4WTJI5M",
        "outputId": "1cf2a447-70e0-4956-b184-194d2756668e"
      },
      "execution_count": null,
      "outputs": [
        {
          "output_type": "stream",
          "name": "stdout",
          "text": [
            "90% 신뢰구간: (14.301763280356333, 16.698236719643667)\n",
            "90% 신뢰구간: (14.323918556586312, 16.676081443413686)\n"
          ]
        }
      ]
    },
    {
      "cell_type": "markdown",
      "source": [
        "Q3. 18개 강의 상류와 하류의 어류다양성 점수에 차이가 있는지 검정하시오. (단, 같은 강에서 상류-하류는 독립이 아닌 종속)\n",
        "- 3-1 귀무가설과 대립가설을 설정하라"
      ],
      "metadata": {
        "id": "8a2QfxAJQeV1"
      }
    },
    {
      "cell_type": "code",
      "source": [
        "# 귀무가설 : 강의 상류와 하류간 어류 다양성 점수는 상관 없다.\n",
        "# 대립가설 : 강의 상류와 하류간 어류 다양성 점수는 상관이 없지 않다.\n",
        "\n",
        "df= pd.read_csv('https://raw.githubusercontent.com/Datamanim/datarepo/main/adp/27/river.csv')\n",
        "df.head(3)"
      ],
      "metadata": {
        "id": "c4IjG7COQpeD",
        "colab": {
          "base_uri": "https://localhost:8080/",
          "height": 143
        },
        "outputId": "342f4fea-4c61-4985-f83c-34061f6f4f3d"
      },
      "execution_count": null,
      "outputs": [
        {
          "output_type": "execute_result",
          "data": {
            "text/plain": [
              "  River    up  down\n",
              "0     A  57.1  45.7\n",
              "1     B  51.6  37.2\n",
              "2     C  53.9  53.3"
            ],
            "text/html": [
              "\n",
              "  <div id=\"df-c109dab9-3eb2-4e04-8e1f-9e42d78e3511\">\n",
              "    <div class=\"colab-df-container\">\n",
              "      <div>\n",
              "<style scoped>\n",
              "    .dataframe tbody tr th:only-of-type {\n",
              "        vertical-align: middle;\n",
              "    }\n",
              "\n",
              "    .dataframe tbody tr th {\n",
              "        vertical-align: top;\n",
              "    }\n",
              "\n",
              "    .dataframe thead th {\n",
              "        text-align: right;\n",
              "    }\n",
              "</style>\n",
              "<table border=\"1\" class=\"dataframe\">\n",
              "  <thead>\n",
              "    <tr style=\"text-align: right;\">\n",
              "      <th></th>\n",
              "      <th>River</th>\n",
              "      <th>up</th>\n",
              "      <th>down</th>\n",
              "    </tr>\n",
              "  </thead>\n",
              "  <tbody>\n",
              "    <tr>\n",
              "      <th>0</th>\n",
              "      <td>A</td>\n",
              "      <td>57.1</td>\n",
              "      <td>45.7</td>\n",
              "    </tr>\n",
              "    <tr>\n",
              "      <th>1</th>\n",
              "      <td>B</td>\n",
              "      <td>51.6</td>\n",
              "      <td>37.2</td>\n",
              "    </tr>\n",
              "    <tr>\n",
              "      <th>2</th>\n",
              "      <td>C</td>\n",
              "      <td>53.9</td>\n",
              "      <td>53.3</td>\n",
              "    </tr>\n",
              "  </tbody>\n",
              "</table>\n",
              "</div>\n",
              "      <button class=\"colab-df-convert\" onclick=\"convertToInteractive('df-c109dab9-3eb2-4e04-8e1f-9e42d78e3511')\"\n",
              "              title=\"Convert this dataframe to an interactive table.\"\n",
              "              style=\"display:none;\">\n",
              "        \n",
              "  <svg xmlns=\"http://www.w3.org/2000/svg\" height=\"24px\"viewBox=\"0 0 24 24\"\n",
              "       width=\"24px\">\n",
              "    <path d=\"M0 0h24v24H0V0z\" fill=\"none\"/>\n",
              "    <path d=\"M18.56 5.44l.94 2.06.94-2.06 2.06-.94-2.06-.94-.94-2.06-.94 2.06-2.06.94zm-11 1L8.5 8.5l.94-2.06 2.06-.94-2.06-.94L8.5 2.5l-.94 2.06-2.06.94zm10 10l.94 2.06.94-2.06 2.06-.94-2.06-.94-.94-2.06-.94 2.06-2.06.94z\"/><path d=\"M17.41 7.96l-1.37-1.37c-.4-.4-.92-.59-1.43-.59-.52 0-1.04.2-1.43.59L10.3 9.45l-7.72 7.72c-.78.78-.78 2.05 0 2.83L4 21.41c.39.39.9.59 1.41.59.51 0 1.02-.2 1.41-.59l7.78-7.78 2.81-2.81c.8-.78.8-2.07 0-2.86zM5.41 20L4 18.59l7.72-7.72 1.47 1.35L5.41 20z\"/>\n",
              "  </svg>\n",
              "      </button>\n",
              "      \n",
              "  <style>\n",
              "    .colab-df-container {\n",
              "      display:flex;\n",
              "      flex-wrap:wrap;\n",
              "      gap: 12px;\n",
              "    }\n",
              "\n",
              "    .colab-df-convert {\n",
              "      background-color: #E8F0FE;\n",
              "      border: none;\n",
              "      border-radius: 50%;\n",
              "      cursor: pointer;\n",
              "      display: none;\n",
              "      fill: #1967D2;\n",
              "      height: 32px;\n",
              "      padding: 0 0 0 0;\n",
              "      width: 32px;\n",
              "    }\n",
              "\n",
              "    .colab-df-convert:hover {\n",
              "      background-color: #E2EBFA;\n",
              "      box-shadow: 0px 1px 2px rgba(60, 64, 67, 0.3), 0px 1px 3px 1px rgba(60, 64, 67, 0.15);\n",
              "      fill: #174EA6;\n",
              "    }\n",
              "\n",
              "    [theme=dark] .colab-df-convert {\n",
              "      background-color: #3B4455;\n",
              "      fill: #D2E3FC;\n",
              "    }\n",
              "\n",
              "    [theme=dark] .colab-df-convert:hover {\n",
              "      background-color: #434B5C;\n",
              "      box-shadow: 0px 1px 3px 1px rgba(0, 0, 0, 0.15);\n",
              "      filter: drop-shadow(0px 1px 2px rgba(0, 0, 0, 0.3));\n",
              "      fill: #FFFFFF;\n",
              "    }\n",
              "  </style>\n",
              "\n",
              "      <script>\n",
              "        const buttonEl =\n",
              "          document.querySelector('#df-c109dab9-3eb2-4e04-8e1f-9e42d78e3511 button.colab-df-convert');\n",
              "        buttonEl.style.display =\n",
              "          google.colab.kernel.accessAllowed ? 'block' : 'none';\n",
              "\n",
              "        async function convertToInteractive(key) {\n",
              "          const element = document.querySelector('#df-c109dab9-3eb2-4e04-8e1f-9e42d78e3511');\n",
              "          const dataTable =\n",
              "            await google.colab.kernel.invokeFunction('convertToInteractive',\n",
              "                                                     [key], {});\n",
              "          if (!dataTable) return;\n",
              "\n",
              "          const docLinkHtml = 'Like what you see? Visit the ' +\n",
              "            '<a target=\"_blank\" href=https://colab.research.google.com/notebooks/data_table.ipynb>data table notebook</a>'\n",
              "            + ' to learn more about interactive tables.';\n",
              "          element.innerHTML = '';\n",
              "          dataTable['output_type'] = 'display_data';\n",
              "          await google.colab.output.renderOutput(dataTable, element);\n",
              "          const docLink = document.createElement('div');\n",
              "          docLink.innerHTML = docLinkHtml;\n",
              "          element.appendChild(docLink);\n",
              "        }\n",
              "      </script>\n",
              "    </div>\n",
              "  </div>\n",
              "  "
            ]
          },
          "metadata": {},
          "execution_count": 32
        }
      ]
    },
    {
      "cell_type": "markdown",
      "source": [
        "- 3-2 통계량을 구하고, 대립가설 채택 여부를 기술하라"
      ],
      "metadata": {
        "id": "kSNWN4gCV5vl"
      }
    },
    {
      "cell_type": "code",
      "source": [
        "# t 검정을 사용한다고 생각함\n",
        "# 상류 / 하류 간 독립이 아니라고 했으므로\n",
        "# 독립표본 검정(쌍검정)이 아닌 대응표본 검정을 실행해야 한다고 생각\n",
        "\n",
        "from scipy import stats\n",
        "import pandas as pd\n",
        "\n",
        "\n",
        "# 먼저 상류와 하류 데이터에 대한 각각의 정규성 검정을 수행\n",
        "# 표본의 수가 적으니 비모수 검정 해야 하나?\n",
        "# shapiro 의 귀무가설은 정규분포를 따른다.\n",
        "# 대립은 정규분포를 따르지 않는다. p값이 0.05 보다 크면 귀무가설 따름\n",
        "print('정규성검정 상류:', stats.shapiro(df.up))\n",
        "print('정규성검정 하류:', stats.shapiro(df.down))\n",
        "print('샘플 데이터는 p-value 가 둘 다 0.05를 초과하여 정규성을 만족하지만, 실제 시험에선 하나가 정규성을 만족하지 못 했음')\n",
        "\n",
        "# 둘 중 하나가 정규성을 만족하지 못하여\n",
        "# stats.ttest_rel을 쓰지 못하고, 윌콕슨 부호순위검정을 수행\n",
        "stats.wilcoxon(df.up, df.down)\n",
        "\n",
        "# 수행결과 p-value 가 0.05 미만으로 나와 귀무가설을 기각\n",
        "# 즉, 상-하류간 어류 다양성 점수에 유의미한 차이가 있었다."
      ],
      "metadata": {
        "colab": {
          "base_uri": "https://localhost:8080/"
        },
        "id": "NO-3r-dgV83_",
        "outputId": "ee23c14f-c8b3-4eb9-ed11-08f67b7cc42a"
      },
      "execution_count": null,
      "outputs": [
        {
          "output_type": "stream",
          "name": "stdout",
          "text": [
            "정규성검정 상류: ShapiroResult(statistic=0.9635884165763855, pvalue=0.6447699666023254)\n",
            "정규성검정 하류: ShapiroResult(statistic=0.9821230173110962, pvalue=0.9640804529190063)\n",
            "샘플 데이터는 p-value 가 둘 다 0.05를 초과하여 정규성을 만족하지만, 실제 시험에선 하나가 정규성을 만족하지 못 했음\n"
          ]
        },
        {
          "output_type": "execute_result",
          "data": {
            "text/plain": [
              "WilcoxonResult(statistic=64.5, pvalue=0.24125289916992188)"
            ]
          },
          "metadata": {},
          "execution_count": 28
        }
      ]
    },
    {
      "cell_type": "markdown",
      "source": [
        "Q4. 백분위 회귀 문제\n",
        "\n",
        "user_counts를 종속변수로 하는 데이터이다.\n",
        "\n",
        "참조 URL : https://amaruak00.github.io/2022/12/17/adp27th.html"
      ],
      "metadata": {
        "id": "YzemCoCFaLlU"
      }
    },
    {
      "cell_type": "code",
      "source": [
        "import pandas as pd\n",
        "df = pd.read_csv('https://raw.githubusercontent.com/Datamanim/datarepo/main/adp/27/problem8.csv')\n",
        "display(df.head(3))\n",
        "print(df.info())"
      ],
      "metadata": {
        "colab": {
          "base_uri": "https://localhost:8080/",
          "height": 364
        },
        "id": "Ja0AtbAqQAwX",
        "outputId": "1060a485-4d7c-48db-e053-337b1f143c4a"
      },
      "execution_count": null,
      "outputs": [
        {
          "output_type": "display_data",
          "data": {
            "text/plain": [
              "   temperature   wind  precipitation  user_counts\n",
              "0    10.400000  4.600       0.844944         6368\n",
              "1     5.666667  4.625       0.040860         5902\n",
              "2     4.933333  4.725       0.008696         6226"
            ],
            "text/html": [
              "\n",
              "  <div id=\"df-0a0ca1c2-2b13-4a9f-b1b4-e5d095a83672\">\n",
              "    <div class=\"colab-df-container\">\n",
              "      <div>\n",
              "<style scoped>\n",
              "    .dataframe tbody tr th:only-of-type {\n",
              "        vertical-align: middle;\n",
              "    }\n",
              "\n",
              "    .dataframe tbody tr th {\n",
              "        vertical-align: top;\n",
              "    }\n",
              "\n",
              "    .dataframe thead th {\n",
              "        text-align: right;\n",
              "    }\n",
              "</style>\n",
              "<table border=\"1\" class=\"dataframe\">\n",
              "  <thead>\n",
              "    <tr style=\"text-align: right;\">\n",
              "      <th></th>\n",
              "      <th>temperature</th>\n",
              "      <th>wind</th>\n",
              "      <th>precipitation</th>\n",
              "      <th>user_counts</th>\n",
              "    </tr>\n",
              "  </thead>\n",
              "  <tbody>\n",
              "    <tr>\n",
              "      <th>0</th>\n",
              "      <td>10.400000</td>\n",
              "      <td>4.600</td>\n",
              "      <td>0.844944</td>\n",
              "      <td>6368</td>\n",
              "    </tr>\n",
              "    <tr>\n",
              "      <th>1</th>\n",
              "      <td>5.666667</td>\n",
              "      <td>4.625</td>\n",
              "      <td>0.040860</td>\n",
              "      <td>5902</td>\n",
              "    </tr>\n",
              "    <tr>\n",
              "      <th>2</th>\n",
              "      <td>4.933333</td>\n",
              "      <td>4.725</td>\n",
              "      <td>0.008696</td>\n",
              "      <td>6226</td>\n",
              "    </tr>\n",
              "  </tbody>\n",
              "</table>\n",
              "</div>\n",
              "      <button class=\"colab-df-convert\" onclick=\"convertToInteractive('df-0a0ca1c2-2b13-4a9f-b1b4-e5d095a83672')\"\n",
              "              title=\"Convert this dataframe to an interactive table.\"\n",
              "              style=\"display:none;\">\n",
              "        \n",
              "  <svg xmlns=\"http://www.w3.org/2000/svg\" height=\"24px\"viewBox=\"0 0 24 24\"\n",
              "       width=\"24px\">\n",
              "    <path d=\"M0 0h24v24H0V0z\" fill=\"none\"/>\n",
              "    <path d=\"M18.56 5.44l.94 2.06.94-2.06 2.06-.94-2.06-.94-.94-2.06-.94 2.06-2.06.94zm-11 1L8.5 8.5l.94-2.06 2.06-.94-2.06-.94L8.5 2.5l-.94 2.06-2.06.94zm10 10l.94 2.06.94-2.06 2.06-.94-2.06-.94-.94-2.06-.94 2.06-2.06.94z\"/><path d=\"M17.41 7.96l-1.37-1.37c-.4-.4-.92-.59-1.43-.59-.52 0-1.04.2-1.43.59L10.3 9.45l-7.72 7.72c-.78.78-.78 2.05 0 2.83L4 21.41c.39.39.9.59 1.41.59.51 0 1.02-.2 1.41-.59l7.78-7.78 2.81-2.81c.8-.78.8-2.07 0-2.86zM5.41 20L4 18.59l7.72-7.72 1.47 1.35L5.41 20z\"/>\n",
              "  </svg>\n",
              "      </button>\n",
              "      \n",
              "  <style>\n",
              "    .colab-df-container {\n",
              "      display:flex;\n",
              "      flex-wrap:wrap;\n",
              "      gap: 12px;\n",
              "    }\n",
              "\n",
              "    .colab-df-convert {\n",
              "      background-color: #E8F0FE;\n",
              "      border: none;\n",
              "      border-radius: 50%;\n",
              "      cursor: pointer;\n",
              "      display: none;\n",
              "      fill: #1967D2;\n",
              "      height: 32px;\n",
              "      padding: 0 0 0 0;\n",
              "      width: 32px;\n",
              "    }\n",
              "\n",
              "    .colab-df-convert:hover {\n",
              "      background-color: #E2EBFA;\n",
              "      box-shadow: 0px 1px 2px rgba(60, 64, 67, 0.3), 0px 1px 3px 1px rgba(60, 64, 67, 0.15);\n",
              "      fill: #174EA6;\n",
              "    }\n",
              "\n",
              "    [theme=dark] .colab-df-convert {\n",
              "      background-color: #3B4455;\n",
              "      fill: #D2E3FC;\n",
              "    }\n",
              "\n",
              "    [theme=dark] .colab-df-convert:hover {\n",
              "      background-color: #434B5C;\n",
              "      box-shadow: 0px 1px 3px 1px rgba(0, 0, 0, 0.15);\n",
              "      filter: drop-shadow(0px 1px 2px rgba(0, 0, 0, 0.3));\n",
              "      fill: #FFFFFF;\n",
              "    }\n",
              "  </style>\n",
              "\n",
              "      <script>\n",
              "        const buttonEl =\n",
              "          document.querySelector('#df-0a0ca1c2-2b13-4a9f-b1b4-e5d095a83672 button.colab-df-convert');\n",
              "        buttonEl.style.display =\n",
              "          google.colab.kernel.accessAllowed ? 'block' : 'none';\n",
              "\n",
              "        async function convertToInteractive(key) {\n",
              "          const element = document.querySelector('#df-0a0ca1c2-2b13-4a9f-b1b4-e5d095a83672');\n",
              "          const dataTable =\n",
              "            await google.colab.kernel.invokeFunction('convertToInteractive',\n",
              "                                                     [key], {});\n",
              "          if (!dataTable) return;\n",
              "\n",
              "          const docLinkHtml = 'Like what you see? Visit the ' +\n",
              "            '<a target=\"_blank\" href=https://colab.research.google.com/notebooks/data_table.ipynb>data table notebook</a>'\n",
              "            + ' to learn more about interactive tables.';\n",
              "          element.innerHTML = '';\n",
              "          dataTable['output_type'] = 'display_data';\n",
              "          await google.colab.output.renderOutput(dataTable, element);\n",
              "          const docLink = document.createElement('div');\n",
              "          docLink.innerHTML = docLinkHtml;\n",
              "          element.appendChild(docLink);\n",
              "        }\n",
              "      </script>\n",
              "    </div>\n",
              "  </div>\n",
              "  "
            ]
          },
          "metadata": {}
        },
        {
          "output_type": "stream",
          "name": "stdout",
          "text": [
            "<class 'pandas.core.frame.DataFrame'>\n",
            "RangeIndex: 2097 entries, 0 to 2096\n",
            "Data columns (total 4 columns):\n",
            " #   Column         Non-Null Count  Dtype  \n",
            "---  ------         --------------  -----  \n",
            " 0   temperature    2097 non-null   float64\n",
            " 1   wind           2097 non-null   float64\n",
            " 2   precipitation  2097 non-null   float64\n",
            " 3   user_counts    2097 non-null   int64  \n",
            "dtypes: float64(3), int64(1)\n",
            "memory usage: 65.7 KB\n",
            "None\n"
          ]
        }
      ]
    },
    {
      "cell_type": "markdown",
      "source": [
        "- 4-1 분위수 회귀분석(Quantile Regression)을 사용하여 백분위 50%로 잡고 회귀 계수를 구하시오. (반올림하여 소수점 둘째자리 까지 표기하시오)"
      ],
      "metadata": {
        "id": "jG5pfhcUSBXD"
      }
    },
    {
      "cell_type": "code",
      "source": [
        "import statsmodels.formula.api as smf\n",
        "display(df.head(3))\n",
        "\n",
        "formula = 'user_counts ~ temperature + wind + precipitation'\n",
        "model = smf.quantreg(formula, df)\n",
        "result = model.fit(q=0.5) # 백분위 50%\n",
        "print('\\n\\n')\n",
        "display(result.summary())\n",
        "\n",
        "names = result.params[1:].index\n",
        "values = result.params[1:].values\n",
        "\n",
        "print('\\n\\n답안 : 각 회귀 계수. 소수점 2자리 반올림')\n",
        "for name, val in zip(names, values) :\n",
        "    print(name, ':', round(val, 2))"
      ],
      "metadata": {
        "colab": {
          "base_uri": "https://localhost:8080/",
          "height": 565
        },
        "id": "CFVKQXhwQKyb",
        "outputId": "22e0d78f-182a-425c-ceb9-1c04c3aedd13"
      },
      "execution_count": null,
      "outputs": [
        {
          "output_type": "display_data",
          "data": {
            "text/plain": [
              "   temperature   wind  precipitation  user_counts\n",
              "0    10.400000  4.600       0.844944         6368\n",
              "1     5.666667  4.625       0.040860         5902\n",
              "2     4.933333  4.725       0.008696         6226"
            ],
            "text/html": [
              "\n",
              "  <div id=\"df-97cf828a-a076-4069-8e44-49e8c98354cb\">\n",
              "    <div class=\"colab-df-container\">\n",
              "      <div>\n",
              "<style scoped>\n",
              "    .dataframe tbody tr th:only-of-type {\n",
              "        vertical-align: middle;\n",
              "    }\n",
              "\n",
              "    .dataframe tbody tr th {\n",
              "        vertical-align: top;\n",
              "    }\n",
              "\n",
              "    .dataframe thead th {\n",
              "        text-align: right;\n",
              "    }\n",
              "</style>\n",
              "<table border=\"1\" class=\"dataframe\">\n",
              "  <thead>\n",
              "    <tr style=\"text-align: right;\">\n",
              "      <th></th>\n",
              "      <th>temperature</th>\n",
              "      <th>wind</th>\n",
              "      <th>precipitation</th>\n",
              "      <th>user_counts</th>\n",
              "    </tr>\n",
              "  </thead>\n",
              "  <tbody>\n",
              "    <tr>\n",
              "      <th>0</th>\n",
              "      <td>10.400000</td>\n",
              "      <td>4.600</td>\n",
              "      <td>0.844944</td>\n",
              "      <td>6368</td>\n",
              "    </tr>\n",
              "    <tr>\n",
              "      <th>1</th>\n",
              "      <td>5.666667</td>\n",
              "      <td>4.625</td>\n",
              "      <td>0.040860</td>\n",
              "      <td>5902</td>\n",
              "    </tr>\n",
              "    <tr>\n",
              "      <th>2</th>\n",
              "      <td>4.933333</td>\n",
              "      <td>4.725</td>\n",
              "      <td>0.008696</td>\n",
              "      <td>6226</td>\n",
              "    </tr>\n",
              "  </tbody>\n",
              "</table>\n",
              "</div>\n",
              "      <button class=\"colab-df-convert\" onclick=\"convertToInteractive('df-97cf828a-a076-4069-8e44-49e8c98354cb')\"\n",
              "              title=\"Convert this dataframe to an interactive table.\"\n",
              "              style=\"display:none;\">\n",
              "        \n",
              "  <svg xmlns=\"http://www.w3.org/2000/svg\" height=\"24px\"viewBox=\"0 0 24 24\"\n",
              "       width=\"24px\">\n",
              "    <path d=\"M0 0h24v24H0V0z\" fill=\"none\"/>\n",
              "    <path d=\"M18.56 5.44l.94 2.06.94-2.06 2.06-.94-2.06-.94-.94-2.06-.94 2.06-2.06.94zm-11 1L8.5 8.5l.94-2.06 2.06-.94-2.06-.94L8.5 2.5l-.94 2.06-2.06.94zm10 10l.94 2.06.94-2.06 2.06-.94-2.06-.94-.94-2.06-.94 2.06-2.06.94z\"/><path d=\"M17.41 7.96l-1.37-1.37c-.4-.4-.92-.59-1.43-.59-.52 0-1.04.2-1.43.59L10.3 9.45l-7.72 7.72c-.78.78-.78 2.05 0 2.83L4 21.41c.39.39.9.59 1.41.59.51 0 1.02-.2 1.41-.59l7.78-7.78 2.81-2.81c.8-.78.8-2.07 0-2.86zM5.41 20L4 18.59l7.72-7.72 1.47 1.35L5.41 20z\"/>\n",
              "  </svg>\n",
              "      </button>\n",
              "      \n",
              "  <style>\n",
              "    .colab-df-container {\n",
              "      display:flex;\n",
              "      flex-wrap:wrap;\n",
              "      gap: 12px;\n",
              "    }\n",
              "\n",
              "    .colab-df-convert {\n",
              "      background-color: #E8F0FE;\n",
              "      border: none;\n",
              "      border-radius: 50%;\n",
              "      cursor: pointer;\n",
              "      display: none;\n",
              "      fill: #1967D2;\n",
              "      height: 32px;\n",
              "      padding: 0 0 0 0;\n",
              "      width: 32px;\n",
              "    }\n",
              "\n",
              "    .colab-df-convert:hover {\n",
              "      background-color: #E2EBFA;\n",
              "      box-shadow: 0px 1px 2px rgba(60, 64, 67, 0.3), 0px 1px 3px 1px rgba(60, 64, 67, 0.15);\n",
              "      fill: #174EA6;\n",
              "    }\n",
              "\n",
              "    [theme=dark] .colab-df-convert {\n",
              "      background-color: #3B4455;\n",
              "      fill: #D2E3FC;\n",
              "    }\n",
              "\n",
              "    [theme=dark] .colab-df-convert:hover {\n",
              "      background-color: #434B5C;\n",
              "      box-shadow: 0px 1px 3px 1px rgba(0, 0, 0, 0.15);\n",
              "      filter: drop-shadow(0px 1px 2px rgba(0, 0, 0, 0.3));\n",
              "      fill: #FFFFFF;\n",
              "    }\n",
              "  </style>\n",
              "\n",
              "      <script>\n",
              "        const buttonEl =\n",
              "          document.querySelector('#df-97cf828a-a076-4069-8e44-49e8c98354cb button.colab-df-convert');\n",
              "        buttonEl.style.display =\n",
              "          google.colab.kernel.accessAllowed ? 'block' : 'none';\n",
              "\n",
              "        async function convertToInteractive(key) {\n",
              "          const element = document.querySelector('#df-97cf828a-a076-4069-8e44-49e8c98354cb');\n",
              "          const dataTable =\n",
              "            await google.colab.kernel.invokeFunction('convertToInteractive',\n",
              "                                                     [key], {});\n",
              "          if (!dataTable) return;\n",
              "\n",
              "          const docLinkHtml = 'Like what you see? Visit the ' +\n",
              "            '<a target=\"_blank\" href=https://colab.research.google.com/notebooks/data_table.ipynb>data table notebook</a>'\n",
              "            + ' to learn more about interactive tables.';\n",
              "          element.innerHTML = '';\n",
              "          dataTable['output_type'] = 'display_data';\n",
              "          await google.colab.output.renderOutput(dataTable, element);\n",
              "          const docLink = document.createElement('div');\n",
              "          docLink.innerHTML = docLinkHtml;\n",
              "          element.appendChild(docLink);\n",
              "        }\n",
              "      </script>\n",
              "    </div>\n",
              "  </div>\n",
              "  "
            ]
          },
          "metadata": {}
        },
        {
          "output_type": "stream",
          "name": "stdout",
          "text": [
            "\n",
            "\n",
            "\n"
          ]
        },
        {
          "output_type": "display_data",
          "data": {
            "text/plain": [
              "<class 'statsmodels.iolib.summary.Summary'>\n",
              "\"\"\"\n",
              "                         QuantReg Regression Results                          \n",
              "==============================================================================\n",
              "Dep. Variable:            user_counts   Pseudo R-squared:               0.3723\n",
              "Model:                       QuantReg   Bandwidth:                       840.9\n",
              "Method:                 Least Squares   Sparsity:                        5590.\n",
              "Date:                Fri, 03 Mar 2023   No. Observations:                 2097\n",
              "Time:                        09:31:30   Df Residuals:                     2093\n",
              "                                        Df Model:                            3\n",
              "=================================================================================\n",
              "                    coef    std err          t      P>|t|      [0.025      0.975]\n",
              "---------------------------------------------------------------------------------\n",
              "Intercept      5941.8395    198.127     29.990      0.000    5553.293    6330.386\n",
              "temperature     268.8920      6.571     40.918      0.000     256.005     281.779\n",
              "wind           -129.4050     46.259     -2.797      0.005    -220.124     -38.686\n",
              "precipitation   -83.3843      7.891    -10.567      0.000     -98.859     -67.910\n",
              "=================================================================================\n",
              "\"\"\""
            ],
            "text/html": [
              "<table class=\"simpletable\">\n",
              "<caption>QuantReg Regression Results</caption>\n",
              "<tr>\n",
              "  <th>Dep. Variable:</th>    <td>user_counts</td>   <th>  Pseudo R-squared:  </th> <td>  0.3723</td>\n",
              "</tr>\n",
              "<tr>\n",
              "  <th>Model:</th>             <td>QuantReg</td>     <th>  Bandwidth:         </th> <td>   840.9</td>\n",
              "</tr>\n",
              "<tr>\n",
              "  <th>Method:</th>          <td>Least Squares</td>  <th>  Sparsity:          </th> <td>   5590.</td>\n",
              "</tr>\n",
              "<tr>\n",
              "  <th>Date:</th>          <td>Fri, 03 Mar 2023</td> <th>  No. Observations:  </th>  <td>  2097</td> \n",
              "</tr>\n",
              "<tr>\n",
              "  <th>Time:</th>              <td>09:31:30</td>     <th>  Df Residuals:      </th>  <td>  2093</td> \n",
              "</tr>\n",
              "<tr>\n",
              "  <th> </th>                      <td> </td>        <th>  Df Model:          </th>  <td>     3</td> \n",
              "</tr>\n",
              "</table>\n",
              "<table class=\"simpletable\">\n",
              "<tr>\n",
              "        <td></td>           <th>coef</th>     <th>std err</th>      <th>t</th>      <th>P>|t|</th>  <th>[0.025</th>    <th>0.975]</th>  \n",
              "</tr>\n",
              "<tr>\n",
              "  <th>Intercept</th>     <td> 5941.8395</td> <td>  198.127</td> <td>   29.990</td> <td> 0.000</td> <td> 5553.293</td> <td> 6330.386</td>\n",
              "</tr>\n",
              "<tr>\n",
              "  <th>temperature</th>   <td>  268.8920</td> <td>    6.571</td> <td>   40.918</td> <td> 0.000</td> <td>  256.005</td> <td>  281.779</td>\n",
              "</tr>\n",
              "<tr>\n",
              "  <th>wind</th>          <td> -129.4050</td> <td>   46.259</td> <td>   -2.797</td> <td> 0.005</td> <td> -220.124</td> <td>  -38.686</td>\n",
              "</tr>\n",
              "<tr>\n",
              "  <th>precipitation</th> <td>  -83.3843</td> <td>    7.891</td> <td>  -10.567</td> <td> 0.000</td> <td>  -98.859</td> <td>  -67.910</td>\n",
              "</tr>\n",
              "</table>"
            ]
          },
          "metadata": {}
        },
        {
          "output_type": "stream",
          "name": "stdout",
          "text": [
            "\n",
            "\n",
            "답안 : 각 회귀 계수. 소수점 2자리 반올림\n",
            "temperature : 268.89\n",
            "wind : -129.41\n",
            "precipitation : -83.38\n"
          ]
        }
      ]
    },
    {
      "cell_type": "markdown",
      "source": [
        "- 4-2. 4-1 모델의 회귀계수를 활용하여 temperature: 10.5, wind: 8.2, precipitation: 3.5 일때 `user_counts`를 예측하시오"
      ],
      "metadata": {
        "id": "Uq1tuth5SEG1"
      }
    },
    {
      "cell_type": "code",
      "source": [
        "df_sample = pd.DataFrame(data={'temperature':[10.5], 'wind': [8.2], 'precipitation': [3.5], 'user_counts':np.nan})\n",
        "\n",
        "df_array = df_sample.to_numpy() # 배열변환\n",
        "type(df_array)\n",
        "y_predict = result.predict(df_sample)\n",
        "print('y_predict:', y_predict)"
      ],
      "metadata": {
        "colab": {
          "base_uri": "https://localhost:8080/"
        },
        "id": "Upu658P-UnUa",
        "outputId": "30995e92-70b2-4c45-86fc-0bab9ea7bc2d"
      },
      "execution_count": null,
      "outputs": [
        {
          "output_type": "stream",
          "name": "stdout",
          "text": [
            "y_predict: 0    7412.239537\n",
            "dtype: float64\n"
          ]
        }
      ]
    },
    {
      "cell_type": "code",
      "source": [
        "intercept = result.params[0:1].values[0]\n",
        "temp_coef =result.params[1:2].values[0]\n",
        "wind_coef =result.params[2:3].values[0]\n",
        "precip_coef =result.params[3:4].values[0]\n",
        "print(f'intercept: {intercept}, temp coef: {temp_coef}, wind coef:{wind_coef}, precipitation coef:{precip_coef}')\n",
        "\n",
        "temp = 10.5\n",
        "wind = 8.2\n",
        "precip = 3.5\n",
        "\n",
        "user_counts = intercept + temp*temp_coef + wind*wind_coef + precip * precip_coef\n",
        "print('\\n ANSWER > user_counts:', user_counts)"
      ],
      "metadata": {
        "colab": {
          "base_uri": "https://localhost:8080/"
        },
        "id": "18aMa86HpyDk",
        "outputId": "03f934a7-51df-41ab-da01-f0e03bc82e9a"
      },
      "execution_count": null,
      "outputs": [
        {
          "output_type": "stream",
          "name": "stdout",
          "text": [
            "intercept: 5941.839468669263, temp coef: 268.89201522609073, wind coef:-129.40501314534777, precipitation coef:-83.38428099709998\n",
            "\n",
            " ANSWER > user_counts: 7412.239537261514\n"
          ]
        }
      ]
    },
    {
      "cell_type": "code",
      "source": [
        "# 소니님 답변\n",
        "import statsmodels.api as sm\n",
        "\n",
        "\n",
        "model = sm.QuantReg(df['user_counts'], df.drop(columns ='user_counts')).fit(q=0.5)\n",
        "\n",
        "# 2번문제\n",
        "df_sample = pd.DataFrame(data={'temperature':[10.5], 'wind': [8.2], 'precipitation': [3.5]})\n",
        "\n",
        "df_array = df_sample.to_numpy() # 배열변환\n",
        "# type(df_array)\n",
        "r = model.predict(df_sample)\n",
        "print('r:', r)"
      ],
      "metadata": {
        "colab": {
          "base_uri": "https://localhost:8080/"
        },
        "id": "emMtkcAi9h4y",
        "outputId": "d38272ee-325c-4f5b-e645-c80e21c69cda"
      },
      "execution_count": null,
      "outputs": [
        {
          "output_type": "stream",
          "name": "stdout",
          "text": [
            "r: 0    12440.948145\n",
            "dtype: float64\n"
          ]
        }
      ]
    },
    {
      "cell_type": "code",
      "source": [
        "# 소니님 답변\n",
        "import pandas as pd\n",
        "df = pd.read_csv('https://raw.githubusercontent.com/Datamanim/datarepo/main/adp/27/problem8.csv')\n",
        "display(df.head(3))\n",
        "print(df.info())\n",
        "\n",
        "\n",
        "# 1번문제 \n",
        "import statsmodels.formula.api as smf\n",
        "display(df.head(3))\n",
        "\n",
        "formula = 'user_counts ~ temperature + wind + precipitation'\n",
        "model = smf.quantreg(formula, df)\n",
        "result = model.fit(q=0.5) # 백분위 50%\n",
        "print('\\n\\n')\n",
        "display(result.summary())\n",
        "\n",
        "names = result.params[1:].index\n",
        "values = result.params[1:].values\n",
        "\n",
        "print('\\n\\n답안 : 각 회귀 계수. 소수점 2자리 반올림')\n",
        "for name, val in zip(names, values) :\n",
        "    print(name, ':', round(val, 2))\n",
        "\n",
        "\n",
        "\n",
        "\n",
        "# 2번문제\n",
        "df_sample = pd.DataFrame(data={'temperature':[10.5], 'wind': [8.2], 'precipitation': [3.5]})\n",
        "\n",
        "y_predict = result.predict(df_sample)\n",
        "\n",
        "print('predict:', y_predict)"
      ],
      "metadata": {
        "colab": {
          "base_uri": "https://localhost:8080/",
          "height": 948
        },
        "id": "Mr6fx4t50SQh",
        "outputId": "050a668d-5af3-45ca-c603-5b7f533aaafb"
      },
      "execution_count": null,
      "outputs": [
        {
          "output_type": "display_data",
          "data": {
            "text/plain": [
              "   temperature   wind  precipitation  user_counts\n",
              "0    10.400000  4.600       0.844944         6368\n",
              "1     5.666667  4.625       0.040860         5902\n",
              "2     4.933333  4.725       0.008696         6226"
            ],
            "text/html": [
              "\n",
              "  <div id=\"df-9b56e487-6526-4fa3-a24a-785f5b6a1edb\">\n",
              "    <div class=\"colab-df-container\">\n",
              "      <div>\n",
              "<style scoped>\n",
              "    .dataframe tbody tr th:only-of-type {\n",
              "        vertical-align: middle;\n",
              "    }\n",
              "\n",
              "    .dataframe tbody tr th {\n",
              "        vertical-align: top;\n",
              "    }\n",
              "\n",
              "    .dataframe thead th {\n",
              "        text-align: right;\n",
              "    }\n",
              "</style>\n",
              "<table border=\"1\" class=\"dataframe\">\n",
              "  <thead>\n",
              "    <tr style=\"text-align: right;\">\n",
              "      <th></th>\n",
              "      <th>temperature</th>\n",
              "      <th>wind</th>\n",
              "      <th>precipitation</th>\n",
              "      <th>user_counts</th>\n",
              "    </tr>\n",
              "  </thead>\n",
              "  <tbody>\n",
              "    <tr>\n",
              "      <th>0</th>\n",
              "      <td>10.400000</td>\n",
              "      <td>4.600</td>\n",
              "      <td>0.844944</td>\n",
              "      <td>6368</td>\n",
              "    </tr>\n",
              "    <tr>\n",
              "      <th>1</th>\n",
              "      <td>5.666667</td>\n",
              "      <td>4.625</td>\n",
              "      <td>0.040860</td>\n",
              "      <td>5902</td>\n",
              "    </tr>\n",
              "    <tr>\n",
              "      <th>2</th>\n",
              "      <td>4.933333</td>\n",
              "      <td>4.725</td>\n",
              "      <td>0.008696</td>\n",
              "      <td>6226</td>\n",
              "    </tr>\n",
              "  </tbody>\n",
              "</table>\n",
              "</div>\n",
              "      <button class=\"colab-df-convert\" onclick=\"convertToInteractive('df-9b56e487-6526-4fa3-a24a-785f5b6a1edb')\"\n",
              "              title=\"Convert this dataframe to an interactive table.\"\n",
              "              style=\"display:none;\">\n",
              "        \n",
              "  <svg xmlns=\"http://www.w3.org/2000/svg\" height=\"24px\"viewBox=\"0 0 24 24\"\n",
              "       width=\"24px\">\n",
              "    <path d=\"M0 0h24v24H0V0z\" fill=\"none\"/>\n",
              "    <path d=\"M18.56 5.44l.94 2.06.94-2.06 2.06-.94-2.06-.94-.94-2.06-.94 2.06-2.06.94zm-11 1L8.5 8.5l.94-2.06 2.06-.94-2.06-.94L8.5 2.5l-.94 2.06-2.06.94zm10 10l.94 2.06.94-2.06 2.06-.94-2.06-.94-.94-2.06-.94 2.06-2.06.94z\"/><path d=\"M17.41 7.96l-1.37-1.37c-.4-.4-.92-.59-1.43-.59-.52 0-1.04.2-1.43.59L10.3 9.45l-7.72 7.72c-.78.78-.78 2.05 0 2.83L4 21.41c.39.39.9.59 1.41.59.51 0 1.02-.2 1.41-.59l7.78-7.78 2.81-2.81c.8-.78.8-2.07 0-2.86zM5.41 20L4 18.59l7.72-7.72 1.47 1.35L5.41 20z\"/>\n",
              "  </svg>\n",
              "      </button>\n",
              "      \n",
              "  <style>\n",
              "    .colab-df-container {\n",
              "      display:flex;\n",
              "      flex-wrap:wrap;\n",
              "      gap: 12px;\n",
              "    }\n",
              "\n",
              "    .colab-df-convert {\n",
              "      background-color: #E8F0FE;\n",
              "      border: none;\n",
              "      border-radius: 50%;\n",
              "      cursor: pointer;\n",
              "      display: none;\n",
              "      fill: #1967D2;\n",
              "      height: 32px;\n",
              "      padding: 0 0 0 0;\n",
              "      width: 32px;\n",
              "    }\n",
              "\n",
              "    .colab-df-convert:hover {\n",
              "      background-color: #E2EBFA;\n",
              "      box-shadow: 0px 1px 2px rgba(60, 64, 67, 0.3), 0px 1px 3px 1px rgba(60, 64, 67, 0.15);\n",
              "      fill: #174EA6;\n",
              "    }\n",
              "\n",
              "    [theme=dark] .colab-df-convert {\n",
              "      background-color: #3B4455;\n",
              "      fill: #D2E3FC;\n",
              "    }\n",
              "\n",
              "    [theme=dark] .colab-df-convert:hover {\n",
              "      background-color: #434B5C;\n",
              "      box-shadow: 0px 1px 3px 1px rgba(0, 0, 0, 0.15);\n",
              "      filter: drop-shadow(0px 1px 2px rgba(0, 0, 0, 0.3));\n",
              "      fill: #FFFFFF;\n",
              "    }\n",
              "  </style>\n",
              "\n",
              "      <script>\n",
              "        const buttonEl =\n",
              "          document.querySelector('#df-9b56e487-6526-4fa3-a24a-785f5b6a1edb button.colab-df-convert');\n",
              "        buttonEl.style.display =\n",
              "          google.colab.kernel.accessAllowed ? 'block' : 'none';\n",
              "\n",
              "        async function convertToInteractive(key) {\n",
              "          const element = document.querySelector('#df-9b56e487-6526-4fa3-a24a-785f5b6a1edb');\n",
              "          const dataTable =\n",
              "            await google.colab.kernel.invokeFunction('convertToInteractive',\n",
              "                                                     [key], {});\n",
              "          if (!dataTable) return;\n",
              "\n",
              "          const docLinkHtml = 'Like what you see? Visit the ' +\n",
              "            '<a target=\"_blank\" href=https://colab.research.google.com/notebooks/data_table.ipynb>data table notebook</a>'\n",
              "            + ' to learn more about interactive tables.';\n",
              "          element.innerHTML = '';\n",
              "          dataTable['output_type'] = 'display_data';\n",
              "          await google.colab.output.renderOutput(dataTable, element);\n",
              "          const docLink = document.createElement('div');\n",
              "          docLink.innerHTML = docLinkHtml;\n",
              "          element.appendChild(docLink);\n",
              "        }\n",
              "      </script>\n",
              "    </div>\n",
              "  </div>\n",
              "  "
            ]
          },
          "metadata": {}
        },
        {
          "output_type": "stream",
          "name": "stdout",
          "text": [
            "<class 'pandas.core.frame.DataFrame'>\n",
            "RangeIndex: 2097 entries, 0 to 2096\n",
            "Data columns (total 4 columns):\n",
            " #   Column         Non-Null Count  Dtype  \n",
            "---  ------         --------------  -----  \n",
            " 0   temperature    2097 non-null   float64\n",
            " 1   wind           2097 non-null   float64\n",
            " 2   precipitation  2097 non-null   float64\n",
            " 3   user_counts    2097 non-null   int64  \n",
            "dtypes: float64(3), int64(1)\n",
            "memory usage: 65.7 KB\n",
            "None\n"
          ]
        },
        {
          "output_type": "display_data",
          "data": {
            "text/plain": [
              "   temperature   wind  precipitation  user_counts\n",
              "0    10.400000  4.600       0.844944         6368\n",
              "1     5.666667  4.625       0.040860         5902\n",
              "2     4.933333  4.725       0.008696         6226"
            ],
            "text/html": [
              "\n",
              "  <div id=\"df-0bd534d5-e9b4-41b6-87c1-23dd101ba454\">\n",
              "    <div class=\"colab-df-container\">\n",
              "      <div>\n",
              "<style scoped>\n",
              "    .dataframe tbody tr th:only-of-type {\n",
              "        vertical-align: middle;\n",
              "    }\n",
              "\n",
              "    .dataframe tbody tr th {\n",
              "        vertical-align: top;\n",
              "    }\n",
              "\n",
              "    .dataframe thead th {\n",
              "        text-align: right;\n",
              "    }\n",
              "</style>\n",
              "<table border=\"1\" class=\"dataframe\">\n",
              "  <thead>\n",
              "    <tr style=\"text-align: right;\">\n",
              "      <th></th>\n",
              "      <th>temperature</th>\n",
              "      <th>wind</th>\n",
              "      <th>precipitation</th>\n",
              "      <th>user_counts</th>\n",
              "    </tr>\n",
              "  </thead>\n",
              "  <tbody>\n",
              "    <tr>\n",
              "      <th>0</th>\n",
              "      <td>10.400000</td>\n",
              "      <td>4.600</td>\n",
              "      <td>0.844944</td>\n",
              "      <td>6368</td>\n",
              "    </tr>\n",
              "    <tr>\n",
              "      <th>1</th>\n",
              "      <td>5.666667</td>\n",
              "      <td>4.625</td>\n",
              "      <td>0.040860</td>\n",
              "      <td>5902</td>\n",
              "    </tr>\n",
              "    <tr>\n",
              "      <th>2</th>\n",
              "      <td>4.933333</td>\n",
              "      <td>4.725</td>\n",
              "      <td>0.008696</td>\n",
              "      <td>6226</td>\n",
              "    </tr>\n",
              "  </tbody>\n",
              "</table>\n",
              "</div>\n",
              "      <button class=\"colab-df-convert\" onclick=\"convertToInteractive('df-0bd534d5-e9b4-41b6-87c1-23dd101ba454')\"\n",
              "              title=\"Convert this dataframe to an interactive table.\"\n",
              "              style=\"display:none;\">\n",
              "        \n",
              "  <svg xmlns=\"http://www.w3.org/2000/svg\" height=\"24px\"viewBox=\"0 0 24 24\"\n",
              "       width=\"24px\">\n",
              "    <path d=\"M0 0h24v24H0V0z\" fill=\"none\"/>\n",
              "    <path d=\"M18.56 5.44l.94 2.06.94-2.06 2.06-.94-2.06-.94-.94-2.06-.94 2.06-2.06.94zm-11 1L8.5 8.5l.94-2.06 2.06-.94-2.06-.94L8.5 2.5l-.94 2.06-2.06.94zm10 10l.94 2.06.94-2.06 2.06-.94-2.06-.94-.94-2.06-.94 2.06-2.06.94z\"/><path d=\"M17.41 7.96l-1.37-1.37c-.4-.4-.92-.59-1.43-.59-.52 0-1.04.2-1.43.59L10.3 9.45l-7.72 7.72c-.78.78-.78 2.05 0 2.83L4 21.41c.39.39.9.59 1.41.59.51 0 1.02-.2 1.41-.59l7.78-7.78 2.81-2.81c.8-.78.8-2.07 0-2.86zM5.41 20L4 18.59l7.72-7.72 1.47 1.35L5.41 20z\"/>\n",
              "  </svg>\n",
              "      </button>\n",
              "      \n",
              "  <style>\n",
              "    .colab-df-container {\n",
              "      display:flex;\n",
              "      flex-wrap:wrap;\n",
              "      gap: 12px;\n",
              "    }\n",
              "\n",
              "    .colab-df-convert {\n",
              "      background-color: #E8F0FE;\n",
              "      border: none;\n",
              "      border-radius: 50%;\n",
              "      cursor: pointer;\n",
              "      display: none;\n",
              "      fill: #1967D2;\n",
              "      height: 32px;\n",
              "      padding: 0 0 0 0;\n",
              "      width: 32px;\n",
              "    }\n",
              "\n",
              "    .colab-df-convert:hover {\n",
              "      background-color: #E2EBFA;\n",
              "      box-shadow: 0px 1px 2px rgba(60, 64, 67, 0.3), 0px 1px 3px 1px rgba(60, 64, 67, 0.15);\n",
              "      fill: #174EA6;\n",
              "    }\n",
              "\n",
              "    [theme=dark] .colab-df-convert {\n",
              "      background-color: #3B4455;\n",
              "      fill: #D2E3FC;\n",
              "    }\n",
              "\n",
              "    [theme=dark] .colab-df-convert:hover {\n",
              "      background-color: #434B5C;\n",
              "      box-shadow: 0px 1px 3px 1px rgba(0, 0, 0, 0.15);\n",
              "      filter: drop-shadow(0px 1px 2px rgba(0, 0, 0, 0.3));\n",
              "      fill: #FFFFFF;\n",
              "    }\n",
              "  </style>\n",
              "\n",
              "      <script>\n",
              "        const buttonEl =\n",
              "          document.querySelector('#df-0bd534d5-e9b4-41b6-87c1-23dd101ba454 button.colab-df-convert');\n",
              "        buttonEl.style.display =\n",
              "          google.colab.kernel.accessAllowed ? 'block' : 'none';\n",
              "\n",
              "        async function convertToInteractive(key) {\n",
              "          const element = document.querySelector('#df-0bd534d5-e9b4-41b6-87c1-23dd101ba454');\n",
              "          const dataTable =\n",
              "            await google.colab.kernel.invokeFunction('convertToInteractive',\n",
              "                                                     [key], {});\n",
              "          if (!dataTable) return;\n",
              "\n",
              "          const docLinkHtml = 'Like what you see? Visit the ' +\n",
              "            '<a target=\"_blank\" href=https://colab.research.google.com/notebooks/data_table.ipynb>data table notebook</a>'\n",
              "            + ' to learn more about interactive tables.';\n",
              "          element.innerHTML = '';\n",
              "          dataTable['output_type'] = 'display_data';\n",
              "          await google.colab.output.renderOutput(dataTable, element);\n",
              "          const docLink = document.createElement('div');\n",
              "          docLink.innerHTML = docLinkHtml;\n",
              "          element.appendChild(docLink);\n",
              "        }\n",
              "      </script>\n",
              "    </div>\n",
              "  </div>\n",
              "  "
            ]
          },
          "metadata": {}
        },
        {
          "output_type": "stream",
          "name": "stdout",
          "text": [
            "\n",
            "\n",
            "\n"
          ]
        },
        {
          "output_type": "display_data",
          "data": {
            "text/plain": [
              "<class 'statsmodels.iolib.summary.Summary'>\n",
              "\"\"\"\n",
              "                         QuantReg Regression Results                          \n",
              "==============================================================================\n",
              "Dep. Variable:            user_counts   Pseudo R-squared:               0.3723\n",
              "Model:                       QuantReg   Bandwidth:                       840.9\n",
              "Method:                 Least Squares   Sparsity:                        5590.\n",
              "Date:                Fri, 03 Mar 2023   No. Observations:                 2097\n",
              "Time:                        09:33:04   Df Residuals:                     2093\n",
              "                                        Df Model:                            3\n",
              "=================================================================================\n",
              "                    coef    std err          t      P>|t|      [0.025      0.975]\n",
              "---------------------------------------------------------------------------------\n",
              "Intercept      5941.8395    198.127     29.990      0.000    5553.293    6330.386\n",
              "temperature     268.8920      6.571     40.918      0.000     256.005     281.779\n",
              "wind           -129.4050     46.259     -2.797      0.005    -220.124     -38.686\n",
              "precipitation   -83.3843      7.891    -10.567      0.000     -98.859     -67.910\n",
              "=================================================================================\n",
              "\"\"\""
            ],
            "text/html": [
              "<table class=\"simpletable\">\n",
              "<caption>QuantReg Regression Results</caption>\n",
              "<tr>\n",
              "  <th>Dep. Variable:</th>    <td>user_counts</td>   <th>  Pseudo R-squared:  </th> <td>  0.3723</td>\n",
              "</tr>\n",
              "<tr>\n",
              "  <th>Model:</th>             <td>QuantReg</td>     <th>  Bandwidth:         </th> <td>   840.9</td>\n",
              "</tr>\n",
              "<tr>\n",
              "  <th>Method:</th>          <td>Least Squares</td>  <th>  Sparsity:          </th> <td>   5590.</td>\n",
              "</tr>\n",
              "<tr>\n",
              "  <th>Date:</th>          <td>Fri, 03 Mar 2023</td> <th>  No. Observations:  </th>  <td>  2097</td> \n",
              "</tr>\n",
              "<tr>\n",
              "  <th>Time:</th>              <td>09:33:04</td>     <th>  Df Residuals:      </th>  <td>  2093</td> \n",
              "</tr>\n",
              "<tr>\n",
              "  <th> </th>                      <td> </td>        <th>  Df Model:          </th>  <td>     3</td> \n",
              "</tr>\n",
              "</table>\n",
              "<table class=\"simpletable\">\n",
              "<tr>\n",
              "        <td></td>           <th>coef</th>     <th>std err</th>      <th>t</th>      <th>P>|t|</th>  <th>[0.025</th>    <th>0.975]</th>  \n",
              "</tr>\n",
              "<tr>\n",
              "  <th>Intercept</th>     <td> 5941.8395</td> <td>  198.127</td> <td>   29.990</td> <td> 0.000</td> <td> 5553.293</td> <td> 6330.386</td>\n",
              "</tr>\n",
              "<tr>\n",
              "  <th>temperature</th>   <td>  268.8920</td> <td>    6.571</td> <td>   40.918</td> <td> 0.000</td> <td>  256.005</td> <td>  281.779</td>\n",
              "</tr>\n",
              "<tr>\n",
              "  <th>wind</th>          <td> -129.4050</td> <td>   46.259</td> <td>   -2.797</td> <td> 0.005</td> <td> -220.124</td> <td>  -38.686</td>\n",
              "</tr>\n",
              "<tr>\n",
              "  <th>precipitation</th> <td>  -83.3843</td> <td>    7.891</td> <td>  -10.567</td> <td> 0.000</td> <td>  -98.859</td> <td>  -67.910</td>\n",
              "</tr>\n",
              "</table>"
            ]
          },
          "metadata": {}
        },
        {
          "output_type": "stream",
          "name": "stdout",
          "text": [
            "\n",
            "\n",
            "답안 : 각 회귀 계수. 소수점 2자리 반올림\n",
            "temperature : 268.89\n",
            "wind : -129.41\n",
            "precipitation : -83.38\n",
            "predict: 0    7412.239537\n",
            "dtype: float64\n"
          ]
        }
      ]
    },
    {
      "cell_type": "markdown",
      "source": [
        "### ANOVA 분석에서 사용하는 Type 1, 2, 3의 샘플  예제\n",
        "\n",
        "type 별 차이는 아래와 같음 ( 답변은 chatpdf)\n",
        "\n",
        "> Type 1, Type 2, Type 3 ANOVA는 다중선형회귀분석에서 사용되며, 각 독립변수의 효과를 검정하는 방법 중 하나입니다. 이들은 각각 다른 가정을 기반으로 하며, 사용하는 경우에 따라 결과가 달라질 수 있습니다.\n",
        "\n",
        "> Type 1 ANOVA는 독립변수를 추가하는 순서에 따라 결과가 달라지는 문제가 있습니다. 이 방법은 첫 번째 독립변수부터 순서대로 추가하면서 각 변수의 효과를 검정합니다. 이 때, 이미 추가된 변수들이 해당 변수와 상호작용이 있는 경우에도 해당 변수의 효과를 검정합니다. 따라서 Type 1 ANOVA는 변수 추가 순서에 따라 결과가 달라질 수 있으며, 상호작용이 있는 경우에도 해당 변수의 효과를 검정하기 때문에 일반적으로 사용되지 않습니다.\n",
        "\n",
        "> Type 2 ANOVA는 Type 1 ANOVA와 마찬가지로 각 독립변수의 효과를 검정하지만, 이미 추가된 변수들이 해당 변수와 상호작용이 있는 경우에는 해당 변수의 효과를 검정하지 않습니다. 이 방법은 일반적으로 Type 1 ANOVA보다 더 많이 사용됩니다.\n",
        "\n",
        "> Type 3 ANOVA는 다른 변수들이 모두 고정된 상태에서 해당 변수의 효과를 검정하는 방법입니다. 이 방법은 다른 변수들과 해당 변수 간의 상호작용이 있는 경우에 유용합니다.\n",
        "\n",
        "> 따라서, 어떤 방법을 사용해야 할 지 결정하기 위해서는 분석하고자 하는 데이터와 연구목적을 고려해야 합니다. 일반적으로 Type 2 ANOVA가 가장 널리 사용됩니다.\n",
        "\n",
        "\n",
        "아래는 chatpdf 가 알려준 샘플 예제 코드"
      ],
      "metadata": {
        "id": "i1d2JW4aGOau"
      }
    },
    {
      "cell_type": "code",
      "source": [
        "import pandas as pd\n",
        "from statsmodels.formula.api import ols\n",
        "from statsmodels.stats.anova import anova_lm\n",
        "\n",
        "# 데이터 로드\n",
        "data = pd.read_csv('https://vincentarelbundock.github.io/Rdatasets/csv/datasets/PlantGrowth.csv')\n",
        "display(data.head(3))\n",
        "# 모델 정의\n",
        "model = ols('weight ~ group', data).fit()\n",
        "\n",
        "print('\\n\\n')\n",
        "display(model.summary())\n",
        "print('\\n\\n')\n",
        "# Type 1 ANOVA 분석 결과 출력\n",
        "print(anova_lm(model, typ=1))\n",
        "\n",
        "# Type 2 ANOVA 분석 결과 출력\n",
        "print(anova_lm(model, typ=2))\n",
        "\n",
        "# Type 3 ANOVA 분석 결과 출력\n",
        "print(anova_lm(model, typ=3))"
      ],
      "metadata": {
        "colab": {
          "base_uri": "https://localhost:8080/",
          "height": 877
        },
        "id": "a4mtChEEGkld",
        "outputId": "b8a2dc04-46ca-4a84-e07a-ccee2f1d1034"
      },
      "execution_count": 4,
      "outputs": [
        {
          "output_type": "display_data",
          "data": {
            "text/plain": [
              "   Unnamed: 0  weight group\n",
              "0           1    4.17  ctrl\n",
              "1           2    5.58  ctrl\n",
              "2           3    5.18  ctrl"
            ],
            "text/html": [
              "\n",
              "  <div id=\"df-1481d4fc-7b8b-414e-9520-e09efc9815d0\">\n",
              "    <div class=\"colab-df-container\">\n",
              "      <div>\n",
              "<style scoped>\n",
              "    .dataframe tbody tr th:only-of-type {\n",
              "        vertical-align: middle;\n",
              "    }\n",
              "\n",
              "    .dataframe tbody tr th {\n",
              "        vertical-align: top;\n",
              "    }\n",
              "\n",
              "    .dataframe thead th {\n",
              "        text-align: right;\n",
              "    }\n",
              "</style>\n",
              "<table border=\"1\" class=\"dataframe\">\n",
              "  <thead>\n",
              "    <tr style=\"text-align: right;\">\n",
              "      <th></th>\n",
              "      <th>Unnamed: 0</th>\n",
              "      <th>weight</th>\n",
              "      <th>group</th>\n",
              "    </tr>\n",
              "  </thead>\n",
              "  <tbody>\n",
              "    <tr>\n",
              "      <th>0</th>\n",
              "      <td>1</td>\n",
              "      <td>4.17</td>\n",
              "      <td>ctrl</td>\n",
              "    </tr>\n",
              "    <tr>\n",
              "      <th>1</th>\n",
              "      <td>2</td>\n",
              "      <td>5.58</td>\n",
              "      <td>ctrl</td>\n",
              "    </tr>\n",
              "    <tr>\n",
              "      <th>2</th>\n",
              "      <td>3</td>\n",
              "      <td>5.18</td>\n",
              "      <td>ctrl</td>\n",
              "    </tr>\n",
              "  </tbody>\n",
              "</table>\n",
              "</div>\n",
              "      <button class=\"colab-df-convert\" onclick=\"convertToInteractive('df-1481d4fc-7b8b-414e-9520-e09efc9815d0')\"\n",
              "              title=\"Convert this dataframe to an interactive table.\"\n",
              "              style=\"display:none;\">\n",
              "        \n",
              "  <svg xmlns=\"http://www.w3.org/2000/svg\" height=\"24px\"viewBox=\"0 0 24 24\"\n",
              "       width=\"24px\">\n",
              "    <path d=\"M0 0h24v24H0V0z\" fill=\"none\"/>\n",
              "    <path d=\"M18.56 5.44l.94 2.06.94-2.06 2.06-.94-2.06-.94-.94-2.06-.94 2.06-2.06.94zm-11 1L8.5 8.5l.94-2.06 2.06-.94-2.06-.94L8.5 2.5l-.94 2.06-2.06.94zm10 10l.94 2.06.94-2.06 2.06-.94-2.06-.94-.94-2.06-.94 2.06-2.06.94z\"/><path d=\"M17.41 7.96l-1.37-1.37c-.4-.4-.92-.59-1.43-.59-.52 0-1.04.2-1.43.59L10.3 9.45l-7.72 7.72c-.78.78-.78 2.05 0 2.83L4 21.41c.39.39.9.59 1.41.59.51 0 1.02-.2 1.41-.59l7.78-7.78 2.81-2.81c.8-.78.8-2.07 0-2.86zM5.41 20L4 18.59l7.72-7.72 1.47 1.35L5.41 20z\"/>\n",
              "  </svg>\n",
              "      </button>\n",
              "      \n",
              "  <style>\n",
              "    .colab-df-container {\n",
              "      display:flex;\n",
              "      flex-wrap:wrap;\n",
              "      gap: 12px;\n",
              "    }\n",
              "\n",
              "    .colab-df-convert {\n",
              "      background-color: #E8F0FE;\n",
              "      border: none;\n",
              "      border-radius: 50%;\n",
              "      cursor: pointer;\n",
              "      display: none;\n",
              "      fill: #1967D2;\n",
              "      height: 32px;\n",
              "      padding: 0 0 0 0;\n",
              "      width: 32px;\n",
              "    }\n",
              "\n",
              "    .colab-df-convert:hover {\n",
              "      background-color: #E2EBFA;\n",
              "      box-shadow: 0px 1px 2px rgba(60, 64, 67, 0.3), 0px 1px 3px 1px rgba(60, 64, 67, 0.15);\n",
              "      fill: #174EA6;\n",
              "    }\n",
              "\n",
              "    [theme=dark] .colab-df-convert {\n",
              "      background-color: #3B4455;\n",
              "      fill: #D2E3FC;\n",
              "    }\n",
              "\n",
              "    [theme=dark] .colab-df-convert:hover {\n",
              "      background-color: #434B5C;\n",
              "      box-shadow: 0px 1px 3px 1px rgba(0, 0, 0, 0.15);\n",
              "      filter: drop-shadow(0px 1px 2px rgba(0, 0, 0, 0.3));\n",
              "      fill: #FFFFFF;\n",
              "    }\n",
              "  </style>\n",
              "\n",
              "      <script>\n",
              "        const buttonEl =\n",
              "          document.querySelector('#df-1481d4fc-7b8b-414e-9520-e09efc9815d0 button.colab-df-convert');\n",
              "        buttonEl.style.display =\n",
              "          google.colab.kernel.accessAllowed ? 'block' : 'none';\n",
              "\n",
              "        async function convertToInteractive(key) {\n",
              "          const element = document.querySelector('#df-1481d4fc-7b8b-414e-9520-e09efc9815d0');\n",
              "          const dataTable =\n",
              "            await google.colab.kernel.invokeFunction('convertToInteractive',\n",
              "                                                     [key], {});\n",
              "          if (!dataTable) return;\n",
              "\n",
              "          const docLinkHtml = 'Like what you see? Visit the ' +\n",
              "            '<a target=\"_blank\" href=https://colab.research.google.com/notebooks/data_table.ipynb>data table notebook</a>'\n",
              "            + ' to learn more about interactive tables.';\n",
              "          element.innerHTML = '';\n",
              "          dataTable['output_type'] = 'display_data';\n",
              "          await google.colab.output.renderOutput(dataTable, element);\n",
              "          const docLink = document.createElement('div');\n",
              "          docLink.innerHTML = docLinkHtml;\n",
              "          element.appendChild(docLink);\n",
              "        }\n",
              "      </script>\n",
              "    </div>\n",
              "  </div>\n",
              "  "
            ]
          },
          "metadata": {}
        },
        {
          "output_type": "stream",
          "name": "stdout",
          "text": [
            "\n",
            "\n",
            "\n"
          ]
        },
        {
          "output_type": "display_data",
          "data": {
            "text/plain": [
              "<class 'statsmodels.iolib.summary.Summary'>\n",
              "\"\"\"\n",
              "                            OLS Regression Results                            \n",
              "==============================================================================\n",
              "Dep. Variable:                 weight   R-squared:                       0.264\n",
              "Model:                            OLS   Adj. R-squared:                  0.210\n",
              "Method:                 Least Squares   F-statistic:                     4.846\n",
              "Date:                Fri, 03 Mar 2023   Prob (F-statistic):             0.0159\n",
              "Time:                        15:48:42   Log-Likelihood:                -26.810\n",
              "No. Observations:                  30   AIC:                             59.62\n",
              "Df Residuals:                      27   BIC:                             63.82\n",
              "Df Model:                           2                                         \n",
              "Covariance Type:            nonrobust                                         \n",
              "=================================================================================\n",
              "                    coef    std err          t      P>|t|      [0.025      0.975]\n",
              "---------------------------------------------------------------------------------\n",
              "Intercept         5.0320      0.197     25.527      0.000       4.628       5.436\n",
              "group[T.trt1]    -0.3710      0.279     -1.331      0.194      -0.943       0.201\n",
              "group[T.trt2]     0.4940      0.279      1.772      0.088      -0.078       1.066\n",
              "==============================================================================\n",
              "Omnibus:                        1.835   Durbin-Watson:                   2.704\n",
              "Prob(Omnibus):                  0.400   Jarque-Bera (JB):                1.406\n",
              "Skew:                           0.524   Prob(JB):                        0.495\n",
              "Kurtosis:                       2.835   Cond. No.                         3.73\n",
              "==============================================================================\n",
              "\n",
              "Notes:\n",
              "[1] Standard Errors assume that the covariance matrix of the errors is correctly specified.\n",
              "\"\"\""
            ],
            "text/html": [
              "<table class=\"simpletable\">\n",
              "<caption>OLS Regression Results</caption>\n",
              "<tr>\n",
              "  <th>Dep. Variable:</th>         <td>weight</td>      <th>  R-squared:         </th> <td>   0.264</td>\n",
              "</tr>\n",
              "<tr>\n",
              "  <th>Model:</th>                   <td>OLS</td>       <th>  Adj. R-squared:    </th> <td>   0.210</td>\n",
              "</tr>\n",
              "<tr>\n",
              "  <th>Method:</th>             <td>Least Squares</td>  <th>  F-statistic:       </th> <td>   4.846</td>\n",
              "</tr>\n",
              "<tr>\n",
              "  <th>Date:</th>             <td>Fri, 03 Mar 2023</td> <th>  Prob (F-statistic):</th>  <td>0.0159</td> \n",
              "</tr>\n",
              "<tr>\n",
              "  <th>Time:</th>                 <td>15:48:42</td>     <th>  Log-Likelihood:    </th> <td> -26.810</td>\n",
              "</tr>\n",
              "<tr>\n",
              "  <th>No. Observations:</th>      <td>    30</td>      <th>  AIC:               </th> <td>   59.62</td>\n",
              "</tr>\n",
              "<tr>\n",
              "  <th>Df Residuals:</th>          <td>    27</td>      <th>  BIC:               </th> <td>   63.82</td>\n",
              "</tr>\n",
              "<tr>\n",
              "  <th>Df Model:</th>              <td>     2</td>      <th>                     </th>     <td> </td>   \n",
              "</tr>\n",
              "<tr>\n",
              "  <th>Covariance Type:</th>      <td>nonrobust</td>    <th>                     </th>     <td> </td>   \n",
              "</tr>\n",
              "</table>\n",
              "<table class=\"simpletable\">\n",
              "<tr>\n",
              "        <td></td>           <th>coef</th>     <th>std err</th>      <th>t</th>      <th>P>|t|</th>  <th>[0.025</th>    <th>0.975]</th>  \n",
              "</tr>\n",
              "<tr>\n",
              "  <th>Intercept</th>     <td>    5.0320</td> <td>    0.197</td> <td>   25.527</td> <td> 0.000</td> <td>    4.628</td> <td>    5.436</td>\n",
              "</tr>\n",
              "<tr>\n",
              "  <th>group[T.trt1]</th> <td>   -0.3710</td> <td>    0.279</td> <td>   -1.331</td> <td> 0.194</td> <td>   -0.943</td> <td>    0.201</td>\n",
              "</tr>\n",
              "<tr>\n",
              "  <th>group[T.trt2]</th> <td>    0.4940</td> <td>    0.279</td> <td>    1.772</td> <td> 0.088</td> <td>   -0.078</td> <td>    1.066</td>\n",
              "</tr>\n",
              "</table>\n",
              "<table class=\"simpletable\">\n",
              "<tr>\n",
              "  <th>Omnibus:</th>       <td> 1.835</td> <th>  Durbin-Watson:     </th> <td>   2.704</td>\n",
              "</tr>\n",
              "<tr>\n",
              "  <th>Prob(Omnibus):</th> <td> 0.400</td> <th>  Jarque-Bera (JB):  </th> <td>   1.406</td>\n",
              "</tr>\n",
              "<tr>\n",
              "  <th>Skew:</th>          <td> 0.524</td> <th>  Prob(JB):          </th> <td>   0.495</td>\n",
              "</tr>\n",
              "<tr>\n",
              "  <th>Kurtosis:</th>      <td> 2.835</td> <th>  Cond. No.          </th> <td>    3.73</td>\n",
              "</tr>\n",
              "</table><br/><br/>Notes:<br/>[1] Standard Errors assume that the covariance matrix of the errors is correctly specified."
            ]
          },
          "metadata": {}
        },
        {
          "output_type": "stream",
          "name": "stdout",
          "text": [
            "\n",
            "\n",
            "\n",
            "            df    sum_sq   mean_sq         F   PR(>F)\n",
            "group      2.0   3.76634  1.883170  4.846088  0.01591\n",
            "Residual  27.0  10.49209  0.388596       NaN      NaN\n",
            "            sum_sq    df         F   PR(>F)\n",
            "group      3.76634   2.0  4.846088  0.01591\n",
            "Residual  10.49209  27.0       NaN      NaN\n",
            "              sum_sq    df           F        PR(>F)\n",
            "Intercept  253.21024   1.0  651.602920  1.936575e-20\n",
            "group        3.76634   2.0    4.846088  1.590996e-02\n",
            "Residual    10.49209  27.0         NaN           NaN\n"
          ]
        }
      ]
    },
    {
      "cell_type": "markdown",
      "source": [
        "## 4.1 교차분석\n",
        "### 4.1.1 카이제곱 검정이란?\n",
        "- 카이제곱(X2) 분포에 기초한 통계 방법\n",
        "- 설명변수가 범주형 자료인 경우 사용\n",
        "- 각 범주에 따른 결과변수이 분포를 설명하거나, 범주형 변수가 두 개 이상인 경우 두 변수가 상관이 있는지를 검정함\n",
        "- 기본가정 : 각 범주의 기대빈도가 5 이상이어야 "
      ],
      "metadata": {
        "id": "cmT1xKlt3vcK"
      }
    },
    {
      "cell_type": "markdown",
      "source": [
        "### 4.1.2 교차분석 개념\n",
        "- 범주형 자료(명목/서열 수준)인 두 변수 간의 관계를 알아보기 위해 실시하는 분석 기법\n",
        "- 적합성 검정, 독립성 검정, 동질성 검정에 사용되며, 카이제곱 검정 통계량을 이용함\n",
        "- 교차분석은 교차표에서 각 셀의 관찰빈도와 기대빈도 간의 차이를 검정함\n",
        "    - 관찰빈도 : 자료로 부터 얻은 빈도분포\n",
        "    - 기대빈포 : 두 변수가 독립일 때 이론적으로 기대할 수 있는 빈도분포"
      ],
      "metadata": {
        "id": "n26f0vF-4Rto"
      }
    },
    {
      "cell_type": "markdown",
      "source": [],
      "metadata": {
        "id": "5MyLiJPo4uQI"
      }
    }
  ]
}