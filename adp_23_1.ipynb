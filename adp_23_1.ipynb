{
  "nbformat": 4,
  "nbformat_minor": 0,
  "metadata": {
    "colab": {
      "provenance": [],
      "authorship_tag": "ABX9TyO9IFcC4M9JJZ0t6L7c953u",
      "include_colab_link": true
    },
    "kernelspec": {
      "name": "python3",
      "display_name": "Python 3"
    },
    "language_info": {
      "name": "python"
    }
  },
  "cells": [
    {
      "cell_type": "markdown",
      "metadata": {
        "id": "view-in-github",
        "colab_type": "text"
      },
      "source": [
        "<a href=\"https://colab.research.google.com/github/johyunkang/adp_certificate/blob/main/adp_23_1.ipynb\" target=\"_parent\"><img src=\"https://colab.research.google.com/assets/colab-badge.svg\" alt=\"Open In Colab\"/></a>"
      ]
    },
    {
      "cell_type": "markdown",
      "source": [
        "# ADP 23회\n",
        "출처 : https://www.datamanim.com/dataset/ADPpb/00/p5.html\n",
        "\n",
        "**답지 보지 않고 작업 수행**"
      ],
      "metadata": {
        "id": "EMkws-rb4mma"
      }
    },
    {
      "cell_type": "markdown",
      "source": [
        "## 1번\n",
        "온, 습도, 조도, CO2농도에 따른 객실의 사용유무 판별\n",
        "\n",
        "종속변수 : Occupance (0:비어있음, 1: 사용중)\n",
        "\n",
        "데이터 출처 : https://archive.ics.uci.edu/ml/datasets/Occupancy+Detection+\n",
        "\n",
        "data Url : https://raw.githubusercontent.com/Datamanim/datarepo/main/adp/p1/problem1.csv"
      ],
      "metadata": {
        "id": "AM5fI0Pb4uoo"
      }
    },
    {
      "cell_type": "code",
      "execution_count": 13,
      "metadata": {
        "colab": {
          "base_uri": "https://localhost:8080/",
          "height": 206
        },
        "id": "iPlkNf-_4hMZ",
        "outputId": "e157e9cc-e012-4c35-da0b-5688ca591bd8"
      },
      "outputs": [
        {
          "output_type": "execute_result",
          "data": {
            "text/plain": [
              "                  date  Temperature  Humidity       Light     CO2  \\\n",
              "0  2015-02-02 14:19:59      23.7180    26.290  578.400000  760.40   \n",
              "1  2015-02-02 14:22:00      23.7225    26.125  493.750000  774.75   \n",
              "2  2015-02-02 14:23:00      23.7540    26.200  488.600000  779.00   \n",
              "3  2015-02-02 14:23:59      23.7600    26.260  568.666667  790.00   \n",
              "4  2015-02-02 14:25:59      23.7540    26.290  509.000000  797.00   \n",
              "\n",
              "   HumidityRatio  Occupancy  \n",
              "0       0.004773          1  \n",
              "1       0.004744          1  \n",
              "2       0.004767          1  \n",
              "3       0.004779          1  \n",
              "4       0.004783          1  "
            ],
            "text/html": [
              "\n",
              "  <div id=\"df-6a35aaa2-7c0a-4cb0-87b5-1fd61f95eeeb\">\n",
              "    <div class=\"colab-df-container\">\n",
              "      <div>\n",
              "<style scoped>\n",
              "    .dataframe tbody tr th:only-of-type {\n",
              "        vertical-align: middle;\n",
              "    }\n",
              "\n",
              "    .dataframe tbody tr th {\n",
              "        vertical-align: top;\n",
              "    }\n",
              "\n",
              "    .dataframe thead th {\n",
              "        text-align: right;\n",
              "    }\n",
              "</style>\n",
              "<table border=\"1\" class=\"dataframe\">\n",
              "  <thead>\n",
              "    <tr style=\"text-align: right;\">\n",
              "      <th></th>\n",
              "      <th>date</th>\n",
              "      <th>Temperature</th>\n",
              "      <th>Humidity</th>\n",
              "      <th>Light</th>\n",
              "      <th>CO2</th>\n",
              "      <th>HumidityRatio</th>\n",
              "      <th>Occupancy</th>\n",
              "    </tr>\n",
              "  </thead>\n",
              "  <tbody>\n",
              "    <tr>\n",
              "      <th>0</th>\n",
              "      <td>2015-02-02 14:19:59</td>\n",
              "      <td>23.7180</td>\n",
              "      <td>26.290</td>\n",
              "      <td>578.400000</td>\n",
              "      <td>760.40</td>\n",
              "      <td>0.004773</td>\n",
              "      <td>1</td>\n",
              "    </tr>\n",
              "    <tr>\n",
              "      <th>1</th>\n",
              "      <td>2015-02-02 14:22:00</td>\n",
              "      <td>23.7225</td>\n",
              "      <td>26.125</td>\n",
              "      <td>493.750000</td>\n",
              "      <td>774.75</td>\n",
              "      <td>0.004744</td>\n",
              "      <td>1</td>\n",
              "    </tr>\n",
              "    <tr>\n",
              "      <th>2</th>\n",
              "      <td>2015-02-02 14:23:00</td>\n",
              "      <td>23.7540</td>\n",
              "      <td>26.200</td>\n",
              "      <td>488.600000</td>\n",
              "      <td>779.00</td>\n",
              "      <td>0.004767</td>\n",
              "      <td>1</td>\n",
              "    </tr>\n",
              "    <tr>\n",
              "      <th>3</th>\n",
              "      <td>2015-02-02 14:23:59</td>\n",
              "      <td>23.7600</td>\n",
              "      <td>26.260</td>\n",
              "      <td>568.666667</td>\n",
              "      <td>790.00</td>\n",
              "      <td>0.004779</td>\n",
              "      <td>1</td>\n",
              "    </tr>\n",
              "    <tr>\n",
              "      <th>4</th>\n",
              "      <td>2015-02-02 14:25:59</td>\n",
              "      <td>23.7540</td>\n",
              "      <td>26.290</td>\n",
              "      <td>509.000000</td>\n",
              "      <td>797.00</td>\n",
              "      <td>0.004783</td>\n",
              "      <td>1</td>\n",
              "    </tr>\n",
              "  </tbody>\n",
              "</table>\n",
              "</div>\n",
              "      <button class=\"colab-df-convert\" onclick=\"convertToInteractive('df-6a35aaa2-7c0a-4cb0-87b5-1fd61f95eeeb')\"\n",
              "              title=\"Convert this dataframe to an interactive table.\"\n",
              "              style=\"display:none;\">\n",
              "        \n",
              "  <svg xmlns=\"http://www.w3.org/2000/svg\" height=\"24px\"viewBox=\"0 0 24 24\"\n",
              "       width=\"24px\">\n",
              "    <path d=\"M0 0h24v24H0V0z\" fill=\"none\"/>\n",
              "    <path d=\"M18.56 5.44l.94 2.06.94-2.06 2.06-.94-2.06-.94-.94-2.06-.94 2.06-2.06.94zm-11 1L8.5 8.5l.94-2.06 2.06-.94-2.06-.94L8.5 2.5l-.94 2.06-2.06.94zm10 10l.94 2.06.94-2.06 2.06-.94-2.06-.94-.94-2.06-.94 2.06-2.06.94z\"/><path d=\"M17.41 7.96l-1.37-1.37c-.4-.4-.92-.59-1.43-.59-.52 0-1.04.2-1.43.59L10.3 9.45l-7.72 7.72c-.78.78-.78 2.05 0 2.83L4 21.41c.39.39.9.59 1.41.59.51 0 1.02-.2 1.41-.59l7.78-7.78 2.81-2.81c.8-.78.8-2.07 0-2.86zM5.41 20L4 18.59l7.72-7.72 1.47 1.35L5.41 20z\"/>\n",
              "  </svg>\n",
              "      </button>\n",
              "      \n",
              "  <style>\n",
              "    .colab-df-container {\n",
              "      display:flex;\n",
              "      flex-wrap:wrap;\n",
              "      gap: 12px;\n",
              "    }\n",
              "\n",
              "    .colab-df-convert {\n",
              "      background-color: #E8F0FE;\n",
              "      border: none;\n",
              "      border-radius: 50%;\n",
              "      cursor: pointer;\n",
              "      display: none;\n",
              "      fill: #1967D2;\n",
              "      height: 32px;\n",
              "      padding: 0 0 0 0;\n",
              "      width: 32px;\n",
              "    }\n",
              "\n",
              "    .colab-df-convert:hover {\n",
              "      background-color: #E2EBFA;\n",
              "      box-shadow: 0px 1px 2px rgba(60, 64, 67, 0.3), 0px 1px 3px 1px rgba(60, 64, 67, 0.15);\n",
              "      fill: #174EA6;\n",
              "    }\n",
              "\n",
              "    [theme=dark] .colab-df-convert {\n",
              "      background-color: #3B4455;\n",
              "      fill: #D2E3FC;\n",
              "    }\n",
              "\n",
              "    [theme=dark] .colab-df-convert:hover {\n",
              "      background-color: #434B5C;\n",
              "      box-shadow: 0px 1px 3px 1px rgba(0, 0, 0, 0.15);\n",
              "      filter: drop-shadow(0px 1px 2px rgba(0, 0, 0, 0.3));\n",
              "      fill: #FFFFFF;\n",
              "    }\n",
              "  </style>\n",
              "\n",
              "      <script>\n",
              "        const buttonEl =\n",
              "          document.querySelector('#df-6a35aaa2-7c0a-4cb0-87b5-1fd61f95eeeb button.colab-df-convert');\n",
              "        buttonEl.style.display =\n",
              "          google.colab.kernel.accessAllowed ? 'block' : 'none';\n",
              "\n",
              "        async function convertToInteractive(key) {\n",
              "          const element = document.querySelector('#df-6a35aaa2-7c0a-4cb0-87b5-1fd61f95eeeb');\n",
              "          const dataTable =\n",
              "            await google.colab.kernel.invokeFunction('convertToInteractive',\n",
              "                                                     [key], {});\n",
              "          if (!dataTable) return;\n",
              "\n",
              "          const docLinkHtml = 'Like what you see? Visit the ' +\n",
              "            '<a target=\"_blank\" href=https://colab.research.google.com/notebooks/data_table.ipynb>data table notebook</a>'\n",
              "            + ' to learn more about interactive tables.';\n",
              "          element.innerHTML = '';\n",
              "          dataTable['output_type'] = 'display_data';\n",
              "          await google.colab.output.renderOutput(dataTable, element);\n",
              "          const docLink = document.createElement('div');\n",
              "          docLink.innerHTML = docLinkHtml;\n",
              "          element.appendChild(docLink);\n",
              "        }\n",
              "      </script>\n",
              "    </div>\n",
              "  </div>\n",
              "  "
            ]
          },
          "metadata": {},
          "execution_count": 13
        }
      ],
      "source": [
        "import pandas as pd\n",
        "\n",
        "df = pd.read_csv('https://raw.githubusercontent.com/Datamanim/datarepo/main/adp/p1/problem1.csv')\n",
        "df.head()"
      ]
    },
    {
      "cell_type": "markdown",
      "source": [
        "### 1-1\n",
        "데이터 EDA 수행 후, 분석가 입장에서 의미있는 탐색"
      ],
      "metadata": {
        "id": "EPvwdPKX6OXf"
      }
    },
    {
      "cell_type": "code",
      "source": [
        "print(df.info())\n",
        "display(df.describe())\n",
        "print('\\n\\n')\n",
        "print('##### NULL CHECK #####')\n",
        "display(df.isnull().sum())\n",
        "display(df.head())"
      ],
      "metadata": {
        "colab": {
          "base_uri": "https://localhost:8080/",
          "height": 977
        },
        "id": "lxVRMxWV6SWh",
        "outputId": "f65fe564-703e-4cb3-99ff-c2992030ae48"
      },
      "execution_count": 14,
      "outputs": [
        {
          "output_type": "stream",
          "name": "stdout",
          "text": [
            "<class 'pandas.core.frame.DataFrame'>\n",
            "RangeIndex: 17910 entries, 0 to 17909\n",
            "Data columns (total 7 columns):\n",
            " #   Column         Non-Null Count  Dtype  \n",
            "---  ------         --------------  -----  \n",
            " 0   date           17910 non-null  object \n",
            " 1   Temperature    17910 non-null  float64\n",
            " 2   Humidity       17910 non-null  float64\n",
            " 3   Light          17910 non-null  float64\n",
            " 4   CO2            17889 non-null  float64\n",
            " 5   HumidityRatio  17910 non-null  float64\n",
            " 6   Occupancy      17910 non-null  int64  \n",
            "dtypes: float64(5), int64(1), object(1)\n",
            "memory usage: 979.6+ KB\n",
            "None\n"
          ]
        },
        {
          "output_type": "display_data",
          "data": {
            "text/plain": [
              "        Temperature      Humidity         Light           CO2  HumidityRatio  \\\n",
              "count  17910.000000  17910.000000  17910.000000  17889.000000   17910.000000   \n",
              "mean      20.749036     27.589163     78.157369    647.700865       0.004175   \n",
              "std        0.994012      5.043595    168.574068    285.997340       0.000755   \n",
              "min       19.000000     16.745000    -99.000000    412.750000       0.002674   \n",
              "25%       20.100000     24.390000      0.000000    453.000000       0.003702   \n",
              "50%       20.600000     27.200000      0.000000    532.666667       0.004222   \n",
              "75%       21.200000     31.290000     22.000000    722.000000       0.004790   \n",
              "max       24.408333     39.500000   1581.000000   2076.500000       0.006461   \n",
              "\n",
              "          Occupancy  \n",
              "count  17910.000000  \n",
              "mean       0.117253  \n",
              "std        0.321730  \n",
              "min        0.000000  \n",
              "25%        0.000000  \n",
              "50%        0.000000  \n",
              "75%        0.000000  \n",
              "max        1.000000  "
            ],
            "text/html": [
              "\n",
              "  <div id=\"df-08398ed4-1d6c-4816-a800-375cb7d42737\">\n",
              "    <div class=\"colab-df-container\">\n",
              "      <div>\n",
              "<style scoped>\n",
              "    .dataframe tbody tr th:only-of-type {\n",
              "        vertical-align: middle;\n",
              "    }\n",
              "\n",
              "    .dataframe tbody tr th {\n",
              "        vertical-align: top;\n",
              "    }\n",
              "\n",
              "    .dataframe thead th {\n",
              "        text-align: right;\n",
              "    }\n",
              "</style>\n",
              "<table border=\"1\" class=\"dataframe\">\n",
              "  <thead>\n",
              "    <tr style=\"text-align: right;\">\n",
              "      <th></th>\n",
              "      <th>Temperature</th>\n",
              "      <th>Humidity</th>\n",
              "      <th>Light</th>\n",
              "      <th>CO2</th>\n",
              "      <th>HumidityRatio</th>\n",
              "      <th>Occupancy</th>\n",
              "    </tr>\n",
              "  </thead>\n",
              "  <tbody>\n",
              "    <tr>\n",
              "      <th>count</th>\n",
              "      <td>17910.000000</td>\n",
              "      <td>17910.000000</td>\n",
              "      <td>17910.000000</td>\n",
              "      <td>17889.000000</td>\n",
              "      <td>17910.000000</td>\n",
              "      <td>17910.000000</td>\n",
              "    </tr>\n",
              "    <tr>\n",
              "      <th>mean</th>\n",
              "      <td>20.749036</td>\n",
              "      <td>27.589163</td>\n",
              "      <td>78.157369</td>\n",
              "      <td>647.700865</td>\n",
              "      <td>0.004175</td>\n",
              "      <td>0.117253</td>\n",
              "    </tr>\n",
              "    <tr>\n",
              "      <th>std</th>\n",
              "      <td>0.994012</td>\n",
              "      <td>5.043595</td>\n",
              "      <td>168.574068</td>\n",
              "      <td>285.997340</td>\n",
              "      <td>0.000755</td>\n",
              "      <td>0.321730</td>\n",
              "    </tr>\n",
              "    <tr>\n",
              "      <th>min</th>\n",
              "      <td>19.000000</td>\n",
              "      <td>16.745000</td>\n",
              "      <td>-99.000000</td>\n",
              "      <td>412.750000</td>\n",
              "      <td>0.002674</td>\n",
              "      <td>0.000000</td>\n",
              "    </tr>\n",
              "    <tr>\n",
              "      <th>25%</th>\n",
              "      <td>20.100000</td>\n",
              "      <td>24.390000</td>\n",
              "      <td>0.000000</td>\n",
              "      <td>453.000000</td>\n",
              "      <td>0.003702</td>\n",
              "      <td>0.000000</td>\n",
              "    </tr>\n",
              "    <tr>\n",
              "      <th>50%</th>\n",
              "      <td>20.600000</td>\n",
              "      <td>27.200000</td>\n",
              "      <td>0.000000</td>\n",
              "      <td>532.666667</td>\n",
              "      <td>0.004222</td>\n",
              "      <td>0.000000</td>\n",
              "    </tr>\n",
              "    <tr>\n",
              "      <th>75%</th>\n",
              "      <td>21.200000</td>\n",
              "      <td>31.290000</td>\n",
              "      <td>22.000000</td>\n",
              "      <td>722.000000</td>\n",
              "      <td>0.004790</td>\n",
              "      <td>0.000000</td>\n",
              "    </tr>\n",
              "    <tr>\n",
              "      <th>max</th>\n",
              "      <td>24.408333</td>\n",
              "      <td>39.500000</td>\n",
              "      <td>1581.000000</td>\n",
              "      <td>2076.500000</td>\n",
              "      <td>0.006461</td>\n",
              "      <td>1.000000</td>\n",
              "    </tr>\n",
              "  </tbody>\n",
              "</table>\n",
              "</div>\n",
              "      <button class=\"colab-df-convert\" onclick=\"convertToInteractive('df-08398ed4-1d6c-4816-a800-375cb7d42737')\"\n",
              "              title=\"Convert this dataframe to an interactive table.\"\n",
              "              style=\"display:none;\">\n",
              "        \n",
              "  <svg xmlns=\"http://www.w3.org/2000/svg\" height=\"24px\"viewBox=\"0 0 24 24\"\n",
              "       width=\"24px\">\n",
              "    <path d=\"M0 0h24v24H0V0z\" fill=\"none\"/>\n",
              "    <path d=\"M18.56 5.44l.94 2.06.94-2.06 2.06-.94-2.06-.94-.94-2.06-.94 2.06-2.06.94zm-11 1L8.5 8.5l.94-2.06 2.06-.94-2.06-.94L8.5 2.5l-.94 2.06-2.06.94zm10 10l.94 2.06.94-2.06 2.06-.94-2.06-.94-.94-2.06-.94 2.06-2.06.94z\"/><path d=\"M17.41 7.96l-1.37-1.37c-.4-.4-.92-.59-1.43-.59-.52 0-1.04.2-1.43.59L10.3 9.45l-7.72 7.72c-.78.78-.78 2.05 0 2.83L4 21.41c.39.39.9.59 1.41.59.51 0 1.02-.2 1.41-.59l7.78-7.78 2.81-2.81c.8-.78.8-2.07 0-2.86zM5.41 20L4 18.59l7.72-7.72 1.47 1.35L5.41 20z\"/>\n",
              "  </svg>\n",
              "      </button>\n",
              "      \n",
              "  <style>\n",
              "    .colab-df-container {\n",
              "      display:flex;\n",
              "      flex-wrap:wrap;\n",
              "      gap: 12px;\n",
              "    }\n",
              "\n",
              "    .colab-df-convert {\n",
              "      background-color: #E8F0FE;\n",
              "      border: none;\n",
              "      border-radius: 50%;\n",
              "      cursor: pointer;\n",
              "      display: none;\n",
              "      fill: #1967D2;\n",
              "      height: 32px;\n",
              "      padding: 0 0 0 0;\n",
              "      width: 32px;\n",
              "    }\n",
              "\n",
              "    .colab-df-convert:hover {\n",
              "      background-color: #E2EBFA;\n",
              "      box-shadow: 0px 1px 2px rgba(60, 64, 67, 0.3), 0px 1px 3px 1px rgba(60, 64, 67, 0.15);\n",
              "      fill: #174EA6;\n",
              "    }\n",
              "\n",
              "    [theme=dark] .colab-df-convert {\n",
              "      background-color: #3B4455;\n",
              "      fill: #D2E3FC;\n",
              "    }\n",
              "\n",
              "    [theme=dark] .colab-df-convert:hover {\n",
              "      background-color: #434B5C;\n",
              "      box-shadow: 0px 1px 3px 1px rgba(0, 0, 0, 0.15);\n",
              "      filter: drop-shadow(0px 1px 2px rgba(0, 0, 0, 0.3));\n",
              "      fill: #FFFFFF;\n",
              "    }\n",
              "  </style>\n",
              "\n",
              "      <script>\n",
              "        const buttonEl =\n",
              "          document.querySelector('#df-08398ed4-1d6c-4816-a800-375cb7d42737 button.colab-df-convert');\n",
              "        buttonEl.style.display =\n",
              "          google.colab.kernel.accessAllowed ? 'block' : 'none';\n",
              "\n",
              "        async function convertToInteractive(key) {\n",
              "          const element = document.querySelector('#df-08398ed4-1d6c-4816-a800-375cb7d42737');\n",
              "          const dataTable =\n",
              "            await google.colab.kernel.invokeFunction('convertToInteractive',\n",
              "                                                     [key], {});\n",
              "          if (!dataTable) return;\n",
              "\n",
              "          const docLinkHtml = 'Like what you see? Visit the ' +\n",
              "            '<a target=\"_blank\" href=https://colab.research.google.com/notebooks/data_table.ipynb>data table notebook</a>'\n",
              "            + ' to learn more about interactive tables.';\n",
              "          element.innerHTML = '';\n",
              "          dataTable['output_type'] = 'display_data';\n",
              "          await google.colab.output.renderOutput(dataTable, element);\n",
              "          const docLink = document.createElement('div');\n",
              "          docLink.innerHTML = docLinkHtml;\n",
              "          element.appendChild(docLink);\n",
              "        }\n",
              "      </script>\n",
              "    </div>\n",
              "  </div>\n",
              "  "
            ]
          },
          "metadata": {}
        },
        {
          "output_type": "stream",
          "name": "stdout",
          "text": [
            "\n",
            "\n",
            "\n",
            "##### NULL CHECK #####\n"
          ]
        },
        {
          "output_type": "display_data",
          "data": {
            "text/plain": [
              "date              0\n",
              "Temperature       0\n",
              "Humidity          0\n",
              "Light             0\n",
              "CO2              21\n",
              "HumidityRatio     0\n",
              "Occupancy         0\n",
              "dtype: int64"
            ]
          },
          "metadata": {}
        },
        {
          "output_type": "display_data",
          "data": {
            "text/plain": [
              "                  date  Temperature  Humidity       Light     CO2  \\\n",
              "0  2015-02-02 14:19:59      23.7180    26.290  578.400000  760.40   \n",
              "1  2015-02-02 14:22:00      23.7225    26.125  493.750000  774.75   \n",
              "2  2015-02-02 14:23:00      23.7540    26.200  488.600000  779.00   \n",
              "3  2015-02-02 14:23:59      23.7600    26.260  568.666667  790.00   \n",
              "4  2015-02-02 14:25:59      23.7540    26.290  509.000000  797.00   \n",
              "\n",
              "   HumidityRatio  Occupancy  \n",
              "0       0.004773          1  \n",
              "1       0.004744          1  \n",
              "2       0.004767          1  \n",
              "3       0.004779          1  \n",
              "4       0.004783          1  "
            ],
            "text/html": [
              "\n",
              "  <div id=\"df-3e96c8a0-7cc0-41c2-aa81-4f68a96fdaff\">\n",
              "    <div class=\"colab-df-container\">\n",
              "      <div>\n",
              "<style scoped>\n",
              "    .dataframe tbody tr th:only-of-type {\n",
              "        vertical-align: middle;\n",
              "    }\n",
              "\n",
              "    .dataframe tbody tr th {\n",
              "        vertical-align: top;\n",
              "    }\n",
              "\n",
              "    .dataframe thead th {\n",
              "        text-align: right;\n",
              "    }\n",
              "</style>\n",
              "<table border=\"1\" class=\"dataframe\">\n",
              "  <thead>\n",
              "    <tr style=\"text-align: right;\">\n",
              "      <th></th>\n",
              "      <th>date</th>\n",
              "      <th>Temperature</th>\n",
              "      <th>Humidity</th>\n",
              "      <th>Light</th>\n",
              "      <th>CO2</th>\n",
              "      <th>HumidityRatio</th>\n",
              "      <th>Occupancy</th>\n",
              "    </tr>\n",
              "  </thead>\n",
              "  <tbody>\n",
              "    <tr>\n",
              "      <th>0</th>\n",
              "      <td>2015-02-02 14:19:59</td>\n",
              "      <td>23.7180</td>\n",
              "      <td>26.290</td>\n",
              "      <td>578.400000</td>\n",
              "      <td>760.40</td>\n",
              "      <td>0.004773</td>\n",
              "      <td>1</td>\n",
              "    </tr>\n",
              "    <tr>\n",
              "      <th>1</th>\n",
              "      <td>2015-02-02 14:22:00</td>\n",
              "      <td>23.7225</td>\n",
              "      <td>26.125</td>\n",
              "      <td>493.750000</td>\n",
              "      <td>774.75</td>\n",
              "      <td>0.004744</td>\n",
              "      <td>1</td>\n",
              "    </tr>\n",
              "    <tr>\n",
              "      <th>2</th>\n",
              "      <td>2015-02-02 14:23:00</td>\n",
              "      <td>23.7540</td>\n",
              "      <td>26.200</td>\n",
              "      <td>488.600000</td>\n",
              "      <td>779.00</td>\n",
              "      <td>0.004767</td>\n",
              "      <td>1</td>\n",
              "    </tr>\n",
              "    <tr>\n",
              "      <th>3</th>\n",
              "      <td>2015-02-02 14:23:59</td>\n",
              "      <td>23.7600</td>\n",
              "      <td>26.260</td>\n",
              "      <td>568.666667</td>\n",
              "      <td>790.00</td>\n",
              "      <td>0.004779</td>\n",
              "      <td>1</td>\n",
              "    </tr>\n",
              "    <tr>\n",
              "      <th>4</th>\n",
              "      <td>2015-02-02 14:25:59</td>\n",
              "      <td>23.7540</td>\n",
              "      <td>26.290</td>\n",
              "      <td>509.000000</td>\n",
              "      <td>797.00</td>\n",
              "      <td>0.004783</td>\n",
              "      <td>1</td>\n",
              "    </tr>\n",
              "  </tbody>\n",
              "</table>\n",
              "</div>\n",
              "      <button class=\"colab-df-convert\" onclick=\"convertToInteractive('df-3e96c8a0-7cc0-41c2-aa81-4f68a96fdaff')\"\n",
              "              title=\"Convert this dataframe to an interactive table.\"\n",
              "              style=\"display:none;\">\n",
              "        \n",
              "  <svg xmlns=\"http://www.w3.org/2000/svg\" height=\"24px\"viewBox=\"0 0 24 24\"\n",
              "       width=\"24px\">\n",
              "    <path d=\"M0 0h24v24H0V0z\" fill=\"none\"/>\n",
              "    <path d=\"M18.56 5.44l.94 2.06.94-2.06 2.06-.94-2.06-.94-.94-2.06-.94 2.06-2.06.94zm-11 1L8.5 8.5l.94-2.06 2.06-.94-2.06-.94L8.5 2.5l-.94 2.06-2.06.94zm10 10l.94 2.06.94-2.06 2.06-.94-2.06-.94-.94-2.06-.94 2.06-2.06.94z\"/><path d=\"M17.41 7.96l-1.37-1.37c-.4-.4-.92-.59-1.43-.59-.52 0-1.04.2-1.43.59L10.3 9.45l-7.72 7.72c-.78.78-.78 2.05 0 2.83L4 21.41c.39.39.9.59 1.41.59.51 0 1.02-.2 1.41-.59l7.78-7.78 2.81-2.81c.8-.78.8-2.07 0-2.86zM5.41 20L4 18.59l7.72-7.72 1.47 1.35L5.41 20z\"/>\n",
              "  </svg>\n",
              "      </button>\n",
              "      \n",
              "  <style>\n",
              "    .colab-df-container {\n",
              "      display:flex;\n",
              "      flex-wrap:wrap;\n",
              "      gap: 12px;\n",
              "    }\n",
              "\n",
              "    .colab-df-convert {\n",
              "      background-color: #E8F0FE;\n",
              "      border: none;\n",
              "      border-radius: 50%;\n",
              "      cursor: pointer;\n",
              "      display: none;\n",
              "      fill: #1967D2;\n",
              "      height: 32px;\n",
              "      padding: 0 0 0 0;\n",
              "      width: 32px;\n",
              "    }\n",
              "\n",
              "    .colab-df-convert:hover {\n",
              "      background-color: #E2EBFA;\n",
              "      box-shadow: 0px 1px 2px rgba(60, 64, 67, 0.3), 0px 1px 3px 1px rgba(60, 64, 67, 0.15);\n",
              "      fill: #174EA6;\n",
              "    }\n",
              "\n",
              "    [theme=dark] .colab-df-convert {\n",
              "      background-color: #3B4455;\n",
              "      fill: #D2E3FC;\n",
              "    }\n",
              "\n",
              "    [theme=dark] .colab-df-convert:hover {\n",
              "      background-color: #434B5C;\n",
              "      box-shadow: 0px 1px 3px 1px rgba(0, 0, 0, 0.15);\n",
              "      filter: drop-shadow(0px 1px 2px rgba(0, 0, 0, 0.3));\n",
              "      fill: #FFFFFF;\n",
              "    }\n",
              "  </style>\n",
              "\n",
              "      <script>\n",
              "        const buttonEl =\n",
              "          document.querySelector('#df-3e96c8a0-7cc0-41c2-aa81-4f68a96fdaff button.colab-df-convert');\n",
              "        buttonEl.style.display =\n",
              "          google.colab.kernel.accessAllowed ? 'block' : 'none';\n",
              "\n",
              "        async function convertToInteractive(key) {\n",
              "          const element = document.querySelector('#df-3e96c8a0-7cc0-41c2-aa81-4f68a96fdaff');\n",
              "          const dataTable =\n",
              "            await google.colab.kernel.invokeFunction('convertToInteractive',\n",
              "                                                     [key], {});\n",
              "          if (!dataTable) return;\n",
              "\n",
              "          const docLinkHtml = 'Like what you see? Visit the ' +\n",
              "            '<a target=\"_blank\" href=https://colab.research.google.com/notebooks/data_table.ipynb>data table notebook</a>'\n",
              "            + ' to learn more about interactive tables.';\n",
              "          element.innerHTML = '';\n",
              "          dataTable['output_type'] = 'display_data';\n",
              "          await google.colab.output.renderOutput(dataTable, element);\n",
              "          const docLink = document.createElement('div');\n",
              "          docLink.innerHTML = docLinkHtml;\n",
              "          element.appendChild(docLink);\n",
              "        }\n",
              "      </script>\n",
              "    </div>\n",
              "  </div>\n",
              "  "
            ]
          },
          "metadata": {}
        }
      ]
    },
    {
      "cell_type": "code",
      "source": [
        "print('## 이상치 분석 ## ')\n",
        "\n",
        "co2_nan_date = df[df.CO2.isnull()].date.values\n",
        "print('CO2 null dates:', co2_nan_date)\n",
        "\n",
        "import matplotlib.pyplot as plt\n",
        "df_plot = df[['Temperature', 'Humidity', 'Light', 'CO2', 'HumidityRatio', 'Occupancy']]\n",
        "# df_plot.boxplot(column=['Temperature', 'Humidity', 'Light', 'CO2', 'HumidityRatio', 'Occupancy'])\n",
        "\n",
        "for col in ['Temperature', 'Humidity', 'Light', 'CO2', 'HumidityRatio', 'Occupancy'] :\n",
        "    plt.boxplot(df[col].dropna())\n",
        "    plt.title(col)\n",
        "    plt.show()\n",
        "\n",
        "\n",
        "display(df_plot.corr())\n",
        "\n",
        "display(df[df.Light < 0].Light.value_counts())"
      ],
      "metadata": {
        "colab": {
          "base_uri": "https://localhost:8080/",
          "height": 1000
        },
        "id": "GkmoSXxD7FNK",
        "outputId": "0c8e1e89-4b19-474a-e6bb-632eff8a0c99"
      },
      "execution_count": 15,
      "outputs": [
        {
          "output_type": "stream",
          "name": "stdout",
          "text": [
            "## 이상치 분석 ## \n",
            "CO2 null dates: ['2015-02-03 19:09:59' '2015-02-03 19:31:00' '2015-02-04 18:08:00'\n",
            " '2015-02-05 06:08:00' '2015-02-05 16:09:59' '2015-02-08 08:06:00'\n",
            " '2015-02-08 11:54:00' '2015-02-08 20:58:59' '2015-02-09 06:04:59'\n",
            " '2015-02-09 07:31:00' '2015-02-09 07:49:00' '2015-02-10 07:53:59'\n",
            " '2015-02-12 00:34:00' '2015-02-12 10:53:00' '2015-02-12 15:04:00'\n",
            " '2015-02-12 20:38:00' '2015-02-13 22:53:59' '2015-02-15 16:41:59'\n",
            " '2015-02-16 00:53:59' '2015-02-17 01:56:00' '2015-02-18 06:20:00']\n"
          ]
        },
        {
          "output_type": "display_data",
          "data": {
            "text/plain": [
              "<Figure size 432x288 with 1 Axes>"
            ],
            "image/png": "[encoded data removed]"
          },
          "metadata": {
            "needs_background": "light"
          }
        },
        {
          "output_type": "display_data",
          "data": {
            "text/plain": [
              "<Figure size 432x288 with 1 Axes>"
            ],
            "image/png": "[encoded data removed]"
          },
          "metadata": {
            "needs_background": "light"
          }
        },
        {
          "output_type": "display_data",
          "data": {
            "text/plain": [
              "<Figure size 432x288 with 1 Axes>"
            ],
            "image/png": "[encoded data removed]"
          },
          "metadata": {
            "needs_background": "light"
          }
        },
        {
          "output_type": "display_data",
          "data": {
            "text/plain": [
              "<Figure size 432x288 with 1 Axes>"
            ],
            "image/png": "[encoded data removed]"
          },
          "metadata": {
            "needs_background": "light"
          }
        },
        {
          "output_type": "display_data",
          "data": {
            "text/plain": [
              "<Figure size 432x288 with 1 Axes>"
            ],
            "image/png": "[encoded data removed]"
          },
          "metadata": {
            "needs_background": "light"
          }
        },
        {
          "output_type": "display_data",
          "data": {
            "text/plain": [
              "<Figure size 432x288 with 1 Axes>"
            ],
            "image/png": "[encoded data removed]"
          },
          "metadata": {
            "needs_background": "light"
          }
        },
        {
          "output_type": "display_data",
          "data": {
            "text/plain": [
              "               Temperature  Humidity     Light       CO2  HumidityRatio  \\\n",
              "Temperature       1.000000 -0.199284  0.625230  0.399370       0.138071   \n",
              "Humidity         -0.199284  1.000000 -0.052119  0.254446       0.941568   \n",
              "Light             0.625230 -0.052119  1.000000  0.354062       0.163272   \n",
              "CO2               0.399370  0.254446  0.354062  1.000000       0.409735   \n",
              "HumidityRatio     0.138071  0.941568  0.163272  0.409735       1.000000   \n",
              "Occupancy         0.453281  0.032376  0.867240  0.409959       0.198232   \n",
              "\n",
              "               Occupancy  \n",
              "Temperature     0.453281  \n",
              "Humidity        0.032376  \n",
              "Light           0.867240  \n",
              "CO2             0.409959  \n",
              "HumidityRatio   0.198232  \n",
              "Occupancy       1.000000  "
            ],
            "text/html": [
              "\n",
              "  <div id=\"df-7efb5476-8272-4081-a6f6-ba376dc02c58\">\n",
              "    <div class=\"colab-df-container\">\n",
              "      <div>\n",
              "<style scoped>\n",
              "    .dataframe tbody tr th:only-of-type {\n",
              "        vertical-align: middle;\n",
              "    }\n",
              "\n",
              "    .dataframe tbody tr th {\n",
              "        vertical-align: top;\n",
              "    }\n",
              "\n",
              "    .dataframe thead th {\n",
              "        text-align: right;\n",
              "    }\n",
              "</style>\n",
              "<table border=\"1\" class=\"dataframe\">\n",
              "  <thead>\n",
              "    <tr style=\"text-align: right;\">\n",
              "      <th></th>\n",
              "      <th>Temperature</th>\n",
              "      <th>Humidity</th>\n",
              "      <th>Light</th>\n",
              "      <th>CO2</th>\n",
              "      <th>HumidityRatio</th>\n",
              "      <th>Occupancy</th>\n",
              "    </tr>\n",
              "  </thead>\n",
              "  <tbody>\n",
              "    <tr>\n",
              "      <th>Temperature</th>\n",
              "      <td>1.000000</td>\n",
              "      <td>-0.199284</td>\n",
              "      <td>0.625230</td>\n",
              "      <td>0.399370</td>\n",
              "      <td>0.138071</td>\n",
              "      <td>0.453281</td>\n",
              "    </tr>\n",
              "    <tr>\n",
              "      <th>Humidity</th>\n",
              "      <td>-0.199284</td>\n",
              "      <td>1.000000</td>\n",
              "      <td>-0.052119</td>\n",
              "      <td>0.254446</td>\n",
              "      <td>0.941568</td>\n",
              "      <td>0.032376</td>\n",
              "    </tr>\n",
              "    <tr>\n",
              "      <th>Light</th>\n",
              "      <td>0.625230</td>\n",
              "      <td>-0.052119</td>\n",
              "      <td>1.000000</td>\n",
              "      <td>0.354062</td>\n",
              "      <td>0.163272</td>\n",
              "      <td>0.867240</td>\n",
              "    </tr>\n",
              "    <tr>\n",
              "      <th>CO2</th>\n",
              "      <td>0.399370</td>\n",
              "      <td>0.254446</td>\n",
              "      <td>0.354062</td>\n",
              "      <td>1.000000</td>\n",
              "      <td>0.409735</td>\n",
              "      <td>0.409959</td>\n",
              "    </tr>\n",
              "    <tr>\n",
              "      <th>HumidityRatio</th>\n",
              "      <td>0.138071</td>\n",
              "      <td>0.941568</td>\n",
              "      <td>0.163272</td>\n",
              "      <td>0.409735</td>\n",
              "      <td>1.000000</td>\n",
              "      <td>0.198232</td>\n",
              "    </tr>\n",
              "    <tr>\n",
              "      <th>Occupancy</th>\n",
              "      <td>0.453281</td>\n",
              "      <td>0.032376</td>\n",
              "      <td>0.867240</td>\n",
              "      <td>0.409959</td>\n",
              "      <td>0.198232</td>\n",
              "      <td>1.000000</td>\n",
              "    </tr>\n",
              "  </tbody>\n",
              "</table>\n",
              "</div>\n",
              "      <button class=\"colab-df-convert\" onclick=\"convertToInteractive('df-7efb5476-8272-4081-a6f6-ba376dc02c58')\"\n",
              "              title=\"Convert this dataframe to an interactive table.\"\n",
              "              style=\"display:none;\">\n",
              "        \n",
              "  <svg xmlns=\"http://www.w3.org/2000/svg\" height=\"24px\"viewBox=\"0 0 24 24\"\n",
              "       width=\"24px\">\n",
              "    <path d=\"M0 0h24v24H0V0z\" fill=\"none\"/>\n",
              "    <path d=\"M18.56 5.44l.94 2.06.94-2.06 2.06-.94-2.06-.94-.94-2.06-.94 2.06-2.06.94zm-11 1L8.5 8.5l.94-2.06 2.06-.94-2.06-.94L8.5 2.5l-.94 2.06-2.06.94zm10 10l.94 2.06.94-2.06 2.06-.94-2.06-.94-.94-2.06-.94 2.06-2.06.94z\"/><path d=\"M17.41 7.96l-1.37-1.37c-.4-.4-.92-.59-1.43-.59-.52 0-1.04.2-1.43.59L10.3 9.45l-7.72 7.72c-.78.78-.78 2.05 0 2.83L4 21.41c.39.39.9.59 1.41.59.51 0 1.02-.2 1.41-.59l7.78-7.78 2.81-2.81c.8-.78.8-2.07 0-2.86zM5.41 20L4 18.59l7.72-7.72 1.47 1.35L5.41 20z\"/>\n",
              "  </svg>\n",
              "      </button>\n",
              "      \n",
              "  <style>\n",
              "    .colab-df-container {\n",
              "      display:flex;\n",
              "      flex-wrap:wrap;\n",
              "      gap: 12px;\n",
              "    }\n",
              "\n",
              "    .colab-df-convert {\n",
              "      background-color: #E8F0FE;\n",
              "      border: none;\n",
              "      border-radius: 50%;\n",
              "      cursor: pointer;\n",
              "      display: none;\n",
              "      fill: #1967D2;\n",
              "      height: 32px;\n",
              "      padding: 0 0 0 0;\n",
              "      width: 32px;\n",
              "    }\n",
              "\n",
              "    .colab-df-convert:hover {\n",
              "      background-color: #E2EBFA;\n",
              "      box-shadow: 0px 1px 2px rgba(60, 64, 67, 0.3), 0px 1px 3px 1px rgba(60, 64, 67, 0.15);\n",
              "      fill: #174EA6;\n",
              "    }\n",
              "\n",
              "    [theme=dark] .colab-df-convert {\n",
              "      background-color: #3B4455;\n",
              "      fill: #D2E3FC;\n",
              "    }\n",
              "\n",
              "    [theme=dark] .colab-df-convert:hover {\n",
              "      background-color: #434B5C;\n",
              "      box-shadow: 0px 1px 3px 1px rgba(0, 0, 0, 0.15);\n",
              "      filter: drop-shadow(0px 1px 2px rgba(0, 0, 0, 0.3));\n",
              "      fill: #FFFFFF;\n",
              "    }\n",
              "  </style>\n",
              "\n",
              "      <script>\n",
              "        const buttonEl =\n",
              "          document.querySelector('#df-7efb5476-8272-4081-a6f6-ba376dc02c58 button.colab-df-convert');\n",
              "        buttonEl.style.display =\n",
              "          google.colab.kernel.accessAllowed ? 'block' : 'none';\n",
              "\n",
              "        async function convertToInteractive(key) {\n",
              "          const element = document.querySelector('#df-7efb5476-8272-4081-a6f6-ba376dc02c58');\n",
              "          const dataTable =\n",
              "            await google.colab.kernel.invokeFunction('convertToInteractive',\n",
              "                                                     [key], {});\n",
              "          if (!dataTable) return;\n",
              "\n",
              "          const docLinkHtml = 'Like what you see? Visit the ' +\n",
              "            '<a target=\"_blank\" href=https://colab.research.google.com/notebooks/data_table.ipynb>data table notebook</a>'\n",
              "            + ' to learn more about interactive tables.';\n",
              "          element.innerHTML = '';\n",
              "          dataTable['output_type'] = 'display_data';\n",
              "          await google.colab.output.renderOutput(dataTable, element);\n",
              "          const docLink = document.createElement('div');\n",
              "          docLink.innerHTML = docLinkHtml;\n",
              "          element.appendChild(docLink);\n",
              "        }\n",
              "      </script>\n",
              "    </div>\n",
              "  </div>\n",
              "  "
            ]
          },
          "metadata": {}
        },
        {
          "output_type": "display_data",
          "data": {
            "text/plain": [
              "-99.0    50\n",
              "Name: Light, dtype: int64"
            ]
          },
          "metadata": {}
        }
      ]
    },
    {
      "cell_type": "code",
      "source": [
        "print('''\n",
        "결측치가 일부 존재하며 date 컬럼을 제외하고 모두 float형식이다.\n",
        "\n",
        "결측치는 CO2 컬럼에만 존재한다. 결측치의 데이터는 연속적으로 존재하는 것이 아니다.\n",
        "\n",
        "Humidity, HumidityRatio 두 컬럼은 높은 상관관계를 보이며, \n",
        "\n",
        "두 컬럼을 제외한 나머지 데이터의 경우 이상치가 상대적으로 많이 존재한다.\n",
        "\n",
        "Light컬럼의 경우 -99인 값이 50개 존재한다.\n",
        "''')"
      ],
      "metadata": {
        "id": "gKfhtVLtHAZi",
        "colab": {
          "base_uri": "https://localhost:8080/"
        },
        "outputId": "e7d4099e-b733-4dae-a607-9f02e0808316"
      },
      "execution_count": 16,
      "outputs": [
        {
          "output_type": "stream",
          "name": "stdout",
          "text": [
            "\n",
            "결측치가 일부 존재하며 date 컬럼을 제외하고 모두 float형식이다.\n",
            "\n",
            "결측치는 CO2 컬럼에만 존재한다. 결측치의 데이터는 연속적으로 존재하는 것이 아니다.\n",
            "\n",
            "Humidity, HumidityRatio 두 컬럼은 높은 상관관계를 보이며, \n",
            "\n",
            "두 컬럼을 제외한 나머지 데이터의 경우 이상치가 상대적으로 많이 존재한다.\n",
            "\n",
            "Light컬럼의 경우 -99인 값이 50개 존재한다.\n",
            "\n"
          ]
        }
      ]
    },
    {
      "cell_type": "code",
      "source": [
        "# print('before type:', type(df['date']))\n",
        "df['date'] = pd.to_datetime(df['date'])\n",
        "# print('after type:', type(df['date']))\n",
        "timedeltas = df['date'].diff().dt.seconds.dropna()\n",
        "display(timedeltas.describe())\n",
        "print('시간:', 25680/60/60)\n",
        "print('''\n",
        "75%의 데이터가 연속하는 데이터 사이에 61초 이내의 시간차이를 가지고 있다.\n",
        "연속된 데이터간의 최대 시간차이는 25680초로 대략 7시간 차이가 존재한다.\n",
        "시계열 데이터로 데이터를 해석할 경우 이 사이 시간들은 결측치로 볼 수 있다.\n",
        "''')"
      ],
      "metadata": {
        "colab": {
          "base_uri": "https://localhost:8080/",
          "height": 288
        },
        "id": "AMkF9FHNOqpg",
        "outputId": "2944260f-f856-48a5-bbd9-8f89199828f1"
      },
      "execution_count": 17,
      "outputs": [
        {
          "output_type": "display_data",
          "data": {
            "text/plain": [
              "count    17909.000000\n",
              "mean        71.357474\n",
              "std        241.363584\n",
              "min         59.000000\n",
              "25%         60.000000\n",
              "50%         60.000000\n",
              "75%         61.000000\n",
              "max      25680.000000\n",
              "Name: date, dtype: float64"
            ]
          },
          "metadata": {}
        },
        {
          "output_type": "stream",
          "name": "stdout",
          "text": [
            "시간: 7.133333333333334\n",
            "\n",
            "75%의 데이터가 연속하는 데이터 사이에 61초 이내의 시간차이를 가지고 있다.\n",
            "연속된 데이터간의 최대 시간차이는 25680초로 대략 7시간 차이가 존재한다.\n",
            "시계열 데이터로 데이터를 해석할 경우 이 사이 시간들은 결측치로 볼 수 있다.\n",
            "\n"
          ]
        }
      ]
    },
    {
      "cell_type": "markdown",
      "source": [
        "### 1-2\n",
        "결측치를 대체하는 방식 선택하고 근거제시, 대체 수"
      ],
      "metadata": {
        "id": "ENIxww1jHAHs"
      }
    },
    {
      "cell_type": "code",
      "source": [
        "print('''\n",
        "CO2 컬럼에 nan 값으로 비어 있는 데이터는 직전, 직후 데이터를 비교해서 \n",
        "Occupancy값이 변하지 않거나, date값이 3분 이내로 연속하는 데이터라고\n",
        "한다면 직전 CO2 값으로 대체한다. \n",
        "위의 두 기준에 해당한다면 모든 CO2의 결측치를 대체 할 수 있고 데이터의 \n",
        "품질을 손상시키지 않는다고 판단할 수 있다.\n",
        "''')\n",
        "\n",
        "for value in df[df.CO2.isnull()].index :\n",
        "    target = df.iloc[value-1: value+2] # nan 값 전, 후 값을 target으로 가져오기\n",
        "    difftime = target['date'].diff().dt.seconds.dropna()\n",
        "    if target.Occupancy.nunique() == 1 and len(difftime[difftime > 180]) == 0 :\n",
        "        df.loc[value, 'CO2'] = df.loc[value-1].CO2\n",
        "\n",
        "display(df.isnull().sum())\n",
        "\n",
        "difftime = df['date'].diff().dt.seconds.dropna()\n",
        "print('type:', type(difftime))\n",
        "print('Count:', difftime[difftime >180].count)\n",
        "difftime\n",
        "print('Nunique:', df.Occupancy.nunique(), ', value_counts:', df.Occupancy.value_counts())"
      ],
      "metadata": {
        "colab": {
          "base_uri": "https://localhost:8080/",
          "height": 577
        },
        "id": "tbuHMJuG5YlD",
        "outputId": "f215ccf3-1ae8-4d56-b9df-f85fd48a9e4c"
      },
      "execution_count": 18,
      "outputs": [
        {
          "output_type": "stream",
          "name": "stdout",
          "text": [
            "\n",
            "CO2 컬럼에 nan 값으로 비어 있는 데이터는 직전, 직후 데이터를 비교해서 \n",
            "Occupancy값이 변하지 않거나, date값이 3분 이내로 연속하는 데이터라고\n",
            "한다면 직전 CO2 값으로 대체한다. \n",
            "위의 두 기준에 해당한다면 모든 CO2의 결측치를 대체 할 수 있고 데이터의 \n",
            "품질을 손상시키지 않는다고 판단할 수 있다.\n",
            "\n"
          ]
        },
        {
          "output_type": "display_data",
          "data": {
            "text/plain": [
              "date             0\n",
              "Temperature      0\n",
              "Humidity         0\n",
              "Light            0\n",
              "CO2              0\n",
              "HumidityRatio    0\n",
              "Occupancy        0\n",
              "dtype: int64"
            ]
          },
          "metadata": {}
        },
        {
          "output_type": "stream",
          "name": "stdout",
          "text": [
            "type: <class 'pandas.core.series.Series'>\n",
            "Count: <bound method Series.count of 14       360.0\n",
            "23       721.0\n",
            "27       241.0\n",
            "28       240.0\n",
            "36       240.0\n",
            "         ...  \n",
            "16993    239.0\n",
            "16996    300.0\n",
            "16997    240.0\n",
            "16999    181.0\n",
            "17907    300.0\n",
            "Name: date, Length: 443, dtype: float64>\n",
            "Nunique: 2 , value_counts: 0    15810\n",
            "1     2100\n",
            "Name: Occupancy, dtype: int64\n"
          ]
        }
      ]
    },
    {
      "cell_type": "markdown",
      "source": [
        "### 1-3\n",
        "추가적으로 데이터의 질 및 품질관리를 향상시킬만한 내용 작성"
      ],
      "metadata": {
        "id": "e1sHNDdELBuU"
      }
    },
    {
      "cell_type": "code",
      "source": [
        "print('''\n",
        "Ligth 컬럼의 -99는 예외값에 대해 임의 값을 입력한 것으로 보인다.\n",
        "-99를 제외한 컬럼의 최솟값인 0으로 대체한다.\n",
        "평균적으로 시간은 1분 간경의 데이터이다.\n",
        "하지만 최대 7시간의 공백이 존재한다. 이를 보간 해주는 것도 방법일 수 있지만,\n",
        "시계열 모델을 사용하지 않을 것이기에 보간을 따로 해주지 않고 모델링을 진행한다.\n",
        "''')\n",
        "print(len(df[df.Light == -99].Light))\n",
        "\n",
        "df.loc[df.Light == -99, 'Light'] = 0"
      ],
      "metadata": {
        "colab": {
          "base_uri": "https://localhost:8080/"
        },
        "id": "5SQVrNNgqU1a",
        "outputId": "03ec03f2-3748-42c6-a543-e181b0e05652"
      },
      "execution_count": 19,
      "outputs": [
        {
          "output_type": "stream",
          "name": "stdout",
          "text": [
            "\n",
            "Ligth 컬럼의 -99는 예외값에 대해 임의 값을 입력한 것으로 보인다.\n",
            "-99를 제외한 컬럼의 최솟값인 0으로 대체한다.\n",
            "평균적으로 시간은 1분 간경의 데이터이다.\n",
            "하지만 최대 7시간의 공백이 존재한다. 이를 보간 해주는 것도 방법일 수 있지만,\n",
            "시계열 모델을 사용하지 않을 것이기에 보간을 따로 해주지 않고 모델링을 진행한다.\n",
            "\n",
            "50\n"
          ]
        }
      ]
    },
    {
      "cell_type": "markdown",
      "source": [
        "### 2-1\n",
        "데이터에 불균형이 있는지 확인, 불균형 판단 근거 작성\n",
        "(덧. 조: 데이터 불균형 여부 확인을 위한 그래프 그려라)"
      ],
      "metadata": {
        "id": "UOpGW3NVsKEU"
      }
    },
    {
      "cell_type": "code",
      "source": [
        "import matplotlib.pyplot as plt\n",
        "\n",
        "plt.figure(figsize=(15, 4))\n",
        "plt.scatter(df['date'], df['Occupancy'].astype('str'), s=0.1)\n",
        "plt.grid(which='both')\n",
        "plt.show()\n",
        "\n",
        "print('=== Occupancy 데이터 종류별 갯수 ===')\n",
        "print(df.Occupancy.value_counts() / len(df.Occupancy))\n",
        "print(df.Occupancy.value_counts())\n",
        "\n",
        "print('''\n",
        "Occupancy 의 경우 약 8:1의 비율로 데이터 불균형이 존재한다.\n",
        "위의 그래프에서 보면 2월 7일~9일 , 2월 14~16일까지는 객실이 비어있다. 이처럼 객실이 비어있지 않는 경우 보다 비어있는 경우가 더 많기에 불균형이 존재한다\n",
        "''')"
      ],
      "metadata": {
        "colab": {
          "base_uri": "https://localhost:8080/",
          "height": 464
        },
        "id": "fnP5NZupsSnQ",
        "outputId": "054bd839-efd6-43da-8b82-7e79ad917ec8"
      },
      "execution_count": 20,
      "outputs": [
        {
          "output_type": "display_data",
          "data": {
            "text/plain": [
              "<Figure size 1080x288 with 1 Axes>"
            ],
            "image/png": "[encoded data removed]"
          },
          "metadata": {
            "needs_background": "light"
          }
        },
        {
          "output_type": "stream",
          "name": "stdout",
          "text": [
            "=== Occupancy 데이터 종류별 갯수 ===\n",
            "0    0.882747\n",
            "1    0.117253\n",
            "Name: Occupancy, dtype: float64\n",
            "0    15810\n",
            "1     2100\n",
            "Name: Occupancy, dtype: int64\n",
            "\n",
            "Occupancy 의 경우 약 8:1의 비율로 데이터 불균형이 존재한다.\n",
            "위의 그래프에서 보면 2월 7일~9일 , 2월 14~16일까지는 객실이 비어있다. 이처럼 객실이 비어있지 않는 경우 보다 비어있는 경우가 더 많기에 불균형이 존재한다\n",
            "\n"
          ]
        }
      ]
    },
    {
      "cell_type": "markdown",
      "source": [
        "### 2-2\n",
        "오버샘플링 방법들 중 2개 선택하고 장단점 등 선정 이유 제시\n"
      ],
      "metadata": {
        "id": "YupzpsQEvhMF"
      }
    },
    {
      "cell_type": "code",
      "source": [
        "print('''\n",
        "**랜덤오버샘플링**\n",
        "소수 클래스 데이터를 랜덤샘플링하여 다수 클래스 데이터 숫자와 맞추는 방식\n",
        "장점 : 데이터 불균형 문제 해결\n",
        "단점 : 종속변수에 대한 고려없이 중복 생성, 오버피팅의 가능성이 존재\n",
        "\n",
        "**SMOTE**\n",
        "소수 클래스 데이터와 그 데이터에서 가장 가까운 k개의 소소 클래스 데이터 중\n",
        "무작위로 선택된 데이터 사이의 직선상에 가상의 소수 클래스 데이터를 만드는 방법\n",
        "장점 : 데이터 불균형 문제 해결, 분포를 고려한 중복없는 데이터 생성\n",
        "단점 : 고차원 데이터에는 문제가 발생할 수 있다.\n",
        "''')"
      ],
      "metadata": {
        "colab": {
          "base_uri": "https://localhost:8080/"
        },
        "id": "xp5YMntivnS9",
        "outputId": "d21a3b96-4e51-4ce1-a8fc-ad56077eaf37"
      },
      "execution_count": 21,
      "outputs": [
        {
          "output_type": "stream",
          "name": "stdout",
          "text": [
            "\n",
            "**랜덤오버샘플링**\n",
            "소수 클래스 데이터를 랜덤샘플링하여 다수 클래스 데이터 숫자와 맞추는 방식\n",
            "장점 : 데이터 불균형 문제 해결\n",
            "단점 : 종속변수에 대한 고려없이 중복 생성, 오버피팅의 가능성이 존재\n",
            "\n",
            "**SMOTE**\n",
            "소수 클래스 데이터와 그 데이터에서 가장 가까운 k개의 소소 클래스 데이터 중\n",
            "무작위로 선택된 데이터 사이의 직선상에 가상의 소수 클래스 데이터를 만드는 방법\n",
            "장점 : 데이터 불균형 문제 해결, 분포를 고려한 중복없는 데이터 생성\n",
            "단점 : 고차원 데이터에는 문제가 발생할 수 있다.\n",
            "\n"
          ]
        }
      ]
    },
    {
      "cell_type": "markdown",
      "source": [
        "이미지 출처 : https://blog.linewalks.com/archives/7772\n",
        "\n",
        "\n",
        "**RANDOM OVER SAMPLING**\n",
        "\n",
        "![randomoversampling](https://blog.linewalks.com/wp-content/uploads/2021/12/random_over_sampling.gif)\n",
        "\n",
        "\n",
        "\n",
        "\n",
        "**SMOTE**\n",
        "\n",
        "\n",
        "![smote](https://blog.linewalks.com/wp-content/uploads/2021/12/smote_upgrade.gif)\n",
        "\n",
        "\n",
        "\n",
        "\n",
        "\n",
        "\n",
        "\n"
      ],
      "metadata": {
        "id": "jiwik7am9HMz"
      }
    },
    {
      "cell_type": "markdown",
      "source": [
        "### 2-3\n",
        "오버 샘플링 수행 및 결과, 잘 되었다는 것을 판단해라."
      ],
      "metadata": {
        "id": "8OVv-D5W9-Sx"
      }
    },
    {
      "cell_type": "code",
      "source": [
        "from sklearn.model_selection import train_test_split\n",
        "# import warnings\n",
        "\n",
        "x = df.drop(columns=['Occupancy'])\n",
        "y = df['Occupancy']\n",
        "\n",
        "x_train, x_test, y_train, y_test = train_test_split(x, y, stratify=y, random_state=43, test_size=0.35)\n",
        "\n",
        "\n",
        "from imblearn.over_sampling import RandomOverSampler, SMOTE\n",
        "from imblearn import over_sampling as oversamp\n",
        "print(dir(oversamp))\n",
        "\n",
        "print('print date:', x_train['date'][:5])\n",
        "print('print date with VIEW:', x_train['date'].view('int')[:5])\n",
        "# datetime 형태로는 샘플링 할 수 없기에 timestamp 형식으로 바꿔서 샘플링을 진행한다.\n",
        "x_train.loc[:, 'datetime'] = x_train['date'].view('int')  # 10**9 view: 해당 타입으로 형변환\n",
        "x_test.loc[:, 'datetime'] = x_test['date'].view('int') # 10**9\n",
        "\n",
        "from sklearn.preprocessing import StandardScaler\n",
        "\n",
        "x_imb = x_train.drop(columns=['date']).reset_index(drop=True).copy()\n",
        "y_imb = y_train.reset_index(drop=True).copy()\n",
        "\n",
        "print('before sampling shape x:', x_imb.shape)\n",
        "print('before sampling shape y:', y_imb.shape)\n",
        "x_samp, y_samp = RandomOverSampler(random_state=2022).fit_resample(x_imb, y_imb)\n",
        "print('after sampling shape x:', x_samp.shape)\n",
        "print('after sampling shape y:', y_samp.shape)\n",
        "\n",
        "total = pd.concat([x_samp, y_samp], axis=1)\n",
        "# total['date'] = pd.to_datetime(total['datetime'], unit='s')\n",
        "total['date'] = pd.to_datetime(total['datetime'])\n",
        "\n",
        "smote_x_samp, smote_y_samp = SMOTE(random_state=2022).fit_resample(x_imb, y_imb)\n",
        "smote_total = pd.concat([smote_x_samp, smote_y_samp], axis=1)\n",
        "smote_total['date'] = pd.to_datetime(smote_total['datetime'])\n",
        "\n",
        "\n",
        "plt.figure(figsize=(15, 4))\n",
        "plt.title('RandomSampling')\n",
        "plt.scatter(total['date'], total['Occupancy'].astype('str'), s=0.03)\n",
        "plt.show()\n",
        "\n",
        "plt.figure(figsize=(15, 4))\n",
        "plt.title('SMOTE')\n",
        "plt.scatter(smote_total['date'], smote_total['Occupancy'].astype('str'), s=0.03)\n",
        "plt.show()\n",
        "\n",
        "print('''\n",
        "RandomOverSampling 대비 SMOTE에서 좀 더 다양한 차원의 샘플이 생성됨을 볼 수 있다. (2월 18일 부근)\n",
        "''')\n",
        "\n",
        "\n"
      ],
      "metadata": {
        "colab": {
          "base_uri": "https://localhost:8080/",
          "height": 927
        },
        "id": "KlM2UWO2CAdF",
        "outputId": "cc9f3d4f-ca94-411b-f011-0d38e5ab7ba2"
      },
      "execution_count": 22,
      "outputs": [
        {
          "output_type": "stream",
          "name": "stdout",
          "text": [
            "['ADASYN', 'BorderlineSMOTE', 'KMeansSMOTE', 'RandomOverSampler', 'SMOTE', 'SMOTEN', 'SMOTENC', 'SVMSMOTE', '__all__', '__builtins__', '__cached__', '__doc__', '__file__', '__loader__', '__name__', '__package__', '__path__', '__spec__', '_adasyn', '_random_over_sampler', '_smote', 'base']\n",
            "print date: 1456    2015-02-03 22:02:59\n",
            "2021    2015-02-04 07:27:59\n",
            "11229   2015-02-13 02:51:59\n",
            "12489   2015-02-14 04:31:00\n",
            "1432    2015-02-03 21:39:00\n",
            "Name: date, dtype: datetime64[ns]\n",
            "print date with VIEW: 1456     1423000979000000000\n",
            "2021     1423034879000000000\n",
            "11229    1423795919000000000\n",
            "12489    1423888260000000000\n",
            "1432     1422999540000000000\n",
            "Name: date, dtype: int64\n",
            "before sampling shape x: (11641, 6)\n",
            "before sampling shape y: (11641,)\n",
            "after sampling shape x: (20552, 6)\n",
            "after sampling shape y: (20552,)\n"
          ]
        },
        {
          "output_type": "display_data",
          "data": {
            "text/plain": [
              "<Figure size 1080x288 with 1 Axes>"
            ],
            "image/png": "[encoded data removed]"
          },
          "metadata": {
            "needs_background": "light"
          }
        },
        {
          "output_type": "display_data",
          "data": {
            "text/plain": [
              "<Figure size 1080x288 with 1 Axes>"
            ],
            "image/png": "[encoded data removed]"
          },
          "metadata": {
            "needs_background": "light"
          }
        },
        {
          "output_type": "stream",
          "name": "stdout",
          "text": [
            "\n",
            "RandomOverSampling 대비 SMOTE에서 좀 더 다양한 차원의 샘플이 생성됨을 볼 수 있다. (2월 18일 부근)\n",
            "\n"
          ]
        }
      ]
    },
    {
      "cell_type": "markdown",
      "source": [
        "### 3-1\n",
        "속도 측면, 정확도 측면 모델 1개씩 선택, 선택 이유도 기술"
      ],
      "metadata": {
        "id": "OXdex7JRswC-"
      }
    },
    {
      "cell_type": "code",
      "source": [
        "print('''\n",
        "이진 분류에 관한 문제이다.\n",
        "로지스틱 회귀와 램덤포레스트 모델로 작업을 진행하겠다.\n",
        "속도측면 : LogisticRegression\n",
        "정확도측면 : RandomForestClassifier\n",
        "''')"
      ],
      "metadata": {
        "id": "WLIqgivjs21M",
        "colab": {
          "base_uri": "https://localhost:8080/"
        },
        "outputId": "9a427d86-7d94-4277-b05a-7d8978f40e10"
      },
      "execution_count": 23,
      "outputs": [
        {
          "output_type": "stream",
          "name": "stdout",
          "text": [
            "\n",
            "이진 분류에 관한 문제이다.\n",
            "로지스틱 회귀와 램덤포레스트 모델로 작업을 진행하겠다.\n",
            "속도측면 : LogisticRegression\n",
            "정확도측면 : RandomForestClassifier\n",
            "\n"
          ]
        }
      ]
    },
    {
      "cell_type": "markdown",
      "source": [
        "### 3-2\n",
        "위에서 오버샘플링 한 데이터 2개, 오버샘플링 하기 전 데이터 1개에 대해 모델 2개를 적용하고 성능 보여주기"
      ],
      "metadata": {
        "id": "kqMoCeKKtQti"
      }
    },
    {
      "cell_type": "code",
      "source": [
        "import time\n",
        "from sklearn.model_selection import train_test_split\n",
        "from sklearn.linear_model import LogisticRegression\n",
        "from sklearn.ensemble import RandomForestClassifier\n",
        "from sklearn.metrics import roc_auc_score\n",
        "from sklearn.preprocessing import MinMaxScaler\n",
        "\n",
        "# 불필요 컬럼 제거 및 스케일링\n",
        "if 'date' in x_train.columns :\n",
        "    x_train = x_train.drop(columns=['date'])\n",
        "if 'date' in x_test.columns :\n",
        "    x_test = x_test.drop(columns=['date'])\n",
        "\n",
        "result_auc_train = []\n",
        "result_auc_test = []\n",
        "result_time = []\n",
        "\n",
        "for train_x, train_y in [(x_train, y_train), (x_samp, y_samp), (smote_x_samp, smote_y_samp)] :\n",
        "    trainx = train_x.copy()\n",
        "    testx = x_test.copy()\n",
        "    sc = MinMaxScaler()\n",
        "    trainx = sc.fit_transform(trainx)\n",
        "    testx = sc.transform(testx)\n",
        "\n",
        "    lrstart = time.time()\n",
        "    lr = LogisticRegression()\n",
        "    lr.fit(trainx, train_y)\n",
        "    lrend = time.time() - lrstart\n",
        "\n",
        "    pred_lr = lr.predict(testx)\n",
        "    auc_lr_train = roc_auc_score(train_y, lr.predict(trainx))\n",
        "    auc_lr = roc_auc_score(y_test, pred_lr)\n",
        "\n",
        "    rfstart = time.time()\n",
        "    rf = RandomForestClassifier()\n",
        "    rf.fit(trainx, train_y)\n",
        "    rfend = time.time() - rfstart\n",
        "\n",
        "    pred_rf = rf.predict(testx)\n",
        "    auc_rf_train = roc_auc_score(train_y, rf.predict(trainx))\n",
        "    auc_rf = roc_auc_score(y_test, pred_rf)\n",
        "\n",
        "    result_auc_test.append([auc_lr, auc_rf])\n",
        "    result_time.append([lrend, rfend])\n",
        "    result_auc_train.append([auc_lr_train, auc_rf_train])\n",
        "\n",
        "# LogisitcRegression 과 RandomForestClassifier 샘플링방식에 따른 학습 시 \n",
        "# 정확도와 모델 학습 시간에 대해서 평가했다.\n",
        "\n",
        "print('훈련셋 모델 auc 결과')\n",
        "result_auc_train\n",
        "    \n",
        "\n"
      ],
      "metadata": {
        "id": "2-mvHDAZtWlw",
        "colab": {
          "base_uri": "https://localhost:8080/"
        },
        "outputId": "9d328cbd-1f38-4582-9843-e351edbd7b84"
      },
      "execution_count": 26,
      "outputs": [
        {
          "output_type": "stream",
          "name": "stdout",
          "text": [
            "훈련셋 모델 auc 결과\n"
          ]
        },
        {
          "output_type": "execute_result",
          "data": {
            "text/plain": [
              "[[0.9870297731333154, 1.0],\n",
              " [0.9898793304787855, 1.0],\n",
              " [0.9908524717789023, 1.0]]"
            ]
          },
          "metadata": {},
          "execution_count": 26
        }
      ]
    }
  ]
}